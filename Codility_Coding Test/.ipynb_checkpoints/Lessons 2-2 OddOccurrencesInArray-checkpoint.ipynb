{
 "cells": [
  {
   "cell_type": "markdown",
   "metadata": {},
   "source": [
    "A non-empty array A consisting of N integers is given. The array contains an odd number of elements, and each element of the array can be paired with another element that has the same value, except for one element that is left unpaired.\n",
    "\n",
    "For example, in array A such that:\n",
    "\n",
    "  A[0] = 9  A[1] = 3  A[2] = 9\n",
    "  A[3] = 3  A[4] = 9  A[5] = 7\n",
    "  A[6] = 9\n",
    "the elements at indexes 0 and 2 have value 9,\n",
    "the elements at indexes 1 and 3 have value 3,\n",
    "the elements at indexes 4 and 6 have value 9,\n",
    "the element at index 5 has value 7 and is unpaired.\n",
    "Write a function:\n",
    "\n",
    "class Solution { public int solution(int[] A); }\n",
    "\n",
    "that, given an array A consisting of N integers fulfilling the above conditions, returns the value of the unpaired element.\n",
    "\n",
    "For example, given array A such that:\n",
    "\n",
    "  A[0] = 9  A[1] = 3  A[2] = 9\n",
    "  A[3] = 3  A[4] = 9  A[5] = 7\n",
    "  A[6] = 9\n",
    "the function should return 7, as explained in the example above.\n",
    "\n",
    "Write an efficient algorithm for the following assumptions:\n",
    "\n",
    "N is an odd integer within the range [1..1,000,000];\n",
    "each element of array A is an integer within the range [1..1,000,000,000];\n",
    "all but one of the values in A occur an even number of times.\n",
    "Copyright 2009–2020 by Codility Limited. All Rights Reserved. Unauthorized copying, publication or disclosure prohibited.\n",
    "\n",
    "\n",
    "#  한글 번역\n",
    "\n",
    "\n",
    "N 정수로 구성된 비어 있지 않은 배열 A가 주어진다. 배열은 홀수로 이루어져잇고, 각 원소는 다른 원소와 같은 값의 짝을 가진다.\n",
    "\n",
    "예를 들어 array A에서는 다음과 같은 작업을 수행하십시오.\n",
    "\n",
    "A[0] = 9 A[1] = 3 A[2] = 9\n",
    "A[3] = 3 A[4] = 9 A[5] = 7\n",
    "A[6] = 9\n",
    "\n",
    "the elements at indexes 0 and 2 have value 9,\n",
    "the elements at indexes 1 and 3 have value 3,\n",
    "the elements at indexes 4 and 6 have value 9,\n",
    "the element at index 5 has value 7 and is unpaired.\n",
    "\n",
    "def solution(A)\n",
    "\n",
    "위의 조건을 만족하는 N 정수로 구성된 배열 A가 없는 원소의 값을 반환한다.\n",
    "\n",
    "예를 들어, 다음과 같은 배열 A를 지정한다.\n",
    "\n",
    "A[0] = 9 A[1] = 3 A[2] = 9\n",
    "A[3] = 3 A[4] = 9 A[5] = 7\n",
    "A[6] = 9\n",
    "함수는 위의 예에서 설명한 대로 7을 반환해야 한다.\n",
    "\n",
    "다음과 같은 가정에 대해 효율적인 알고리즘을 작성하십시오.\n",
    "\n",
    "N은 [1 ~ 1,000,000] 범위 내의 홀수 정수;\n",
    "배열 A의 각 요소는 [1~1,000,000,000] 범위 내의 정수임.\n",
    "A의 값 중 하나를 제외한 모든 값이 짝수 횟수로 발생한다.\n",
    "\n",
    "\n",
    "Codility Limited by Copy 2009-2020. 모든 권한 예약됨. 무단 복사, 게시 또는 공개 금지."
   ]
  },
  {
   "cell_type": "code",
   "execution_count": 9,
   "metadata": {},
   "outputs": [],
   "source": [
    "# you can write to stdout for debugging purposes, e.g.\n",
    "# print(\"this is a debug message\")\n",
    "\n",
    "def solution(A):\n",
    "    # write your code in Python 3.6    \n",
    "    for i in set(A):\n",
    "        num_ = A.count(i)\n",
    "        if num_ % 2 != 0:\n",
    "            return i\n",
    "    \n",
    "    \n"
   ]
  },
  {
   "cell_type": "code",
   "execution_count": 10,
   "metadata": {},
   "outputs": [
    {
     "name": "stdout",
     "output_type": "stream",
     "text": [
      "[3, 3, 7, 9, 9, 9, 9]\n"
     ]
    },
    {
     "data": {
      "text/plain": [
       "7"
      ]
     },
     "execution_count": 10,
     "metadata": {},
     "output_type": "execute_result"
    }
   ],
   "source": [
    "A = [9,3,9,3,9,7,9]\n",
    "print(sorted(A))\n",
    "solution(A)"
   ]
  },
  {
   "cell_type": "markdown",
   "metadata": {},
   "source": [
    "## 첫 풀이\n",
    "\n",
    "생각보다 간단히 풀었는데 performance가 조금 떨어졌다."
   ]
  },
  {
   "cell_type": "markdown",
   "metadata": {},
   "source": [
    "\n",
    "## 다른 풀이\n",
    "\n",
    "\n",
    "비트연산을 통해 풀어나간 풀이다.\n",
    "\n",
    "생각지도 못한 풀이 방법이었는데 한번 직접 풀어보니 이해가 됐다.\n",
    "\n",
    "예를들어 0과 3을 xor 비트연산 할 경우\n",
    "\n",
    "0 : 0000 0000\n",
    "\n",
    "3 : 0000 0011\n",
    "\n",
    "0^3 : 0000 0011\n",
    "\n",
    "이 되고\n",
    "\n",
    "이어서\n",
    "\n",
    "3과 3을 xor 비트연산 할 경우\n",
    "\n",
    "\n",
    "\n",
    "3 : 0000 0011\n",
    "\n",
    "3 : 0000 0011\n",
    "\n",
    "3^3 : 0000 0000\n",
    "\n",
    "이 되므로\n",
    "\n",
    "A의 모든 배열을 xor 비트연산 시킬 경우 짝이 없는 숫자만 남게 된다."
   ]
  },
  {
   "cell_type": "code",
   "execution_count": 26,
   "metadata": {},
   "outputs": [],
   "source": [
    "def solution(A):\n",
    "    result = 0\n",
    "    for number in A:\n",
    "        result ^= number\n",
    "        \n",
    "    return result"
   ]
  },
  {
   "cell_type": "code",
   "execution_count": 27,
   "metadata": {},
   "outputs": [
    {
     "name": "stdout",
     "output_type": "stream",
     "text": [
      "[3, 3, 7, 9, 9, 9, 9]\n",
      "result == 0\n",
      "number == 9\n",
      "9\n",
      "result == 9\n",
      "number == 3\n",
      "10\n",
      "result == 10\n",
      "number == 9\n",
      "3\n",
      "result == 3\n",
      "number == 3\n",
      "0\n",
      "result == 0\n",
      "number == 9\n",
      "9\n",
      "result == 9\n",
      "number == 7\n",
      "14\n",
      "result == 14\n",
      "number == 9\n",
      "7\n"
     ]
    },
    {
     "data": {
      "text/plain": [
       "7"
      ]
     },
     "execution_count": 27,
     "metadata": {},
     "output_type": "execute_result"
    }
   ],
   "source": [
    "A = [9,3,9,3,9,7,9]\n",
    "print(sorted(A))\n",
    "solution(A)"
   ]
  },
  {
   "cell_type": "code",
   "execution_count": 25,
   "metadata": {},
   "outputs": [
    {
     "data": {
      "text/plain": [
       "10"
      ]
     },
     "execution_count": 25,
     "metadata": {},
     "output_type": "execute_result"
    }
   ],
   "source": [
    "#"
   ]
  },
  {
   "cell_type": "code",
   "execution_count": null,
   "metadata": {},
   "outputs": [],
   "source": []
  },
  {
   "cell_type": "code",
   "execution_count": null,
   "metadata": {},
   "outputs": [],
   "source": []
  }
 ],
 "metadata": {
  "kernelspec": {
   "display_name": "Python 3",
   "language": "python",
   "name": "python3"
  },
  "language_info": {
   "codemirror_mode": {
    "name": "ipython",
    "version": 3
   },
   "file_extension": ".py",
   "mimetype": "text/x-python",
   "name": "python",
   "nbconvert_exporter": "python",
   "pygments_lexer": "ipython3",
   "version": "3.7.4"
  }
 },
 "nbformat": 4,
 "nbformat_minor": 2
}
