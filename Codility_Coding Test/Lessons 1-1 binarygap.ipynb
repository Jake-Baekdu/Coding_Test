{
 "cells": [
  {
   "cell_type": "markdown",
   "metadata": {},
   "source": [
    "양의 정수 N 내의 2진수 간격은 N의 2진수 표현에서 양끝에 1로 둘러싸인 연속 0의 모든 최대 시퀀스다.\n",
    "\n",
    "예를 들어 숫자 9는 이진 표현 1001을 가지며 2의 이진 간격을 포함한다. 숫자 529는 이진 표현 1000010001을 가지고 있으며, 길이 4의 하나와 길이 3의 하나라는 두 개의 이진 간극을 포함하고 있다. 숫자 20은 이진 표현 10100을 가지며 길이 1의 이진 갭을 포함하고 있다. 숫자 15는 이진수 표현 1111을 가지고 있으며 이진수 공백이 없다. 숫자 32는 이진 표현 100000을 가지고 있고 이진 간격이 없다.\n",
    "\n",
    "함수 쓰기:\n",
    "\n",
    "def solution(N)\n",
    "\n",
    "양의 정수 N이 주어진 경우 가장 긴 이진 간격의 길이를 반환한다. N에 이진 간격이 없으면 함수는 0을 반환해야 한다.\n",
    "\n",
    "예를 들어, N = 1041로 주어진 함수는 5를 반환해야 한다. N은 이진 표현 10000010001을 가지고 있기 때문에 가장 긴 이진 간격은 5이다. N = 32인 경우, N은 이진 표현 '100000'을 가지므로 이진 간격이 없기 때문에 함수는 0을 반환해야 한다.\n",
    "\n",
    "다음과 같은 가정에 대해 효율적인 알고리즘을 작성한다.\n",
    "\n",
    "\n",
    "A binary gap within a positive integer N is any maximal sequence of consecutive zeros that is surrounded by ones at both ends in the binary representation of N.\n",
    "\n",
    "For example, number 9 has binary representation 1001 and contains a binary gap of length 2. The number 529 has binary representation 1000010001 and contains two binary gaps: one of length 4 and one of length 3. The number 20 has binary representation 10100 and contains one binary gap of length 1. The number 15 has binary representation 1111 and has no binary gaps. The number 32 has binary representation 100000 and has no binary gaps.\n",
    "\n",
    "Write a function:\n",
    "\n",
    "class Solution { public int solution(int N); }\n",
    "\n",
    "that, given a positive integer N, returns the length of its longest binary gap. The function should return 0 if N doesn't contain a binary gap.\n",
    "\n",
    "For example, given N = 1041 the function should return 5, because N has binary representation 10000010001 and so its longest binary gap is of length 5. Given N = 32 the function should return 0, because N has binary representation '100000' and thus no binary gaps.\n",
    "\n",
    "Write an efficient algorithm for the following assumptions:\n",
    "\n",
    "N is an integer within the range [1..2,147,483,647].\n",
    "\n",
    "\n",
    "https://app.codility.com/c/run/trainingVP5T3Q-GNE/\n",
    "\n",
    "Copyright 2009–2020 by Codility Limited. All Rights Reserved. Unauthorized copying, publication or disclosure prohibited."
   ]
  },
  {
   "cell_type": "code",
   "execution_count": 103,
   "metadata": {},
   "outputs": [],
   "source": [
    "def solution(N):\n",
    "    # write your code in Python 3.6\n",
    "    binary_string = str(bin(N))[2:] # 10000010001\n",
    "    arr_1 = []\n",
    "    arr_len = []\n",
    "    \n",
    "    for idx, i in enumerate(binary_string):\n",
    "        result_0 = binary_string.find('0', idx)\n",
    "        result_1 = binary_string.find('1', idx)\n",
    "        if idx == 0 and result_1 > -1 :\n",
    "            arr_1.append(result_1)\n",
    "            first_1 = result_1\n",
    "        elif  result_1 != arr_1[-1]:\n",
    "            arr_1.append(result_1)\n",
    "    \n",
    "    \n",
    "    for i in range(len(arr_1)):\n",
    "        if i+1 == len(arr_1):\n",
    "            break;\n",
    "        len_1 = (arr_1[i+1] - arr_1[i]) - 1\n",
    "        arr_len.append(len_1)\n",
    "    \n",
    "    result = max(arr_len)\n",
    "    if result < 0:\n",
    "        result = 0\n",
    "    return result\n"
   ]
  },
  {
   "cell_type": "code",
   "execution_count": 104,
   "metadata": {},
   "outputs": [
    {
     "data": {
      "text/plain": [
       "5"
      ]
     },
     "execution_count": 104,
     "metadata": {},
     "output_type": "execute_result"
    }
   ],
   "source": [
    "solution(1041)"
   ]
  },
  {
   "cell_type": "markdown",
   "metadata": {},
   "source": [
    "# 풀이 후기"
   ]
  },
  {
   "cell_type": "markdown",
   "metadata": {},
   "source": [
    " 처음에 영어라서 문제 해석에 조금 힘들었지만... 내 친구 파파고 덕분에 해결\n",
    "\n",
    " 우선 쪼금 생각해야될게 많은 문제를 풀 때는 한 번 더 생각해보고 찬찬히 풀어보자.\n",
    "\n",
    " 맨날 Print 찍어보면서 풀자고 생각해도 다 푼다음에 print를 찍으니 고치려면 너무 위 쪽부터 고쳐야 되니 힘들다.\n",
    "\n",
    "## print 잘 찍으면서 풀고, 풀기전에 어떤식으로 접근할지 먼저 생각해보도록 합시다.\n"
   ]
  },
  {
   "cell_type": "code",
   "execution_count": null,
   "metadata": {},
   "outputs": [],
   "source": []
  },
  {
   "cell_type": "code",
   "execution_count": null,
   "metadata": {},
   "outputs": [],
   "source": []
  }
 ],
 "metadata": {
  "kernelspec": {
   "display_name": "Python 3",
   "language": "python",
   "name": "python3"
  },
  "language_info": {
   "codemirror_mode": {
    "name": "ipython",
    "version": 3
   },
   "file_extension": ".py",
   "mimetype": "text/x-python",
   "name": "python",
   "nbconvert_exporter": "python",
   "pygments_lexer": "ipython3",
   "version": "3.7.4"
  }
 },
 "nbformat": 4,
 "nbformat_minor": 2
}
