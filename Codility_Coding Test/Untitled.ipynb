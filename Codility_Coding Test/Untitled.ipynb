{
 "cells": [
  {
   "cell_type": "code",
   "execution_count": 20,
   "metadata": {},
   "outputs": [],
   "source": [
    "# you can write to stdout for debugging purposes, e.g.\n",
    "# print(\"this is a debug message\")\n",
    "\n",
    "def solution(A):\n",
    "    # write your code in Python 3.6\n",
    "    max_val = max(A)\n",
    "    if max_val < 0 :\n",
    "        return 1\n",
    "    A = set(A)\n",
    "    B = set(list(range(1, max_val)))\n",
    "    C = B - A\n",
    "    if len(C) == 0:\n",
    "        return max_val + 1\n",
    "    result = int(min(C))\n",
    "    return result\n",
    "    \n",
    "    \n",
    "            \n",
    "\n"
   ]
  },
  {
   "cell_type": "code",
   "execution_count": 21,
   "metadata": {},
   "outputs": [
    {
     "data": {
      "text/plain": [
       "4"
      ]
     },
     "execution_count": 21,
     "metadata": {},
     "output_type": "execute_result"
    }
   ],
   "source": [
    "solution([1,2,3])"
   ]
  },
  {
   "cell_type": "code",
   "execution_count": null,
   "metadata": {},
   "outputs": [],
   "source": [
    "\n",
    "\n",
    "\n"
   ]
  },
  {
   "cell_type": "code",
   "execution_count": null,
   "metadata": {},
   "outputs": [],
   "source": []
  },
  {
   "cell_type": "code",
   "execution_count": null,
   "metadata": {},
   "outputs": [],
   "source": []
  },
  {
   "cell_type": "code",
   "execution_count": null,
   "metadata": {},
   "outputs": [],
   "source": []
  },
  {
   "cell_type": "code",
   "execution_count": 159,
   "metadata": {},
   "outputs": [],
   "source": [
    "# you can write to stdout for debugging purposes, e.g.\n",
    "# print(\"this is a debug message\")\n",
    "\n",
    "def solution(S, K):\n",
    "    # write your code in Python 3.6\n",
    "    indices = [i for i, x in enumerate(S) if x == ' '] \n",
    "    # [2, 4, 9, 13, 17, 21, 25, 27, 29, 31, 33, 35, 37, 39, 41, 43, 45]\n",
    "    print(indices)\n",
    "    tmp_sum = 0\n",
    "    tmp_arr = []\n",
    "    \n",
    "    for i in range(len(indices)):\n",
    "        if i+1 == len(indices):\n",
    "            break;\n",
    "            \n",
    "        if i == 0:\n",
    "            tmp_sum = indices[0]\n",
    "            \n",
    "        tmp_sum = tmp_sum + (indices[i+1] - indices[i])\n",
    "        \n",
    "        if tmp_sum > (K-1):\n",
    "            tmp_arr.append(tmp_sum)\n",
    "            tmp_sum = 0\n",
    "        \n",
    "        if tmp_sum <= 11:\n",
    "            tmp_arr.append(indices[])\n",
    "            \n",
    "            \n",
    "    print(tmp_arr)\n",
    "    if len(tmp_arr) < 1:\n",
    "        return -1\n",
    "    return len(tmp_arr)\n",
    "        \n"
   ]
  },
  {
   "cell_type": "code",
   "execution_count": 160,
   "metadata": {},
   "outputs": [
    {
     "name": "stdout",
     "output_type": "stream",
     "text": [
      "[3, 12, 16, 23]\n",
      "[12, 23, 3, 3, 12, 12, 16]\n"
     ]
    },
    {
     "data": {
      "text/plain": [
       "7"
      ]
     },
     "execution_count": 160,
     "metadata": {},
     "output_type": "execute_result"
    }
   ],
   "source": [
    "b = 'SMS messages are really short'\n",
    "\n",
    "solution(b, 12)\n"
   ]
  },
  {
   "cell_type": "code",
   "execution_count": 88,
   "metadata": {},
   "outputs": [
    {
     "data": {
      "text/plain": [
       "' '"
      ]
     },
     "execution_count": 88,
     "metadata": {},
     "output_type": "execute_result"
    }
   ],
   "source": [
    "a = \"SMS messages are really short\"\n",
    "a[12]"
   ]
  },
  {
   "cell_type": "code",
   "execution_count": 82,
   "metadata": {},
   "outputs": [
    {
     "data": {
      "text/plain": [
       "[3, 12, 16, 23]"
      ]
     },
     "execution_count": 82,
     "metadata": {},
     "output_type": "execute_result"
    }
   ],
   "source": [
    "indices = [i  for i, x in enumerate(a) if x == ' ']\n",
    "indices\n"
   ]
  },
  {
   "cell_type": "code",
   "execution_count": null,
   "metadata": {},
   "outputs": [],
   "source": []
  },
  {
   "cell_type": "code",
   "execution_count": null,
   "metadata": {},
   "outputs": [],
   "source": []
  },
  {
   "cell_type": "code",
   "execution_count": null,
   "metadata": {},
   "outputs": [],
   "source": []
  }
 ],
 "metadata": {
  "kernelspec": {
   "display_name": "Python 3",
   "language": "python",
   "name": "python3"
  },
  "language_info": {
   "codemirror_mode": {
    "name": "ipython",
    "version": 3
   },
   "file_extension": ".py",
   "mimetype": "text/x-python",
   "name": "python",
   "nbconvert_exporter": "python",
   "pygments_lexer": "ipython3",
   "version": "3.7.4"
  }
 },
 "nbformat": 4,
 "nbformat_minor": 2
}
