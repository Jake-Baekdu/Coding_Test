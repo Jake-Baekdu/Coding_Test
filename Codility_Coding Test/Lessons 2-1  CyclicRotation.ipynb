{
 "cells": [
  {
   "cell_type": "markdown",
   "metadata": {},
   "source": [
    "An array A consisting of N integers is given. Rotation of the array means that each element is shifted right by one index, and the last element of the array is moved to the first place. For example, the rotation of array A = [3, 8, 9, 7, 6] is [6, 3, 8, 9, 7] (elements are shifted right by one index and 6 is moved to the first place).\n",
    "\n",
    "The goal is to rotate array A K times; that is, each element of A will be shifted to the right K times.\n",
    "\n",
    "Write a function:\n",
    "\n",
    "def solution(A, K)\n",
    "\n",
    "that, given an array A consisting of N integers and an integer K, returns the array A rotated K times.\n",
    "\n",
    "For example, given\n",
    "\n",
    "    A = [3, 8, 9, 7, 6]\n",
    "    K = 3\n",
    "the function should return [9, 7, 6, 3, 8]. Three rotations were made:\n",
    "\n",
    "    [3, 8, 9, 7, 6] -> [6, 3, 8, 9, 7]\n",
    "    [6, 3, 8, 9, 7] -> [7, 6, 3, 8, 9]\n",
    "    [7, 6, 3, 8, 9] -> [9, 7, 6, 3, 8]\n",
    "For another example, given\n",
    "\n",
    "    A = [0, 0, 0]\n",
    "    K = 1\n",
    "the function should return [0, 0, 0]\n",
    "\n",
    "Given\n",
    "\n",
    "    A = [1, 2, 3, 4]\n",
    "    K = 4\n",
    "the function should return [1, 2, 3, 4]\n",
    "\n",
    "Assume that:\n",
    "\n",
    "N and K are integers within the range [0..100];\n",
    "each element of array A is an integer within the range [−1,000..1,000].\n",
    "In your solution, focus on correctness. The performance of your solution will not be the focus of the assessment.\n",
    "\n",
    "Copyright 2009–2020 by Codility Limited. All Rights Reserved. Unauthorized copying, publication or disclosure prohibited."
   ]
  },
  {
   "cell_type": "markdown",
   "metadata": {},
   "source": [
    "N개의 정수로 구성된 배열 A가 주어진다. 배열을 회전한다는 것은 각 원소가 하나의 색인에 의해 오른쪽으로 이동되고 배열의 마지막 원소가 1위로 이동되는 것을 의미한다. 예를 들어 배열 A = [3, 8, 9, 7, 6]의 회전은 [6, 3, 8, 9, 7]이다(원소는 하나의 지수에 의해 오른쪽으로 이동하고 6은 1위로 이동한다).\n",
    "\n",
    "목표는 배열 A를 K번 회전하는 것이다. 즉, A의 각 요소는 오른쪽 K번으로 이동한다.\n",
    "\n",
    "Write a function:\n",
    "\n",
    "def solution(A, K)\n",
    "\n",
    "즉, N 정수와 정수 K로 구성된 배열 A가 배열 A를 회전 K 횟수로 반환한다.\n",
    "\n",
    "For example, given\n",
    "\n",
    "    A = [3, 8, 9, 7, 6]\n",
    "    K = 3\n",
    "the function should return [9, 7, 6, 3, 8]. Three rotations were made:\n",
    "\n",
    "    [3, 8, 9, 7, 6] -> [6, 3, 8, 9, 7]\n",
    "    [6, 3, 8, 9, 7] -> [7, 6, 3, 8, 9]\n",
    "    [7, 6, 3, 8, 9] -> [9, 7, 6, 3, 8]\n",
    "For another example, given\n",
    "\n",
    "    A = [0, 0, 0]\n",
    "    K = 1\n",
    "the function should return [0, 0, 0]\n",
    "\n",
    "Given\n",
    "\n",
    "    A = [1, 2, 3, 4]\n",
    "    K = 4\n",
    "the function should return [1, 2, 3, 4]\n",
    "\n",
    "Assume that:\n",
    "\n",
    "N과 K는 [0..100];\n",
    "배열 A의 각 요소는 [-1000..1000] 범위 내의 정수다.\n",
    "솔루션에서는 정확성에 초점을 맞추십시오. 솔루션의 성능은 평가의 초점이 되지 않을 것이다.\n",
    "\n",
    "Codility Limited by Copy 2009-2020. 모든 권한 예약됨. 무단 복사, 게시 또는 공개 금지."
   ]
  },
  {
   "cell_type": "code",
   "execution_count": 38,
   "metadata": {},
   "outputs": [
    {
     "name": "stdout",
     "output_type": "stream",
     "text": [
      "[9, 7, 6, 3, 8]\n"
     ]
    }
   ],
   "source": [
    "# you can write to stdout for debugging purposes, e.g.\n",
    "# print(\"this is a debug message\")\n",
    "\n",
    "def solution(A, K): # A는 배열이고 K는 회전하는 수\n",
    "    # write your code in Python 3.6\n",
    "    if not A or K ==0:\n",
    "        return A\n",
    "    \n",
    "    len_ = len(A)\n",
    "    move_cnt = K % len_\n",
    "    \n",
    "    if len_ == K:\n",
    "        return A\n",
    "    else : \n",
    "        tmp_list = A[len_ - move_cnt:]\n",
    "        del A[len_ - move_cnt:]\n",
    "        tmp_list.extend(A)\n",
    "        return tmp_list\n",
    "        \n",
    "\n",
    "print(solution([3, 8, 9, 7, 6], 3))\n",
    "        \n",
    "        \n",
    "        \n"
   ]
  },
  {
   "cell_type": "markdown",
   "metadata": {},
   "source": [
    "# 풀이 후기\n",
    "\n",
    "for문으로 풀어보다가 이중 포문을 써야되는데.. 그러면 너무 퍼포먼스가 떨어질 것 같아서 구글링해서 예제를 참고했다.\n",
    "\n",
    "단순히 돌리는 것보다 정말 사람이 머리를 잘 써야되는구나라고 깨달았다.\n",
    "\n",
    "extend를 배웠지만 써먹기는 처음이다...\n",
    "\n",
    "## 단순히 내가 코딩할 줄 아는 방법보다는 먼저 수학적으로 IQ 테스트하듯이 생각해보자"
   ]
  },
  {
   "cell_type": "code",
   "execution_count": null,
   "metadata": {},
   "outputs": [],
   "source": []
  }
 ],
 "metadata": {
  "kernelspec": {
   "display_name": "Python 3",
   "language": "python",
   "name": "python3"
  },
  "language_info": {
   "codemirror_mode": {
    "name": "ipython",
    "version": 3
   },
   "file_extension": ".py",
   "mimetype": "text/x-python",
   "name": "python",
   "nbconvert_exporter": "python",
   "pygments_lexer": "ipython3",
   "version": "3.7.4"
  }
 },
 "nbformat": 4,
 "nbformat_minor": 2
}
