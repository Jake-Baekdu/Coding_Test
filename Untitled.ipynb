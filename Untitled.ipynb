{
 "cells": [
  {
   "cell_type": "code",
   "execution_count": 17,
   "metadata": {},
   "outputs": [
    {
     "data": {
      "text/plain": [
       "1"
      ]
     },
     "execution_count": 17,
     "metadata": {},
     "output_type": "execute_result"
    }
   ],
   "source": [
    "def solution(n, lost, reserve):\n",
    "    len_lost = len(lost)\n",
    "    for i in lost:\n",
    "        if i-1 in reserve:\n",
    "            reserve.remove(i-1)\n",
    "            len_lost -= 1\n",
    "            print(i)\n",
    "        elif i+1 in reserve:\n",
    "            reserve.remove(i+1)\n",
    "            len_lost -= 1\n",
    "            print(i)\n",
    "        elif i in reserve:\n",
    "            reserve.remove(i)\n",
    "            len_lost -= 1\n",
    "\n",
    "    return n - len_lost\n",
    "\n",
    "\n",
    "solution(5, [], [1])"
   ]
  },
  {
   "cell_type": "markdown",
   "metadata": {},
   "source": [
    "# a= 1\n",
    "a -= 1\n",
    "a"
   ]
  },
  {
   "cell_type": "code",
   "execution_count": 87,
   "metadata": {},
   "outputs": [
    {
     "data": {
      "text/plain": [
       "23"
      ]
     },
     "execution_count": 87,
     "metadata": {},
     "output_type": "execute_result"
    }
   ],
   "source": [
    "from itertools import combinations\n",
    "\n",
    "def is_triplet(A):\n",
    "    A_len = len(A)\n",
    "    if A_len < 3:\n",
    "        return 0\n",
    "    A.sort()\n",
    "    for index in range(0, A_len-2):\n",
    "        if A[index]+A[index+1] > A[index+2]:\n",
    "            return True\n",
    "    return False\n",
    "\n",
    "def solution(A):\n",
    "    comb = list(map(list,combinations(A, 3)))\n",
    "    temp_result = []\n",
    "    for i in comb:\n",
    "        if is_triplet(i):\n",
    "            temp_result.append(sum(i))\n",
    "    if not temp_result:\n",
    "        return -1\n",
    "            \n",
    "    return max(temp_result)\n",
    "\n",
    "\n",
    "\n",
    "solution([10, 2, 5, 1, 8, 20])"
   ]
  },
  {
   "cell_type": "code",
   "execution_count": 104,
   "metadata": {},
   "outputs": [
    {
     "data": {
      "text/plain": [
       "100000"
      ]
     },
     "execution_count": 104,
     "metadata": {},
     "output_type": "execute_result"
    }
   ],
   "source": [
    "import itertools\n",
    "\n",
    "\n",
    "def solution(X, Y):\n",
    "    len_X = len(X)\n",
    "    temp_dict = dict()\n",
    "    for x, y in zip(X, Y):\n",
    "        try:\n",
    "            temp_dict[x/y] += 1\n",
    "        except KeyError:\n",
    "            temp_dict[x/y] = 1\n",
    "            \n",
    "    return max(temp_dict.values())\n",
    "\n",
    "    \n",
    "        \n",
    "        \n",
    "solution([2000000000]*100000, [2000000000]*100000)"
   ]
  },
  {
   "cell_type": "code",
   "execution_count": 179,
   "metadata": {},
   "outputs": [
    {
     "name": "stdout",
     "output_type": "stream",
     "text": [
      "deque(['i', 'g', 'o', 'p', 't', 'v', 'f', 'b', 'q', 'y', 'y'])\n",
      "hellopython\n"
     ]
    },
    {
     "data": {
      "text/plain": [
       "''"
      ]
     },
     "execution_count": 179,
     "metadata": {},
     "output_type": "execute_result"
    }
   ],
   "source": [
    "from collections import deque\n",
    "\n",
    "def solution(encrypted_text, key, rotation):\n",
    "    alphabet = 'abcdefghijklmnopqrstuvwxyz'\n",
    "    rotate_E = deque(list(encrypted_text))\n",
    "    rotate_E.rotate(-rotation)\n",
    "    print(rotate_E)\n",
    "    \n",
    "    char = \"\"\n",
    "    for E, K in zip(rotate_E, key):\n",
    "        temp = ord(E) - (ord(K)-96)%26\n",
    "        if temp >= 97 and temp <= 122:\n",
    "            char += chr(temp)\n",
    "        elif temp < 97 :\n",
    "            char += chr(123-(97-temp))\n",
    "\n",
    "\n",
    "    return char\n",
    "\n",
    "\n",
    "solution(\"qyyigoptvfb\", \"abcdefghijk\", 3)"
   ]
  },
  {
   "cell_type": "code",
   "execution_count": 137,
   "metadata": {},
   "outputs": [
    {
     "name": "stdout",
     "output_type": "stream",
     "text": [
      "102\n"
     ]
    }
   ],
   "source": []
  },
  {
   "cell_type": "code",
   "execution_count": 173,
   "metadata": {},
   "outputs": [
    {
     "name": "stdout",
     "output_type": "stream",
     "text": [
      "95\n"
     ]
    }
   ],
   "source": [
    "print(ord('f') - (ord('g')- 96)%26)"
   ]
  },
  {
   "cell_type": "code",
   "execution_count": 178,
   "metadata": {},
   "outputs": [
    {
     "data": {
      "text/plain": [
       "'z'"
      ]
     },
     "execution_count": 178,
     "metadata": {},
     "output_type": "execute_result"
    }
   ],
   "source": [
    "chr(122)"
   ]
  },
  {
   "cell_type": "code",
   "execution_count": 4,
   "metadata": {},
   "outputs": [
    {
     "name": "stdout",
     "output_type": "stream",
     "text": [
      "힙 [1, 2, 3, 9, 10, 12]\n",
      "[3, 5, 10, 12, 9]\n",
      "[9, 12, 10, 13]\n"
     ]
    },
    {
     "data": {
      "text/plain": [
       "2"
      ]
     },
     "execution_count": 4,
     "metadata": {},
     "output_type": "execute_result"
    }
   ],
   "source": [
    "import heapq\n",
    "\n",
    "heap = []\n",
    "\n",
    "def solution(scoville, K):\n",
    "    cnt = 0\n",
    "    for i in scoville:\n",
    "        heapq.heappush(heap, i)\n",
    "    print(\"힙\", heap)\n",
    "    for _ in range(len(heap)):\n",
    "        if len(heap) == 1 and heap[0] < K:\n",
    "            return -1\n",
    "        if heap[0] >= K:\n",
    "            return cnt\n",
    "        temp = heapq.heappop(heap) + heapq.heappop(heap)*2\n",
    "        heapq.heappush(heap, temp)\n",
    "        print(heap)\n",
    "        cnt += 1\n",
    "    \n",
    "\n",
    "    return cnt\n",
    "solution([1, 2, 3, 9, 10, 12], 7)"
   ]
  },
  {
   "cell_type": "code",
   "execution_count": 6,
   "metadata": {},
   "outputs": [
    {
     "name": "stdout",
     "output_type": "stream",
     "text": [
      "[10]\n",
      "[1, 10]\n",
      "[1, 10, 5]\n",
      "[1, 2, 5, 10]\n",
      "[1, 2, 5, 10, 4]\n",
      "[1, 2, 5, 10, 4, 111]\n",
      "[1, 2, 5, 10, 4, 111, 23]\n",
      "[1, 2, 5, 10, 4, 111, 23]\n"
     ]
    }
   ],
   "source": [
    "import heapq\n",
    "\n",
    "heap = []\n",
    "\n",
    "def solution(scoville):\n",
    "    cnt = 0\n",
    "    for i in scoville:\n",
    "        heapq.heappush(heap, i)\n",
    "        print(heap)\n",
    "    print(heap)\n",
    "        \n",
    "solution([10,1,5,2,4,111,23])"
   ]
  },
  {
   "cell_type": "code",
   "execution_count": null,
   "metadata": {},
   "outputs": [],
   "source": []
  }
 ],
 "metadata": {
  "kernelspec": {
   "display_name": "Python 3",
   "language": "python",
   "name": "python3"
  },
  "language_info": {
   "codemirror_mode": {
    "name": "ipython",
    "version": 3
   },
   "file_extension": ".py",
   "mimetype": "text/x-python",
   "name": "python",
   "nbconvert_exporter": "python",
   "pygments_lexer": "ipython3",
   "version": "3.7.4"
  }
 },
 "nbformat": 4,
 "nbformat_minor": 2
}
