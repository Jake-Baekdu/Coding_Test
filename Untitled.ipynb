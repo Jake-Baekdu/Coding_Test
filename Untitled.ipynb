{
 "cells": [
  {
   "cell_type": "code",
   "execution_count": 26,
   "metadata": {},
   "outputs": [
    {
     "ename": "AttributeError",
     "evalue": "'NoneType' object has no attribute 'group'",
     "output_type": "error",
     "traceback": [
      "\u001b[1;31m---------------------------------------------------------------------------\u001b[0m",
      "\u001b[1;31mAttributeError\u001b[0m                            Traceback (most recent call last)",
      "\u001b[1;32m<ipython-input-26-45d9683174ce>\u001b[0m in \u001b[0;36m<module>\u001b[1;34m\u001b[0m\n\u001b[0;32m      4\u001b[0m \u001b[0mregex\u001b[0m \u001b[1;33m=\u001b[0m \u001b[0mre\u001b[0m\u001b[1;33m.\u001b[0m\u001b[0mcompile\u001b[0m\u001b[1;33m(\u001b[0m\u001b[1;34m'(?P<animal>w+) (?P<verb>w+) (?P<adjective>w+)'\u001b[0m\u001b[1;33m)\u001b[0m\u001b[1;33m\u001b[0m\u001b[1;33m\u001b[0m\u001b[0m\n\u001b[0;32m      5\u001b[0m \u001b[0mmatched\u001b[0m \u001b[1;33m=\u001b[0m \u001b[0mregex\u001b[0m\u001b[1;33m.\u001b[0m\u001b[0msearch\u001b[0m\u001b[1;33m(\u001b[0m\u001b[0msentence\u001b[0m\u001b[1;33m)\u001b[0m\u001b[1;33m\u001b[0m\u001b[1;33m\u001b[0m\u001b[0m\n\u001b[1;32m----> 6\u001b[1;33m \u001b[0mprint\u001b[0m\u001b[1;33m(\u001b[0m\u001b[0mmatched\u001b[0m\u001b[1;33m.\u001b[0m\u001b[0mgroup\u001b[0m\u001b[1;33m(\u001b[0m\u001b[1;33m)\u001b[0m\u001b[1;33m)\u001b[0m\u001b[1;33m\u001b[0m\u001b[1;33m\u001b[0m\u001b[0m\n\u001b[0m",
      "\u001b[1;31mAttributeError\u001b[0m: 'NoneType' object has no attribute 'group'"
     ]
    }
   ],
   "source": [
    "import re\n",
    "\n",
    "sentence = 'horses are fast'\n",
    "regex = re.compile('(?P<animal>w+) (?P<verb>w+) (?P<adjective>w+)')\n",
    "matched = regex.search(sentence)\n",
    "print(matched.group()) \n"
   ]
  },
  {
   "cell_type": "code",
   "execution_count": 27,
   "metadata": {},
   "outputs": [
    {
     "name": "stdout",
     "output_type": "stream",
     "text": [
      "Will Smith\n",
      "Agent Smith\n",
      "Peter Pan\n",
      "Micky Mouse\n",
      "Minnie Mouse\n",
      "Peter Gunn\n",
      "\n"
     ]
    }
   ],
   "source": [
    "sample_input_arr = [0]*200\n",
    "\n",
    "name = input()\n",
    "i = 0\n",
    "while name:\n",
    "    sample_input_arr[i] = name.split()\n",
    "    name = input()\n",
    "    i += 1\n",
    "    \n",
    "\n",
    "\n",
    "\n",
    "\n"
   ]
  },
  {
   "cell_type": "code",
   "execution_count": 39,
   "metadata": {},
   "outputs": [
    {
     "data": {
      "text/plain": [
       "6"
      ]
     },
     "execution_count": 39,
     "metadata": {},
     "output_type": "execute_result"
    }
   ],
   "source": [
    "sample_input_arr = [['Will', 'Smith'],\n",
    " ['Agent', 'Smith'],\n",
    " ['Peter', 'Pan'],\n",
    " ['Micky', 'Mouse'],\n",
    " ['Minnie', 'Mouse'],\n",
    " ['Peter', 'Gunn'], 0]\n",
    "sample_input_arr.index(0)"
   ]
  },
  {
   "cell_type": "code",
   "execution_count": 30,
   "metadata": {},
   "outputs": [],
   "source": [
    "import collections\n",
    "import sys import stdin\n",
    "sample_input_arr = [0]*200\n",
    "\n",
    "name = input()\n",
    "i = 0\n",
    "\n",
    "#insert input value in list\n",
    "while name:\n",
    "    sample_input_arr[i] = name.split()\n",
    "    name = input()\n",
    "    i += 1\n",
    "    \n",
    "end_of_arr = sample_input_arr.index(0)\n",
    "sample_input_arr = sample_input_arr[:end_of_arr]\n",
    "sample_input_arr.sort(key = lambda x : (x[1], x[0]))\n",
    "\n",
    "lastName_arr = {}\n",
    "\n",
    "\n",
    "# Count same last name\n",
    "for i, k in sample_input_arr[:end_of_arr]:\n",
    "    try:\n",
    "        lastName_arr[k] += 1\n",
    "    except KeyError:\n",
    "        lastName_arr[k] = 0\n",
    "\n",
    "#Print result\n",
    "for i, k in sample_input_arr[:end_of_arr]:\n",
    "    if lastName_arr[k] > 0:\n",
    "        print(i)\n",
    "    else:\n",
    "        print(i, k)"
   ]
  },
  {
   "cell_type": "code",
   "execution_count": 58,
   "metadata": {},
   "outputs": [
    {
     "name": "stdout",
     "output_type": "stream",
     "text": [
      "\n"
     ]
    }
   ],
   "source": [
    "import collections\n",
    "from sys import stdin\n",
    "\n",
    "\n",
    "def main():\n",
    "    sample_input_arr = []\n",
    "\n",
    "    name = input()\n",
    "\n",
    "    #insert input value in list\n",
    "    while name:\n",
    "        sample_input_arr.append(name.split())\n",
    "        name = input()\n",
    "\n",
    "    sample_input_arr.sort(key = lambda x : (x[1], x[0]))\n",
    "\n",
    "    lastName_arr = {}\n",
    "\n",
    "    # Count same last name\n",
    "    for i, k in sample_input_arr:\n",
    "        try:\n",
    "            lastName_arr[k] += 1\n",
    "        except KeyError:\n",
    "            lastName_arr[k] = 0\n",
    "\n",
    "    #Print result\n",
    "\n",
    "    for i, k in sample_input_arr:\n",
    "        if lastName_arr[k] > 0:\n",
    "            print(i)\n",
    "        else:\n",
    "            print(\"{} {}\".format(i, k))\n",
    "\n",
    "\n",
    "if __name__ == \"__main__\":\n",
    "    main()"
   ]
  },
  {
   "cell_type": "code",
   "execution_count": 78,
   "metadata": {},
   "outputs": [
    {
     "name": "stdout",
     "output_type": "stream",
     "text": [
      "1\n",
      "3\n",
      "0 0\n",
      "1 0\n",
      "0 1\n",
      "[[0, 1, 1.0], [0, 2, 1.0], [1, 2, 1.4142135623730951]]\n",
      "2.000\n"
     ]
    }
   ],
   "source": [
    "import math\n",
    "\n",
    "n = int(input())\n",
    "\n",
    "for _ in range(n):\n",
    "    m = int(input())\n",
    "    dist = []\n",
    "    position = []\n",
    "    for i in range(m):\n",
    "        x, y = map(float, input().split())\n",
    "        position.append([i, x, y])\n",
    "    \n",
    "    for p1 in range(m-1):\n",
    "        for p2 in range(1, m):\n",
    "            if p1 == p2:\n",
    "                continue\n",
    "            x_dist = position[p2][1] - position[p1][1]\n",
    "            y_dist = position[p2][2] - position[p1][2]\n",
    "            d = math.sqrt((x_dist ** 2) + (y_dist ** 2))\n",
    "            dist.append([p1, p2, d])\n",
    "    print(dist)\n",
    "    print('%0.3f' % solution(m, dist))"
   ]
  },
  {
   "cell_type": "code",
   "execution_count": 74,
   "metadata": {},
   "outputs": [],
   "source": [
    "\n",
    "\n",
    "def solution(n, costs):\n",
    "    # kruskal algorithm\n",
    "    ans = 0\n",
    "    costs.sort(key = lambda x: x[2]) # cost 기준으로 오름차순 정렬\n",
    "    routes = set([costs[0][0]]) # 집합\n",
    "    while len(routes)!=n:\n",
    "        for i, cost in enumerate(costs):\n",
    "            if cost[0] in routes and cost[1] in routes:\n",
    "                continue\n",
    "            if cost[0] in routes or cost[1] in routes:\n",
    "                routes.update([cost[0], cost[1]])\n",
    "                ans += cost[2]\n",
    "                costs[i] = [-1, -1, -1]\n",
    "                break\n",
    "    return ans"
   ]
  },
  {
   "cell_type": "code",
   "execution_count": 72,
   "metadata": {},
   "outputs": [
    {
     "name": "stdout",
     "output_type": "stream",
     "text": [
      "1\n",
      "3\n",
      "0 0\n",
      "1 0\n",
      "0 1\n",
      "[[0, 1, 1.0]]\n",
      "[[0, 2, 1.0]]\n",
      "None\n",
      "[[1, 2, 1.4142135623730951]]\n",
      "0\n"
     ]
    }
   ],
   "source": [
    "import math\n",
    "\n",
    "\n",
    "def solution(n, costs):\n",
    "    # 부모 노드를 찾는 함수\n",
    "    def get_parent(parent, x):\n",
    "        if parent[x] == x: return x\n",
    "        parent[x] = get_parent(parent, parent[x])\n",
    "        return parent[x]\n",
    "\n",
    "    # 두 부모 노드를 합치는 함수\n",
    "    def union_parent(parent, x, y):\n",
    "        x = get_parent(parent, x)\n",
    "        y = get_parent(parent, y)\n",
    "\n",
    "        # 더 작은 값을 부모로 지칭\n",
    "        if x < y: parent[y] = x\n",
    "        else: parent[x] = y\n",
    "\n",
    "    # 두 노드가 같은 부모를 가지는 지 찾는 함수\n",
    "    def is_same_parent(parent, x, y):\n",
    "        x = get_parent(parent, x)\n",
    "        y = get_parent(parent, y)\n",
    "\n",
    "        if x == y: return True\n",
    "        else: return False\n",
    "\n",
    "    # 특정 간선의 부모 정보 (초기는 자기 자신을 가리킴)\n",
    "    parent = [0] * len(costs)\n",
    "    for i in range(len(costs)):\n",
    "        parent[i] = i\n",
    "\n",
    "    answer = [] # 선택될 간선을 담을 리스트\n",
    "    costs.sort(key=lambda x:x[2]) # 비용이 가장 작은 간선부터 선택\n",
    "\n",
    "    # 주어진 간선이 최소 간선의 개수 일때 (n-1개)\n",
    "    if len(costs) == n-1:\n",
    "        return sum(map(lambda x:x[2], costs))\n",
    "\n",
    "    # 총 만들어지는 간선의 개수는 n-1개\n",
    "    while len(answer) < n-1:\n",
    "        edge = costs.pop(0)\n",
    "        # 두 점의 부모가 같은지 Check\n",
    "        if not is_same_parent(parent, edge[0], edge[1]):\n",
    "            union_parent(parent, edge[0], edge[1])\n",
    "            answer.append(edge[2])\n",
    "\n",
    "    return sum(answer)\n",
    "\n",
    "\n",
    "if __name__ == \"__main__\":\n",
    "    n = int(input())\n",
    "\n",
    "    for _ in range(n):\n",
    "        m = int(input())\n",
    "        dist = []\n",
    "        position = []\n",
    "        for i in range(m):\n",
    "            x, y = map(float, input().split())\n",
    "            position.append([i, x, y])\n",
    "        \n",
    "        for p1 in range(m-1):\n",
    "            for p2 in range(1, m):\n",
    "                if p1 == p2:\n",
    "                    continue\n",
    "                x_dist = position[p2][1] - position[p1][1]\n",
    "                y_dist = position[p2][2] - position[p1][2]\n",
    "                d = math.sqrt((x_dist ** 2) + (y_dist ** 2))\n",
    "                dist.append([p1, p2, d])\n",
    "        result = solution(m, dist)\n",
    "        if \n",
    "        print('%0.3f' % solution(m, dist))"
   ]
  },
  {
   "cell_type": "code",
   "execution_count": 16,
   "metadata": {},
   "outputs": [
    {
     "name": "stdout",
     "output_type": "stream",
     "text": [
      "['jdoe@example.com', 'pparker@example.com', 'mjwatsonpa@example.com', 'jdoe@example.com', 'jedoe@example.com', 'jdoe@example.com', 'pparker@example.com']\n"
     ]
    }
   ],
   "source": [
    "S = \"John Doe, Peter Parker, Mary Jane Watson-Parker, James Doe, John Elvis Doe, Jane Doe, Penny Parker\"\n",
    "S_divide = list(S.split(', '))\n",
    "\n",
    "C = 'Example'\n",
    "h = '-'\n",
    "S_edit = ''.join( x for x in S if x not in h)\n",
    "S_list = list(S_edit.split(', '))\n",
    "email = [0]*len(S_list)\n",
    "\n",
    "for i in range(len(S_list)):\n",
    "    S_list[i] = list(S_list[i].split(' '))\n",
    "\n",
    "\n",
    "for i in range(len(S_list)):\n",
    "    tmp = ''\n",
    "    if len(S_list[i]) == 2:\n",
    "        tmp += S_list[i][0][0] + S_list[i][1][:8]\n",
    "    else:\n",
    "        tmp += S_list[i][0][0] + S_list[i][1][0] + S_list[i][2][:8]\n",
    "    email[i] = (tmp+'@'+C+'.com').lower()\n",
    "for i in range(len(S_list)):\n",
    "    print(\"{} <{}>\".format(S_list), end = ', ')\n",
    "print(email)"
   ]
  },
  {
   "cell_type": "code",
   "execution_count": 14,
   "metadata": {},
   "outputs": [
    {
     "ename": "SyntaxError",
     "evalue": "invalid syntax (<ipython-input-14-bf88f090b29a>, line 1)",
     "output_type": "error",
     "traceback": [
      "\u001b[1;36m  File \u001b[1;32m\"<ipython-input-14-bf88f090b29a>\"\u001b[1;36m, line \u001b[1;32m1\u001b[0m\n\u001b[1;33m    John Doe, Peter Parker, Mary Jane WatsonParker, James Doe, John Elvis Doe, Jane Doe, Penny Parker\u001b[0m\n\u001b[1;37m           ^\u001b[0m\n\u001b[1;31mSyntaxError\u001b[0m\u001b[1;31m:\u001b[0m invalid syntax\n"
     ]
    }
   ],
   "source": [
    "John Doe, Peter Parker, Mary Jane WatsonParker, James Doe, John Elvis Doe, Jane Doe, Penny Parker\n",
    "[['John', 'Doe'], ['Peter', 'Parker'], ['Mary', 'Jane', 'WatsonParker'], ['James', 'Doe'], \n",
    " ['John', 'Elvis', 'Doe'], ['Jane', 'Doe'], ['Penny', 'Parker']]"
   ]
  },
  {
   "cell_type": "code",
   "execution_count": 58,
   "metadata": {},
   "outputs": [
    {
     "name": "stdout",
     "output_type": "stream",
     "text": [
      "['John', 'Doe']\n",
      "['Peter', 'Parker']\n",
      "['Mary', 'Jane', 'WatsonParker']\n",
      "['James', 'Doe']\n",
      "['John', 'Elvis', 'Doe']\n",
      "['Jane', 'Doe']\n",
      "['Penny', 'Parker']\n"
     ]
    },
    {
     "data": {
      "text/plain": [
       "'John Doe <jdoe@example.com>, Peter Parker <pparker@example.com>, Mary Jane Watson-Parker <mjwatsonpa@example.com>, James Doe <jdoe2@example.com>, John Elvis Doe <jedoe@example.com>, Jane Doe <jdoe3@example.com>, Penny Parker <pparker2@example.com>'"
      ]
     },
     "execution_count": 58,
     "metadata": {},
     "output_type": "execute_result"
    }
   ],
   "source": [
    "# you can write to stdout for debugging purposes, e.g.\n",
    "# print(\"this is a debug message\")\n",
    "\n",
    "def solution(S, C):\n",
    "    \n",
    "    S_list = list(S.split(', '))\n",
    "    email = [0]*len(S_list)\n",
    "    name_cnt = {}\n",
    "    ans = ''\n",
    "    for i in range(len(S_list)):\n",
    "        \n",
    "        name_list = list(map(str, S_list[i].split()))\n",
    "        \n",
    "        first = name_list[0][0]\n",
    "        mid = ''\n",
    "        name_list[len(name_list)-1] = name_list[len(name_list)-1].replace('-','')\n",
    "        last = name_list[len(name_list)-1][:8]\n",
    "        print(name_list)\n",
    "        if len(name_list) == 3:\n",
    "            mid = name_list[1][0]\n",
    "        \n",
    "        result = (first + mid + last)\n",
    "        cnt = ''\n",
    "        if result in name_cnt:\n",
    "            name_cnt[result] += 1\n",
    "            cnt = name_cnt[result]\n",
    "        else:\n",
    "            name_cnt[result] = 1\n",
    "        \n",
    "        result = (result + str(cnt) + '@' + C + '.com').lower()\n",
    "        if i == len(S_list) -1:\n",
    "            ans += \"{} <{}>\".format(S_list[i], result)\n",
    "        else:\n",
    "            ans += \"{} <{}>\".format(S_list[i], result) + \", \"\n",
    "        \n",
    "        \n",
    "    return ans\n",
    "        \n",
    "\n",
    "#     result = \"\"\n",
    "#     for i in range(len(S_list)):\n",
    "#         if i == len(S_list)-1:\n",
    "#             result += (\"{} <{}>\".format(S_real[i], email[i]))\n",
    "#         else:\n",
    "#             result += (\"{} <{}>\".format(S_real[i], email[i]) + \", \")\n",
    "#     return result\n",
    "S = \"John Doe, Peter Parker, Mary Jane Watson-Parker, James Doe, John Elvis Doe, Jane Doe, Penny Parker\"\n",
    "C = \"Example\"\n",
    "solution(S, C)\n"
   ]
  },
  {
   "cell_type": "code",
   "execution_count": 59,
   "metadata": {},
   "outputs": [
    {
     "data": {
      "text/plain": [
       "<function dir>"
      ]
     },
     "execution_count": 59,
     "metadata": {},
     "output_type": "execute_result"
    }
   ],
   "source": [
    "import re\n",
    "def solution(S):\n",
    "    S_list = re.complie('.* ')\n",
    "    print(S_list)\n",
    "    \n",
    "    \n",
    "    \n",
    "    \n",
    "    \n",
    "    \n",
    "    \n",
    "solution(\"\"\"\n",
    "admin  -wx 29 Sep 1983        833 source.h\n",
    "admin  r-x 23 Jun 2003     854016 blockbuster.mpeg\n",
    "admin  --x 02 Jul 1997        821 delete-this.py\n",
    "admin  -w- 15 Feb 1971      23552 library.dll\n",
    "admin  --x 15 May 1979  645922816 logs.zip\n",
    "jane   --x 04 Dec 2010      93184 old-photos.rar\n",
    "jane   -w- 08 Feb 1982  681574400 important.java\n",
    "admin  rwx 26 Dec 1952   14680064 to-do-list.txt\n",
    "\"\"\")"
   ]
  },
  {
   "cell_type": "code",
   "execution_count": 3,
   "metadata": {},
   "outputs": [
    {
     "ename": "TypeError",
     "evalue": "'bool' object is not subscriptable",
     "output_type": "error",
     "traceback": [
      "\u001b[1;31m---------------------------------------------------------------------------\u001b[0m",
      "\u001b[1;31mTypeError\u001b[0m                                 Traceback (most recent call last)",
      "\u001b[1;32m<ipython-input-3-3742e065e322>\u001b[0m in \u001b[0;36m<module>\u001b[1;34m\u001b[0m\n\u001b[0;32m      1\u001b[0m \u001b[0meles\u001b[0m \u001b[1;33m=\u001b[0m \u001b[1;32mTrue\u001b[0m\u001b[1;33m\u001b[0m\u001b[1;33m\u001b[0m\u001b[0m\n\u001b[1;32m----> 2\u001b[1;33m \u001b[0mele\u001b[0m \u001b[1;33m=\u001b[0m \u001b[0meles\u001b[0m\u001b[1;33m[\u001b[0m\u001b[1;36m0\u001b[0m\u001b[1;33m]\u001b[0m\u001b[1;33m\u001b[0m\u001b[1;33m\u001b[0m\u001b[0m\n\u001b[0m\u001b[0;32m      3\u001b[0m \u001b[0mprint\u001b[0m\u001b[1;33m(\u001b[0m\u001b[0mele\u001b[0m\u001b[1;33m)\u001b[0m\u001b[1;33m\u001b[0m\u001b[1;33m\u001b[0m\u001b[0m\n",
      "\u001b[1;31mTypeError\u001b[0m: 'bool' object is not subscriptable"
     ]
    }
   ],
   "source": [
    "eles = True\n",
    "ele = eles[0]\n",
    "print(ele)"
   ]
  },
  {
   "cell_type": "code",
   "execution_count": 5,
   "metadata": {},
   "outputs": [
    {
     "name": "stdout",
     "output_type": "stream",
     "text": [
      "True aa\n"
     ]
    }
   ],
   "source": [
    "import smtplib\n",
    "from email.message import EmailMessage\n",
    "from datetime import datetime, timedelta\n",
    "import gspread\n",
    "from oauth2client.service_account import ServiceAccountCredentials\n",
    "from email.mime.text import MIMEText\n",
    "from email.mime.multipart import MIMEMultipart\n",
    "from mailer import Message\n",
    "\n",
    "class gmail_sender:\n",
    "\n",
    "    def __init__(self, sender_email, receiver_email, sender_password, cc_email=\"\", bcc_email=\"\"):\n",
    "\n",
    "        self.s_email = sender_email\n",
    "        self.r_email = receiver_email\n",
    "        self.pw = sender_password\n",
    "        self.server_name = \"smtp.gmail.com\"\n",
    "        self.server_port = 587\n",
    "        self.msg = EmailMessage()\n",
    "        self.msg[\"From\"] = self.s_email\n",
    "        self.msg[\"To\"] = self.r_email\n",
    "\n",
    "        if cc_email != \"\":\n",
    "            self.cc_email = cc_email\n",
    "            self.msg[\"Cc\"] = self.cc_email\n",
    "\n",
    "        if bcc_email != \"\":\n",
    "            self.bcc_email = bcc_email\n",
    "            self.msg[\"Bcc\"] = self.bcc_email\n",
    "\n",
    "        self.smtp = smtplib.SMTP(self.server_name, self.server_port)\n",
    "\n",
    "    def msg_set(self, msg_title, msg_body):\n",
    "        self.msg['Subject'] = msg_title\n",
    "        self.msg.set_content(msg_body)\n",
    "\n",
    "    def smtp_connect_send(self):\n",
    "        self.smtp.ehlo()\n",
    "        self.smtp.starttls()\n",
    "        self.smtp.login(self.s_email, self.pw)\n",
    "        self.smtp.send_message(self.msg)\n",
    "\n",
    "    def smtp_disconnect(self):\n",
    "        self.smtp.close()\n",
    "\n",
    "\n",
    "def get_excel_data():\n",
    "    scope = [\n",
    "        'https://spreadsheets.google.com/feeds',\n",
    "        'https://www.googleapis.com/auth/drive',\n",
    "    ]\n",
    "    json_file_name = 'prismatic-vial-334502-5e12c648e019.json'\n",
    "    credentials = ServiceAccountCredentials.from_json_keyfile_name(json_file_name, scope)\n",
    "    gc = gspread.authorize(credentials)\n",
    "    spreadsheet_url = 'https://docs.google.com/spreadsheets/d/1lj67GgcnyZNIas3uXAFPKda0cT7J7uC-L8cx9uFk0X0/edit#gid=0'\n",
    "    # 스프레스시트 문서 가져오기\n",
    "    doc = gc.open_by_url(spreadsheet_url)\n",
    "\n",
    "    # 시트 선택하기\n",
    "    worksheet = doc.worksheet('Email_data')\n",
    "    return worksheet.get_all_values()\n",
    "\n",
    "\n",
    "\n",
    "excelData = list(map(list, zip(*get_excel_data())))\n",
    "customersData = []\n",
    "nullPoint = '#DIV/0!'\n",
    "today = datetime.today().strftime(\"%Y-%m-%d\")\n",
    "last_sat = (datetime.today() - timedelta(6)).strftime(\"%Y-%m-%d\")\n",
    "week_period = last_sat + \" ~ \" + today\n",
    "\n",
    "name = \"\"\n",
    "for p in excelData:\n",
    "\n",
    "    initData = p[1]\n",
    "    initAmount = p[2]\n",
    "    estimatedValue = p[3]\n",
    "    weeklyROI = p[4]\n",
    "    accumulROI = p[5]\n",
    "    receivers = p[-1]\n",
    "\n",
    "    if p[0] == '' or \"$0\" in p:\n",
    "        continue\n",
    "    if name == \"\" or name != p[0][:-1]:\n",
    "        name = p[0]\n",
    "    else:\n",
    "        tmp_estimatedValueContent = \"\"\"\n",
    "        {0] USDT / {1} 입니다.\n",
    "        \"\"\".w\n",
    "\n",
    "\n",
    "    title = \"안녕하세요, 백두테크놀로지스 주간 성과보고 드립니다.\"  # 이메일 제목\n",
    "    content = \"\"\"\n",
    "안녕하세요, 백두테크놀로지스 주간 성과보고 드립니다.\n",
    "\n",
    "현재 평가금액과 {0} 9AM 1주간 수익률은:\n",
    "\n",
    "{3}USDT / {4} 입니다.\n",
    "\n",
    "    \n",
    "{1} 개시일 AUM은 {2}USDT 였고, 금일까지 누적 수익률은 {5} 입니다.\n",
    "\n",
    "늘 좋은 성과로 보답하겠습니다, 백두와 함께해주셔서 감사드립니다.\n",
    "\n",
    "             \"\"\".format(week_period, initData, initAmount, estimatedValue, weeklyROI, accumulROI)\n",
    "\n",
    "    # print(content)\n",
    "    # test_email = gmail_sender(\"lws@baekdutech.com\", receivers, \"wkhzxzuqjndwobrk\")\n",
    "#     test_email = gmail_sender(\"jake@baekdutech.com\", \"jake@baekdutech.com\", \"glyxswxszzhclduf\")\n",
    "#     test_email.msg_set(title, content)\n",
    "#     test_email.smtp_connect_send()\n",
    "#\n",
    "# test_email.smtp_disconnect()\n",
    "\n",
    "\n",
    "\n",
    "\n",
    "#     #이메일 내용\n",
    "#     content = \"\"\"\n",
    "# <!DOCTYPE html><html><body>\n",
    "# <br><br>\n",
    "# 안녕하세요, 백두테크놀로지스 주간 성과보고 드립니다.\n",
    "# <br><br>\n",
    "# 현재 평가금액과 {0} 9AM 1주간 수익률은:\n",
    "# <br><br>\n",
    "# <p> <strong>{3}USDT</strong> / <span style = \"color: red;\"><strong>{4}</strong></span> 입니다.</p>\n",
    "# <br><br>\n",
    "# <p>{1} 개시일 AUM은 {2}USDT 였고, 금일까지 누적 수익률은 <strong>{5}</strong> 입니다.</p>\n",
    "# <br>\n",
    "# 늘 좋은 성과로 보답하겠습니다, 백두와 함께해주셔서 감사드립니다.\n",
    "# <br></body></html>\n",
    "#          \"\"\".format(week_period, initData, initAmount, estimatedValue, weeklyROI, accumulROI)\n",
    "#     msg = MIMEMultipart('alternative')\n",
    "#     msg.attach(MIMEText(content, 'html'))"
   ]
  },
  {
   "cell_type": "code",
   "execution_count": 20,
   "metadata": {
    "ExecuteTime": {
     "end_time": "2022-01-24T11:12:04.287538Z",
     "start_time": "2022-01-24T11:12:04.265595Z"
    }
   },
   "outputs": [
    {
     "ename": "ModuleNotFoundError",
     "evalue": "No module named 'prime'",
     "output_type": "error",
     "traceback": [
      "\u001b[1;31m---------------------------------------------------------------------------\u001b[0m",
      "\u001b[1;31mModuleNotFoundError\u001b[0m                       Traceback (most recent call last)",
      "\u001b[1;32m<ipython-input-20-25fe736eafd9>\u001b[0m in \u001b[0;36m<module>\u001b[1;34m\u001b[0m\n\u001b[0;32m      1\u001b[0m \u001b[1;31m# prime_list는 1부터 10000사이의 소수가 오름차순으로 저장된 리스트예요.\u001b[0m\u001b[1;33m\u001b[0m\u001b[1;33m\u001b[0m\u001b[1;33m\u001b[0m\u001b[0m\n\u001b[1;32m----> 2\u001b[1;33m \u001b[1;32mfrom\u001b[0m \u001b[0mprime\u001b[0m \u001b[1;32mimport\u001b[0m \u001b[0mprime_list\u001b[0m\u001b[1;33m\u001b[0m\u001b[1;33m\u001b[0m\u001b[0m\n\u001b[0m\u001b[0;32m      3\u001b[0m \u001b[1;33m\u001b[0m\u001b[0m\n\u001b[0;32m      4\u001b[0m \u001b[0meven_list\u001b[0m \u001b[1;33m=\u001b[0m \u001b[1;33m{\u001b[0m\u001b[1;33m}\u001b[0m\u001b[1;33m\u001b[0m\u001b[1;33m\u001b[0m\u001b[0m\n\u001b[0;32m      5\u001b[0m \u001b[1;31m# 합계가 짝수가 되는 두 소수를 찾는 함수예요.\u001b[0m\u001b[1;33m\u001b[0m\u001b[1;33m\u001b[0m\u001b[1;33m\u001b[0m\u001b[0m\n",
      "\u001b[1;31mModuleNotFoundError\u001b[0m: No module named 'prime'"
     ]
    }
   ],
   "source": [
    "# prime_list는 1부터 10000사이의 소수가 오름차순으로 저장된 리스트예요.\n",
    "from prime import prime_list\n",
    "\n",
    "even_list = {}\n",
    "# 합계가 짝수가 되는 두 소수를 찾는 함수예요.\n",
    "def goldbach(arr):\n",
    "    # 합계가 짝수가 되는 두 소수를 작은 수부터 차례로 리스트에 저장해 주세요.\n",
    "    maxValue = max(arr)\n",
    "    for i in prime_list:\n",
    "        if i > maxValue:\n",
    "            break\n",
    "        for j in prime_list:\n",
    "            if j > maxValue:\n",
    "                break\n",
    "            if even_list[i+j]:\n",
    "                diff = abs(even_list[i+j][0] - even_list[i+j][1])\n",
    "                if diff < abs(i-j):\n",
    "                    continue\n",
    "                else:\n",
    "                    even_list[i+j] = [i, j]\n",
    "\n",
    "    return None\n",
    "\n",
    "\n",
    "arr = [int(x) for x in input().split()]\n",
    "godbach(arr)\n",
    "\n",
    "for a in arr:\n",
    "    print(even_list[a])\n",
    "\n"
   ]
  },
  {
   "cell_type": "code",
   "execution_count": null,
   "metadata": {},
   "outputs": [],
   "source": []
  }
 ],
 "metadata": {
  "kernelspec": {
   "display_name": "Python 3",
   "language": "python",
   "name": "python3"
  },
  "language_info": {
   "codemirror_mode": {
    "name": "ipython",
    "version": 3
   },
   "file_extension": ".py",
   "mimetype": "text/x-python",
   "name": "python",
   "nbconvert_exporter": "python",
   "pygments_lexer": "ipython3",
   "version": "3.7.4"
  },
  "toc": {
   "base_numbering": 1,
   "nav_menu": {},
   "number_sections": true,
   "sideBar": true,
   "skip_h1_title": false,
   "title_cell": "Table of Contents",
   "title_sidebar": "Contents",
   "toc_cell": false,
   "toc_position": {},
   "toc_section_display": true,
   "toc_window_display": false
  }
 },
 "nbformat": 4,
 "nbformat_minor": 2
}
