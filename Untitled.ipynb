{
 "cells": [
  {
   "cell_type": "code",
   "execution_count": 65,
   "metadata": {},
   "outputs": [
    {
     "name": "stdout",
     "output_type": "stream",
     "text": [
      "[1, 2] 겹치는 부분 set()\n",
      "(2, [1, 2])\n",
      "[1, 2, 3, 4, 5] 겹치는 부분 {2}\n",
      "(6, [1, 2, 3, 4, 5, 2])\n",
      "[1, 2, 3] 겹치는 부분 {2, 3}\n",
      "(4, [1, 2, 3, 2])\n",
      "[1] 겹치는 부분 {1}\n",
      "(1, [1])\n",
      "[1, 2, 3, 4] 겹치는 부분 {1, 2, 3}\n",
      "(7, [1, 2, 3, 4, 3, 2, 1])\n"
     ]
    }
   ],
   "source": [
    "# you can write to stdout for debugging purposes, e.g.\n",
    "# print(\"this is a debug message\")\n",
    "from collections import deque\n",
    "\n",
    "def solution(A):\n",
    "    que_A = deque(A)\n",
    "    result = list()\n",
    "    temp_set = set()\n",
    "    dup_set = set()\n",
    "    for i in A[::-1]:\n",
    "        if i not in temp_set:\n",
    "            temp_set.add(que_A.pop())\n",
    "        elif i not in dup_set:\n",
    "            dup_set.add(que_A.pop())\n",
    "        else:\n",
    "            que_A.pop()\n",
    "            \n",
    "    reverse_dup_list = list()\n",
    "    result = list(temp_set)\n",
    "    dup_list = list(dup_set)    \n",
    "    \n",
    "    if dup_list:\n",
    "        if result[-1] == dup_list[-1]:\n",
    "            del dup_list[-1]\n",
    "        for i in dup_list[::-1]:\n",
    "            result.append(i)\n",
    "    \n",
    "    return len(result)\n",
    "\n",
    "\n",
    "test = [[1,2], \n",
    "       [2,5,3,2,4,1],\n",
    "       [2,3,3,2,2,2,1],\n",
    "       [1,1,1,1,1],\n",
    "       [1,1,1,2,2,2,3,3,3,4]]\n",
    "\n",
    "\n",
    "for i in test:\n",
    "    print(solution(i))"
   ]
  },
  {
   "cell_type": "code",
   "execution_count": 10,
   "metadata": {},
   "outputs": [
    {
     "ename": "TypeError",
     "evalue": "'int' object is not iterable",
     "output_type": "error",
     "traceback": [
      "\u001b[1;31m---------------------------------------------------------------------------\u001b[0m",
      "\u001b[1;31mTypeError\u001b[0m                                 Traceback (most recent call last)",
      "\u001b[1;32m<ipython-input-10-9e456b5f884a>\u001b[0m in \u001b[0;36m<module>\u001b[1;34m\u001b[0m\n\u001b[0;32m      1\u001b[0m \u001b[0ma\u001b[0m \u001b[1;33m=\u001b[0m \u001b[1;33m[\u001b[0m\u001b[1;36m1\u001b[0m\u001b[1;33m,\u001b[0m\u001b[1;36m2\u001b[0m\u001b[1;33m,\u001b[0m\u001b[1;36m3\u001b[0m\u001b[1;33m]\u001b[0m\u001b[1;33m\u001b[0m\u001b[1;33m\u001b[0m\u001b[0m\n\u001b[1;32m----> 2\u001b[1;33m \u001b[0mdeque\u001b[0m\u001b[1;33m(\u001b[0m\u001b[0ma\u001b[0m\u001b[1;33m[\u001b[0m\u001b[1;36m2\u001b[0m\u001b[1;33m]\u001b[0m\u001b[1;33m)\u001b[0m\u001b[1;33m\u001b[0m\u001b[1;33m\u001b[0m\u001b[0m\n\u001b[0m\u001b[0;32m      3\u001b[0m \u001b[0ma\u001b[0m\u001b[1;33m\u001b[0m\u001b[1;33m\u001b[0m\u001b[0m\n",
      "\u001b[1;31mTypeError\u001b[0m: 'int' object is not iterable"
     ]
    }
   ],
   "source": [
    "a = [1,2,3]\n",
    "deque(a[2])\n",
    "a"
   ]
  },
  {
   "cell_type": "code",
   "execution_count": 87,
   "metadata": {},
   "outputs": [
    {
     "data": {
      "text/plain": [
       "23"
      ]
     },
     "execution_count": 87,
     "metadata": {},
     "output_type": "execute_result"
    }
   ],
   "source": [
    "from itertools import combinations\n",
    "\n",
    "def is_triplet(A):\n",
    "    A_len = len(A)\n",
    "    if A_len < 3:\n",
    "        return 0\n",
    "    A.sort()\n",
    "    for index in range(0, A_len-2):\n",
    "        if A[index]+A[index+1] > A[index+2]:\n",
    "            return True\n",
    "    return False\n",
    "\n",
    "def solution(A):\n",
    "    comb = list(map(list,combinations(A, 3)))\n",
    "    temp_result = []\n",
    "    for i in comb:\n",
    "        if is_triplet(i):\n",
    "            temp_result.append(sum(i))\n",
    "    if not temp_result:\n",
    "        return -1\n",
    "            \n",
    "    return max(temp_result)\n",
    "\n",
    "\n",
    "\n",
    "solution([10, 2, 5, 1, 8, 20])"
   ]
  },
  {
   "cell_type": "code",
   "execution_count": 104,
   "metadata": {},
   "outputs": [
    {
     "data": {
      "text/plain": [
       "100000"
      ]
     },
     "execution_count": 104,
     "metadata": {},
     "output_type": "execute_result"
    }
   ],
   "source": [
    "import itertools\n",
    "\n",
    "\n",
    "def solution(X, Y):\n",
    "    len_X = len(X)\n",
    "    temp_dict = dict()\n",
    "    for x, y in zip(X, Y):\n",
    "        try:\n",
    "            temp_dict[x/y] += 1\n",
    "        except KeyError:\n",
    "            temp_dict[x/y] = 1\n",
    "            \n",
    "    return max(temp_dict.values())\n",
    "\n",
    "    \n",
    "        \n",
    "        \n",
    "solution([2000000000]*100000, [2000000000]*100000)"
   ]
  },
  {
   "cell_type": "code",
   "execution_count": 179,
   "metadata": {},
   "outputs": [
    {
     "name": "stdout",
     "output_type": "stream",
     "text": [
      "deque(['i', 'g', 'o', 'p', 't', 'v', 'f', 'b', 'q', 'y', 'y'])\n",
      "hellopython\n"
     ]
    },
    {
     "data": {
      "text/plain": [
       "''"
      ]
     },
     "execution_count": 179,
     "metadata": {},
     "output_type": "execute_result"
    }
   ],
   "source": [
    "from collections import deque\n",
    "\n",
    "def solution(encrypted_text, key, rotation):\n",
    "    alphabet = 'abcdefghijklmnopqrstuvwxyz'\n",
    "    rotate_E = deque(list(encrypted_text))\n",
    "    rotate_E.rotate(-rotation)\n",
    "    print(rotate_E)\n",
    "    \n",
    "    char = \"\"\n",
    "    for E, K in zip(rotate_E, key):\n",
    "        temp = ord(E) - (ord(K)-96)%26\n",
    "        if temp >= 97 and temp <= 122:\n",
    "            char += chr(temp)\n",
    "        elif temp < 97 :\n",
    "            char += chr(123-(97-temp))\n",
    "\n",
    "\n",
    "    return char\n",
    "\n",
    "\n",
    "solution(\"qyyigoptvfb\", \"abcdefghijk\", 3)"
   ]
  },
  {
   "cell_type": "code",
   "execution_count": 137,
   "metadata": {},
   "outputs": [
    {
     "name": "stdout",
     "output_type": "stream",
     "text": [
      "102\n"
     ]
    }
   ],
   "source": []
  },
  {
   "cell_type": "code",
   "execution_count": 173,
   "metadata": {},
   "outputs": [
    {
     "name": "stdout",
     "output_type": "stream",
     "text": [
      "95\n"
     ]
    }
   ],
   "source": [
    "print(ord('f') - (ord('g')- 96)%26)"
   ]
  },
  {
   "cell_type": "code",
   "execution_count": 178,
   "metadata": {},
   "outputs": [
    {
     "data": {
      "text/plain": [
       "'z'"
      ]
     },
     "execution_count": 178,
     "metadata": {},
     "output_type": "execute_result"
    }
   ],
   "source": [
    "chr(122)"
   ]
  },
  {
   "cell_type": "code",
   "execution_count": 175,
   "metadata": {},
   "outputs": [
    {
     "name": "stdout",
     "output_type": "stream",
     "text": [
      "121\n"
     ]
    }
   ],
   "source": [
    "print(ord('y'))"
   ]
  },
  {
   "cell_type": "code",
   "execution_count": null,
   "metadata": {},
   "outputs": [],
   "source": []
  }
 ],
 "metadata": {
  "kernelspec": {
   "display_name": "Python 3",
   "language": "python",
   "name": "python3"
  },
  "language_info": {
   "codemirror_mode": {
    "name": "ipython",
    "version": 3
   },
   "file_extension": ".py",
   "mimetype": "text/x-python",
   "name": "python",
   "nbconvert_exporter": "python",
   "pygments_lexer": "ipython3",
   "version": "3.7.4"
  }
 },
 "nbformat": 4,
 "nbformat_minor": 2
}
