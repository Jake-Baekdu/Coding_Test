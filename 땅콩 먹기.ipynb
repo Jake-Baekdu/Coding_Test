{
 "cells": [
  {
   "cell_type": "code",
   "execution_count": 3,
   "metadata": {},
   "outputs": [
    {
     "name": "stdout",
     "output_type": "stream",
     "text": [
      "6 3 7\n",
      "2 4 5 8 11 12\n"
     ]
    }
   ],
   "source": []
  },
  {
   "cell_type": "code",
   "execution_count": 25,
   "metadata": {},
   "outputs": [
    {
     "name": "stdout",
     "output_type": "stream",
     "text": [
      "7\n",
      "6\n",
      "8\n",
      "5\n",
      "[8, 5, 4]\n"
     ]
    },
    {
     "data": {
      "text/plain": [
       "4"
      ]
     },
     "execution_count": 25,
     "metadata": {},
     "output_type": "execute_result"
    }
   ],
   "source": [
    "from collections import deque\n",
    "N, M, E = map(int, input().split())\n",
    "pist = list(map(int, input().split()))\n",
    "\n",
    "visited = [False] * 10000\n",
    "\n",
    "\n",
    "def bfs():\n",
    "    queue = deque()\n",
    "    queue.append(E)\n",
    "    \n",
    "    flag = False\n",
    "    cnt = 0\n",
    "    ate = list()\n",
    "    \n",
    "    while(len(queue) != 0):\n",
    "        \n",
    "        n = queue.pop()\n",
    "        print(n)\n",
    "        visited[n] = True\n",
    "        \n",
    "        if(visited[n-1] == False):\n",
    "            queue.appendleft(n-1)\n",
    "            visited[n-1] = True\n",
    "            if n-1 in pist:\n",
    "                cnt += 1\n",
    "                ate.append(n-1)\n",
    "            \n",
    "        if(cnt == M):\n",
    "            break\n",
    "        \n",
    "        if(visited[n+11] == False):\n",
    "            queue.appendleft(n+1)\n",
    "            visited[n+1] = True\n",
    "            if n+1 in pist:\n",
    "                ate.append(n+1)\n",
    "                cnt += 1\n",
    "        \n",
    "        if(cnt == M):\n",
    "            break\n",
    "    print(ate)\n",
    "    return((ate[0] - ate[-1]))\n",
    "\n",
    "bfs() \n",
    "        \n",
    "\n",
    "    \n",
    "    "
   ]
  },
  {
   "cell_type": "code",
   "execution_count": 10,
   "metadata": {},
   "outputs": [
    {
     "data": {
      "text/plain": [
       "[False]"
      ]
     },
     "execution_count": 10,
     "metadata": {},
     "output_type": "execute_result"
    }
   ],
   "source": [
    "a = [False]\n",
    "a"
   ]
  },
  {
   "cell_type": "code",
   "execution_count": null,
   "metadata": {},
   "outputs": [],
   "source": []
  }
 ],
 "metadata": {
  "kernelspec": {
   "display_name": "Python 3",
   "language": "python",
   "name": "python3"
  },
  "language_info": {
   "codemirror_mode": {
    "name": "ipython",
    "version": 3
   },
   "file_extension": ".py",
   "mimetype": "text/x-python",
   "name": "python",
   "nbconvert_exporter": "python",
   "pygments_lexer": "ipython3",
   "version": "3.7.4"
  }
 },
 "nbformat": 4,
 "nbformat_minor": 2
}
