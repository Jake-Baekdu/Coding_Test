{
 "cells": [
  {
   "cell_type": "code",
   "execution_count": 5,
   "metadata": {},
   "outputs": [
    {
     "name": "stdout",
     "output_type": "stream",
     "text": [
      "Counter({'headgear': 2, 'eyewear': 1})\n"
     ]
    },
    {
     "data": {
      "text/plain": [
       "5"
      ]
     },
     "execution_count": 5,
     "metadata": {},
     "output_type": "execute_result"
    }
   ],
   "source": [
    "from collections import Counter\n",
    "\n",
    "def solution(clothes):\n",
    "    answer = 1\n",
    "    c = Counter([x[1] for x in clothes])\n",
    "    print(c)\n",
    "    for v in c.values():\n",
    "        answer *= (v+1)\n",
    "    answer -= 1\n",
    "    return answer\n",
    "\n",
    "\n",
    "solution([[\"yellow_hat\", \"headgear\"],\n",
    "         [\"blue_sunglasses\", \"eyewear\"],\n",
    "         [\"green_turban\", \"headgear\"]])"
   ]
  },
  {
   "cell_type": "code",
   "execution_count": null,
   "metadata": {},
   "outputs": [],
   "source": []
  },
  {
   "cell_type": "code",
   "execution_count": null,
   "metadata": {},
   "outputs": [],
   "source": []
  },
  {
   "cell_type": "code",
   "execution_count": null,
   "metadata": {},
   "outputs": [],
   "source": []
  },
  {
   "cell_type": "code",
   "execution_count": null,
   "metadata": {},
   "outputs": [],
   "source": []
  },
  {
   "cell_type": "code",
   "execution_count": 23,
   "metadata": {},
   "outputs": [
    {
     "name": "stdout",
     "output_type": "stream",
     "text": [
      "{'headgear': ['yellow_hat', 'green_turban'], 'eyewear': ['blue_sunglasses']}\n",
      "Counter({'headgear': 2, 'eyewear': 1})\n"
     ]
    }
   ],
   "source": [
    "\n",
    "def solution(clothes):\n",
    "    answer = 0\n",
    "    \n",
    "    hash_t = {}\n",
    "    \n",
    "    for i in clothes:\n",
    "        try:\n",
    "            hash_t[i[-1]].append(i[0])\n",
    "        except KeyError:\n",
    "            hash_t[i[-1]] = [i[0]]\n",
    "    \n",
    "    ht_idx = hash_t.keys()\n",
    "    print(hash_t)\n",
    "    print(temp)\n",
    "    len_ht = len(hash_t)\n",
    "    \n",
    "    for i, idx in zip(range(len_ht), ht_idx):\n",
    "        answer += len(hash_t[idx])\n"
   ]
  },
  {
   "cell_type": "code",
   "execution_count": 25,
   "metadata": {},
   "outputs": [],
   "source": [
    "from collections import Counter\n",
    "\n",
    "def solution(clothes):\n",
    "    answer = 1\n",
    "    c = Counter([x[1] for x in clothes])\n",
    "    print(c)\n",
    "    for v in c.values():\n",
    "        answer *= (v+1)\n",
    "    answer -= 1\n",
    "    return answer"
   ]
  },
  {
   "cell_type": "code",
   "execution_count": 26,
   "metadata": {},
   "outputs": [
    {
     "name": "stdout",
     "output_type": "stream",
     "text": [
      "Counter({'headgear': 2, 'eyewear': 1})\n",
      "Counter({'headgear': 2, 'eyewear': 1})\n"
     ]
    },
    {
     "data": {
      "text/plain": [
       "5"
      ]
     },
     "execution_count": 26,
     "metadata": {},
     "output_type": "execute_result"
    }
   ],
   "source": [
    "solution([[\"yellow_hat\", \"headgear\"],\n",
    "         [\"blue_sunglasses\", \"eyewear\"],\n",
    "         [\"green_turban\", \"headgear\"]])"
   ]
  },
  {
   "cell_type": "code",
   "execution_count": null,
   "metadata": {},
   "outputs": [],
   "source": []
  }
 ],
 "metadata": {
  "kernelspec": {
   "display_name": "Python 3",
   "language": "python",
   "name": "python3"
  },
  "language_info": {
   "codemirror_mode": {
    "name": "ipython",
    "version": 3
   },
   "file_extension": ".py",
   "mimetype": "text/x-python",
   "name": "python",
   "nbconvert_exporter": "python",
   "pygments_lexer": "ipython3",
   "version": "3.7.4"
  }
 },
 "nbformat": 4,
 "nbformat_minor": 2
}
