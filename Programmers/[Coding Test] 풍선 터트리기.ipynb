{
 "cells": [
  {
   "cell_type": "code",
   "execution_count": 5,
   "metadata": {},
   "outputs": [
    {
     "name": "stdout",
     "output_type": "stream",
     "text": [
      "3\n",
      "6\n"
     ]
    }
   ],
   "source": [
    "def possible_alone(e, arr):\n",
    "    left_arr = arr[:e]\n",
    "    right_arr = arr[e+1:]\n",
    "    left_cnt = 0\n",
    "    right_cnt = 0\n",
    "\n",
    "    if arr[e] > min(left_arr) and arr[e] > min(right_arr):\n",
    "        return False\n",
    "    else:\n",
    "        return True\n",
    "    \n",
    "def solution(a):\n",
    "    pop_small = 1\n",
    "    answer = 0\n",
    "    \n",
    "    for i in range(1, len(a)-1):\n",
    "        if possible_alone(i, a):\n",
    "            answer += 1\n",
    "    return answer + 2\n",
    "\n",
    "\n",
    "\n",
    "arr = [\n",
    "    [9,-1,-5],\n",
    "    [-16,27,65,-2,58,-92,-71,-68,-61,-33]\n",
    "]\n",
    "for i in arr:\n",
    "    print(solution(i))"
   ]
  },
  {
   "cell_type": "raw",
   "metadata": {},
   "source": []
  }
 ],
 "metadata": {
  "kernelspec": {
   "display_name": "Python 3",
   "language": "python",
   "name": "python3"
  },
  "language_info": {
   "codemirror_mode": {
    "name": "ipython",
    "version": 3
   },
   "file_extension": ".py",
   "mimetype": "text/x-python",
   "name": "python",
   "nbconvert_exporter": "python",
   "pygments_lexer": "ipython3",
   "version": "3.7.4"
  }
 },
 "nbformat": 4,
 "nbformat_minor": 2
}
