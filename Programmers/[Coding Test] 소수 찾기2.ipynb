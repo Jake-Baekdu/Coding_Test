{
 "cells": [
  {
   "cell_type": "code",
   "execution_count": 32,
   "metadata": {},
   "outputs": [
    {
     "name": "stdout",
     "output_type": "stream",
     "text": [
      "[1]\n",
      "[1, 7]\n",
      "[1, 7, 17]\n",
      "[1, 7, 17, 71]\n"
     ]
    },
    {
     "data": {
      "text/plain": [
       "3"
      ]
     },
     "execution_count": 32,
     "metadata": {},
     "output_type": "execute_result"
    }
   ],
   "source": [
    "from itertools import permutations\n",
    "\n",
    "def check_prime(n):\n",
    "    if n < 2:\n",
    "        return False\n",
    "    for k in range(2, n//2+1):\n",
    "        if n % k == 0 or n % 2*k == 0:\n",
    "            return False\n",
    "    return True\n",
    "    \n",
    "\n",
    "def solution(numbers):\n",
    "    \n",
    "    answer = 0\n",
    "    permute = list()\n",
    "    for i in range(1, len(numbers)+1):\n",
    "        temp_per = permutations(numbers, i)\n",
    "        for n in temp_per:\n",
    "            temp_per = \"\".join(n)\n",
    "            permute.append(int(temp_per))\n",
    "            print(permute)\n",
    "    temp = set(permute)\n",
    "    for i in temp:\n",
    "        if check_prime(i) : \n",
    "            answer += 1\n",
    "    return answer\n",
    "\n",
    "solution(\"17\")"
   ]
  },
  {
   "cell_type": "code",
   "execution_count": 21,
   "metadata": {},
   "outputs": [],
   "source": []
  }
 ],
 "metadata": {
  "kernelspec": {
   "display_name": "Python 3",
   "language": "python",
   "name": "python3"
  },
  "language_info": {
   "codemirror_mode": {
    "name": "ipython",
    "version": 3
   },
   "file_extension": ".py",
   "mimetype": "text/x-python",
   "name": "python",
   "nbconvert_exporter": "python",
   "pygments_lexer": "ipython3",
   "version": "3.7.4"
  }
 },
 "nbformat": 4,
 "nbformat_minor": 2
}
