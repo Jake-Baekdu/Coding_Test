{
 "cells": [
  {
   "cell_type": "code",
   "execution_count": 69,
   "metadata": {},
   "outputs": [
    {
     "name": "stdout",
     "output_type": "stream",
     "text": [
      "[100, '-', 200, '*', 300, '-', 500, '+', 20]\n",
      "*-+ * 60000\n",
      "[100, '-', 60000, '-', 500, '+', 20]\n",
      "*-+ - -59900\n",
      "[-59900, '-', 500, '+', 20]\n",
      "*-+ - -60400\n",
      "[-60400, '+', 20]\n",
      "*-+ - -60380\n",
      "[-60380]\n",
      "*+- * 60000\n",
      "[100, '-', 60000, '-', 500, '+', 20]\n",
      "*+- - 520\n",
      "[100, '-', 60000, '-', 520]\n",
      "*+- - -59900\n",
      "[-59900, '-', 520]\n",
      "*+- - -60420\n",
      "[-60420]\n",
      "-*+ - -100\n",
      "[-100, '*', 300, '-', 500, '+', 20]\n",
      "-*+ * -200\n",
      "[-100, '*', -200, '+', 20]\n",
      "-*+ - 20000\n",
      "[20000, '+', 20]\n",
      "-*+ - 20020\n",
      "[20020]\n",
      "-+* - -100\n",
      "[-100, '*', 300, '-', 500, '+', 20]\n",
      "-+* * -200\n",
      "[-100, '*', -200, '+', 20]\n",
      "-+* * -180\n",
      "[-100, '*', -180]\n",
      "-+* - 18000\n",
      "[18000]\n",
      "+*- + 520\n",
      "[100, '-', 200, '*', 300, '-', 520]\n",
      "+*- * 60000\n",
      "[100, '-', 60000, '-', 520]\n",
      "+*- - -59900\n",
      "[-59900, '-', 520]\n",
      "+*- - -60420\n",
      "[-60420]\n",
      "+-* + 520\n",
      "[100, '-', 200, '*', 300, '-', 520]\n",
      "+-* - -100\n",
      "[-100, '*', 300, '-', 520]\n",
      "+-* * -220\n",
      "[-100, '*', -220]\n",
      "+-* - 22000\n",
      "[22000]\n"
     ]
    },
    {
     "data": {
      "text/plain": [
       "60420"
      ]
     },
     "execution_count": 69,
     "metadata": {},
     "output_type": "execute_result"
    }
   ],
   "source": [
    "import itertools\n",
    "import copy\n",
    "\n",
    "def solution(expression):\n",
    "    temp = \"\"\n",
    "    arr = []\n",
    "    for i in expression:\n",
    "        if i.isdigit():\n",
    "            temp += i\n",
    "        else:\n",
    "            arr.append(int(temp))\n",
    "            arr.append(i)\n",
    "            temp = \"\"\n",
    "    arr.append(int(temp))\n",
    "    print(arr)\n",
    "    \n",
    "    method = ['*', '-', '+']\n",
    "    methods = list(map(''.join, itertools.permutations(method)))\n",
    "    \n",
    "    \n",
    "    result_arr = []\n",
    "    temp_val = 0\n",
    "    for mmm in methods:\n",
    "        temp_val = 0\n",
    "        copy_arr = copy.copy(arr)\n",
    "        for i in mmm:\n",
    "            k = 1\n",
    "            while len(copy_arr) != 1:\n",
    "                try : \n",
    "                    k = copy_arr.index(i)\n",
    "                except ValueError:\n",
    "                    break\n",
    "                if i == '+':\n",
    "                    temp_val = copy_arr[k-1] + copy_arr[k+1]\n",
    "                    try:\n",
    "                        del copy_arr[k-1:k+2]\n",
    "                        copy_arr.insert(k-1, temp_val)\n",
    "                    except IndexError:\n",
    "                        print(\"here\", copy_arr)\n",
    "                    \n",
    "                elif i == '*':\n",
    "                    temp_val = copy_arr[k-1] * copy_arr[k+1]\n",
    "                    try:\n",
    "                        del copy_arr[k-1:k+2]\n",
    "                        copy_arr.insert(k-1, temp_val)\n",
    "                    except IndexError:\n",
    "                        print(\"here\", copy_arr)\n",
    "                    \n",
    "                elif i == '-':\n",
    "                    temp_val = copy_arr[k-1] - copy_arr[k+1]\n",
    "                    try:\n",
    "                        del copy_arr[k-1:k+2]\n",
    "                        copy_arr.insert(k-1, temp_val)\n",
    "                    except IndexError:\n",
    "                        print(\"here\", copy_arr)\n",
    "                    \n",
    "                \n",
    "        result_arr.append(abs(temp_val))\n",
    "    return max(result_arr)\n",
    "\n",
    "\n",
    "solution(\"100-200*300-500+20\"\t)"
   ]
  },
  {
   "cell_type": "code",
   "execution_count": 58,
   "metadata": {},
   "outputs": [
    {
     "data": {
      "text/plain": [
       "[50, '*', '*', 2]"
      ]
     },
     "execution_count": 58,
     "metadata": {},
     "output_type": "execute_result"
    }
   ],
   "source": [
    "a = [50, '*', 6, '-', 3, '*', 2]\n",
    "del a[2:5]\n",
    "a"
   ]
  },
  {
   "cell_type": "code",
   "execution_count": null,
   "metadata": {},
   "outputs": [],
   "source": []
  }
 ],
 "metadata": {
  "kernelspec": {
   "display_name": "Python 3",
   "language": "python",
   "name": "python3"
  },
  "language_info": {
   "codemirror_mode": {
    "name": "ipython",
    "version": 3
   },
   "file_extension": ".py",
   "mimetype": "text/x-python",
   "name": "python",
   "nbconvert_exporter": "python",
   "pygments_lexer": "ipython3",
   "version": "3.7.4"
  }
 },
 "nbformat": 4,
 "nbformat_minor": 2
}
