{
 "cells": [
  {
   "cell_type": "code",
   "execution_count": null,
   "metadata": {},
   "outputs": [],
   "source": [
    "def solution(name) :\n",
    "    for i in range(len(name)):\n",
    "        if name[i] <"
   ]
  },
  {
   "cell_type": "code",
   "execution_count": null,
   "metadata": {},
   "outputs": [],
   "source": []
  },
  {
   "cell_type": "code",
   "execution_count": null,
   "metadata": {},
   "outputs": [],
   "source": [
    "#핵심 소스코드의 설명을 주석으로 작성하면 평가에 큰 도움이 됩니다.\n",
    "class Solution:\n",
    "    \n",
    "\n"
   ]
  },
  {
   "cell_type": "code",
   "execution_count": 27,
   "metadata": {},
   "outputs": [
    {
     "name": "stdout",
     "output_type": "stream",
     "text": [
      "49 0\n",
      "98 0\n",
      "49 88\n",
      "49\n"
     ]
    },
    {
     "data": {
      "text/plain": [
       "137"
      ]
     },
     "execution_count": 27,
     "metadata": {},
     "output_type": "execute_result"
    }
   ],
   "source": [
    "def solution(goods):\n",
    "        answer = 0 # 세 자매가 구입하는 최소비용\n",
    "        goods.sort()\n",
    "        temp = 0\n",
    "        for i in goods:\n",
    "            if temp >= 50 :\n",
    "                answer += temp - 10\n",
    "                temp = 0\n",
    "            if i < 50 :\n",
    "                temp += i\n",
    "            else : \n",
    "                answer += i - 10\n",
    "            print(temp, answer)\n",
    "                \n",
    "        if temp != 0 :\n",
    "            if temp >= 50:\n",
    "                return answer + temp - 10\n",
    "            else:\n",
    "                return answer + temp\n",
    "        return answer\n",
    "solution([49,49,49])"
   ]
  },
  {
   "cell_type": "code",
   "execution_count": 12,
   "metadata": {},
   "outputs": [
    {
     "data": {
      "text/plain": [
       "6"
      ]
     },
     "execution_count": 12,
     "metadata": {},
     "output_type": "execute_result"
    }
   ],
   "source": [
    "def solution(page, broken):\n",
    "    if page == 100:\n",
    "        return 0\n",
    "    \n",
    "    check = [True] * 10\n",
    "    ans = 9876543210\n",
    "\n",
    "    # 고장난 버튼에 False 값 대입\n",
    "    for i in broken:\n",
    "        check[i] = False\n",
    "\n",
    "    # key를 현재 남아있는 버튼으로 갈 수 있는지 없는지 리턴하는 함수\n",
    "    def can_make(key):\n",
    "        for k in str(key):\n",
    "            if check[int(k)] == False:\n",
    "                return False\n",
    "        return True\n",
    "\n",
    "    # 문제의 최소값은 0부터 최대값 999,906(1,000,000으로 대체)에 반드시 있으므로 탐색\n",
    "    for i in range(1000001):\n",
    "        # 만일 해당 수에 도달할 수 있으면(평균적 경우)\n",
    "        if can_make(i):\n",
    "            # 최소값 갱신\n",
    "            ans = min(ans, len(str(i)) + abs(i - page))\n",
    "    # 최악의 경우(10개 모두 고장나거나, 도달할 수 없다면)는 항상 100과의 비교가 유일하므로 최소값 갱신\n",
    "    ans = min(ans, abs(100 - page))\n",
    "\n",
    "    return ans\n",
    "\n",
    "\n",
    "solution(5457, [6,7,8])"
   ]
  },
  {
   "cell_type": "code",
   "execution_count": 21,
   "metadata": {},
   "outputs": [
    {
     "data": {
      "text/plain": [
       "4"
      ]
     },
     "execution_count": 21,
     "metadata": {},
     "output_type": "execute_result"
    }
   ],
   "source": [
    "def solution(page, broken):\n",
    " \n",
    "\n",
    "    result = abs(page-100)\n",
    "    # idx = 0\n",
    "    for num in range(1000001):\n",
    "        enable = True\n",
    "        for n in str(num):\n",
    "            if n in broken:\n",
    "                enable = False\n",
    "                break\n",
    "        if enable:\n",
    "            result = min(result, abs(page - num) + len(str(num)))\n",
    "            # idx = i\n",
    "\n",
    "    return result\n",
    "\n",
    "solution(5457, [6,7,8])"
   ]
  },
  {
   "cell_type": "code",
   "execution_count": 20,
   "metadata": {},
   "outputs": [
    {
     "data": {
      "text/plain": [
       "6"
      ]
     },
     "execution_count": 20,
     "metadata": {},
     "output_type": "execute_result"
    }
   ],
   "source": [
    "def solution(page, broken):\n",
    "\n",
    "    if page == 100:\n",
    "        return 0\n",
    "    elif page > 100:\n",
    "        minv = 100\n",
    "        maxv = 100\n",
    "        for i in range(page, 100, -1):\n",
    "            s = str(i)\n",
    "            flag = True\n",
    "            for c in s:\n",
    "                if int(c) in broken:\n",
    "                    flag = False\n",
    "            if flag:\n",
    "                minv = i\n",
    "                break\n",
    "        for i in range(page, 2 * page - minv):\n",
    "            s = str(i)\n",
    "            flag = True\n",
    "            for c in s:\n",
    "                if int(c) in broken:\n",
    "                    flag = False\n",
    "            if flag:\n",
    "                maxv = i\n",
    "                break\n",
    "        if maxv == 100:\n",
    "            val = (minv, abs(page - minv))\n",
    "        else:\n",
    "            val = (maxv, abs(page - maxv))\n",
    "        return min(abs(100 - page), len(str(val[0])) + val[1])\n",
    "    \n",
    "    else:\n",
    "        minv = 100\n",
    "        maxv = 100\n",
    "        for i in range(page, 100):\n",
    "            s = str(i)\n",
    "            flag = True\n",
    "            for c in s:\n",
    "                if int(c) in broken:\n",
    "                    flag = False\n",
    "            if flag:\n",
    "                maxv = i\n",
    "                break\n",
    "        for i in range(page, -1, -1):\n",
    "            s = str(i)\n",
    "            flag = True\n",
    "            for c in s:\n",
    "                if int(c) in broken:\n",
    "                    flag = False\n",
    "            if flag:\n",
    "                minv = i\n",
    "                break\n",
    "        if abs(page - minv) > abs(page - maxv):\n",
    "            val = (maxv, abs(page - maxv))\n",
    "        else:\n",
    "            val = (minv, abs(page - minv))\n",
    "        \n",
    "        \n",
    "        return min(abs(100 - page), len(str(val[0])) + val[1])\n",
    "        \n",
    "solution(5457, [6,7,8])"
   ]
  },
  {
   "cell_type": "code",
   "execution_count": 97,
   "metadata": {},
   "outputs": [
    {
     "name": "stdout",
     "output_type": "stream",
     "text": [
      "[2, 5]\n"
     ]
    },
    {
     "data": {
      "text/plain": [
       "3"
      ]
     },
     "execution_count": 97,
     "metadata": {},
     "output_type": "execute_result"
    }
   ],
   "source": [
    "from collections import Counter\n",
    "\n",
    "def solution( s, n):\n",
    "        cnt = Counter(s)\n",
    "        # 작은 값부터 삭제하기 위해 정렬\n",
    "        sorted_cnt = dict(sorted(cnt.items(), key=lambda i : i[1]))\n",
    "        \n",
    "\n",
    "        # n 값만큼 삭제하는 루프\n",
    "        for k, v in sorted_cnt.items():\n",
    "            if n == 0:\n",
    "                break\n",
    "            if v <= n :\n",
    "                sorted_cnt[k] -= v\n",
    "                n -= v\n",
    "            elif v > n:\n",
    "                sorted_cnt[k] -= n\n",
    "\n",
    "        # value가 0이면 삭제\n",
    "        del_zero_cnt = [v for v in sorted_cnt.values() if v is not 0]\n",
    "        print(del_zero_cnt)\n",
    "        # 남아 있는 값이 1개라면\n",
    "        if len(del_zero_cnt) == 1:\n",
    "            return 0\n",
    "        # 남아 있는 값의 최대값 - 최소값(정렬한 상태니 끝과 끝에서 두번째를 이용)\n",
    "        else:\n",
    "            \n",
    "            result = del_zero_cnt[-1] - del_zero_cnt[-2]\n",
    "            return result\n",
    "        \n",
    "solution(\"aaaaabbc\", 1)"
   ]
  },
  {
   "cell_type": "code",
   "execution_count": null,
   "metadata": {},
   "outputs": [],
   "source": [
    "문제 설명\n",
    "\"온라인 결제시스템을 개발하는 개발자가 여러 종류의 신용카드를 지원하고 싶어한다. 하지만 카드번호가 길어서 입력하다 실수하는 경우가 잦으므로 사용자가 입력한 번호를 확인할 방법이 필요하다.\n",
    "\n",
    "개발자는 다음과 같은 \"룬 알고리즘\"이 모든 카드에 적용됨을 알고 있다.\n",
    "먼저 각 신용카드의 각 숫자를 쪼갠다. 예를 들어서, 21378은\n",
    "2 1 3 7 8\n",
    "\n",
    "만약 짝수 개수의 숫자가 존재한다면 홀수의 위치에 있는 숫자에 2를 곱한다. 반대로 홀수 개수의 숫자가 존재한다면 짝수의 위치에 있는 숫자에 2를 곱한다. 위치를 구할 때는 첫번째 숫자를 1로 지정한다. 위에 예시로 든 번호는 홀수 개수의 숫자가 있으므로 짝수의 위치에 있는 숫자에 2를 곱한다:\n",
    "\n",
    "2 1 3 7 8 은\n",
    "2 2 3 14 8 이 된다.\n",
    "\n",
    "이 때, 짝수의 위치에 있는 숫자는 고유한 숫자이므로 2자리 수가 나타나더라도 변형해서는 안 된다는 것을 유의한다.\n",
    "\n",
    "마지막으로 모든 숫자를 쪼개어 합을 구한다 (2자리 숫자인 경우에는 각 자리의 숫자를 다른 수로 취급하여 합에 더해야 한다):\n",
    "\n",
    "2 + 2 + 3 + 1 + 4 + 8 = 20\n",
    "\n",
    "합이 10의 배수라면 이는 유효한 번호이다. 그렇지 않다면 유효하지 않은 번호이다.\n",
    "\n",
    "신용카드번호 string cardNumber에 대하여 카드번호가 유효하다면 \"VALID\", 그렇지 않다면 \"INVALID\"를 반환하라. (따옴표는 문자열을 나타내기 위함일 뿐이며 결과값에는 포함되지 않는다)\"\n",
    "\n",
    "참고 / 제약 사항\n",
    "cardNumber는 1개 이상, 50개 이하의 문자를 가진다.\n",
    "cardNumber의 각 문자는 숫자이다 ('0'-'9').\n",
    "테스트 케이스\n",
    "string cardNumber = \"21378\"리턴(정답): \"VALID\"\n",
    "홀수 개수의 숫자를 가지고 있으므로, 짝수의 위치에 있는 숫자에 2를 곱하면 다음과 같다. 2 2 3 14 8 각 숫자의 합은 20이므로 이는 10의 배수이기 때문에 유효한 번호가 된다.\n",
    "\n",
    "string cardNumber = \"31378\"리턴(정답): \"INVALID\"\n",
    "룬 알고리즘을 적용하면 합은 21이 되므로 이 번호는 유효하지 않다.\n",
    "\n",
    "string cardNumber = \"11111101\"리턴(정답): \"VALID\"\n",
    "홀수의 위치에 있는 숫자에 2를 곱하면 다음과 같다. 2 1 2 1 2 1 0 1 각 숫자의 합은 10이므로 이는 유효한 번호이다.\n",
    "\n",
    "string cardNumber = \"50005\"리턴(정답): \"VALID\"\n",
    "짝수의 위치에 있는 숫자들이 0이므로 2를 곱하여도 아무런 변화가 없다. 각 숫자들의 합이 10이므로 이는 유효한 카드번호이다.\n",
    "\n",
    "string cardNumber = \"26227174957722514961366\"리턴(정답): \"INVALID\""
   ]
  },
  {
   "cell_type": "code",
   "execution_count": null,
   "metadata": {},
   "outputs": [],
   "source": []
  }
 ],
 "metadata": {
  "kernelspec": {
   "display_name": "Python 3",
   "language": "python",
   "name": "python3"
  }
 },
 "nbformat": 4,
 "nbformat_minor": 2
}
