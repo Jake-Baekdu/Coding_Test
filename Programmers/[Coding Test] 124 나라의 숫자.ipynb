{
 "cells": [
  {
   "cell_type": "code",
   "execution_count": 66,
   "metadata": {},
   "outputs": [
    {
     "data": {
      "text/plain": [
       "'111'"
      ]
     },
     "execution_count": 66,
     "metadata": {},
     "output_type": "execute_result"
    }
   ],
   "source": [
    "\n",
    "def solution(n):\n",
    "    temp = \"\"\n",
    "    while(n != 0):\n",
    "        if n%3 == 0:\n",
    "            temp += \"4\"\n",
    "            n = n//3\n",
    "            n -= 1\n",
    "\n",
    "        elif n%3 == 1:\n",
    "            temp += \"1\"\n",
    "            n = n//3\n",
    "\n",
    "        elif n%3 == 2:\n",
    "            temp += \"2\"\n",
    "            n = n//3\n",
    "\n",
    "    return ''.join(reversed(temp))\n",
    "\n",
    "solution(13)"
   ]
  },
  {
   "cell_type": "code",
   "execution_count": null,
   "metadata": {},
   "outputs": [],
   "source": []
  },
  {
   "cell_type": "code",
   "execution_count": null,
   "metadata": {},
   "outputs": [],
   "source": []
  }
 ],
 "metadata": {
  "kernelspec": {
   "display_name": "Python 3",
   "language": "python",
   "name": "python3"
  },
  "language_info": {
   "codemirror_mode": {
    "name": "ipython",
    "version": 3
   },
   "file_extension": ".py",
   "mimetype": "text/x-python",
   "name": "python",
   "nbconvert_exporter": "python",
   "pygments_lexer": "ipython3",
   "version": "3.7.4"
  }
 },
 "nbformat": 4,
 "nbformat_minor": 2
}
