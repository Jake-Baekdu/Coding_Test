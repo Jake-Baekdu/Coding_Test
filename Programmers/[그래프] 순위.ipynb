{
 "cells": [
  {
   "cell_type": "code",
   "execution_count": 22,
   "metadata": {},
   "outputs": [],
   "source": [
    "\n",
    "\n",
    "def make_graph(arr):\n",
    "    winner_dict = {}\n",
    "    loser_dict = {}\n",
    "    for winner, loser in arr:\n",
    "        print(winner, loser)\n",
    "        try :\n",
    "            winner_dict[winner].append(loser)\n",
    "        except KeyError :\n",
    "            winner_dict[winner] = [loser]\n",
    "            \n",
    "        try:\n",
    "            loser_dict[loser].append(winner)\n",
    "        except KeyError:\n",
    "            loser_dict[loser] = [winner]\n",
    "\n",
    "    \n",
    "    print(winner_dict)\n",
    "    print(loser_dict)\n",
    "    return winner_dict"
   ]
  },
  {
   "cell_type": "code",
   "execution_count": 23,
   "metadata": {},
   "outputs": [
    {
     "name": "stdout",
     "output_type": "stream",
     "text": [
      "4 3\n",
      "4 2\n",
      "3 2\n",
      "1 2\n",
      "2 5\n",
      "{4: [3, 2], 3: [2], 1: [2], 2: [5]}\n",
      "{3: [4], 2: [4, 3, 1], 5: [2]}\n"
     ]
    },
    {
     "data": {
      "text/plain": [
       "{4: [3, 2], 3: [2], 1: [2], 2: [5]}"
      ]
     },
     "execution_count": 23,
     "metadata": {},
     "output_type": "execute_result"
    }
   ],
   "source": [
    "make_graph([[4, 3], [4, 2], [3, 2], [1, 2], [2, 5]])"
   ]
  },
  {
   "cell_type": "code",
   "execution_count": 15,
   "metadata": {},
   "outputs": [
    {
     "ename": "NameError",
     "evalue": "name 'arr' is not defined",
     "output_type": "error",
     "traceback": [
      "\u001b[1;31m---------------------------------------------------------------------------\u001b[0m",
      "\u001b[1;31mNameError\u001b[0m                                 Traceback (most recent call last)",
      "\u001b[1;32m<ipython-input-15-24a6d41c5b66>\u001b[0m in \u001b[0;36m<module>\u001b[1;34m\u001b[0m\n\u001b[1;32m----> 1\u001b[1;33m \u001b[0marr\u001b[0m\u001b[1;33m\u001b[0m\u001b[1;33m\u001b[0m\u001b[0m\n\u001b[0m",
      "\u001b[1;31mNameError\u001b[0m: name 'arr' is not defined"
     ]
    }
   ],
   "source": [
    "def solution(n, results):\n",
    "    winner_dict, loser_dict = make_graph(results)\n",
    "    \n",
    "    for i in \n",
    "        \n",
    "    answer = 0\n",
    "    return answer"
   ]
  },
  {
   "cell_type": "code",
   "execution_count": null,
   "metadata": {},
   "outputs": [],
   "source": []
  }
 ],
 "metadata": {
  "kernelspec": {
   "display_name": "Python 3",
   "language": "python",
   "name": "python3"
  },
  "language_info": {
   "codemirror_mode": {
    "name": "ipython",
    "version": 3
   },
   "file_extension": ".py",
   "mimetype": "text/x-python",
   "name": "python",
   "nbconvert_exporter": "python",
   "pygments_lexer": "ipython3",
   "version": "3.7.4"
  }
 },
 "nbformat": 4,
 "nbformat_minor": 2
}
