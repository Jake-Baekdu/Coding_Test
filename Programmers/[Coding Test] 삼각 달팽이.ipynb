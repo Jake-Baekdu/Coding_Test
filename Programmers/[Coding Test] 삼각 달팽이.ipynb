{
 "cells": [
  {
   "cell_type": "code",
   "execution_count": 20,
   "metadata": {},
   "outputs": [],
   "source": [
    "import sys\n",
    "sys.setrecursionlimit(1000000)\n",
    "\n",
    "class Triangle():\n",
    "    def __init__(self,n):\n",
    "        self.board = [[0 for _ in range(n)] for _ in range(n)]\n",
    "        self.cnt = 1\n",
    "        self.answer = []\n",
    "        self.ldown(0,0,n)\n",
    "        for i in range(n):\n",
    "            for j in range(i+1):\n",
    "                self.answer.append(self.board[i][j])\n",
    "\n",
    "    def ldown(self,x,y,n):\n",
    "        if n < 1:\n",
    "            return 0\n",
    "        for i in range(x,x+n):\n",
    "            self.board[i][y] = self.cnt\n",
    "            self.cnt += 1\n",
    "        self.right(i,y+1,n-1)\n",
    "\n",
    "    def right(self,x,y,n):\n",
    "        if n < 1:\n",
    "            return 0\n",
    "        for j in range(y,y+n):\n",
    "            self.board[x][j] = self.cnt\n",
    "            self.cnt += 1\n",
    "        self.lup(x-1,j-1,n-1)\n",
    "\n",
    "    def lup(self,x,y,n):\n",
    "        if n < 1:\n",
    "            return 0\n",
    "        for i in range(x,x-n,-1):\n",
    "            self.board[i][y] = self.cnt\n",
    "            y -= 1\n",
    "            self.cnt += 1\n",
    "        self.ldown(i+1,y+1,n-1)\n",
    "\n",
    "def solution(n):\n",
    "    triangle = Triangle(n)\n",
    "    return triangle.answer"
   ]
  },
  {
   "cell_type": "code",
   "execution_count": 36,
   "metadata": {},
   "outputs": [
    {
     "data": {
      "text/plain": [
       "2"
      ]
     },
     "execution_count": 36,
     "metadata": {},
     "output_type": "execute_result"
    }
   ],
   "source": [
    "def solution(n):\n",
    "    li = [[0] * n for _ in range(n)]\n",
    "    ret = []\n",
    "    x, y = -1, 0\n",
    "    num = 1\n",
    "    for i in range(n):\n",
    "        for j in range(i, n):\n",
    "            if i % 3 == 0:\n",
    "                x += 1\n",
    "            elif i % 3 == 1:\n",
    "                y += 1\n",
    "            elif i % 3 == 2:\n",
    "                x -= 1\n",
    "                y -= 1\n",
    "            li[x][y] = num\n",
    "            num += 1\n",
    "    for i in li:\n",
    "        for j in i:\n",
    "            if j != 0:\n",
    "                ret.append(j)\n",
    "    return ret"
   ]
  },
  {
   "cell_type": "code",
   "execution_count": null,
   "metadata": {},
   "outputs": [],
   "source": []
  }
 ],
 "metadata": {
  "kernelspec": {
   "display_name": "Python 3",
   "language": "python",
   "name": "python3"
  },
  "language_info": {
   "codemirror_mode": {
    "name": "ipython",
    "version": 3
   },
   "file_extension": ".py",
   "mimetype": "text/x-python",
   "name": "python",
   "nbconvert_exporter": "python",
   "pygments_lexer": "ipython3",
   "version": "3.7.4"
  }
 },
 "nbformat": 4,
 "nbformat_minor": 2
}
