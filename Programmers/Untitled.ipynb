{
 "cells": [
  {
   "cell_type": "code",
   "execution_count": 12,
   "metadata": {},
   "outputs": [
    {
     "data": {
      "text/plain": [
       "234567"
      ]
     },
     "execution_count": 12,
     "metadata": {},
     "output_type": "execute_result"
    }
   ],
   "source": [
    "def solution(s):\n",
    "    num_arr = {\"zero\" : '0', \"one\" : '1', \"two\" : '2', \"three\" : '3', \"four\": '4' , \"five\":'5', \"six\": '6', \"seven\": '7', \"eight\": '8', \"nine\": '9'}\n",
    "    ans = \"\"\n",
    "    temp = \"\"\n",
    "    for i in s:\n",
    "        if i.isdigit():\n",
    "            ans += i\n",
    "        else:\n",
    "            temp += i\n",
    "            if temp in num_arr:\n",
    "                ans += num_arr[temp]\n",
    "                temp = \"\"\n",
    "            \n",
    "    \n",
    "    return int(ans)\n",
    "\n",
    "solution(\"23four5six7\"\t)"
   ]
  },
  {
   "cell_type": "code",
   "execution_count": 17,
   "metadata": {},
   "outputs": [
    {
     "name": "stdout",
     "output_type": "stream",
     "text": [
      "POOOP\n",
      "OXXOX\n",
      "OPXPX\n",
      "OOXOX\n",
      "POXXP\n",
      "POOPX\n",
      "OXPXP\n",
      "PXXXO\n",
      "OXXXO\n",
      "OOOPP\n",
      "PXOPX\n",
      "OXOXP\n",
      "OXPXX\n",
      "OXXXP\n",
      "POOXX\n",
      "OOOXX\n",
      "XOOOX\n",
      "OOOXX\n",
      "OXOOX\n",
      "OOOOO\n",
      "PXPXP\n",
      "XPXPX\n",
      "PXPXP\n",
      "XPXPX\n",
      "PXPXP\n"
     ]
    },
    {
     "data": {
      "text/plain": [
       "[]"
      ]
     },
     "execution_count": 17,
     "metadata": {},
     "output_type": "execute_result"
    }
   ],
   "source": [
    "def solution(places):\n",
    "    answer = []\n",
    "    \n",
    "    for place in places:\n",
    "        \n",
    "        for table in place:\n",
    "            \n",
    "    return answer\n",
    "\n",
    "\n",
    "\n",
    "\n",
    "solution([[\"POOOP\", \"OXXOX\", \"OPXPX\", \"OOXOX\", \"POXXP\"], \n",
    "          [\"POOPX\", \"OXPXP\", \"PXXXO\", \"OXXXO\", \"OOOPP\"], \n",
    "          [\"PXOPX\", \"OXOXP\", \"OXPXX\", \"OXXXP\", \"POOXX\"], \n",
    "          [\"OOOXX\", \"XOOOX\", \"OOOXX\", \"OXOOX\", \"OOOOO\"], \n",
    "          [\"PXPXP\", \"XPXPX\", \"PXPXP\", \"XPXPX\", \"PXPXP\"]])"
   ]
  },
  {
   "cell_type": "code",
   "execution_count": 93,
   "metadata": {},
   "outputs": [
    {
     "name": "stdout",
     "output_type": "stream",
     "text": [
      "[[], [(1, 2)], [(1, 4)], [(1, 2)], []]\n",
      "(0, 1)\n",
      "[[], [(1, 2)], [(1, 4)], [(1, 2)], []]\n",
      "(1, 2)\n"
     ]
    },
    {
     "ename": "NameError",
     "evalue": "name 'b' is not defined",
     "output_type": "error",
     "traceback": [
      "\u001b[1;31m---------------------------------------------------------------------------\u001b[0m",
      "\u001b[1;31mNameError\u001b[0m                                 Traceback (most recent call last)",
      "\u001b[1;32m<ipython-input-93-2ce4395f5181>\u001b[0m in \u001b[0;36m<module>\u001b[1;34m\u001b[0m\n\u001b[0;32m     43\u001b[0m     \u001b[1;32mreturn\u001b[0m \u001b[0mdist\u001b[0m\u001b[1;33m\u001b[0m\u001b[1;33m\u001b[0m\u001b[0m\n\u001b[0;32m     44\u001b[0m \u001b[1;33m\u001b[0m\u001b[0m\n\u001b[1;32m---> 45\u001b[1;33m \u001b[0msolution\u001b[0m\u001b[1;33m(\u001b[0m\u001b[1;36m4\u001b[0m\u001b[1;33m,\u001b[0m\u001b[1;36m1\u001b[0m\u001b[1;33m,\u001b[0m\u001b[1;36m4\u001b[0m\u001b[1;33m,\u001b[0m \u001b[1;33m[\u001b[0m\u001b[1;33m[\u001b[0m\u001b[1;36m1\u001b[0m\u001b[1;33m,\u001b[0m \u001b[1;36m2\u001b[0m\u001b[1;33m,\u001b[0m \u001b[1;36m1\u001b[0m\u001b[1;33m]\u001b[0m\u001b[1;33m,\u001b[0m \u001b[1;33m[\u001b[0m\u001b[1;36m3\u001b[0m\u001b[1;33m,\u001b[0m \u001b[1;36m2\u001b[0m\u001b[1;33m,\u001b[0m \u001b[1;36m1\u001b[0m\u001b[1;33m]\u001b[0m\u001b[1;33m,\u001b[0m \u001b[1;33m[\u001b[0m\u001b[1;36m2\u001b[0m\u001b[1;33m,\u001b[0m \u001b[1;36m4\u001b[0m\u001b[1;33m,\u001b[0m \u001b[1;36m1\u001b[0m\u001b[1;33m]\u001b[0m\u001b[1;33m]\u001b[0m\u001b[1;33m,\u001b[0m \u001b[1;33m[\u001b[0m\u001b[1;36m2\u001b[0m\u001b[1;33m,\u001b[0m\u001b[1;36m3\u001b[0m\u001b[1;33m]\u001b[0m\u001b[1;33m)\u001b[0m\u001b[1;33m\u001b[0m\u001b[1;33m\u001b[0m\u001b[0m\n\u001b[0m",
      "\u001b[1;32m<ipython-input-93-2ce4395f5181>\u001b[0m in \u001b[0;36msolution\u001b[1;34m(n, start, end, roads, traps)\u001b[0m\n\u001b[0;32m     31\u001b[0m             \u001b[1;32mfor\u001b[0m \u001b[0ma\u001b[0m \u001b[1;32min\u001b[0m \u001b[0mrange\u001b[0m\u001b[1;33m(\u001b[0m\u001b[0mlen\u001b[0m\u001b[1;33m(\u001b[0m\u001b[0marr\u001b[0m\u001b[1;33m)\u001b[0m\u001b[1;33m)\u001b[0m\u001b[1;33m:\u001b[0m\u001b[1;33m\u001b[0m\u001b[1;33m\u001b[0m\u001b[0m\n\u001b[0;32m     32\u001b[0m                 \u001b[0mtemp\u001b[0m \u001b[1;33m=\u001b[0m \u001b[0marr\u001b[0m\u001b[1;33m[\u001b[0m\u001b[0ma\u001b[0m\u001b[1;33m]\u001b[0m\u001b[1;33m\u001b[0m\u001b[1;33m\u001b[0m\u001b[0m\n\u001b[1;32m---> 33\u001b[1;33m                 \u001b[1;32mif\u001b[0m \u001b[0mpair\u001b[0m\u001b[1;33m[\u001b[0m\u001b[1;36m1\u001b[0m\u001b[1;33m]\u001b[0m \u001b[1;32min\u001b[0m \u001b[0marr\u001b[0m\u001b[1;33m[\u001b[0m\u001b[0ma\u001b[0m\u001b[1;33m]\u001b[0m\u001b[1;33m[\u001b[0m\u001b[0mb\u001b[0m\u001b[1;33m]\u001b[0m \u001b[1;32mor\u001b[0m \u001b[0ma\u001b[0m \u001b[1;33m==\u001b[0m \u001b[0mpair\u001b[0m\u001b[1;33m[\u001b[0m\u001b[1;36m1\u001b[0m\u001b[1;33m]\u001b[0m\u001b[1;33m:\u001b[0m\u001b[1;33m\u001b[0m\u001b[1;33m\u001b[0m\u001b[0m\n\u001b[0m\u001b[0;32m     34\u001b[0m                     \u001b[0marr\u001b[0m\u001b[1;33m[\u001b[0m\u001b[0marr\u001b[0m\u001b[1;33m[\u001b[0m\u001b[0ma\u001b[0m\u001b[1;33m]\u001b[0m\u001b[1;33m[\u001b[0m\u001b[0mb\u001b[0m\u001b[1;33m]\u001b[0m\u001b[1;33m[\u001b[0m\u001b[1;36m1\u001b[0m\u001b[1;33m]\u001b[0m\u001b[1;33m]\u001b[0m\u001b[1;33m.\u001b[0m\u001b[0mappend\u001b[0m\u001b[1;33m(\u001b[0m\u001b[1;33m(\u001b[0m\u001b[0marr\u001b[0m\u001b[1;33m[\u001b[0m\u001b[0ma\u001b[0m\u001b[1;33m]\u001b[0m\u001b[1;33m[\u001b[0m\u001b[0mb\u001b[0m\u001b[1;33m]\u001b[0m\u001b[1;33m[\u001b[0m\u001b[1;36m0\u001b[0m\u001b[1;33m]\u001b[0m\u001b[1;33m,\u001b[0m \u001b[0ma\u001b[0m\u001b[1;33m)\u001b[0m\u001b[1;33m)\u001b[0m\u001b[1;33m\u001b[0m\u001b[1;33m\u001b[0m\u001b[0m\n\u001b[0;32m     35\u001b[0m         \u001b[0mprint\u001b[0m\u001b[1;33m(\u001b[0m\u001b[0marr\u001b[0m\u001b[1;33m)\u001b[0m\u001b[1;33m\u001b[0m\u001b[1;33m\u001b[0m\u001b[0m\n",
      "\u001b[1;31mNameError\u001b[0m: name 'b' is not defined"
     ]
    }
   ],
   "source": [
    "import heapq\n",
    "\n",
    "def solution(n, start, end, roads, traps):\n",
    "    \n",
    "    hq = []\n",
    "    dist = [3001]*(n+1)\n",
    "    \n",
    "    heapq.heappush(hq, (0, start))\n",
    "    dist[start] = 0\n",
    "    \n",
    "    arr = [[] for _ in range(n+1)]\n",
    "    for s, e, w in roads:\n",
    "        arr[s].append((w, e))\n",
    "\n",
    "    print(arr)\n",
    "\n",
    "    \n",
    "    while start != end:\n",
    "        \n",
    "        pair = heapq.heappop(hq)\n",
    "        if pair == ():\n",
    "            continue\n",
    "        index = pair[1]\n",
    "        start = index\n",
    "        print(pair)\n",
    "        # 갱신되기전의 가중치가 max보다 크기에 패스\n",
    "        if dist[index] < pair[0]:\n",
    "            continue\n",
    "        #만약 트랩이라면 간선 정보 수정\n",
    "        if pair[1] in traps:\n",
    "            for a in range(len(arr)):\n",
    "                temp = arr[a]\n",
    "                if pair[1] in arr[a][b] or a == pair[1]:\n",
    "                    arr[arr[a][b][1]].append((arr[a][b][0], a))\n",
    "        print(arr)\n",
    "        # 최소 가중치일 경우 dist 변경    \n",
    "        for j in range(len(arr[index])):\n",
    "            p = arr[index][j]\n",
    "            if dist[p[1]] > dist[index] + p[0]:\n",
    "                dist[p[1]] = dist[index] + p[0]\n",
    "                heapq.heappush(hq, (dist[p[1]], p[1]))\n",
    "        \n",
    "    return dist\n",
    "\n",
    "solution(4,1,4, [[1, 2, 1], [3, 2, 1], [2, 4, 1]], [2,3])"
   ]
  },
  {
   "cell_type": "code",
   "execution_count": 153,
   "metadata": {},
   "outputs": [
    {
     "name": "stdout",
     "output_type": "stream",
     "text": [
      "[[0, 0, 0, 0, 0], [0, 0, 1, 0, 0], [0, 0, 0, 0, 1], [0, 0, 1, 0, 0], [0, 0, 0, 0, 0]]\n",
      "                            힙큐  [(0, 1)]\n",
      "페어 (0, 1)\n",
      "  스타트 1\n",
      "distdistdist [3001, 0, 3001, 3001, 3001]\n",
      "p (1, 2)\n",
      "[3001, 0, 3001, 3001, 3001]\n",
      "            temp_pair (1, 2)\n",
      "distdistdist [3001, 0, 1, 3001, 3001]\n",
      "distdistdist [3001, 0, 1, 3001, 3001]\n",
      "distdistdist [3001, 0, 1, 3001, 3001]\n",
      "                            힙큐  [(1, 2)]\n",
      "페어 (1, 2)\n",
      "('트랩', (1, 2))\n",
      "아이 제이 1 2\n",
      "아이 제이 2 4\n",
      "아이 제이 3 2\n",
      "변경 [[0, 0, 0, 0, 0], [0, 0, 0, 0, 0], [0, 1, 0, 1, 0], [0, 0, 0, 0, 0], [0, 0, 1, 0, 0]]\n",
      "  스타트 2\n",
      "p (1, 1)\n",
      "[3001, 0, 1, 3001, 3001]\n",
      "distdistdist [3001, 0, 1, 3001, 3001]\n",
      "distdistdist [3001, 0, 1, 3001, 3001]\n",
      "p (1, 3)\n",
      "[3001, 0, 1, 3001, 3001]\n",
      "            temp_pair (2, 3)\n",
      "distdistdist [3001, 0, 1, 2, 3001]\n",
      "p (0, 4)\n",
      "[3001, 0, 1, 2, 3001]\n",
      "            temp_pair (1, 4)\n",
      "distdistdist [3001, 0, 1, 2, 1]\n",
      "                            힙큐  [(1, 4), (2, 3)]\n",
      "페어 (1, 4)\n"
     ]
    },
    {
     "data": {
      "text/plain": [
       "1"
      ]
     },
     "execution_count": 153,
     "metadata": {},
     "output_type": "execute_result"
    }
   ],
   "source": [
    "import heapq\n",
    "\n",
    "def solution(n, start, end, roads, traps):\n",
    "    \n",
    "    hq = []\n",
    "    dist = [3001]*(n+1)\n",
    "    \n",
    "    heapq.heappush(hq, (0, start))\n",
    "    dist[start] = 0\n",
    "    \n",
    "    arr = [[0 for _ in range(n+1)] for _ in range(n+1)]\n",
    "    for s, e, w in roads:\n",
    "        arr[s][e] = w\n",
    "\n",
    "    print(arr)\n",
    "\n",
    "    check_pair = []\n",
    "    while hq:\n",
    "        print(\"                            힙큐 \", hq)\n",
    "        pair = heapq.heappop(hq)\n",
    "        print(\"페어\" , pair)\n",
    "        check_pair.append(pair)\n",
    "        \n",
    "        if pair == ():\n",
    "            continue\n",
    "            \n",
    "        \n",
    "\n",
    "        index = pair[1]\n",
    "        start = index\n",
    "        if start == end:\n",
    "            break\n",
    "        # 갱신되기전의 가중치가 max보다 크기에 패스\n",
    "        if dist[index] < pair[0]:\n",
    "            continue\n",
    "        #만약 트랩이라면 간선 정보 수정\n",
    "        if index in traps:\n",
    "            #index ==2\n",
    "            print((\"트랩\", pair))\n",
    "            check_arr = []\n",
    "            for i in range(n+1):\n",
    "                for j in range(n+1):\n",
    "                    if [i, j] in check_arr:\n",
    "                        continue\n",
    "                    if (i == index and arr[i][j] > 0) or (j == index and arr[i][j] > 0):\n",
    "                        print(\"아이 제이\", i, j)\n",
    "                        check_arr.append([i, j])\n",
    "                        check_arr.append([j, i])\n",
    "                        arr[j][i] = arr[i][j]\n",
    "                        arr[i][j] = 0\n",
    "            print(\"변경\", arr)\n",
    "            \n",
    "        print(\"  스타트\", start)\n",
    "        # 최소 가중치일 경우 dist 변경    \n",
    "        for i in range(1, n+1):\n",
    "            if arr[pair[1]][i] > 0 or arr[i][pair[1]] > 0:\n",
    "                p = (arr[pair[1]][i], i)\n",
    "                print(\"p\", p)\n",
    "                print(dist)\n",
    "                if dist[p[1]] >= dist[index] + p[0]:\n",
    "                    dist[p[1]] = dist[index] + p[0]\n",
    "                    temp_pair = (dist[p[1]], p[1])\n",
    "                    print(\"            temp_pair\", temp_pair)\n",
    "                    if temp_pair in check_pair:\n",
    "                        continue\n",
    "                    else:\n",
    "                        heapq.heappush(hq, temp_pair)\n",
    "            print(\"distdistdist\", dist)\n",
    "    return dist[end]\n",
    "\n",
    "solution(4,1,4, [[1, 2, 1], [3, 2, 1], [2, 4, 1]], [2,3])"
   ]
  },
  {
   "cell_type": "code",
   "execution_count": 174,
   "metadata": {},
   "outputs": [
    {
     "name": "stdout",
     "output_type": "stream",
     "text": [
      "4\n",
      "1\n"
     ]
    },
    {
     "data": {
      "text/plain": [
       "'OOOOXOOO'"
      ]
     },
     "execution_count": 174,
     "metadata": {},
     "output_type": "execute_result"
    }
   ],
   "source": [
    "from collections import deque\n",
    "def solution(n, k, cmd):\n",
    "    arr = [\"O\"]*n\n",
    "    point = k\n",
    "    temp = deque()\n",
    "    for i in cmd:\n",
    "        if len(i) > 1:\n",
    "            flag, num = i.split()\n",
    "            num = int(num)\n",
    "            if flag == \"U\":\n",
    "                while num != 0:\n",
    "                    point -= 1\n",
    "                    if arr[point] == \"X\":\n",
    "                        continue\n",
    "                    else:\n",
    "                        num -= 1\n",
    "            elif flag == \"D\":\n",
    "                while num != 0:\n",
    "                    if arr[point] == \"X\":\n",
    "                        point += 1\n",
    "                    else:\n",
    "                        point += 1\n",
    "                        num -= 1\n",
    "        else:\n",
    "            if i == \"C\":\n",
    "                # 삭제된 행이 가장 마지막인 경우\n",
    "                if point == n-1 :\n",
    "                    arr[point] = \"X\"\n",
    "                    temp.append(point)\n",
    "                    point -= 1\n",
    "                    if arr[point] == \"X\":\n",
    "                        while arr[point] != \"X\":\n",
    "                            point -= 1\n",
    "                for \n",
    "                # 삭제된 행이 마지막이 아닌 경우\n",
    "                else:\n",
    "                    print(point)\n",
    "                    arr[point] = \"X\"\n",
    "                    temp.append(point)\n",
    "                    point += 1 \n",
    "                    if arr[point] == \"X\":\n",
    "                        while arr[point] != \"X\":\n",
    "                            point += 1\n",
    "            else:\n",
    "                arr[temp.pop()] = \"O\"\n",
    "                \n",
    "    \n",
    "    return ''.join(arr)\n",
    "\n",
    "\n",
    "solution(8, 2, [\"D 2\",\"C\",\"U 3\",\"C\",\"D 4\",\"C\",\"U 2\",\"Z\",\"Z\"])"
   ]
  },
  {
   "cell_type": "code",
   "execution_count": null,
   "metadata": {},
   "outputs": [],
   "source": []
  }
 ],
 "metadata": {
  "kernelspec": {
   "display_name": "Python 3",
   "language": "python",
   "name": "python3"
  },
  "language_info": {
   "codemirror_mode": {
    "name": "ipython",
    "version": 3
   },
   "file_extension": ".py",
   "mimetype": "text/x-python",
   "name": "python",
   "nbconvert_exporter": "python",
   "pygments_lexer": "ipython3",
   "version": "3.7.4"
  }
 },
 "nbformat": 4,
 "nbformat_minor": 2
}
