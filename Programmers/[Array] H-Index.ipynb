{
 "cells": [
  {
   "cell_type": "code",
   "execution_count": 38,
   "metadata": {},
   "outputs": [
    {
     "name": "stdout",
     "output_type": "stream",
     "text": [
      "2\n",
      "0 4\n",
      "0 4\n",
      "0 4\n"
     ]
    },
    {
     "data": {
      "text/plain": [
       "4"
      ]
     },
     "execution_count": 38,
     "metadata": {},
     "output_type": "execute_result"
    }
   ],
   "source": [
    "\n",
    "def solution(citations):\n",
    "    temp_list = []\n",
    "    len_c = len(citations)\n",
    "    avg_c = len_c//2\n",
    "    print(avg_c)\n",
    "    # 기준보다 큰 수 >= 기준보다 작은 수\n",
    "    for _ in range(len_c):\n",
    "        cnt_lower = 0\n",
    "        cnt_higher = 0\n",
    "        for k in range(len_c):\n",
    "            if avg_c >= citations[k]:\n",
    "                cnt_lower += 1\n",
    "            if avg_c <= citations[k]:\n",
    "                cnt_higher += 1\n",
    "                \n",
    "        if cnt_lower <= avg_c and cnt_higher >= avg_c:\n",
    "            print(cnt_lower, cnt_higher)\n",
    "            temp_list.append(avg_c)\n",
    "            avg_c += 1\n",
    "        else :\n",
    "            break\n",
    "    if temp_list:\n",
    "        return max(temp_list)\n",
    "    else : \n",
    "        return 0\n",
    "\n",
    "\n",
    "solution([10,11,12,13])"
   ]
  },
  {
   "cell_type": "code",
   "execution_count": 31,
   "metadata": {},
   "outputs": [
    {
     "ename": "TypeError",
     "evalue": "count() takes exactly one argument (0 given)",
     "output_type": "error",
     "traceback": [
      "\u001b[1;31m---------------------------------------------------------------------------\u001b[0m",
      "\u001b[1;31mTypeError\u001b[0m                                 Traceback (most recent call last)",
      "\u001b[1;32m<ipython-input-31-aae4fc43a616>\u001b[0m in \u001b[0;36m<module>\u001b[1;34m\u001b[0m\n\u001b[0;32m      1\u001b[0m \u001b[0ma\u001b[0m \u001b[1;33m=\u001b[0m \u001b[1;33m[\u001b[0m\u001b[1;36m3\u001b[0m\u001b[1;33m,\u001b[0m \u001b[1;36m0\u001b[0m\u001b[1;33m,\u001b[0m \u001b[1;36m0\u001b[0m\u001b[1;33m,\u001b[0m \u001b[1;36m6\u001b[0m\u001b[1;33m,\u001b[0m \u001b[1;36m1\u001b[0m\u001b[1;33m,\u001b[0m \u001b[1;36m5\u001b[0m\u001b[1;33m,\u001b[0m \u001b[1;36m5\u001b[0m\u001b[1;33m,\u001b[0m \u001b[1;36m5\u001b[0m\u001b[1;33m]\u001b[0m\u001b[1;33m\u001b[0m\u001b[1;33m\u001b[0m\u001b[0m\n\u001b[1;32m----> 2\u001b[1;33m \u001b[0ma\u001b[0m\u001b[1;33m.\u001b[0m\u001b[0mcount\u001b[0m\u001b[1;33m(\u001b[0m\u001b[1;33m)\u001b[0m\u001b[1;33m\u001b[0m\u001b[1;33m\u001b[0m\u001b[0m\n\u001b[0m",
      "\u001b[1;31mTypeError\u001b[0m: count() takes exactly one argument (0 given)"
     ]
    }
   ],
   "source": [
    "a = [3, 0, 0, 6, 1, 5, 5, 5]\n",
    "a.count()"
   ]
  },
  {
   "cell_type": "code",
   "execution_count": 25,
   "metadata": {},
   "outputs": [
    {
     "ename": "TypeError",
     "evalue": "can only concatenate str (not \"int\") to str",
     "output_type": "error",
     "traceback": [
      "\u001b[1;31m---------------------------------------------------------------------------\u001b[0m",
      "\u001b[1;31mTypeError\u001b[0m                                 Traceback (most recent call last)",
      "\u001b[1;32m<ipython-input-25-a1c166de9bf1>\u001b[0m in \u001b[0;36m<module>\u001b[1;34m\u001b[0m\n\u001b[0;32m      1\u001b[0m \u001b[1;31m# 전화번호를 찾는 정규표현식 0\\d{1,2}[ -]?\\d{3,4}[ -]?\\d{3,4}를 빈칸에 입력하세요.\u001b[0m\u001b[1;33m\u001b[0m\u001b[1;33m\u001b[0m\u001b[1;33m\u001b[0m\u001b[0m\n\u001b[0;32m      2\u001b[0m \u001b[0mi\u001b[0m \u001b[1;33m=\u001b[0m \u001b[1;36m5\u001b[0m\u001b[1;33m\u001b[0m\u001b[1;33m\u001b[0m\u001b[0m\n\u001b[1;32m----> 3\u001b[1;33m \u001b[0mregex\u001b[0m \u001b[1;33m=\u001b[0m \u001b[1;34mr'[0-'\u001b[0m \u001b[1;33m+\u001b[0m \u001b[0mi\u001b[0m \u001b[1;33m+\u001b[0m\u001b[1;34m']'\u001b[0m\u001b[1;33m\u001b[0m\u001b[1;33m\u001b[0m\u001b[0m\n\u001b[0m\u001b[0;32m      4\u001b[0m \u001b[1;33m\u001b[0m\u001b[0m\n\u001b[0;32m      5\u001b[0m \u001b[1;31m# 주소록입니다. 이후 강의에서 모두 이 search_target을 사용합니다.\u001b[0m\u001b[1;33m\u001b[0m\u001b[1;33m\u001b[0m\u001b[1;33m\u001b[0m\u001b[0m\n",
      "\u001b[1;31mTypeError\u001b[0m: can only concatenate str (not \"int\") to str"
     ]
    }
   ],
   "source": [
    "# 전화번호를 찾는 정규표현식 0\\d{1,2}[ -]?\\d{3,4}[ -]?\\d{3,4}를 빈칸에 입력하세요.\n",
    "i = 5\n",
    "regex = r'[0' + i +']'  \n",
    "\n",
    "# 주소록입니다. 이후 강의에서 모두 이 search_target을 사용합니다.\n",
    "search_target = '''Luke Skywarker 02-123-4567 luke@daum.net\n",
    "다스베이더 070-9999-9999 darth_vader@gmail.com\n",
    "princess leia 010 2454 3457 leia@gmail.com'''\n",
    "\n",
    "# 정규표현식과 일치하는 부분을 모두 찾아주는 파이썬 코드입니다.\n",
    "import re\n",
    "result = re.findall(regex, search_target)\n",
    "print(\"\\n\".join(result))"
   ]
  },
  {
   "cell_type": "code",
   "execution_count": null,
   "metadata": {},
   "outputs": [],
   "source": []
  },
  {
   "cell_type": "code",
   "execution_count": null,
   "metadata": {},
   "outputs": [],
   "source": [
    "class Node(object):\n",
    "    def __init__(self, key, flag = None):\n",
    "        self.key = key\n",
    "        self.flag = flag\n",
    "        self.children = {}\n",
    "        \n",
    "class Trie(object):\n",
    "    def __init__(self):\n",
    "        self.head = Node(None)\n",
    "        \n",
    "    def insert_search(self, citations):\n",
    "        curr_node = self.head\n",
    "        for num in citations:\n",
    "            if char not in curr_node.children:\n",
    "                curr_node.children[char] = Node(None)\n",
    "            curr_node = curr_node.children[char]\n",
    "            if curr_node.flag:\n",
    "                return False\n",
    "        curr_node.flag = True\n",
    "        return True"
   ]
  }
 ],
 "metadata": {
  "kernelspec": {
   "display_name": "Python 3",
   "language": "python",
   "name": "python3"
  },
  "language_info": {
   "codemirror_mode": {
    "name": "ipython",
    "version": 3
   },
   "file_extension": ".py",
   "mimetype": "text/x-python",
   "name": "python",
   "nbconvert_exporter": "python",
   "pygments_lexer": "ipython3",
   "version": "3.7.4"
  }
 },
 "nbformat": 4,
 "nbformat_minor": 2
}
