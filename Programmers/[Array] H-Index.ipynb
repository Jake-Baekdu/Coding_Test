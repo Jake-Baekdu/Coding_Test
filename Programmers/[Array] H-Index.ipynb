{
 "cells": [
  {
   "cell_type": "code",
   "execution_count": 39,
   "metadata": {},
   "outputs": [],
   "source": [
    "def solution(citations):\n",
    "    temp_list = []\n",
    "    len_c = len(citations)\n",
    "    avg_c = len_c//2\n",
    "    print(avg_c)\n",
    "    # 기준보다 큰 수 >= 기준보다 작은 수\n",
    "    for _ in range(len_c):\n",
    "        cnt_lower = 0\n",
    "        cnt_higher = 0\n",
    "        for k in range(len_c):\n",
    "            if avg_c >= citations[k]:\n",
    "                cnt_lower += 1\n",
    "            if avg_c <= citations[k]:\n",
    "                cnt_higher += 1\n",
    "\n",
    "        if cnt_lower <= avg_c and cnt_higher >= avg_c:\n",
    "            print(cnt_lower, cnt_higher)\n",
    "            temp_list.append(avg_c)\n",
    "            avg_c += 1\n",
    "        else :\n",
    "            break\n",
    "    if temp_list:\n",
    "        return max(temp_list)\n",
    "    else : \n",
    "        return 0"
   ]
  },
  {
   "cell_type": "code",
   "execution_count": 40,
   "metadata": {},
   "outputs": [],
   "source": [
    "a = [3, 0, 0, 6, 1, 5, 5, 5]\n"
   ]
  },
  {
   "cell_type": "code",
   "execution_count": null,
   "metadata": {},
   "outputs": [],
   "source": []
  }
 ],
 "metadata": {
  "kernelspec": {
   "display_name": "Python 3",
   "language": "python",
   "name": "python3"
  },
  "language_info": {
   "codemirror_mode": {
    "name": "ipython",
    "version": 3
   },
   "file_extension": ".py",
   "mimetype": "text/x-python",
   "name": "python",
   "nbconvert_exporter": "python",
   "pygments_lexer": "ipython3",
   "version": "3.7.4"
  }
 },
 "nbformat": 4,
 "nbformat_minor": 2
}
