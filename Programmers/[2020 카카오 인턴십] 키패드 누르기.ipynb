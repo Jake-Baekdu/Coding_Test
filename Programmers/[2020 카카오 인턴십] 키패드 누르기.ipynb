{
 "cells": [
  {
   "cell_type": "code",
   "execution_count": 30,
   "metadata": {},
   "outputs": [
    {
     "name": "stdout",
     "output_type": "stream",
     "text": [
      "5 [1, 0] [0, 2]\n",
      "L\n",
      "8 [1, 1] [0, 2]\n",
      "L\n",
      "2 [2, 1] [0, 2]\n",
      "R\n",
      "5 [1, 0] [0, 1]\n",
      "R\n",
      "5 [1, 0] [2, 2]\n",
      "L\n"
     ]
    },
    {
     "data": {
      "text/plain": [
       "'LRLLLRLLRRL'"
      ]
     },
     "execution_count": 30,
     "metadata": {},
     "output_type": "execute_result"
    }
   ],
   "source": [
    "keypad = {0 : [3,1], '*' : [3,0], '#' : [3,2]}\n",
    "for i in range(1, 10):\n",
    "    if i <= 3:\n",
    "        keypad[i] = [0,i-1]\n",
    "    elif 4 <= i <= 6:\n",
    "        keypad[i] = [1, i-4] \n",
    "    elif 7 <= i <= 9:\n",
    "        keypad[i] = [2, i-7]\n",
    "\n",
    "def findCloser(target, left_position, right_position, hand):\n",
    "    left_dist = abs(left_position[0] - keypad[target][0]) + abs(left_position[1] - keypad[target][1])\n",
    "    right_dist = abs(right_position[0] - keypad[target][0]) + abs(right_position[1] - keypad[target][1])\n",
    "    print(target, left_position, right_position)\n",
    "    if left_dist < right_dist:\n",
    "        finger = 'L'\n",
    "    elif left_dist > right_dist:\n",
    "        finger = 'R'\n",
    "    else:\n",
    "        if hand == \"right\":\n",
    "            finger = 'R'\n",
    "        else:\n",
    "            finger = 'L'\n",
    "    return finger\n",
    "            \n",
    "def solution(numbers, hand):\n",
    "    l_thum = keypad['*']\n",
    "    r_thum = keypad['#']\n",
    "    answer = ''\n",
    "\n",
    "    for n in numbers:\n",
    "        if n == 1 or n == 4 or n == 7:\n",
    "            answer += 'L'\n",
    "            l_thum = keypad[n]\n",
    "        elif n == 3 or n == 6 or n == 9:\n",
    "            answer += 'R'\n",
    "            r_thum = keypad[n]\n",
    "        else:\n",
    "            finger = findCloser(n, l_thum, r_thum, hand)\n",
    "            if finger == 'R':\n",
    "                r_thum = keypad[n]\n",
    "            else:\n",
    "                l_thum = keypad[n]\n",
    "            answer += finger\n",
    "            print(finger)\n",
    "            \n",
    "    return answer\n",
    "\n",
    "solution([1, 3, 4, 5, 8, 2, 1, 4, 5, 9, 5]\t, \"right\"\t)\n",
    "    "
   ]
  }
 ],
 "metadata": {
  "kernelspec": {
   "display_name": "Python 3",
   "language": "python",
   "name": "python3"
  },
  "language_info": {
   "codemirror_mode": {
    "name": "ipython",
    "version": 3
   },
   "file_extension": ".py",
   "mimetype": "text/x-python",
   "name": "python",
   "nbconvert_exporter": "python",
   "pygments_lexer": "ipython3",
   "version": "3.7.4"
  }
 },
 "nbformat": 4,
 "nbformat_minor": 2
}
