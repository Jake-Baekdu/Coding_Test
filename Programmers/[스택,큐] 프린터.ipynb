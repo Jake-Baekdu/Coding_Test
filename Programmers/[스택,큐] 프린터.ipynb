{
 "cells": [
  {
   "cell_type": "code",
   "execution_count": 55,
   "metadata": {},
   "outputs": [
    {
     "name": "stdout",
     "output_type": "stream",
     "text": [
      "[0, 0, 0, 0, 0, 0, 0]\n",
      "7 6\n",
      "heights[i-1], heights[k-1] 5 6\n",
      "i-1, k-1 6 5\n",
      "6 5\n",
      "heights[i-1], heights[k-1] 6 7\n",
      "i-1, k-1 5 4\n",
      "5 4\n",
      "5 3\n",
      "5 2\n",
      "5 1\n",
      "4 3\n",
      "4 2\n",
      "4 1\n",
      "3 2\n",
      "heights[i-1], heights[k-1] 3 5\n",
      "i-1, k-1 2 1\n",
      "2 1\n",
      "[0, 0, 2, 0, 0, 5, 6]\n"
     ]
    }
   ],
   "source": [
    "def solution(heights):\n",
    "    \n",
    "    len_heights = len(heights)\n",
    "    \n",
    "    result = [0 for i in range(len_heights)]\n",
    "    print(result)\n",
    "\n",
    "    for i in range(len_heights, -1, -1):\n",
    "        for k in range(i-1, 0, -1):\n",
    "            print(i, k)\n",
    "            if heights[i-1] < heights[k-1]:\n",
    "                print(\"heights[i-1], heights[k-1]\", heights[i-1], heights[k-1])\n",
    "                result[i-1] = heights.index(heights[k-1], k-1)+1\n",
    "                print(\"i-1, k-1\", i-1, k-1)\n",
    "                break\n",
    "    return result\n",
    "\n",
    "print(solution(\t[1, 5, 3, 6, 7, 6, 5]))"
   ]
  },
  {
   "cell_type": "markdown",
   "metadata": {},
   "source": [
    "# 풀이 후기\n",
    "\n",
    "문제를 보면 리스트 뒷쪽 값부터 접근하여 비교하는 걸 거꾸로 생각해서 풀려고 했지만 조금 복잡한 것 같아서 range(,,-1)를 통해 뒷쪽 인덱스부터 접근하였다. 이렇게 코드 인덱스는 0부터 시작하지만 출력 값을 첫번째, 두번째 처럼 0부터 안하니 조금 헷갈렸던 것 같다. \n",
    "\n",
    "풀때 미리 pseudo code로 간단히 정리해두는 것이 도움이 될 듯 하다. 다음부터는 공책하고 펜으로 먼저 정리한 뒤에 풀어봐야겠다.\n",
    "\n",
    "이중포문이라서 속도가 조금 아쉽지만 다른 풀이를 찾아봐도 완벽한 풀이는 없었다 ㅜㅜ\n",
    " "
   ]
  },
  {
   "cell_type": "markdown",
   "metadata": {},
   "source": [
    "# 다른 풀이\n",
    "\n"
   ]
  },
  {
   "cell_type": "code",
   "execution_count": 67,
   "metadata": {},
   "outputs": [],
   "source": [
    "def solution(h):\n",
    "    ans = [0] * len(h)\n",
    "    for i in range(len(h)-1, 0, -1):\n",
    "        for j in range(i-1, -1, -1):\n",
    "            if h[i] < h[j]:\n",
    "                ans[i] = j+1\n",
    "                break\n",
    "    return ans"
   ]
  },
  {
   "cell_type": "markdown",
   "metadata": {},
   "source": [
    "풀이 방법은 비슷한데 제 풀이의 index부분을 간단히 표현했다. 그냥 j값을 가져오면 되는데 왜 나는 복잡하게 가져왔을까..ㅜㅜ"
   ]
  },
  {
   "cell_type": "code",
   "execution_count": null,
   "metadata": {},
   "outputs": [],
   "source": []
  }
 ],
 "metadata": {
  "kernelspec": {
   "display_name": "Python 3",
   "language": "python",
   "name": "python3"
  },
  "language_info": {
   "codemirror_mode": {
    "name": "ipython",
    "version": 3
   },
   "file_extension": ".py",
   "mimetype": "text/x-python",
   "name": "python",
   "nbconvert_exporter": "python",
   "pygments_lexer": "ipython3",
   "version": "3.7.4"
  }
 },
 "nbformat": 4,
 "nbformat_minor": 2
}
