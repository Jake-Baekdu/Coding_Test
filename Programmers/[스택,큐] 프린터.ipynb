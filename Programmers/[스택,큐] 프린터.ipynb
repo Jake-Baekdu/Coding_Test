{
 "cells": [
  {
   "cell_type": "code",
   "execution_count": 148,
   "metadata": {},
   "outputs": [
    {
     "name": "stdout",
     "output_type": "stream",
     "text": [
      "[(0, 11), (1, 21), (2, 31), (3, 41), (4, 51)]\n",
      "[(0, 11), (1, 21), (2, 31), (3, 41)] 1\n",
      "[(0, 11), (1, 21), (2, 31)] 2\n"
     ]
    },
    {
     "data": {
      "text/plain": [
       "2"
      ]
     },
     "execution_count": 148,
     "metadata": {},
     "output_type": "execute_result"
    }
   ],
   "source": [
    "def solution(priorities, location):\n",
    "    queue =  [(i,p) for i,p in enumerate(priorities)]\n",
    "    print(queue)\n",
    "    answer = 0\n",
    "    while True:\n",
    "        cur = queue.pop(0)\n",
    "        if any(cur[1] < q[1] for q in queue):\n",
    "            queue.append(cur)\n",
    "        else:\n",
    "            answer += 1\n",
    "            print(queue, answer)\n",
    "            if cur[0] == location:\n",
    "                return answer\n",
    "solution([11,21,31,41,51], 3)"
   ]
  },
  {
   "cell_type": "code",
   "execution_count": 149,
   "metadata": {},
   "outputs": [],
   "source": [
    "def solution(p, l):\n",
    "    ans = 0\n",
    "    m = max(p)\n",
    "    while True:\n",
    "        v = p.pop(0)\n",
    "        if m == v:\n",
    "            ans += 1\n",
    "            if l == 0:\n",
    "                break\n",
    "            else:\n",
    "                l -= 1\n",
    "            m = max(p)\n",
    "        else:\n",
    "            p.append(v)\n",
    "            if l == 0:\n",
    "                l = len(p)-1\n",
    "            else:\n",
    "                l -= 1\n",
    "    return ans\n"
   ]
  },
  {
   "cell_type": "code",
   "execution_count": 144,
   "metadata": {},
   "outputs": [
    {
     "data": {
      "text/plain": [
       "2"
      ]
     },
     "execution_count": 144,
     "metadata": {},
     "output_type": "execute_result"
    }
   ],
   "source": [
    "\n"
   ]
  },
  {
   "cell_type": "code",
   "execution_count": 133,
   "metadata": {},
   "outputs": [
    {
     "name": "stdout",
     "output_type": "stream",
     "text": [
      "[(3, 9), (4, 5), (2, 3), (5, 2), (1, 1)]\n"
     ]
    }
   ],
   "source": [
    "new_dict = dict(enumerate(a, 1))\n",
    "sort_a = sorted(new_dict.items(), key = lambda item: item[1], reverse=True)\n",
    "a.sort(reverse=True)\n",
    "print(sort_a)"
   ]
  },
  {
   "cell_type": "markdown",
   "metadata": {},
   "source": [
    "# 풀이 후기\n",
    "\n",
    "문제를 보면 리스트 뒷쪽 값부터 접근하여 비교하는 걸 거꾸로 생각해서 풀려고 했지만 조금 복잡한 것 같아서 range(,,-1)를 통해 뒷쪽 인덱스부터 접근하였다. 이렇게 코드 인덱스는 0부터 시작하지만 출력 값을 첫번째, 두번째 처럼 0부터 안하니 조금 헷갈렸던 것 같다. \n",
    "\n",
    "풀때 미리 pseudo code로 간단히 정리해두는 것이 도움이 될 듯 하다. 다음부터는 공책하고 펜으로 먼저 정리한 뒤에 풀어봐야겠다.\n",
    "\n",
    "이중포문이라서 속도가 조금 아쉽지만 다른 풀이를 찾아봐도 완벽한 풀이는 없었다 ㅜㅜ\n",
    " "
   ]
  },
  {
   "cell_type": "markdown",
   "metadata": {},
   "source": [
    "# 다른 풀이\n",
    "\n"
   ]
  },
  {
   "cell_type": "code",
   "execution_count": 67,
   "metadata": {},
   "outputs": [],
   "source": [
    "def solution(h):\n",
    "    ans = [0] * len(h)\n",
    "    for i in range(len(h)-1, 0, -1):\n",
    "        for j in range(i-1, -1, -1):\n",
    "            if h[i] < h[j]:\n",
    "                ans[i] = j+1\n",
    "                break\n",
    "    return ans"
   ]
  },
  {
   "cell_type": "markdown",
   "metadata": {},
   "source": [
    "풀이 방법은 비슷한데 제 풀이의 index부분을 간단히 표현했다. 그냥 j값을 가져오면 되는데 왜 나는 복잡하게 가져왔을까..ㅜㅜ"
   ]
  },
  {
   "cell_type": "code",
   "execution_count": null,
   "metadata": {},
   "outputs": [],
   "source": []
  }
 ],
 "metadata": {
  "kernelspec": {
   "display_name": "Python 3",
   "language": "python",
   "name": "python3"
  },
  "language_info": {
   "codemirror_mode": {
    "name": "ipython",
    "version": 3
   },
   "file_extension": ".py",
   "mimetype": "text/x-python",
   "name": "python",
   "nbconvert_exporter": "python",
   "pygments_lexer": "ipython3",
   "version": "3.7.4"
  }
 },
 "nbformat": 4,
 "nbformat_minor": 2
}
