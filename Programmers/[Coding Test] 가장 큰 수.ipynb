{
 "cells": [
  {
   "cell_type": "code",
   "execution_count": 81,
   "metadata": {},
   "outputs": [
    {
     "name": "stdout",
     "output_type": "stream",
     "text": [
      "그냥 오름차순 :  ['1', '10', '100', '1000', '1001', '1010', '1011', '1100', '1110']\n",
      "['1', '10', '100', '1000', '1001', '1010', '1011', '1100', '1110']\n",
      "['1000', '1001', '100', '1010', '10', '1011', '1100', '1110', '1']\n"
     ]
    }
   ],
   "source": [
    "def solution(numbers):\n",
    "    temp_per = list(map(str, numbers))\n",
    "    sorted(temp_per, key=lambda x: (x[0], x[1%len(x)], x[2%len(x)], x[3%len(x)]))\n",
    "    return \n",
    "\n",
    "solution([1000, 1001, 1010, 1100, 1110, 1011, 1, 100, 10])"
   ]
  },
  {
   "cell_type": "code",
   "execution_count": 13,
   "metadata": {},
   "outputs": [
    {
     "name": "stdout",
     "output_type": "stream",
     "text": [
      "['9', '5', '34', '30', '300']\n"
     ]
    },
    {
     "data": {
      "text/plain": [
       "'953430300'"
      ]
     },
     "execution_count": 13,
     "metadata": {},
     "output_type": "execute_result"
    }
   ],
   "source": [
    "def solution(numbers):\n",
    "    numbers = list(map(str, numbers))\n",
    "    numbers.sort(key=lambda x: x*4, reverse=True)\n",
    "    print(numbers)\n",
    "    return str(int(''.join(numbers)))\n",
    "\n",
    "solution([300, 30, 34, 5, 9]\t)"
   ]
  },
  {
   "cell_type": "code",
   "execution_count": null,
   "metadata": {},
   "outputs": [],
   "source": []
  }
 ],
 "metadata": {
  "kernelspec": {
   "display_name": "Python 3",
   "language": "python",
   "name": "python3"
  },
  "language_info": {
   "codemirror_mode": {
    "name": "ipython",
    "version": 3
   },
   "file_extension": ".py",
   "mimetype": "text/x-python",
   "name": "python",
   "nbconvert_exporter": "python",
   "pygments_lexer": "ipython3",
   "version": "3.7.4"
  }
 },
 "nbformat": 4,
 "nbformat_minor": 2
}
