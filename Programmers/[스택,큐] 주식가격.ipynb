{
 "cells": [
  {
   "cell_type": "code",
   "execution_count": 84,
   "metadata": {},
   "outputs": [
    {
     "name": "stdout",
     "output_type": "stream",
     "text": [
      "0 1\n",
      "0 2\n",
      "0 3\n",
      "0 4\n",
      "1 2\n",
      "1 3\n",
      "1 4\n",
      "3 4\n"
     ]
    },
    {
     "data": {
      "text/plain": [
       "[4, 3, 1, 1, 0]"
      ]
     },
     "execution_count": 84,
     "metadata": {},
     "output_type": "execute_result"
    }
   ],
   "source": [
    "def solution(prices):\n",
    "    len_p = len(prices)\n",
    "    answer = [0]*len_p\n",
    "    \n",
    "    for f in range(len_p):\n",
    "        for s in range(f+1, len_p):\n",
    "            if prices[f] <= prices[s]:\n",
    "                print(f,s)\n",
    "                answer[f] +=1\n",
    "            else :\n",
    "                answer[f] = s-f\n",
    "                break\n",
    "    return answer\n",
    "\n",
    "\n",
    "solution([1,2,3,2,3])"
   ]
  }
 ],
 "metadata": {
  "kernelspec": {
   "display_name": "Python 3",
   "language": "python",
   "name": "python3"
  },
  "language_info": {
   "codemirror_mode": {
    "name": "ipython",
    "version": 3
   },
   "file_extension": ".py",
   "mimetype": "text/x-python",
   "name": "python",
   "nbconvert_exporter": "python",
   "pygments_lexer": "ipython3",
   "version": "3.7.4"
  }
 },
 "nbformat": 4,
 "nbformat_minor": 2
}
