{
 "cells": [
  {
   "cell_type": "code",
   "execution_count": 1,
   "metadata": {},
   "outputs": [
    {
     "name": "stdout",
     "output_type": "stream",
     "text": [
      "0 1\n",
      "0 2\n",
      "0 3\n",
      "0 4\n",
      "1 2\n",
      "1 3\n",
      "1 4\n",
      "3 4\n"
     ]
    },
    {
     "data": {
      "text/plain": [
       "[4, 3, 1, 1, 0]"
      ]
     },
     "execution_count": 1,
     "metadata": {},
     "output_type": "execute_result"
    }
   ],
   "source": [
    "def solution(prices):\n",
    "    len_p = len(prices)\n",
    "    answer = [0]*len_p\n",
    "    \n",
    "    for f in range(len_p):\n",
    "        for s in range(f+1, len_p):\n",
    "            if prices[f] <= prices[s]:\n",
    "                print(f,s)\n",
    "                answer[f] +=1\n",
    "            else :\n",
    "                answer[f] = s-f\n",
    "                break\n",
    "    return answer\n",
    "\n",
    "\n",
    "solution([1,2,3,2,3])"
   ]
  },
  {
   "cell_type": "code",
   "execution_count": null,
   "metadata": {},
   "outputs": [],
   "source": []
  },
  {
   "cell_type": "code",
   "execution_count": null,
   "metadata": {},
   "outputs": [],
   "source": []
  },
  {
   "cell_type": "code",
   "execution_count": null,
   "metadata": {},
   "outputs": [],
   "source": []
  },
  {
   "cell_type": "code",
   "execution_count": null,
   "metadata": {},
   "outputs": [],
   "source": []
  },
  {
   "cell_type": "code",
   "execution_count": null,
   "metadata": {},
   "outputs": [],
   "source": []
  },
  {
   "cell_type": "code",
   "execution_count": 25,
   "metadata": {},
   "outputs": [
    {
     "name": "stdout",
     "output_type": "stream",
     "text": [
      "[0, 0, 0, 0, 0, 0, 0, 0, 0, 0, 0]\n"
     ]
    },
    {
     "data": {
      "text/plain": [
       "[10, 9, 7, 5, 3, 2, 1, 1, 1, 1, 0]"
      ]
     },
     "execution_count": 25,
     "metadata": {},
     "output_type": "execute_result"
    }
   ],
   "source": [
    "from collections import deque\n",
    "\n",
    "def solution(prices):\n",
    "    result = [0 for x in range(len(prices))]\n",
    "    dq_p = deque(prices)\n",
    "    print(result)\n",
    "    len_p = len(prices)\n",
    "    for i in range(len_p):\n",
    "        temp = dq_p.popleft()\n",
    "        for k in prices[i+1:]:\n",
    "            if temp <= k:\n",
    "                result[i] += 1\n",
    "            else :\n",
    "                result[i] += 1\n",
    "                break\n",
    "        \n",
    "    return result\n",
    "solution([1,2,3,4,5,5,5,4,3,2,1])"
   ]
  },
  {
   "cell_type": "code",
   "execution_count": 27,
   "metadata": {},
   "outputs": [
    {
     "data": {
      "text/plain": [
       "[10, 9, 7, 5, 3, 2, 1, 1, 1, 1, 0]"
      ]
     },
     "execution_count": 27,
     "metadata": {},
     "output_type": "execute_result"
    }
   ],
   "source": [
    "# 덱을 사용하지 않고 pop(0) 사용\n",
    "def solution(prices):\n",
    "    result = [0 for x in range(len(prices))]\n",
    "    len_p = len(prices)\n",
    "    for i in range(len_p):\n",
    "        temp = prices.pop(0)\n",
    "        cnt = 0\n",
    "        for k in prices:\n",
    "            if temp <= k:\n",
    "                cnt += 1\n",
    "            else :\n",
    "                cnt += 1\n",
    "                break\n",
    "        result[i] = cnt\n",
    "    return result\n",
    "solution([1,2,3,4,5,5,5,4,3,2,1])"
   ]
  },
  {
   "cell_type": "code",
   "execution_count": null,
   "metadata": {},
   "outputs": [],
   "source": [
    "# 덱을 사용하지 않고 pop(0) 사용\n",
    "def solution(prices):\n",
    "    result = [0 for x in range(len(prices))]\n",
    "    len_p = len(prices)\n",
    "    for i in range(len_p):\n",
    "        temp = prices.pop(0)\n",
    "        cnt = 0\n",
    "        for k in prices:\n",
    "            if temp <= k:\n",
    "                cnt += 1\n",
    "            else :\n",
    "                cnt += 1\n",
    "                break\n",
    "        result[i] = cnt\n",
    "    return result\n",
    "solution([1,2,3,4,5,5,5,4,3,2,1])"
   ]
  },
  {
   "cell_type": "code",
   "execution_count": 34,
   "metadata": {},
   "outputs": [
    {
     "name": "stdout",
     "output_type": "stream",
     "text": [
      "1\n",
      "2\n",
      "3\n",
      "4\n",
      "5\n",
      "5\n",
      "5\n",
      "4\n",
      "3\n",
      "2\n",
      "1\n"
     ]
    },
    {
     "data": {
      "text/plain": [
       "[10, 9, 8, 6, 4, 3, 2, 2, 2, 1, 0]"
      ]
     },
     "execution_count": 34,
     "metadata": {},
     "output_type": "execute_result"
    }
   ],
   "source": [
    "from collections import deque\n",
    "\n",
    "def solution(prices):\n",
    "    len_p = len(prices)\n",
    "    result = [0 for x in range(len(prices))]\n",
    "    dq = deque(prices)\n",
    "    for i in range(len_p):\n",
    "        temp = dq.popleft()\n",
    "        for k in prices[i+1:]:\n",
    "            if temp <= prices[k]:\n",
    "                result[i] += 1\n",
    "            else :\n",
    "                result[i] += 1\n",
    "                break\n",
    "        \n",
    "    return result\n",
    "solution([1,2,3,4,5,5,5,4,3,2,1])"
   ]
  },
  {
   "cell_type": "code",
   "execution_count": null,
   "metadata": {},
   "outputs": [],
   "source": [
    "import java.util.*;\n",
    "class Solution {\n",
    "\tpublic  int[] solution(int[] prices) {\n",
    "\t\tint[] answer = new int[prices.length];\n",
    "\t\tPriorityQueue<Pair> pq = new PriorityQueue<>();\n",
    "\t\tfor (int i = 0; i < prices.length; i++) {\n",
    "\t\t\tanswer[i] = prices.length - 1 - i;\n",
    "\t\t\tpq.offer(new Pair(prices[i], i));\n",
    "\t\t}\n",
    "\t\twhile (!pq.isEmpty()) {\n",
    "\t\t\tPair pair = pq.poll(); // price = 2 idx= 3\n",
    "\t\t\tfor (int i = 0; i < pair.idx; i++) {\n",
    "\t\t\t\tif (prices[i] > pair.price)\n",
    "\t\t\t\t\tanswer[i] = Math.min(answer[i], pair.idx - i);\n",
    "\t\t\t}\n",
    "\t\t}\n",
    "\t\treturn answer;\n",
    "\t}\n",
    "    class Pair implements Comparable<Pair>{\n",
    "        int price;\n",
    "        int idx;\n",
    "        Pair(int price,int idx){\n",
    "            this.price=price;\n",
    "            this.idx=idx;\n",
    "        }\n",
    "        public int compareTo(Pair o) {\n",
    "            if(price==o.price)\n",
    "                return idx-o.idx;\n",
    "\t\t\treturn price-o.price;\n",
    "\t\t}\n",
    "    }\n",
    "}"
   ]
  },
  {
   "cell_type": "code",
   "execution_count": null,
   "metadata": {},
   "outputs": [],
   "source": []
  },
  {
   "cell_type": "code",
   "execution_count": null,
   "metadata": {},
   "outputs": [],
   "source": []
  },
  {
   "cell_type": "code",
   "execution_count": null,
   "metadata": {},
   "outputs": [],
   "source": []
  },
  {
   "cell_type": "code",
   "execution_count": null,
   "metadata": {},
   "outputs": [],
   "source": []
  },
  {
   "cell_type": "code",
   "execution_count": null,
   "metadata": {},
   "outputs": [],
   "source": []
  },
  {
   "cell_type": "code",
   "execution_count": null,
   "metadata": {},
   "outputs": [],
   "source": []
  }
 ],
 "metadata": {
  "kernelspec": {
   "display_name": "Python 3",
   "language": "python",
   "name": "python3"
  },
  "language_info": {
   "codemirror_mode": {
    "name": "ipython",
    "version": 3
   },
   "file_extension": ".py",
   "mimetype": "text/x-python",
   "name": "python",
   "nbconvert_exporter": "python",
   "pygments_lexer": "ipython3",
   "version": "3.7.4"
  }
 },
 "nbformat": 4,
 "nbformat_minor": 2
}
