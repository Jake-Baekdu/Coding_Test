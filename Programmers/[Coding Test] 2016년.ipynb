{
 "cells": [
  {
   "attachments": {
    "image.png": {
     "image/png": "[encoded data removed]"
    }
   },
   "cell_type": "markdown",
   "metadata": {},
   "source": [
    "# 문제 설명\n",
    "2016년 1월 1일은 금요일입니다. 2016년 a월 b일은 무슨 요일일까요? 두 수 a ,b를 입력받아 2016년 a월 b일이 무슨 요일인지 리턴하는 함수, solution을 완성하세요. 요일의 이름은 일요일부터 토요일까지 각각 SUN,MON,TUE,WED,THU,FRI,SAT\n",
    "\n",
    "입니다. 예를 들어 a=5, b=24라면 5월 24일은 화요일이므로 문자열 TUE를 반환하세요.\n",
    "\n",
    "제한 조건\n",
    "2016년은 윤년입니다.\n",
    "2016년 a월 b일은 실제로 있는 날입니다. (13월 26일이나 2월 45일같은 날짜는 주어지지 않습니다)\n",
    "\n",
    "![image.png](attachment:image.png)\n"
   ]
  },
  {
   "cell_type": "code",
   "execution_count": 57,
   "metadata": {},
   "outputs": [],
   "source": [
    "def solution(a, b): #a는 월 b는 일이다.\n",
    "    m_lastDay = [0,31,29,31,30,31,30,31,31,30,31,30,31] # 달마다의 마지막 일\n",
    "    dayOfWeek = ['FRI','SAT','SUN','MON','TUE','WED','THU']\n",
    "    sumDay = 0\n",
    "    for i in m_lastDay[:a+1]:\n",
    "        sumDay += i\n",
    "    print(sumDay)\n",
    "    sumDay = sumDay - (m_lastDay[a] - b)\n",
    "    print(sumDay)\n",
    "    \n",
    "    numOfday = sumDay%7\n",
    "    print(numOfday)\n",
    "    answer = dayOfWeek[numOfday-1]\n",
    "    return answer"
   ]
  },
  {
   "cell_type": "markdown",
   "metadata": {},
   "source": [
    "# 다른 풀이"
   ]
  },
  {
   "cell_type": "code",
   "execution_count": 58,
   "metadata": {},
   "outputs": [
    {
     "name": "stdout",
     "output_type": "stream",
     "text": [
      "TUE\n"
     ]
    }
   ],
   "source": [
    "def getDayName(a,b):\n",
    "    answer = \"\"\n",
    "    if a>=2:\n",
    "        b+=31\n",
    "        if a>=3:\n",
    "            b+=29#2월\n",
    "            if a>=4:\n",
    "                b+=31#3월\n",
    "                if a>=5:\n",
    "                    b+=30#4월\n",
    "                    if a>=6:\n",
    "                        b+=31#5월\n",
    "                        if a>=7:\n",
    "                            b+=30#6월\n",
    "                            if a>=8:\n",
    "                                b+=31#7월\n",
    "                                if a>=9:\n",
    "                                    b+=31#8월\n",
    "                                    if a>=10:\n",
    "                                        b+=30#9월\n",
    "                                        if a>=11:\n",
    "                                            b+=31#10월\n",
    "                                            if a==12:\n",
    "                                                b+=30#11월\n",
    "    b=b%7\n",
    "\n",
    "    if b==1:answer=\"FRI\"\n",
    "    elif b==2:answer=\"SAT\" \n",
    "    elif b==3:answer=\"SUN\"\n",
    "    elif b==4:answer=\"MON\"\n",
    "    elif b==5:answer=\"TUE\"\n",
    "    elif b==6:answer=\"WED\"\n",
    "    else:answer=\"THU\"\n",
    "    return answer\n",
    "\n",
    "\n",
    "print(getDayName(5,24))"
   ]
  },
  {
   "cell_type": "markdown",
   "metadata": {},
   "source": [
    "## 코딩을 예술로 승화시켰다는 댓글이 인상적이였다. 정말 생각이 안날때는 빨리 노가다 하는 것도 코테에서 방법일지도...\n"
   ]
  },
  {
   "cell_type": "code",
   "execution_count": 59,
   "metadata": {},
   "outputs": [
    {
     "name": "stdout",
     "output_type": "stream",
     "text": [
      "TUE\n"
     ]
    }
   ],
   "source": [
    "import datetime\n",
    "\n",
    "def getDayName(a,b):\n",
    "    t = 'MON TUE WED THU FRI SAT SUN'.split()\n",
    "    return t[datetime.datetime(2016, a, b).weekday()]\n",
    "\n",
    "\n",
    "#아래 코드는 테스트를 위한 출력 코드입니다.\n",
    "print(getDayName(5,24))"
   ]
  },
  {
   "cell_type": "markdown",
   "metadata": {},
   "source": [
    "## 아직 람다 함수를 사용하는게 익숙치 않아 생각지도 못했는데 참고하며 공부해야겠다."
   ]
  },
  {
   "cell_type": "code",
   "execution_count": null,
   "metadata": {},
   "outputs": [],
   "source": []
  }
 ],
 "metadata": {
  "kernelspec": {
   "display_name": "Python 3",
   "language": "python",
   "name": "python3"
  },
  "language_info": {
   "codemirror_mode": {
    "name": "ipython",
    "version": 3
   },
   "file_extension": ".py",
   "mimetype": "text/x-python",
   "name": "python",
   "nbconvert_exporter": "python",
   "pygments_lexer": "ipython3",
   "version": "3.7.4"
  }
 },
 "nbformat": 4,
 "nbformat_minor": 2
}
