{
 "cells": [
  {
   "cell_type": "code",
   "execution_count": 124,
   "metadata": {
    "scrolled": false
   },
   "outputs": [
    {
     "data": {
      "text/plain": [
       "True"
      ]
     },
     "execution_count": 124,
     "metadata": {},
     "output_type": "execute_result"
    }
   ],
   "source": [
    "import copy\n",
    "\n",
    "def rotation(arr):\n",
    "    return list(zip(*arr[::-1]))\n",
    "\n",
    "#자물쇠랑 키랑 맞는지 확인\n",
    "def check(startX, startY, key, lock, expendSize, start, end):\n",
    "    expendList = [[0] *expendSize for _ in range(expendSize)]\n",
    "    \n",
    "    #expendList에 key 추가\n",
    "    for i in range(len(key)):\n",
    "        for j in range(len(key)):\n",
    "            expendList[startX + i][startY + j] += key[i][j]\n",
    "    # expendLIst에 lock 추가하면서 기존 값이랑 더하기\n",
    "    for i in range(start, end):\n",
    "        for j in range(start, end):\n",
    "            expendList[i][j] += lock[i - start][j - start]\n",
    "            if expendList[i][j] != 1:\n",
    "                return False\n",
    "    return True\n",
    "\n",
    "def solution(key, lock):\n",
    "    start = len(key) - 1 # expendList의 lick 시작 지점\n",
    "    end = start + len(lock) # expendList에서 lock이 끝나는 지점\n",
    "    expendSize = len(lock) + start * 2 # expendList 배열의 크기\n",
    "    \n",
    "    # lock은 고정이고 key가 움직임.\n",
    "    for a in range(4):\n",
    "        for i in range(end):\n",
    "            for j in range(end):\n",
    "                if check(i, j, key, lock, expendSize, start, end):\n",
    "                    return True\n",
    "        key = rotation(key)\n",
    "        \n",
    "    return False\n",
    "solution([[0, 0, 0], [1, 0, 0], [0, 1, 1]],\n",
    "                    [[1, 1, 1], [1, 1, 0], [1, 0, 1]])"
   ]
  },
  {
   "cell_type": "code",
   "execution_count": 110,
   "metadata": {},
   "outputs": [],
   "source": [
    "def test_solution():\n",
    "    assert solution([[0, 0, 0], [1, 0, 0], [0, 1, 1]],\n",
    "                    [[1, 1, 1], [1, 1, 0], [1, 0, 1]]) is True"
   ]
  },
  {
   "cell_type": "code",
   "execution_count": 111,
   "metadata": {},
   "outputs": [],
   "source": [
    "test_solution()"
   ]
  },
  {
   "cell_type": "code",
   "execution_count": null,
   "metadata": {},
   "outputs": [],
   "source": []
  },
  {
   "cell_type": "code",
   "execution_count": null,
   "metadata": {},
   "outputs": [],
   "source": []
  }
 ],
 "metadata": {
  "kernelspec": {
   "display_name": "Python 3",
   "language": "python",
   "name": "python3"
  },
  "language_info": {
   "codemirror_mode": {
    "name": "ipython",
    "version": 3
   },
   "file_extension": ".py",
   "mimetype": "text/x-python",
   "name": "python",
   "nbconvert_exporter": "python",
   "pygments_lexer": "ipython3",
   "version": "3.7.4"
  }
 },
 "nbformat": 4,
 "nbformat_minor": 2
}
