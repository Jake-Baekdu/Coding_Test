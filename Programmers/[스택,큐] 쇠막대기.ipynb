{
 "cells": [
  {
   "cell_type": "code",
   "execution_count": 42,
   "metadata": {},
   "outputs": [],
   "source": [
    "def solution(arrangement):\n",
    "    arrangement = arrangement.replace(\"()\",\"0\")\n",
    "    x = 0\n",
    "    cnt = 0\n",
    "    for E in arrangement :\n",
    "        if E == \"(\" :\n",
    "            x += 1\n",
    "            cnt += 1\n",
    "        elif E == \"0\" :\n",
    "            cnt += x\n",
    "        else :\n",
    "            x -= 1\n",
    "            \n",
    "    return cnt"
   ]
  },
  {
   "cell_type": "code",
   "execution_count": 40,
   "metadata": {},
   "outputs": [
    {
     "name": "stdout",
     "output_type": "stream",
     "text": [
      "0 안 잘린 막대기= 0  잘린 막대기=  0\n",
      "( 안 잘린 막대기= 1  잘린 막대기=  1\n",
      "( 안 잘린 막대기= 2  잘린 막대기=  2\n",
      "( 안 잘린 막대기= 3  잘린 막대기=  3\n",
      "0 안 잘린 막대기= 3  잘린 막대기=  6\n",
      "0 안 잘린 막대기= 3  잘린 막대기=  9\n",
      ") 안 잘린 막대기= 2  잘린 막대기=  9\n",
      "( 안 잘린 막대기= 3  잘린 막대기=  10\n",
      "0 안 잘린 막대기= 3  잘린 막대기=  13\n",
      ") 안 잘린 막대기= 2  잘린 막대기=  13\n",
      "0 안 잘린 막대기= 2  잘린 막대기=  15\n",
      ") 안 잘린 막대기= 1  잘린 막대기=  15\n",
      ") 안 잘린 막대기= 0  잘린 막대기=  15\n",
      "( 안 잘린 막대기= 1  잘린 막대기=  16\n",
      "0 안 잘린 막대기= 1  잘린 막대기=  17\n",
      ") 안 잘린 막대기= 0  잘린 막대기=  17\n"
     ]
    },
    {
     "data": {
      "text/plain": [
       "17"
      ]
     },
     "execution_count": 40,
     "metadata": {},
     "output_type": "execute_result"
    }
   ],
   "source": [
    "def solution(arrangment) :\n",
    "    arrangement = arrangment.replace(\"()\",\"0\")\n",
    "    x = 0;cnt = 0;\n",
    "    for e in arrangement :\n",
    "        if e == \"(\" : x+=1; cnt+=1\n",
    "        elif e == \"0\" : cnt+=x\n",
    "        else : x-=1\n",
    "        print(e,  \"안 잘린 막대기=\", x,\" 잘린 막대기= \", cnt)\n",
    "    return cnt\n",
    "\n",
    "solution(\"()(((()())(())()))(())\")"
   ]
  },
  {
   "cell_type": "code",
   "execution_count": null,
   "metadata": {},
   "outputs": [],
   "source": []
  }
 ],
 "metadata": {
  "kernelspec": {
   "display_name": "Python 3",
   "language": "python",
   "name": "python3"
  },
  "language_info": {
   "codemirror_mode": {
    "name": "ipython",
    "version": 3
   },
   "file_extension": ".py",
   "mimetype": "text/x-python",
   "name": "python",
   "nbconvert_exporter": "python",
   "pygments_lexer": "ipython3",
   "version": "3.7.4"
  }
 },
 "nbformat": 4,
 "nbformat_minor": 2
}
