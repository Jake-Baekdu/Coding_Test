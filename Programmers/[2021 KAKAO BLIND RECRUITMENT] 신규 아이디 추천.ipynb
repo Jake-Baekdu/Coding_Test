{
 "cells": [
  {
   "cell_type": "code",
   "execution_count": 82,
   "metadata": {},
   "outputs": [
    {
     "name": "stdout",
     "output_type": "stream",
     "text": [
      "2단계 z-..\n",
      "3단계 z-.\n",
      "여기?\n",
      "4단계 z-\n",
      "5단계 z-\n",
      "6단계 z-\n",
      "7단계 z--\n"
     ]
    },
    {
     "data": {
      "text/plain": [
       "'z--'"
      ]
     },
     "execution_count": 82,
     "metadata": {},
     "output_type": "execute_result"
    }
   ],
   "source": [
    "import re\n",
    "\n",
    "def solution(new_id):\n",
    "    #1단계\n",
    "    new_id = new_id.lower()\n",
    "    \n",
    "    #2단계\n",
    "    new_id = re.sub(r\"[^a-z0-9_.-]\",\"\",new_id)\n",
    "    cnt = 0\n",
    "    \n",
    "    print(\"2단계\", new_id)    \n",
    "    # 3단계\n",
    "    while '..' in new_id:\n",
    "        new_id = new_id.replace('..', '.')\n",
    "    \n",
    "    print(\"3단계\", new_id)\n",
    "    # 4단계\n",
    "    if len(new_id) > 0:\n",
    "        if new_id[0] == '.':\n",
    "            if len(new_id) == 1:\n",
    "                new_id = \"\"\n",
    "            else:\n",
    "                new_id = new_id[1:]\n",
    "    if len(new_id) > 0:\n",
    "        if new_id[-1] == '.':\n",
    "                if len(new_id) == 1:\n",
    "                    new_id = \"\"\n",
    "                else:\n",
    "                    new_id = new_id[:-1]\n",
    "                    print(\"여기?\")\n",
    "\n",
    "    print(\"4단계\", new_id)\n",
    "    \n",
    "    #5단계\n",
    "    if not new_id:\n",
    "        new_id += 'a'\n",
    "    print(\"5단계\", new_id)\n",
    "    \n",
    "    #6단계\n",
    "    if len(new_id) >= 16:\n",
    "        new_id = new_id[:15]\n",
    "        if new_id[-1] == '.':\n",
    "            new_id = new_id[:-1]\n",
    "    print(\"6단계\", new_id)\n",
    "    \n",
    "    #7단계\n",
    "    if len(new_id) <= 2:\n",
    "        temp = new_id[-1]\n",
    "        \n",
    "        while len(new_id) < 3:\n",
    "            new_id += temp\n",
    "    print(\"7단계\", new_id)\n",
    "\n",
    "    return new_id\n",
    "\n",
    "\n",
    "solution(\"z-+.^.\"\t)"
   ]
  },
  {
   "cell_type": "code",
   "execution_count": 36,
   "metadata": {},
   "outputs": [
    {
     "data": {
      "text/plain": [
       "'Hello,Pythonworldworldworld world!'"
      ]
     },
     "execution_count": 36,
     "metadata": {},
     "output_type": "execute_result"
    }
   ],
   "source": [
    "'Hello,worldworldworldworld world!'.replace('world', 'Python', 1)"
   ]
  },
  {
   "cell_type": "code",
   "execution_count": 57,
   "metadata": {},
   "outputs": [
    {
     "name": "stdout",
     "output_type": "stream",
     "text": [
      "adf\n"
     ]
    }
   ],
   "source": [
    "if not \"\":\n",
    "    print(\"adf\")"
   ]
  },
  {
   "cell_type": "code",
   "execution_count": null,
   "metadata": {},
   "outputs": [],
   "source": []
  }
 ],
 "metadata": {
  "kernelspec": {
   "display_name": "Python 3",
   "language": "python",
   "name": "python3"
  },
  "language_info": {
   "codemirror_mode": {
    "name": "ipython",
    "version": 3
   },
   "file_extension": ".py",
   "mimetype": "text/x-python",
   "name": "python",
   "nbconvert_exporter": "python",
   "pygments_lexer": "ipython3",
   "version": "3.7.4"
  }
 },
 "nbformat": 4,
 "nbformat_minor": 2
}
