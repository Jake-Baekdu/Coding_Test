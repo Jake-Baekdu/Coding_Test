{
 "cells": [
  {
   "cell_type": "markdown",
   "metadata": {},
   "source": [
    "# 문제 설명\n",
    "문자열로 구성된 리스트 strings와, 정수 n이 주어졌을 때, 각 문자열의 인덱스 n번째 글자를 기준으로 오름차순 정렬하려 합니다. 예를 들어 strings가 [sun, bed, car]이고 n이 1이면 각 단어의 인덱스 1의 문자 u, e, a로 strings를 정렬합니다.\n",
    "\n",
    "## 제한 조건\n",
    "strings는 길이 1 이상, 50이하인 배열입니다.\n",
    "strings의 원소는 소문자 알파벳으로 이루어져 있습니다.\n",
    "strings의 원소는 길이 1 이상, 100이하인 문자열입니다.\n",
    "모든 strings의 원소의 길이는 n보다 큽니다.\n",
    "인덱스 1의 문자가 같은 문자열이 여럿 일 경우, 사전순으로 앞선 문자열이 앞쪽에 위치합니다.\n",
    "\n",
    "---------------\n",
    "\n",
    "\n",
    "## 입출력 예 설명\n",
    "\n",
    "입출력 예 1\n",
    "sun, bed, car의 1번째 인덱스 값은 각각 u, e, a 입니다. 이를 기준으로 strings를 정렬하면 [car, bed, sun] 입니다.\n",
    "\n",
    "입출력 예 2\n",
    "abce와 abcd, cdx의 2번째 인덱스 값은 c, c, x입니다. 따라서 정렬 후에는 cdx가 가장 뒤에 위치합니다. abce와 abcd는 사전순으로 정렬하면 abcd가 우선하므로, 답은 [abcd, abce, cdx] 입니다.\n",
    "\n",
    "출처 : https://programmers.co.kr/learn/courses/30/lessons/12915?language=python3"
   ]
  },
  {
   "cell_type": "code",
   "execution_count": 245,
   "metadata": {},
   "outputs": [],
   "source": [
    "def solution(strings, n):\n",
    "    answer = []\n",
    "    len_strings = len(strings)\n",
    "    for i in range(len_strings):\n",
    "        strings[i] = strings[i][n] + strings[i]\n",
    "    strings.sort()\n",
    "    \n",
    "    for j in range(len_strings):\n",
    "        answer.append(strings[j][1:])\n",
    "        \n",
    "    return answer\n",
    "    "
   ]
  },
  {
   "cell_type": "code",
   "execution_count": 249,
   "metadata": {},
   "outputs": [
    {
     "name": "stdout",
     "output_type": "stream",
     "text": [
      "[0, 1, 2]\n",
      "['c', 'c', 'x']\n",
      "idx_arr== {0: 'c', 1: 'c', 2: 'x'}\n",
      "sorted_arr ==  [(0, 'c'), (1, 'c'), (2, 'x')]\n",
      "sorted_arr ==  [(1, 'abcd'), (0, 'abce'), (2, 'x')]\n",
      "1\n",
      "0\n",
      "2\n",
      "['abcd', 'abce', 'cdx']\n",
      "[0, 1, 2]\n",
      "['u', 'e', 'a']\n",
      "idx_arr== {0: 'u', 1: 'e', 2: 'a'}\n",
      "sorted_arr ==  [(2, 'a'), (1, 'e'), (0, 'u')]\n",
      "sorted_arr ==  [(2, 'a'), (1, 'e'), (0, 'u')]\n",
      "2\n",
      "1\n",
      "0\n",
      "['car', 'bed', 'sun']\n"
     ]
    }
   ],
   "source": [
    "print(solution([\"abce\", \"abcd\", \"cdx\"], 2))\n",
    "print(solution(['sun', 'bed', 'car'], 1))"
   ]
  },
  {
   "cell_type": "markdown",
   "metadata": {},
   "source": [
    "## 첫 풀이"
   ]
  },
  {
   "cell_type": "code",
   "execution_count": 248,
   "metadata": {},
   "outputs": [],
   "source": [
    "def solution(strings, n):\n",
    "    result = []\n",
    "    range_arr = [x for x in range(len(strings)) ]\n",
    "    \n",
    "    print(range_arr)\n",
    "    \n",
    "    num_str_arr = [(strings[a])[n] for a in range(len(strings))]\n",
    "    \n",
    "    print(num_str_arr)\n",
    "    \n",
    "    idx_arr = dict(zip(range_arr,num_str_arr))\n",
    "    \n",
    "    print(\"idx_arr==\", idx_arr)\n",
    "    \n",
    "    sorted_arr = sorted(idx_arr.items(), key= lambda x : x[1])\n",
    "    \n",
    "    len_sorted_arr = len(sorted_arr)\n",
    "    \n",
    "#     for i in range(len_sorted_arr):\n",
    "#         sorted_arr[i] = list(sorted_arr[i])\n",
    "    \n",
    "    print(\"sorted_arr == \", sorted_arr)\n",
    "    \n",
    "    \n",
    "    for i in range(len_sorted_arr):\n",
    "        if i+1 == len_sorted_arr:\n",
    "            break;\n",
    "        if sorted_arr[i][1] == sorted_arr[i+1][1] :\n",
    "            tmp = []\n",
    "            tmp_idx = [x for x in range(i,i+2)]\n",
    "            tmp.append((strings[i]))\n",
    "            tmp.append((strings[i+1]))\n",
    "            tmp_arr = dict(zip(tmp_idx,tmp))\n",
    "            sorted_tmp = sorted(tmp_arr.items(), key= lambda x : x[1])\n",
    "\n",
    "            sorted_arr[i] = sorted_tmp[i]\n",
    "            sorted_arr[i+1] = sorted_tmp[i+1]\n",
    "\n",
    "\n",
    "    print(\"sorted_arr == \", sorted_arr)\n",
    "            \n",
    "    \n",
    "    for i in range(len_sorted_arr):\n",
    "        a = sorted_arr[i][0]\n",
    "        print(a)\n",
    "        result.append(strings[a])\n",
    "            \n",
    "    return result"
   ]
  },
  {
   "cell_type": "markdown",
   "metadata": {},
   "source": [
    "## 후기\n",
    "\n",
    "처음에 푼 풀이는 정말 개고생하면서 풀었는데 결국 못 풀었다...\n",
    "내가 어떻게 생각하고 풀었는지 다시금\n",
    "정말 복잡하게 생각한 것 같다. dict에 넣은 뒤에 key 값과 values를 비교해서 정렬하고 넣을 생각이었는데 하다보니 사전순으로 정렬해야될 조건을 적다보니 너무 코드가 복잡해졌다. 간단하게 풀 수 있었는데 이것만 가지고 몇 시간을 고민하고 했는지...\n",
    "\n",
    "그래도 dic와 컴프리헨션은 안까먹을 것 같다. tuple, dict, list는 기본 자료구존데 아직도 헷갈리는 부분이 있어 조금 더 디테일하게 공부해야겠다.\n",
    "\n"
   ]
  },
  {
   "cell_type": "markdown",
   "metadata": {},
   "source": [
    "## 다른 풀이"
   ]
  },
  {
   "cell_type": "code",
   "execution_count": 1,
   "metadata": {},
   "outputs": [],
   "source": [
    "def strange_sort(strings, n):\n",
    "    return sorted(sorted(strings), key = lambda x: x[n])"
   ]
  },
  {
   "cell_type": "markdown",
   "metadata": {},
   "source": [
    "대체 나는 왜 이렇게 생각하지 못했을까...\n",
    "\n",
    "한 수 배우고 갑니다.\n"
   ]
  },
  {
   "cell_type": "code",
   "execution_count": 260,
   "metadata": {},
   "outputs": [
    {
     "name": "stdout",
     "output_type": "stream",
     "text": [
      "['abcd', 'abce', 'cdx']\n"
     ]
    }
   ],
   "source": [
    "print(strange_sort([\"abce\", \"abcd\", \"cdx\"], 2))\n",
    "strings= [\"sun\", \"bed\", \"car\"]\n",
    "n = 2"
   ]
  },
  {
   "cell_type": "code",
   "execution_count": 271,
   "metadata": {},
   "outputs": [
    {
     "name": "stdout",
     "output_type": "stream",
     "text": [
      "['bed', 'car', 'sun']\n",
      "['car', 'bed', 'sun']\n"
     ]
    }
   ],
   "source": [
    "print(sorted(strings))\n",
    "a = sorted(strings, key = lambda x : x[1])\n",
    "print(a)"
   ]
  },
  {
   "cell_type": "code",
   "execution_count": null,
   "metadata": {},
   "outputs": [],
   "source": []
  }
 ],
 "metadata": {
  "kernelspec": {
   "display_name": "Python 3",
   "language": "python",
   "name": "python3"
  },
  "language_info": {
   "codemirror_mode": {
    "name": "ipython",
    "version": 3
   },
   "file_extension": ".py",
   "mimetype": "text/x-python",
   "name": "python",
   "nbconvert_exporter": "python",
   "pygments_lexer": "ipython3",
   "version": "3.7.4"
  }
 },
 "nbformat": 4,
 "nbformat_minor": 2
}
