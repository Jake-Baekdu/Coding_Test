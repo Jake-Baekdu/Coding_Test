{
 "cells": [
  {
   "cell_type": "code",
   "execution_count": 149,
   "metadata": {},
   "outputs": [],
   "source": [
    "def solution(skill, skill_trees):\n",
    "    answer = 0\n",
    "\n",
    "    for skill_tree in skill_trees:\n",
    "        skill_list = list(skill)\n",
    "\n",
    "        for s in skill_tree:\n",
    "            print(\"skill_list\", skill_list)\n",
    "            if s in skill:\n",
    "                if s != skill_list.pop(0):\n",
    "                    print(\"BREAK\")\n",
    "                    break\n",
    "        else:\n",
    "            answer += 1\n",
    "            print(\"answer ++\", answer)\n",
    "\n",
    "\n",
    "    return answer\n",
    "\n",
    "solution(\"CBD\", [\"BACDE\", \"CBADF\", \"AECB\", \"BDA\"])"
   ]
  },
  {
   "cell_type": "code",
   "execution_count": 150,
   "metadata": {},
   "outputs": [],
   "source": [
    "def solution(skill, skill_trees):\n",
    "\n",
    "    answer = 0\n",
    "\n",
    "    for skill_tree in skill_trees:\n",
    "        if isPossible(skill, skill_tree):\n",
    "            answer += 1\n",
    "    return answer\n",
    "\n",
    "def isPossible(skill, skill_tree):\n",
    "    tmp = ''\n",
    "    for s in skill_tree:\n",
    "        if list(skill).__contains__(s):\n",
    "            tmp += s \n",
    "\n",
    "    if skill.startswith(tmp):\n",
    "        return True\n",
    "    return False"
   ]
  },
  {
   "cell_type": "code",
   "execution_count": 156,
   "metadata": {},
   "outputs": [
    {
     "name": "stdout",
     "output_type": "stream",
     "text": [
      "True\n"
     ]
    }
   ],
   "source": [
    "a = \"CBD\"\n",
    "print(a.startswith('CBD'))"
   ]
  },
  {
   "cell_type": "code",
   "execution_count": null,
   "metadata": {},
   "outputs": [],
   "source": []
  }
 ],
 "metadata": {
  "kernelspec": {
   "display_name": "Python 3",
   "language": "python",
   "name": "python3"
  },
  "language_info": {
   "codemirror_mode": {
    "name": "ipython",
    "version": 3
   },
   "file_extension": ".py",
   "mimetype": "text/x-python",
   "name": "python",
   "nbconvert_exporter": "python",
   "pygments_lexer": "ipython3",
   "version": "3.7.4"
  }
 },
 "nbformat": 4,
 "nbformat_minor": 2
}
