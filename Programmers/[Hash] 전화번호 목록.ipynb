{
 "cells": [
  {
   "cell_type": "code",
   "execution_count": 17,
   "metadata": {},
   "outputs": [
    {
     "data": {
      "text/plain": [
       "True"
      ]
     },
     "execution_count": 17,
     "metadata": {},
     "output_type": "execute_result"
    }
   ],
   "source": [
    "class Node(object):\n",
    "\n",
    "    def __init__(self, key, data=None):\n",
    "        self.key = key\n",
    "        self.data = data\n",
    "        self.children = {}\n",
    "        \n",
    "class Trie(object):\n",
    "    def __init__(self):\n",
    "        self.head = Node(None)\n",
    "\n",
    "    def insert(self, string):\n",
    "        curr_node = self.head\n",
    "        \n",
    "        for char in string:\n",
    "            if char not in curr_node.children:\n",
    "                curr_node.children[char] = Node(char)\n",
    "            curr_node = curr_node.children[char]\n",
    "        curr_node.data = string\n",
    "        \n",
    "    def starts_with(self, prefix):\n",
    "        curr_node = self.head\n",
    "        result = []\n",
    "        subtrie = None\n",
    "        \n",
    "        for char in prefix:\n",
    "            if char in curr_node.children:\n",
    "                curr_node = curr_node.children[char]\n",
    "                subtrie = curr_node\n",
    "            else:\n",
    "                return None\n",
    "\n",
    "        queue = list(subtrie.children.values())\n",
    "\n",
    "        while queue:\n",
    "            curr = queue.pop()\n",
    "            if curr.data != None:\n",
    "                result.append(curr.data)\n",
    "\n",
    "            queue += list(curr.children.values())\n",
    "        if result:\n",
    "            return True\n",
    "        else:\n",
    "            False\n",
    "\n",
    "def solution(phone_book):\n",
    "    trie = Trie()\n",
    "    phone_book.sort()\n",
    "    for i in range(len(phone_book)):\n",
    "        trie.insert(phone_book[i])\n",
    "    for i in phone_book:\n",
    "        if trie.starts_with(i) is True:\n",
    "            return False\n",
    "        else :\n",
    "            return True"
   ]
  },
  {
   "cell_type": "code",
   "execution_count": null,
   "metadata": {},
   "outputs": [],
   "source": []
  },
  {
   "cell_type": "code",
   "execution_count": 40,
   "metadata": {},
   "outputs": [],
   "source": [
    "hash_table = list([0 for i in range(8)])\n",
    "\n",
    "def get_key(data):\n",
    "    return hash(data)\n",
    "\n",
    "def hash_function(key):\n",
    "    return key % 8\n",
    "\n",
    "def save_data(data, value):\n",
    "    index_key = get_key(data)\n",
    "    hash_address = hash_function(index_key)\n",
    "    if hash_table[hash_address] != 0:\n",
    "        for index in range(len(hash_table[hash_address])):\n",
    "            print(index)\n",
    "            if hash_table[hash_address][index][0] == index_key:\n",
    "                hash_table[hash_address][index][1] = value\n",
    "                return\n",
    "        hash_table[hash_address].append([index_key, value])\n",
    "    else:\n",
    "        hash_table[hash_address] = [[index_key, value]]\n",
    "\n",
    "def read_data(data):\n",
    "    index_key = get_key(data)\n",
    "    hash_address = hash_function(index_key)\n",
    "    \n",
    "    if hash_table[hash_address] != 0:\n",
    "        for index in range(len(hash_table[hash_address])):\n",
    "            if hash_table[hash_address][index][0] == index_key:\n",
    "                return hash_table[hash_address][index][1]\n",
    "        return None\n",
    "    else :\n",
    "        return None"
   ]
  },
  {
   "cell_type": "code",
   "execution_count": 41,
   "metadata": {},
   "outputs": [
    {
     "name": "stdout",
     "output_type": "stream",
     "text": [
      "1\n",
      "4\n",
      "4\n"
     ]
    }
   ],
   "source": [
    "print (hash('Dave') % 8)\n",
    "print (hash('Dd') % 8)\n",
    "print (hash('Data') % 8)"
   ]
  },
  {
   "cell_type": "code",
   "execution_count": 47,
   "metadata": {},
   "outputs": [
    {
     "name": "stdout",
     "output_type": "stream",
     "text": [
      "0\n",
      "0\n",
      "0\n",
      "1\n"
     ]
    },
    {
     "data": {
      "text/plain": [
       "'3301023010'"
      ]
     },
     "execution_count": 47,
     "metadata": {},
     "output_type": "execute_result"
    }
   ],
   "source": [
    "save_data('Dave', '1201023010')\n",
    "save_data('Dd', '3301023010')\n",
    "save_data('Data', '3301023010')\n",
    "\n",
    "read_data('Dd')\n"
   ]
  },
  {
   "cell_type": "code",
   "execution_count": 43,
   "metadata": {},
   "outputs": [
    {
     "name": "stdout",
     "output_type": "stream",
     "text": [
      "[0, 0, 0, 0, [[2892985438168754148, '3301023010'], [5381826966538606212, '3301023010']], 0, 0, 0]\n"
     ]
    }
   ],
   "source": [
    "[[1712418803021953464, '3301023010'],\n",
    " [-5200053007452589023, '1201023010'],\n",
    " [2744675674597739001, '3301023010'],\n",
    " [-5008972917411708472, '3301023010'],\n",
    " [2892985438168754148, '3301023010'],\n",
    " [5381826966538606212, '3301023010'],\n",
    " [6352198777931343062, '3301023010'],\n",
    " [3075087490109377002, '3301023010']]"
   ]
  },
  {
   "cell_type": "code",
   "execution_count": 118,
   "metadata": {},
   "outputs": [],
   "source": [
    "hash_table = list([0 for i in range(3)])\n",
    "\n",
    "def get_key(data):\n",
    "    return hash(data)\n",
    "\n",
    "def hash_function(key):\n",
    "    return key % 3\n",
    "\n",
    "def save_data(data, value):\n",
    "    index_key = get_key(data)\n",
    "    hash_address = hash_function(index_key)\n",
    "    print(\"시작!! index_key : \",index_key)\n",
    "    print(\"hash_address\", hash_address)\n",
    "    \n",
    "    if hash_table[hash_address] != 0:\n",
    "        for index in range(hash_address, len(hash_table)):\n",
    "            print(\"index, data   : \", index, data)\n",
    "            print(\"해쉬테이블 \", hash_table)\n",
    "            if hash_table[index] == 0:\n",
    "                hash_table[index] = [index_key, value]\n",
    "                print(\"hash_table : elif   \",  hash_table)\n",
    "\n",
    "                return\n",
    "            elif hash_table[index][0] == index_key:\n",
    "                hash_table[index][1] = value\n",
    "                print(\"hash_table : elif   \",  hash_table)\n",
    "                return\n",
    "            print()\n",
    "    else:\n",
    "        hash_table[hash_address] = [index_key, value]\n",
    "\n",
    "def read_data(data):\n",
    "    index_key = get_key(data)\n",
    "    hash_address = hash_function(index_key)\n",
    "    \n",
    "    if hash_table[hash_address] != 0:\n",
    "        for index in range(hash_address, len(hash_table)):\n",
    "            if hash_table[index] == 0:\n",
    "                return None\n",
    "            elif hash_table[index][0] == index_key:\n",
    "                return hash_table[index][1]\n",
    "    else:\n",
    "        return None"
   ]
  },
  {
   "cell_type": "code",
   "execution_count": 119,
   "metadata": {
    "scrolled": true
   },
   "outputs": [
    {
     "name": "stdout",
     "output_type": "stream",
     "text": [
      "시작!! index_key :  6352198777931343062\n",
      "hash_address 2\n",
      "시작!! index_key :  -5008972917411708472\n",
      "hash_address 2\n",
      "index, data   :  2 c\n",
      "해쉬테이블  [0, 0, [6352198777931343062, '4']]\n",
      "\n",
      "시작!! index_key :  2744675674597739001\n",
      "hash_address 0\n",
      "시작!! index_key :  1712418803021953464\n",
      "hash_address 0\n",
      "index, data   :  0 a\n",
      "해쉬테이블  [[2744675674597739001, '6'], 0, [6352198777931343062, '4']]\n",
      "\n",
      "index, data   :  1 a\n",
      "해쉬테이블  [[2744675674597739001, '6'], 0, [6352198777931343062, '4']]\n",
      "hash_table : elif    [[2744675674597739001, '6'], [1712418803021953464, '7'], [6352198777931343062, '4']]\n",
      "시작!! index_key :  3075087490109377002\n",
      "hash_address 0\n",
      "index, data   :  0 wb\n",
      "해쉬테이블  [[2744675674597739001, '6'], [1712418803021953464, '7'], [6352198777931343062, '4']]\n",
      "\n",
      "index, data   :  1 wb\n",
      "해쉬테이블  [[2744675674597739001, '6'], [1712418803021953464, '7'], [6352198777931343062, '4']]\n",
      "\n",
      "index, data   :  2 wb\n",
      "해쉬테이블  [[2744675674597739001, '6'], [1712418803021953464, '7'], [6352198777931343062, '4']]\n",
      "\n",
      "시작!! index_key :  5348852861341233539\n",
      "hash_address 2\n",
      "index, data   :  2 vv\n",
      "해쉬테이블  [[2744675674597739001, '6'], [1712418803021953464, '7'], [6352198777931343062, '4']]\n",
      "\n"
     ]
    }
   ],
   "source": [
    "\n",
    "save_data('d', '4')\n",
    "save_data('c', '5')\n",
    "save_data('b', '6')\n",
    "save_data('a', '7')\n",
    "save_data('wb', '8')\n",
    "save_data('vv', '12')\n",
    "\n",
    "\n",
    "read_data('Dd')"
   ]
  },
  {
   "cell_type": "code",
   "execution_count": 101,
   "metadata": {},
   "outputs": [
    {
     "name": "stdout",
     "output_type": "stream",
     "text": [
      "[[1712418803021953464, '4'], [-5200053007452589023, '1'], [2744675674597739001, '5'], [-5008972917411708472, '6'], [2892985438168754148, '2'], [5381826966538606212, '3'], [6352198777931343062, '7'], [3075087490109377002, '8']]\n"
     ]
    }
   ],
   "source": [
    "print(hash_table)"
   ]
  },
  {
   "cell_type": "code",
   "execution_count": 95,
   "metadata": {},
   "outputs": [
    {
     "data": {
      "text/plain": [
       "0"
      ]
     },
     "execution_count": 95,
     "metadata": {},
     "output_type": "execute_result"
    }
   ],
   "source": [
    "-8489453639346067592%8"
   ]
  },
  {
   "cell_type": "code",
   "execution_count": null,
   "metadata": {},
   "outputs": [],
   "source": []
  }
 ],
 "metadata": {
  "kernelspec": {
   "display_name": "Python 3",
   "language": "python",
   "name": "python3"
  },
  "language_info": {
   "codemirror_mode": {
    "name": "ipython",
    "version": 3
   },
   "file_extension": ".py",
   "mimetype": "text/x-python",
   "name": "python",
   "nbconvert_exporter": "python",
   "pygments_lexer": "ipython3",
   "version": "3.7.4"
  }
 },
 "nbformat": 4,
 "nbformat_minor": 2
}
