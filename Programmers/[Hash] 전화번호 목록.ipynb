{
 "cells": [
  {
   "cell_type": "code",
   "execution_count": 9,
   "metadata": {},
   "outputs": [],
   "source": [
    "class Node(object):\n",
    "    def __init__(self, key, flag = None):\n",
    "        self.key = key\n",
    "        self.flag = flag\n",
    "        self.children = {}\n",
    "        \n",
    "class Trie(object):\n",
    "    def __init__(self):\n",
    "        self.head = Node(None)\n",
    "        \n",
    "    def insert_search(self, string):\n",
    "        curr_node = self.head\n",
    "        for char in string:\n",
    "            if char not in curr_node.children:\n",
    "                curr_node.children[char] = Node(None)\n",
    "            curr_node = curr_node.children[char]\n",
    "            if curr_node.flag:\n",
    "                return False\n",
    "        curr_node.flag = True\n",
    "        return True\n",
    "\n",
    "def solution(phone_book):\n",
    "    phone_book.sort()\n",
    "    trie = Trie()\n",
    "    for phone in phone_book:\n",
    "        if not trie.insert_search(phone):\n",
    "            return False\n",
    "    return True"
   ]
  },
  {
   "cell_type": "code",
   "execution_count": 10,
   "metadata": {},
   "outputs": [
    {
     "data": {
      "text/plain": [
       "False"
      ]
     },
     "execution_count": 10,
     "metadata": {},
     "output_type": "execute_result"
    }
   ],
   "source": [
    "solution([\"119\", \"97674223\", \"1195524421\"])"
   ]
  },
  {
   "cell_type": "code",
   "execution_count": 11,
   "metadata": {},
   "outputs": [],
   "source": [
    "def solution(phoneBook):\n",
    "    phoneBook = sorted(phoneBook)\n",
    "\n",
    "    for p1, p2 in zip(phoneBook, phoneBook[1:]):\n",
    "        print(p1,p2)\n",
    "        if p2.startswith(p1):\n",
    "            return False\n",
    "    return True"
   ]
  },
  {
   "cell_type": "code",
   "execution_count": 19,
   "metadata": {},
   "outputs": [
    {
     "name": "stdout",
     "output_type": "stream",
     "text": [
      "1235 5555\n",
      "5555 567\n",
      "567 577\n",
      "577 578\n",
      "578 587\n",
      "587 88\n"
     ]
    },
    {
     "data": {
      "text/plain": [
       "True"
      ]
     },
     "execution_count": 19,
     "metadata": {},
     "output_type": "execute_result"
    }
   ],
   "source": [
    "solution([\"567\",\"88\",\"1235\", \"578\",\"5555\", \"587\", \"577\"])"
   ]
  },
  {
   "cell_type": "code",
   "execution_count": null,
   "metadata": {},
   "outputs": [],
   "source": [
    "# 해쉬를 이용한 풀이\n",
    "def solution(phone_book):\n",
    "    answer = True\n",
    "    hash_map = {}\n",
    "    for phone_number in phone_book:\n",
    "        hash_map[phone_number] = 1\n",
    "    for phone_number in phone _book:\n",
    "        temp = \"\"\n",
    "        for number in phone_number:\n",
    "            temp += number\n",
    "            if temp in hash_map and temp != phone_number:\n",
    "                answer = False\n",
    "    return answer"
   ]
  }
 ],
 "metadata": {
  "kernelspec": {
   "display_name": "Python 3",
   "language": "python",
   "name": "python3"
  },
  "language_info": {
   "codemirror_mode": {
    "name": "ipython",
    "version": 3
   },
   "file_extension": ".py",
   "mimetype": "text/x-python",
   "name": "python",
   "nbconvert_exporter": "python",
   "pygments_lexer": "ipython3",
   "version": "3.7.4"
  }
 },
 "nbformat": 4,
 "nbformat_minor": 2
}
