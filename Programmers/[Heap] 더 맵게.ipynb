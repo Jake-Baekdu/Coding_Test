{
 "cells": [
  {
   "cell_type": "code",
   "execution_count": 33,
   "metadata": {},
   "outputs": [
    {
     "data": {
      "text/plain": [
       "2"
      ]
     },
     "execution_count": 33,
     "metadata": {},
     "output_type": "execute_result"
    }
   ],
   "source": [
    "import heapq\n",
    "\n",
    "heap = []\n",
    "\n",
    "def solution(scoville, K):\n",
    "    cnt = 0\n",
    "    for i in scoville:\n",
    "        heapq.heappush(heap, i)\n",
    "    for _ in range(len(heap)):\n",
    "        if len(heap) == 1 and heap[0] < K:\n",
    "            return -1\n",
    "        if heap[0] >= K:\n",
    "            return cnt\n",
    "        temp = heapq.heappop(heap) + heapq.heappop(heap)*2\n",
    "        heapq.heappush(heap, temp)\n",
    "        cnt += 1\n",
    "    \n",
    "\n",
    "    return cnt\n",
    "\n",
    "\n",
    "solution([1, 2, 3, 9, 10, 12], 7)\n",
    "\n",
    " "
   ]
  },
  {
   "cell_type": "code",
   "execution_count": null,
   "metadata": {},
   "outputs": [],
   "source": []
  },
  {
   "cell_type": "code",
   "execution_count": null,
   "metadata": {},
   "outputs": [],
   "source": []
  }
 ],
 "metadata": {
  "kernelspec": {
   "display_name": "Python 3",
   "language": "python",
   "name": "python3"
  },
  "language_info": {
   "codemirror_mode": {
    "name": "ipython",
    "version": 3
   },
   "file_extension": ".py",
   "mimetype": "text/x-python",
   "name": "python",
   "nbconvert_exporter": "python",
   "pygments_lexer": "ipython3",
   "version": "3.7.4"
  }
 },
 "nbformat": 4,
 "nbformat_minor": 2
}
