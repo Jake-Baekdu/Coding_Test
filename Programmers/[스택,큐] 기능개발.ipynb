{
 "cells": [
  {
   "cell_type": "code",
   "execution_count": 40,
   "metadata": {},
   "outputs": [],
   "source": [
    "def solution(p, speeds):\n",
    "    temp = list() # 각 일이 몇일이 소요되는지 나타내는 리스트\n",
    "    result = list()\n",
    "    len_p = len(p)\n",
    "    cnt = 0\n",
    "    t_cnt = 1\n",
    "    for i in range(len_p):\n",
    "        while(p[i] <100):\n",
    "            p[i] = p[i] + speeds[i]\n",
    "            cnt+= 1\n",
    "        temp.append(cnt)\n",
    "        cnt = 0\n",
    "    print(temp)\n",
    "\n",
    "    for i in range(len(temp)):\n",
    "            if i+1 == len(temp): # temp 마지막 항목 체크\n",
    "                result.append(t_cnt)\n",
    "                break\n",
    "            elif temp[i] < temp[i+1]:\n",
    "                result.append(t_cnt)\n",
    "                t_cnt = 1\n",
    "            elif temp[i] >= temp[i+1]:\n",
    "                # 앞 쪽의 일이 더 크면 뒤쪽이 일이 계속 밀리니 \n",
    "                #제일 큰 앞 쪽일과 비교할 수 있도록 temp[i+1] 바꿔줌\n",
    "                temp[i+1] = temp[i] \n",
    "                t_cnt += 1\n",
    "            \n",
    "    return result\n"
   ]
  },
  {
   "cell_type": "code",
   "execution_count": 41,
   "metadata": {},
   "outputs": [
    {
     "name": "stdout",
     "output_type": "stream",
     "text": [
      "[1, 7, 3, 9, 4, 5]\n"
     ]
    },
    {
     "data": {
      "text/plain": [
       "[1, 2, 3]"
      ]
     },
     "execution_count": 41,
     "metadata": {},
     "output_type": "execute_result"
    }
   ],
   "source": [
    "solution([40, 93, 30, 55, 60, 65], [60, 1, 30, 5 , 10, 7])"
   ]
  },
  {
   "cell_type": "code",
   "execution_count": 49,
   "metadata": {},
   "outputs": [],
   "source": [
    "def solution(progresses, speeds):\n",
    "    Q=[]\n",
    "    for p, s in zip(progresses, speeds):\n",
    "        if len(Q)==0 or Q[-1][0] < -((p-100)//s):\n",
    "            Q.append([-((p-100)//s),1])\n",
    "            print(Q)\n",
    "        else:\n",
    "            Q[-1][1]+=1\n",
    "            print(Q)\n",
    "    return [q[1] for q in Q]"
   ]
  },
  {
   "cell_type": "code",
   "execution_count": 50,
   "metadata": {},
   "outputs": [
    {
     "name": "stdout",
     "output_type": "stream",
     "text": [
      "[[1, 1]]\n",
      "[[1, 1], [7, 1]]\n",
      "[[1, 1], [7, 2]]\n",
      "[[1, 1], [7, 2], [9, 1]]\n",
      "[[1, 1], [7, 2], [9, 2]]\n",
      "[[1, 1], [7, 2], [9, 3]]\n"
     ]
    },
    {
     "data": {
      "text/plain": [
       "[1, 2, 3]"
      ]
     },
     "execution_count": 50,
     "metadata": {},
     "output_type": "execute_result"
    }
   ],
   "source": [
    "solution([40, 93, 30, 55, 60, 65], [60, 1, 30, 5 , 10, 7])"
   ]
  },
  {
   "cell_type": "code",
   "execution_count": 44,
   "metadata": {},
   "outputs": [
    {
     "data": {
      "text/plain": [
       "False"
      ]
     },
     "execution_count": 44,
     "metadata": {},
     "output_type": "execute_result"
    }
   ],
   "source": [
    "1<-0"
   ]
  },
  {
   "cell_type": "code",
   "execution_count": null,
   "metadata": {},
   "outputs": [],
   "source": []
  }
 ],
 "metadata": {
  "kernelspec": {
   "display_name": "Python 3",
   "language": "python",
   "name": "python3"
  },
  "language_info": {
   "codemirror_mode": {
    "name": "ipython",
    "version": 3
   },
   "file_extension": ".py",
   "mimetype": "text/x-python",
   "name": "python",
   "nbconvert_exporter": "python",
   "pygments_lexer": "ipython3",
   "version": "3.7.4"
  }
 },
 "nbformat": 4,
 "nbformat_minor": 2
}
