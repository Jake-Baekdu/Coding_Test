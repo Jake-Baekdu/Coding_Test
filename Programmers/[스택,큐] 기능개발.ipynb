{
 "cells": [
  {
   "cell_type": "code",
   "execution_count": 40,
   "metadata": {},
   "outputs": [],
   "source": [
    "def solution(p, speeds):\n",
    "    temp = list() # 각 일이 몇일이 소요되는지 나타내는 리스트\n",
    "    result = list()\n",
    "    len_p = len(p)\n",
    "    cnt = 0\n",
    "    t_cnt = 1\n",
    "    for i in range(len_p):\n",
    "        while(p[i] <100):\n",
    "            p[i] = p[i] + speeds[i]\n",
    "            cnt+= 1\n",
    "        temp.append(cnt)\n",
    "        cnt = 0\n",
    "    print(temp)\n",
    "\n",
    "    for i in range(len(temp)):\n",
    "            if i+1 == len(temp): # temp 마지막 항목 체크\n",
    "                result.append(t_cnt)\n",
    "                break\n",
    "            elif temp[i] < temp[i+1]:\n",
    "                result.append(t_cnt)\n",
    "                t_cnt = 1\n",
    "            elif temp[i] >= temp[i+1]:\n",
    "                # 앞 쪽의 일이 더 크면 뒤쪽이 일이 계속 밀리니 \n",
    "                #제일 큰 앞 쪽일과 비교할 수 있도록 temp[i+1] 바꿔줌\n",
    "                temp[i+1] = temp[i] \n",
    "                t_cnt += 1\n",
    "            \n",
    "    return result\n"
   ]
  },
  {
   "cell_type": "code",
   "execution_count": 41,
   "metadata": {},
   "outputs": [
    {
     "name": "stdout",
     "output_type": "stream",
     "text": [
      "[1, 7, 3, 9, 4, 5]\n"
     ]
    },
    {
     "data": {
      "text/plain": [
       "[1, 2, 3]"
      ]
     },
     "execution_count": 41,
     "metadata": {},
     "output_type": "execute_result"
    }
   ],
   "source": [
    "solution([40, 93, 30, 55, 60, 65], [60, 1, 30, 5 , 10, 7])"
   ]
  },
  {
   "cell_type": "code",
   "execution_count": 49,
   "metadata": {},
   "outputs": [],
   "source": [
    "def solution(progresses, speeds):\n",
    "    Q=[]\n",
    "    for p, s in zip(progresses, speeds):\n",
    "        if len(Q)==0 or Q[-1][0] < -((p-100)//s):\n",
    "            Q.append([-((p-100)//s),1])\n",
    "            print(Q)\n",
    "        else:\n",
    "            Q[-1][1]+=1\n",
    "            print(Q)\n",
    "    return [q[1] for q in Q]"
   ]
  },
  {
   "cell_type": "code",
   "execution_count": 50,
   "metadata": {},
   "outputs": [
    {
     "name": "stdout",
     "output_type": "stream",
     "text": [
      "[[1, 1]]\n",
      "[[1, 1], [7, 1]]\n",
      "[[1, 1], [7, 2]]\n",
      "[[1, 1], [7, 2], [9, 1]]\n",
      "[[1, 1], [7, 2], [9, 2]]\n",
      "[[1, 1], [7, 2], [9, 3]]\n"
     ]
    },
    {
     "data": {
      "text/plain": [
       "[1, 2, 3]"
      ]
     },
     "execution_count": 50,
     "metadata": {},
     "output_type": "execute_result"
    }
   ],
   "source": [
    "solution([40, 93, 30, 55, 60, 65], [60, 1, 30, 5 , 10, 7])"
   ]
  },
  {
   "cell_type": "code",
   "execution_count": 1,
   "metadata": {},
   "outputs": [
    {
     "data": {
      "text/plain": [
       "False"
      ]
     },
     "execution_count": 1,
     "metadata": {},
     "output_type": "execute_result"
    }
   ],
   "source": [
    "1<-0"
   ]
  },
  {
   "cell_type": "code",
   "execution_count": null,
   "metadata": {},
   "outputs": [],
   "source": []
  },
  {
   "cell_type": "code",
   "execution_count": null,
   "metadata": {},
   "outputs": [],
   "source": []
  },
  {
   "cell_type": "code",
   "execution_count": null,
   "metadata": {},
   "outputs": [],
   "source": []
  },
  {
   "cell_type": "code",
   "execution_count": 50,
   "metadata": {},
   "outputs": [
    {
     "name": "stdout",
     "output_type": "stream",
     "text": [
      "0.99\n",
      "0.99\n",
      "[0.99, 0.99, 0.99, 0.99]\n"
     ]
    },
    {
     "data": {
      "text/plain": [
       "[4]"
      ]
     },
     "execution_count": 50,
     "metadata": {},
     "output_type": "execute_result"
    }
   ],
   "source": [
    "from collections import deque \n",
    "\n",
    "def solution(progresses, speeds):\n",
    "    period = list()\n",
    "    for i in range(len(progresses)):\n",
    "        n = (100 - progresses[i])/speeds[i]\n",
    "        period.append(n)\n",
    "    \n",
    "    cnt = 1\n",
    "    dq = deque(period)\n",
    "    answer = []\n",
    "    big = dq.popleft()\n",
    "\n",
    "    \n",
    "    for _ in range(len(period)):\n",
    "        if len(dq) == 1 :\n",
    "            if cnt > 1:\n",
    "                cnt += 1\n",
    "            answer.append(cnt)\n",
    "            break\n",
    "            \n",
    "        if big >= dq[0] :\n",
    "            print(big)\n",
    "            cnt += 1\n",
    "            dq.popleft()\n",
    "            \n",
    "        else:\n",
    "            big = dq.popleft()\n",
    "            answer.append(cnt)\n",
    "            cnt = 1\n",
    "    print(period)\n",
    "    \n",
    "    return answer\n",
    "\n",
    "solution([1,1,1,1], [100,100,100,100])"
   ]
  },
  {
   "cell_type": "code",
   "execution_count": null,
   "metadata": {},
   "outputs": [],
   "source": [
    "import java.util.*;\n",
    "class Solution {\n",
    "\tpublic int[] solution(int[] progresses, int[] speeds) {\n",
    "\t\tint[] answer = {};\n",
    "\t\tint[] rest = new int[progresses.length];\n",
    "\t\tint[] time = new int[progresses.length];\n",
    "\t\tList<Integer> list = new ArrayList<>();\n",
    "\t\tfor (int i = 0; i < progresses.length; i++) {\n",
    "\t\t\trest[i] = 100 - progresses[i];\n",
    "\t\t\ttime[i] = rest[i] / speeds[i];\n",
    "\t\t\tif (rest[i] % speeds[i] > 0)\n",
    "\t\t\t\ttime[i]++;\n",
    "\t\t}\n",
    "\t\tint last = time[0];\n",
    "\t\tlist.add(1);\n",
    "\t\tfor (int i = 1; i < progresses.length; i++) {\n",
    "\t\t\tif (time[i] <= last) {  6 5 4 3 2 1 7\n",
    "\t\t\t\tlist.set(list.size() - 1, list.get(list.size() - 1) + 1);\n",
    "\t\t\t}\n",
    "\t\t\telse {\n",
    "\t\t\t\tlist.add(1);\n",
    "\t\t\t\tlast = time[i];\n",
    "\t\t\t}\n",
    "\t\t}\n",
    "\t\tanswer = new int[list.size()];\n",
    "\t\tint i = 0;\n",
    "\t\tfor (int n : list) {\n",
    "\t\t\tanswer[i++] = n;\n",
    "\t\t}\n",
    "\t\treturn answer;\n",
    "\t}\n",
    "}"
   ]
  },
  {
   "cell_type": "code",
   "execution_count": 35,
   "metadata": {},
   "outputs": [],
   "source": [
    "n = (100-95)/2"
   ]
  },
  {
   "cell_type": "code",
   "execution_count": 36,
   "metadata": {},
   "outputs": [
    {
     "data": {
      "text/plain": [
       "3.5"
      ]
     },
     "execution_count": 36,
     "metadata": {},
     "output_type": "execute_result"
    }
   ],
   "source": [
    "if type(n) != :\n",
    "    n += 1\n",
    "n"
   ]
  },
  {
   "cell_type": "code",
   "execution_count": null,
   "metadata": {},
   "outputs": [],
   "source": []
  },
  {
   "cell_type": "code",
   "execution_count": null,
   "metadata": {},
   "outputs": [],
   "source": []
  },
  {
   "cell_type": "code",
   "execution_count": null,
   "metadata": {},
   "outputs": [],
   "source": []
  },
  {
   "cell_type": "code",
   "execution_count": null,
   "metadata": {},
   "outputs": [],
   "source": []
  }
 ],
 "metadata": {
  "kernelspec": {
   "display_name": "Python 3",
   "language": "python",
   "name": "python3"
  },
  "language_info": {
   "codemirror_mode": {
    "name": "ipython",
    "version": 3
   },
   "file_extension": ".py",
   "mimetype": "text/x-python",
   "name": "python",
   "nbconvert_exporter": "python",
   "pygments_lexer": "ipython3",
   "version": "3.7.4"
  }
 },
 "nbformat": 4,
 "nbformat_minor": 2
}
