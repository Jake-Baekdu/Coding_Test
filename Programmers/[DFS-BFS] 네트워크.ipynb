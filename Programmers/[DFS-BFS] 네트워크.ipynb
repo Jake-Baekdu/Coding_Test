{
 "cells": [
  {
   "cell_type": "code",
   "execution_count": 11,
   "metadata": {},
   "outputs": [],
   "source": [
    "def solution(n, computers):\n",
    "    answer = 0\n",
    "    visited = [0 for i in range(n)]\n",
    "    def dfs(computers, visited, start):\n",
    "        stack = [start]\n",
    "        while stack:\n",
    "            j = stack.pop()\n",
    "            print(j)\n",
    "            if visited[j] == 0:\n",
    "                visited[j] = 1\n",
    "            for i in ranges(0, len(computers)):\n",
    "                if computers[j][i] ==1 and visited[i] == 0:\n",
    "                    stack.append(i)\n",
    "    i=0\n",
    "    while 0 in visited:\n",
    "        if visited[i] ==0:\n",
    "            dfs(computers, visited, i)\n",
    "            answer +=1\n",
    "        i+=1\n",
    "    return answer"
   ]
  },
  {
   "cell_type": "code",
   "execution_count": 45,
   "metadata": {},
   "outputs": [
    {
     "name": "stdout",
     "output_type": "stream",
     "text": [
      "0 {0}\n",
      "1 {1}\n",
      "2 {2}\n"
     ]
    },
    {
     "data": {
      "text/plain": [
       "2"
      ]
     },
     "execution_count": 45,
     "metadata": {},
     "output_type": "execute_result"
    }
   ],
   "source": [
    "solution(3, [[1, 1, 0], [1, 1, 0], [0, 0, 1]])"
   ]
  },
  {
   "cell_type": "code",
   "execution_count": 46,
   "metadata": {},
   "outputs": [],
   "source": [
    "def visit(k, graph, visited):\n",
    "    visited[k] = 1\n",
    "    for i in range(len(graph[k])):\n",
    "        if visited[i] == 0 and graph[k][i] == 1:\n",
    "            visit(i, graph, visited)\n",
    "\n",
    "def solution(n, computers):\n",
    "\n",
    "    visited = [0] * n\n",
    "\n",
    "    answer = 0\n",
    "\n",
    "    for i in range(n):\n",
    "        if visited[i] == 0:\n",
    "            visit(i, computers, visited)\n",
    "            answer += 1\n",
    "        if 0 not in visited:\n",
    "            break\n",
    "\n",
    "    return answer"
   ]
  },
  {
   "cell_type": "code",
   "execution_count": null,
   "metadata": {},
   "outputs": [],
   "source": []
  },
  {
   "cell_type": "code",
   "execution_count": 43,
   "metadata": {},
   "outputs": [],
   "source": [
    "def solution(n, computers):\n",
    "    lst = list()\n",
    "    for i in range(n):\n",
    "        lst.append({i})\n",
    "    for n1 in range(0, n):\n",
    "        for n2 in range(n1+1, n):\n",
    "            if computers[n1][n2] == 1:\n",
    "                for idx,st in enumerate(lst):\n",
    "                    print(idx, st)\n",
    "                    if n1 in lst[idx]:\n",
    "                        idx1 = idx\n",
    "                    if n2 in lst[idx]:\n",
    "                        idx2 = idx\n",
    "                if idx1 != idx2:\n",
    "                    hap = lst[idx1] | lst[idx2]\n",
    "                    lst.pop(max(idx2,idx1))\n",
    "                    lst.pop(min(idx1,idx2))\n",
    "                    lst.append(hap)\n",
    "    return len(lst)"
   ]
  },
  {
   "cell_type": "code",
   "execution_count": 44,
   "metadata": {},
   "outputs": [
    {
     "name": "stdout",
     "output_type": "stream",
     "text": [
      "0 {0}\n",
      "1 {1}\n",
      "2 {2}\n"
     ]
    },
    {
     "data": {
      "text/plain": [
       "2"
      ]
     },
     "execution_count": 44,
     "metadata": {},
     "output_type": "execute_result"
    }
   ],
   "source": [
    "solution(3, [[1, 1, 0], [1, 1, 0], [0, 0, 1]])"
   ]
  },
  {
   "cell_type": "code",
   "execution_count": null,
   "metadata": {},
   "outputs": [],
   "source": []
  },
  {
   "cell_type": "code",
   "execution_count": null,
   "metadata": {},
   "outputs": [],
   "source": []
  }
 ],
 "metadata": {
  "kernelspec": {
   "display_name": "Python 3",
   "language": "python",
   "name": "python3"
  },
  "language_info": {
   "codemirror_mode": {
    "name": "ipython",
    "version": 3
   },
   "file_extension": ".py",
   "mimetype": "text/x-python",
   "name": "python",
   "nbconvert_exporter": "python",
   "pygments_lexer": "ipython3",
   "version": "3.7.4"
  }
 },
 "nbformat": 4,
 "nbformat_minor": 2
}
