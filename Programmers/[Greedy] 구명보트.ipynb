{
 "cells": [
  {
   "cell_type": "code",
   "execution_count": 62,
   "metadata": {},
   "outputs": [
    {
     "name": "stdout",
     "output_type": "stream",
     "text": [
      "3\n",
      "3\n",
      "3\n",
      "5\n",
      "2\n",
      "5\n",
      "2\n"
     ]
    }
   ],
   "source": [
    "def solution(people, limit):\n",
    "    if len(people) == 1:\n",
    "            return 1\n",
    "    answer = 0\n",
    "    left = 0\n",
    "    right = len(people) - 1\n",
    "\n",
    "    people.sort()\n",
    "    \n",
    "    while(left <= right):\n",
    "        sum = people[left] + people[right]\n",
    "        \n",
    "        if (sum <= limit):\n",
    "            left += 1\n",
    "        answer += 1\n",
    "        right -= 1\n",
    "    \n",
    "        \n",
    "\n",
    "    return answer\n",
    "\n",
    "array = [\n",
    "    [70, 50, 80, 50], # 3\n",
    "    [70, 80, 50], # 3\n",
    "    [100,100,100], # 3\n",
    "    [40,40,50,50,60,60,70,70], # 5\n",
    "    [40,40,40],\n",
    "    [10,20,30,40,50,60,70,80,90],\n",
    "    [20, 50, 50, 80]\n",
    "]\n",
    "for i in array:\n",
    "    print(solution(i, 100))"
   ]
  },
  {
   "cell_type": "code",
   "execution_count": null,
   "metadata": {},
   "outputs": [],
   "source": []
  }
 ],
 "metadata": {
  "kernelspec": {
   "display_name": "Python 3",
   "language": "python",
   "name": "python3"
  },
  "language_info": {
   "codemirror_mode": {
    "name": "ipython",
    "version": 3
   },
   "file_extension": ".py",
   "mimetype": "text/x-python",
   "name": "python",
   "nbconvert_exporter": "python",
   "pygments_lexer": "ipython3",
   "version": "3.7.4"
  }
 },
 "nbformat": 4,
 "nbformat_minor": 2
}
