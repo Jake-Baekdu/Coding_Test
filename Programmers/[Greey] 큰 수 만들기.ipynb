{
 "cells": [
  {
   "cell_type": "code",
   "execution_count": 7,
   "metadata": {},
   "outputs": [
    {
     "name": "stdout",
     "output_type": "stream",
     "text": [
      "0 0\n",
      "0 1\n",
      "0 2\n",
      "1 1\n",
      "2 0\n",
      "2 1\n",
      "3 3 2\n"
     ]
    },
    {
     "data": {
      "text/plain": [
       "'65'"
      ]
     },
     "execution_count": 7,
     "metadata": {},
     "output_type": "execute_result"
    }
   ],
   "source": [
    "def solution(number, k):\n",
    "    len_number = len(number)\n",
    "    if len_number > k:\n",
    "        m = 0\n",
    "        for cnt in range(k):\n",
    "            for idx in range(m, len_number-1):\n",
    "                print(cnt, idx)\n",
    "                if number[idx] < number[idx+1]:\n",
    "                    number = number[:idx] + number[idx+1:]\n",
    "                    len_number -= 1\n",
    "                    if idx > 0:\n",
    "                        m = idx-1\n",
    "                    break\n",
    "            else:\n",
    "                print(len_number, k, cnt)\n",
    "                number = number[:len_number-k+cnt]\n",
    "                break\n",
    "        return \"\".join([str(i) for i in number])\n",
    "    else:\n",
    "        return\"0\"\n",
    "        \n",
    "\n",
    "\n",
    "solution(\"63251\",3)"
   ]
  },
  {
   "cell_type": "code",
   "execution_count": 12,
   "metadata": {},
   "outputs": [],
   "source": [
    "def solution(number, k):\n",
    "    stack = [number[0]]\n",
    "    for num in number[1:]:\n",
    "        while len(stack) > 0 and stack[-1] < num and k > 0:\n",
    "            k -= 1\n",
    "            stack.pop()\n",
    "        stack.append(num)\n",
    "    if k != 0:\n",
    "        print(k)\n",
    "        stack = stack[:-k]\n",
    "    return ''.join(stack)\n"
   ]
  },
  {
   "cell_type": "code",
   "execution_count": 24,
   "metadata": {},
   "outputs": [
    {
     "name": "stdout",
     "output_type": "stream",
     "text": [
      "1\n"
     ]
    },
    {
     "data": {
      "text/plain": [
       "'4'"
      ]
     },
     "execution_count": 24,
     "metadata": {},
     "output_type": "execute_result"
    }
   ],
   "source": [
    "solution(\"3244\",3)"
   ]
  },
  {
   "cell_type": "code",
   "execution_count": 14,
   "metadata": {},
   "outputs": [
    {
     "data": {
      "text/plain": [
       "'775841'"
      ]
     },
     "execution_count": 14,
     "metadata": {},
     "output_type": "execute_result"
    }
   ],
   "source": [
    "solution(\"4177252841\",4)"
   ]
  },
  {
   "cell_type": "code",
   "execution_count": 73,
   "metadata": {},
   "outputs": [
    {
     "name": "stdout",
     "output_type": "stream",
     "text": [
      "0\n"
     ]
    }
   ],
   "source": [
    "def solution(number, k):\n",
    "\n",
    "    temp = list(number)\n",
    "    len_temp = len(temp)\n",
    "    max_idx = temp.index(max(temp))\n",
    "    print(max_idx)\n",
    "    if max_idx == 0:\n",
    "        \n",
    "    part1 = temp[:max_idx]\n",
    "    part2 = temp[max_idx:]\n",
    "    sorted_p1 = sorted(part1)\n",
    "    sorted_p2 = sorted(part2)\n",
    "solution(\"63251\",2)"
   ]
  },
  {
   "cell_type": "code",
   "execution_count": null,
   "metadata": {},
   "outputs": [],
   "source": []
  }
 ],
 "metadata": {
  "kernelspec": {
   "display_name": "Python 3",
   "language": "python",
   "name": "python3"
  },
  "language_info": {
   "codemirror_mode": {
    "name": "ipython",
    "version": 3
   },
   "file_extension": ".py",
   "mimetype": "text/x-python",
   "name": "python",
   "nbconvert_exporter": "python",
   "pygments_lexer": "ipython3",
   "version": "3.7.4"
  }
 },
 "nbformat": 4,
 "nbformat_minor": 2
}
