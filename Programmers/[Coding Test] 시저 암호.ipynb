{
 "cells": [
  {
   "attachments": {
    "image.png": {
     "image/png": "[encoded data removed]"
    }
   },
   "cell_type": "markdown",
   "metadata": {},
   "source": [
    "# 문제 설명\n",
    "\n",
    "### 문제 설명\n",
    "어떤 문장의 각 알파벳을 일정한 거리만큼 밀어서 다른 알파벳으로 바꾸는 암호화 방식을 시저 암호라고 합니다. 예를 들어 AB는 1만큼 밀면 BC가 되고, 3만큼 밀면 DE가 됩니다. z는 1만큼 밀면 a가 됩니다. 문자열 s와 거리 n을 입력받아 s를 n만큼 민 암호문을 만드는 함수, solution을 완성해 보세요.\n",
    "\n",
    "### 제한 조건\n",
    "\n",
    "공백은 아무리 밀어도 공백입니다.\n",
    "s는 알파벳 소문자, 대문자, 공백으로만 이루어져 있습니다.\n",
    "s의 길이는 8000이하입니다.\n",
    "n은 1 이상, 25이하인 자연수입니다.\n",
    "\n",
    "### 입출력 예\n",
    "\n",
    "![image.png](attachment:image.png)"
   ]
  },
  {
   "cell_type": "code",
   "execution_count": 32,
   "metadata": {},
   "outputs": [
    {
     "name": "stdout",
     "output_type": "stream",
     "text": [
      "['B', 'C']\n",
      "BC\n"
     ]
    }
   ],
   "source": [
    "def solution(s, n):\n",
    "    result = \"\"\n",
    "    s = [a for a in s]\n",
    "    for i in range(len(s)):\n",
    "        if s[i].isupper():\n",
    "            s[i] = chr((ord(s[i]) - ord('A') + n)%26 + ord('A'))\n",
    "        if s[i].islower():\n",
    "            s[i] = chr((ord(s[i]) - ord('a') + n)%26 + ord('a'))\n",
    "\n",
    "        result = result + s[i]\n",
    "    print(s)\n",
    "    return result\n",
    "\n",
    "print(solution(\"AB\", 1))\n",
    "# print(solution(\"-1234\"))"
   ]
  },
  {
   "cell_type": "markdown",
   "metadata": {},
   "source": [
    "## 풀이 후기\n",
    "\n",
    "처음에는 소문자 대문자 아스키 범위를 찾은 다음에 조건문을 일일이 써야될까라는 생각을 했지만 정말 생각을 조금만 바꾸면 좋은 코드가, 조금 더 바꾸면 더 좋은 코드가 나오는 것 같다. \n",
    "\n",
    "다른 풀이를 보니 result 부분에\n",
    "```\n",
    "return \"\".join(s)\n",
    "```\n",
    "로 한 줄로 깔끔히 구현하였다."
   ]
  },
  {
   "cell_type": "markdown",
   "metadata": {},
   "source": [
    "## 다른 풀이"
   ]
  },
  {
   "cell_type": "code",
   "execution_count": 34,
   "metadata": {},
   "outputs": [],
   "source": [
    "def caesar(s, n):\n",
    "    lower_list = \"abcdefghijklmnopqrstuvwxyz\"\n",
    "    upper_list = \"ABCDEFGHIJKLMNOPQRSTUVWXYZ\"\n",
    "\n",
    "    result = []\n",
    "\n",
    "    for i in s:\n",
    "        if i is \" \":\n",
    "            result.append(\" \")\n",
    "        elif i.islower() is True:\n",
    "            new_ = lower_list.find(i) + n\n",
    "            result.append(lower_list[new_ % 26])\n",
    "        else:\n",
    "            new_ = upper_list.find(i) + n\n",
    "            result.append(upper_list[new_ % 26])\n",
    "    return \"\".join(result)"
   ]
  },
  {
   "cell_type": "markdown",
   "metadata": {},
   "source": [
    "### 소문자 대문자 공백으르 따로 나눠 풀었는데 코드를 보는 사람 입장에서 직관적으로 이해하기 쉬운 것 같다."
   ]
  },
  {
   "cell_type": "code",
   "execution_count": null,
   "metadata": {},
   "outputs": [],
   "source": []
  }
 ],
 "metadata": {
  "kernelspec": {
   "display_name": "Python 3",
   "language": "python",
   "name": "python3"
  },
  "language_info": {
   "codemirror_mode": {
    "name": "ipython",
    "version": 3
   },
   "file_extension": ".py",
   "mimetype": "text/x-python",
   "name": "python",
   "nbconvert_exporter": "python",
   "pygments_lexer": "ipython3",
   "version": "3.7.4"
  }
 },
 "nbformat": 4,
 "nbformat_minor": 2
}
