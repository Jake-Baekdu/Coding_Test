{
 "cells": [
  {
   "cell_type": "code",
   "execution_count": 5,
   "metadata": {},
   "outputs": [],
   "source": [
    "def DFS(start_node):\n",
    "    # 1) stack에 첫 번째 노드 넣으면서 시작\n",
    "    stack = [start_node, ]\n",
    "    \n",
    "    while True:\n",
    "        # 2) stack이 비어있는지 확인\n",
    "        if len(stack) == 0:\n",
    "            print(\"all node searched\")\n",
    "            return None\n",
    "        \n",
    "        # 3) stack에서 맨 위의 노드를 pop\n",
    "        \n",
    "        node = stack.pop()\n",
    "        \n",
    "        # 4) 만약 node가 찾고자 하는 target이라면 서치 중단\n",
    "        \n",
    "        if node == TARGET:\n",
    "            print(\"The targer 찾았당~\")\n",
    "            return node\n",
    "        \n",
    "        # 5) node의 자식을 expand 해서 children에 저장\n",
    "        children = expand(node)\n",
    "        \n",
    "        # 6) children을 stack에 쌓기\n",
    "        stack.extend(children)\n",
    "        \n",
    "        # 7) 이렇게 target을 찾거나, 전부 탐색해서 stack이 빌 때까지 while문 반복\n"
   ]
  },
  {
   "cell_type": "code",
   "execution_count": 4,
   "metadata": {},
   "outputs": [
    {
     "ename": "NameError",
     "evalue": "name 'expand' is not defined",
     "output_type": "error",
     "traceback": [
      "\u001b[1;31m---------------------------------------------------------------------------\u001b[0m",
      "\u001b[1;31mNameError\u001b[0m                                 Traceback (most recent call last)",
      "\u001b[1;32m<ipython-input-4-4c6aa50a591b>\u001b[0m in \u001b[0;36m<module>\u001b[1;34m\u001b[0m\n\u001b[1;32m----> 1\u001b[1;33m \u001b[0mexpand\u001b[0m\u001b[1;33m(\u001b[0m\u001b[1;33m)\u001b[0m\u001b[1;33m\u001b[0m\u001b[1;33m\u001b[0m\u001b[0m\n\u001b[0m",
      "\u001b[1;31mNameError\u001b[0m: name 'expand' is not defined"
     ]
    }
   ],
   "source": [
    "expand()"
   ]
  },
  {
   "cell_type": "markdown",
   "metadata": {},
   "source": [
    "## dict 이용"
   ]
  },
  {
   "cell_type": "code",
   "execution_count": 1,
   "metadata": {},
   "outputs": [
    {
     "data": {
      "text/plain": [
       "{'A': ['B', 'C'],\n",
       " 'B': ['A', 'D'],\n",
       " 'C': ['A', 'G', 'H', 'I'],\n",
       " 'D': ['B', 'E', 'F'],\n",
       " 'E': ['D'],\n",
       " 'F': ['D'],\n",
       " 'G': ['C'],\n",
       " 'H': ['C'],\n",
       " 'I': ['C', 'J'],\n",
       " 'J': ['I']}"
      ]
     },
     "execution_count": 1,
     "metadata": {},
     "output_type": "execute_result"
    }
   ],
   "source": [
    "graph = dict()\n",
    "\n",
    "graph['A'] = ['B', 'C']\n",
    "graph['B'] = ['A', 'D']\n",
    "graph['C'] = ['A', 'G', 'H', 'I']\n",
    "graph['D'] = ['B', 'E', 'F']\n",
    "graph['E'] = ['D']\n",
    "graph['F'] = ['D']\n",
    "graph['G'] = ['C']\n",
    "graph['H'] = ['C']\n",
    "graph['I'] = ['C', 'J']\n",
    "graph['J'] = ['I']\n",
    "\n",
    "graph"
   ]
  },
  {
   "cell_type": "code",
   "execution_count": 6,
   "metadata": {},
   "outputs": [
    {
     "name": "stdout",
     "output_type": "stream",
     "text": [
      "need_visit ['B', 'C']\n",
      "visited ['A']\n",
      "need_visit ['B', 'A', 'G', 'H', 'I']\n",
      "visited ['A', 'C']\n",
      "need_visit ['B', 'A', 'G', 'H', 'C', 'J']\n",
      "visited ['A', 'C', 'I']\n",
      "need_visit ['B', 'A', 'G', 'H', 'C', 'I']\n",
      "visited ['A', 'C', 'I', 'J']\n",
      "need_visit ['B', 'A', 'G', 'C']\n",
      "visited ['A', 'C', 'I', 'J', 'H']\n",
      "need_visit ['B', 'A', 'C']\n",
      "visited ['A', 'C', 'I', 'J', 'H', 'G']\n",
      "need_visit ['A', 'D']\n",
      "visited ['A', 'C', 'I', 'J', 'H', 'G', 'B']\n",
      "need_visit ['A', 'B', 'E', 'F']\n",
      "visited ['A', 'C', 'I', 'J', 'H', 'G', 'B', 'D']\n",
      "need_visit ['A', 'B', 'E', 'D']\n",
      "visited ['A', 'C', 'I', 'J', 'H', 'G', 'B', 'D', 'F']\n",
      "need_visit ['A', 'B', 'D']\n",
      "visited ['A', 'C', 'I', 'J', 'H', 'G', 'B', 'D', 'F', 'E']\n"
     ]
    },
    {
     "data": {
      "text/plain": [
       "['A', 'C', 'I', 'J', 'H', 'G', 'B', 'D', 'F', 'E']"
      ]
     },
     "execution_count": 6,
     "metadata": {},
     "output_type": "execute_result"
    }
   ],
   "source": [
    "def dfs(graph, start_node):\n",
    "    visited, need_visit = list(), list()\n",
    "    need_visit.append(start_node)\n",
    "    \n",
    "    while need_visit:\n",
    "        node = need_visit.pop()\n",
    "        if node not in visited:\n",
    "            visited.append(node)\n",
    "            need_visit.extend(graph[node])\n",
    "            print(\"need_visit\", need_visit)\n",
    "            print(\"visited\", visited)\n",
    "    \n",
    "    return visited\n",
    "\n",
    "dfs(graph, 'A')"
   ]
  },
  {
   "cell_type": "code",
   "execution_count": null,
   "metadata": {},
   "outputs": [],
   "source": []
  },
  {
   "cell_type": "code",
   "execution_count": null,
   "metadata": {},
   "outputs": [],
   "source": []
  }
 ],
 "metadata": {
  "kernelspec": {
   "display_name": "Python 3",
   "language": "python",
   "name": "python3"
  },
  "language_info": {
   "codemirror_mode": {
    "name": "ipython",
    "version": 3
   },
   "file_extension": ".py",
   "mimetype": "text/x-python",
   "name": "python",
   "nbconvert_exporter": "python",
   "pygments_lexer": "ipython3",
   "version": "3.7.4"
  }
 },
 "nbformat": 4,
 "nbformat_minor": 2
}
