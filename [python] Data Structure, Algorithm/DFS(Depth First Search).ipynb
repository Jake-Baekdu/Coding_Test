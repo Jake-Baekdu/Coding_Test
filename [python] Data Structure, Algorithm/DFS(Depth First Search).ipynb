{
 "cells": [
  {
   "cell_type": "code",
   "execution_count": 5,
   "metadata": {},
   "outputs": [],
   "source": [
    "def DFS(start_node):\n",
    "    # 1) stack에 첫 번째 노드 넣으면서 시작\n",
    "    stack = [start_node, ]\n",
    "    \n",
    "    while True:\n",
    "        # 2) stack이 비어있는지 확인\n",
    "        if len(stack) == 0:\n",
    "            print(\"all node searched\")\n",
    "            return None\n",
    "        \n",
    "        # 3) stack에서 맨 위의 노드를 pop\n",
    "        \n",
    "        node = stack.pop()\n",
    "        \n",
    "        # 4) 만약 node가 찾고자 하는 target이라면 서치 중단\n",
    "        \n",
    "        if node == TARGET:\n",
    "            print(\"The targer 찾았당~\")\n",
    "            return node\n",
    "        \n",
    "        # 5) node의 자식을 expand 해서 children에 저장\n",
    "        children = expand(node)\n",
    "        \n",
    "        # 6) children을 stack에 쌓기\n",
    "        stack.extend(children)\n",
    "        \n",
    "        # 7) 이렇게 target을 찾거나, 전부 탐색해서 stack이 빌 때까지 while문 반복\n"
   ]
  },
  {
   "cell_type": "code",
   "execution_count": 4,
   "metadata": {},
   "outputs": [
    {
     "ename": "NameError",
     "evalue": "name 'expand' is not defined",
     "output_type": "error",
     "traceback": [
      "\u001b[1;31m---------------------------------------------------------------------------\u001b[0m",
      "\u001b[1;31mNameError\u001b[0m                                 Traceback (most recent call last)",
      "\u001b[1;32m<ipython-input-4-4c6aa50a591b>\u001b[0m in \u001b[0;36m<module>\u001b[1;34m\u001b[0m\n\u001b[1;32m----> 1\u001b[1;33m \u001b[0mexpand\u001b[0m\u001b[1;33m(\u001b[0m\u001b[1;33m)\u001b[0m\u001b[1;33m\u001b[0m\u001b[1;33m\u001b[0m\u001b[0m\n\u001b[0m",
      "\u001b[1;31mNameError\u001b[0m: name 'expand' is not defined"
     ]
    }
   ],
   "source": [
    "expand()"
   ]
  },
  {
   "cell_type": "code",
   "execution_count": null,
   "metadata": {},
   "outputs": [],
   "source": []
  }
 ],
 "metadata": {
  "kernelspec": {
   "display_name": "Python 3",
   "language": "python",
   "name": "python3"
  },
  "language_info": {
   "codemirror_mode": {
    "name": "ipython",
    "version": 3
   },
   "file_extension": ".py",
   "mimetype": "text/x-python",
   "name": "python",
   "nbconvert_exporter": "python",
   "pygments_lexer": "ipython3",
   "version": "3.7.4"
  }
 },
 "nbformat": 4,
 "nbformat_minor": 2
}
