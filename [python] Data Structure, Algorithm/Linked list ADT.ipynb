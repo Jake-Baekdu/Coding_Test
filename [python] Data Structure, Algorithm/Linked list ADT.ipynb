{
 "cells": [
  {
   "cell_type": "code",
   "execution_count": 87,
   "metadata": {},
   "outputs": [],
   "source": [
    "class Node:\n",
    "    def __init__(self, element):\n",
    "        self.element = element\n",
    "        self.next = None\n",
    "\n",
    "        \n",
    "class LinkedList:\n",
    "    def __init__(self):\n",
    "        self.head = Node('head')\n",
    "\n",
    "    def find(self, item):\n",
    "        cur_node = self.head\n",
    "        while cur_node.element != item:\n",
    "            cur_node = cur_node.next\n",
    "        return cur_node\n",
    "    \n",
    "    def insert(self, new, current):\n",
    "        new_node = Node(new)\n",
    "        cur_node = self.find(current)\n",
    "        new_node.next = cur_node.next\n",
    "        cur_node.next = new_node\n",
    "        \n",
    "    def show(self):\n",
    "        cur_node = self.head\n",
    "        while cur_node.next is not None:\n",
    "            print(cur_node.element, end = ' --> ')\n",
    "            cur_node = cur_node.next\n",
    "        print(cur_node.element)\n",
    "\n",
    "        \n",
    "    def find_previous(self, item):\n",
    "        cur_node = self.head\n",
    "        while (cur_node.next is not None) and (cur_node.next.element != item):\n",
    "            cur_node = cur_node.next\n",
    "        return cur_node\n",
    "            \n",
    "    def remove(self, item):\n",
    "        pre_node = self.find_previous(item)\n",
    "        if pre_node.next is not None:\n",
    "            pre_node.next = pre_node.next.next"
   ]
  },
  {
   "cell_type": "code",
   "execution_count": 88,
   "metadata": {},
   "outputs": [
    {
     "name": "stdout",
     "output_type": "stream",
     "text": [
      "head --> 1\n",
      "head --> 1 --> 2\n",
      "head --> 1 --> 2 --> 3\n",
      "head --> 1 --> 4 --> 2 --> 3\n",
      "head --> 4 --> 2 --> 3\n",
      "head --> 4 --> 2 --> 3\n"
     ]
    }
   ],
   "source": [
    "aa = LinkedList()\n",
    "aa.insert('1', 'head')\n",
    "aa.show()\n",
    "aa.insert('2', '1')\n",
    "aa.show()\n",
    "aa.insert('3', '2')\n",
    "aa.show()\n",
    "aa.insert('4', '1')\n",
    "aa.show()\n",
    "aa.remove('1')\n",
    "aa.show()\n",
    "aa.remove('6')\n",
    "aa.show()"
   ]
  },
  {
   "cell_type": "code",
   "execution_count": null,
   "metadata": {},
   "outputs": [],
   "source": []
  }
 ],
 "metadata": {
  "kernelspec": {
   "display_name": "Python 3",
   "language": "python",
   "name": "python3"
  },
  "language_info": {
   "codemirror_mode": {
    "name": "ipython",
    "version": 3
   },
   "file_extension": ".py",
   "mimetype": "text/x-python",
   "name": "python",
   "nbconvert_exporter": "python",
   "pygments_lexer": "ipython3",
   "version": "3.7.4"
  }
 },
 "nbformat": 4,
 "nbformat_minor": 2
}
