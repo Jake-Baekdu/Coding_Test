{
 "cells": [
  {
   "cell_type": "code",
   "execution_count": 1,
   "metadata": {},
   "outputs": [
    {
     "name": "stdout",
     "output_type": "stream",
     "text": [
      "id(F) :  1957520357448\n",
      "id(self) :  1957520357448\n",
      "function 2\n"
     ]
    }
   ],
   "source": [
    "class Foo:\n",
    "    def func1():\n",
    "            print(\"function 1\")\n",
    "    def func2(self):\n",
    "            print(\"id(self) : \", id(self))\n",
    "            print(\"function 2\")\n",
    "\n",
    "F = Foo()\n",
    "print(\"id(F) : \", id(F))\n",
    "F.func2()"
   ]
  },
  {
   "cell_type": "code",
   "execution_count": 2,
   "metadata": {},
   "outputs": [
    {
     "name": "stdout",
     "output_type": "stream",
     "text": [
      "id(self) :  140709830894320\n",
      "function 2\n"
     ]
    }
   ],
   "source": [
    "Foo.func2(12)"
   ]
  },
  {
   "cell_type": "code",
   "execution_count": 3,
   "metadata": {},
   "outputs": [
    {
     "name": "stdout",
     "output_type": "stream",
     "text": [
      "function 1\n"
     ]
    }
   ],
   "source": [
    "Foo.func1()"
   ]
  },
  {
   "cell_type": "code",
   "execution_count": 4,
   "metadata": {},
   "outputs": [],
   "source": [
    "class BusinessCard():\n",
    "    def set_info(self, name, email, addr):\n",
    "        self.name = name\n",
    "        self.email = email\n",
    "        self.addr = addr\n",
    "    def print_info(self):\n",
    "            print(\"--------------------\")\n",
    "            print(\"Name: \", self.name)\n",
    "            print(\"E-mail: \", self.email)\n",
    "            print(\"Address: \", self.addr)\n",
    "            print(\"--------------------\")"
   ]
  },
  {
   "cell_type": "code",
   "execution_count": 5,
   "metadata": {},
   "outputs": [
    {
     "data": {
      "text/plain": [
       "<__main__.BusinessCard at 0x1c7c54cca48>"
      ]
     },
     "execution_count": 5,
     "metadata": {},
     "output_type": "execute_result"
    }
   ],
   "source": [
    "member1 = BusinessCard()\n",
    "member1"
   ]
  },
  {
   "cell_type": "code",
   "execution_count": 6,
   "metadata": {},
   "outputs": [],
   "source": [
    "member1.set_info(\"Yuna Kim\", \"yunakim@naver.com\", \"Seoul\")"
   ]
  },
  {
   "cell_type": "code",
   "execution_count": 7,
   "metadata": {},
   "outputs": [
    {
     "name": "stdout",
     "output_type": "stream",
     "text": [
      "--------------------\n",
      "Name:  Yuna Kim\n",
      "E-mail:  yunakim@naver.com\n",
      "Address:  Seoul\n",
      "--------------------\n"
     ]
    }
   ],
   "source": [
    "member1.print_info()\n"
   ]
  },
  {
   "cell_type": "code",
   "execution_count": null,
   "metadata": {},
   "outputs": [],
   "source": []
  }
 ],
 "metadata": {
  "kernelspec": {
   "display_name": "Python 3",
   "language": "python",
   "name": "python3"
  },
  "language_info": {
   "codemirror_mode": {
    "name": "ipython",
    "version": 3
   },
   "file_extension": ".py",
   "mimetype": "text/x-python",
   "name": "python",
   "nbconvert_exporter": "python",
   "pygments_lexer": "ipython3",
   "version": "3.7.4"
  }
 },
 "nbformat": 4,
 "nbformat_minor": 2
}
