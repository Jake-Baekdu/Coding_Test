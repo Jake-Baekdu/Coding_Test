{
 "cells": [
  {
   "cell_type": "code",
   "execution_count": 34,
   "metadata": {},
   "outputs": [],
   "source": [
    "class Node:\n",
    "    def __init__(self, element):\n",
    "        self.element = element\n",
    "        self.next = None\n",
    "        self.previous = None\n",
    "\n",
    "        \n",
    "class DoublyLinkedList:\n",
    "    def __init__(self):\n",
    "        self.head = Node('head')\n",
    "\n",
    "    def find(self, item):\n",
    "        cur_node = self.head\n",
    "        while cur_node.next is not None and cur_node.element != item:\n",
    "            cur_node = cur_node.next\n",
    "        return cur_node\n",
    "    \n",
    "    def insert(self, new_nextToExist, exist_item):\n",
    "        new_node = Node(new_nextToExist)\n",
    "        cur_node = self.find(exist_item)\n",
    "        new_node.next = cur_node.next\n",
    "        cur_node.next = new_node\n",
    "        new_node.previous = cur_node\n",
    "    \n",
    "    def show(self):\n",
    "        cur_node = self.head\n",
    "        while cur_node.next is not None:\n",
    "            print(cur_node.element, end=' --> ')\n",
    "            cur_node = cur_node.next\n",
    "        print(cur_node.element)\n",
    "        \n",
    "    def remove(self, item):\n",
    "        cur_node = self.find(item)\n",
    "        if cur_node.previous is not None:\n",
    "            cur_node.previous.next = cur_node.next\n",
    "        if cur_node.next is not None:\n",
    "            cur_node.next.previous = cur_node.previous\n",
    "            \n",
    "    def find_last(self):\n",
    "        cur_node = self.head\n",
    "        while cur_node.next is not None:\n",
    "            cur_node = cur_node.next\n",
    "        return cur_node\n",
    "    \n",
    "    def show_reverse(self):\n",
    "        cur_node =self.find_last()\n",
    "        while cur_node.previous is not None:\n",
    "            print(cur_node.element, end='  <--  ')\n",
    "            cur_node = cur_node.previous\n",
    "        print(cur_node.element)\n",
    "        \n",
    "        \n",
    "        \n",
    "        "
   ]
  },
  {
   "cell_type": "code",
   "execution_count": 35,
   "metadata": {},
   "outputs": [
    {
     "name": "stdout",
     "output_type": "stream",
     "text": [
      "head --> 1\n",
      "head --> 1 --> 2\n",
      "head --> 1 --> 2 --> 3\n",
      "4  <--  3  <--  2  <--  1  <--  head\n",
      "head --> 1 --> 2 --> 3 --> 4\n",
      "head --> 2 --> 3 --> 4\n",
      "head --> 2 --> 4\n"
     ]
    }
   ],
   "source": [
    "aa = DoublyLinkedList()\n",
    "aa.insert('1', 'head')\n",
    "aa.show()\n",
    "aa.insert('2', '1')\n",
    "aa.show()\n",
    "aa.insert('3', '2')\n",
    "aa.show()\n",
    "aa.insert('4', '3')\n",
    "aa.show_reverse()\n",
    "aa.show()\n",
    "aa.remove('1')\n",
    "aa.show()\n",
    "aa.remove('3')\n",
    "aa.show()"
   ]
  }
 ],
 "metadata": {
  "kernelspec": {
   "display_name": "Python 3",
   "language": "python",
   "name": "python3"
  },
  "language_info": {
   "codemirror_mode": {
    "name": "ipython",
    "version": 3
   },
   "file_extension": ".py",
   "mimetype": "text/x-python",
   "name": "python",
   "nbconvert_exporter": "python",
   "pygments_lexer": "ipython3",
   "version": "3.7.4"
  }
 },
 "nbformat": 4,
 "nbformat_minor": 2
}
