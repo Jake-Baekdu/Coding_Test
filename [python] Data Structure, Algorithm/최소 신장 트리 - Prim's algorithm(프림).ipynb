{
 "cells": [
  {
   "cell_type": "markdown",
   "metadata": {},
   "source": [
    "## 참고: heapq 라이브러리 활용을 통해 우선순위 큐 사용하기¶\n",
    "\n",
    "- heapq.heappush를 통해 데이터를 heap 형태로 넣을 수 있음 (0번 인덱스를 우선순위로 인지함)\n",
    "- heapq.heapify() 함수를 통해 리스트 데이터를 heap 형태로 한 번에 변환할 수 있음 (0번 인덱스를 우선순위로 인지함)"
   ]
  },
  {
   "cell_type": "code",
   "execution_count": 9,
   "metadata": {},
   "outputs": [
    {
     "name": "stdout",
     "output_type": "stream",
     "text": [
      "[[1, 'C'], [5, 'B'], [2, 'A'], [7, 'D']]\n",
      "[1, 'C']\n",
      "[2, 'A']\n",
      "[5, 'B']\n",
      "[7, 'D']\n",
      "[]\n"
     ]
    }
   ],
   "source": [
    "import heapq\n",
    "\n",
    "graph_data = [[2, 'A'], [5, 'B'], [1, 'C'], [7, 'D']]\n",
    "\n",
    "\n",
    "heapq.heapify(graph_data)\n",
    "print(graph_data)\n",
    "for index in range(len(graph_data)):\n",
    "    print (heapq.heappop(graph_data))\n",
    "\n",
    "print (graph_data)\n"
   ]
  },
  {
   "cell_type": "markdown",
   "metadata": {},
   "source": [
    "## 참고: collections 라이브러리의 defaultdict 함수 활용하기\n",
    "\n",
    "- defaultdict 함수를 사용해서, key에 대한 value를 지정하지 않았을 시, 빈 리스트로 초기화하기\n"
   ]
  },
  {
   "cell_type": "code",
   "execution_count": 17,
   "metadata": {},
   "outputs": [
    {
     "name": "stdout",
     "output_type": "stream",
     "text": [
      "[]\n"
     ]
    }
   ],
   "source": [
    "from collections import defaultdict\n",
    "\n",
    "list_dict = defaultdict(list)\n",
    "print (list_dict['sdf'])\n"
   ]
  },
  {
   "cell_type": "markdown",
   "metadata": {},
   "source": [
    "## 프림 알고리즘 파이썬 코드\n",
    "\n",
    "1. 모든 간선 정보를 저장 (adjacent_edges)\n",
    "2. 임의의 정점을 선택, '연결된 노드 집합(connected_nodes)'에 삽입\n",
    "3. 선택된 정점에 연결된 간선들을 간선 리스트(candidate_edge_list)에 삽입\n",
    "4. 간선 리스트(candidate_edge_list)에서 최소 가중치를 가지는 간선부터 추출해서,\n",
    "    - 해당 간선에 연결된 인접 정점이 '연결된 노드 집합'에 이미 들어 있다면, 스킵함. \n",
    "    (cycle 발생을 막기 위함)\n",
    "    - 해당 간선에 연결된 인접 정점이 '연결된 노드 집합'에 들어 있지 않으면, 해당 간선을 선택하고, 해당 간선 정보를 '최소 신장 트리(mst)'에 삽입\n",
    "        - 해당 간선에 연결된 인접 정점의 간선들 중, '연결된 노드 집합(connected_nodes)' 에 없는 노드와 연결된 간선들만 간선 리스트(candidate_edge_list) 에 삽입\n",
    "        - 어차피 스킵될 간선을 간선 리스트(candidate_edge_list)에 넣지 않으므로 해서, 간선 리스트(candidate_edge_list)에서 최소 가중치를 가지는 간선부터 추출하기 위한 자료구조 유지를 위한 effort를 줄일 수 있음 (예, 최소힙 구조 사용)\n",
    "5. 선택된 간선은 간선 리스트에서 제거\n",
    "6. 간선 리스트에 더 이상의 간선이 없을 때까지 3-4번을 반복"
   ]
  },
  {
   "cell_type": "code",
   "execution_count": 18,
   "metadata": {},
   "outputs": [
    {
     "name": "stdout",
     "output_type": "stream",
     "text": [
      "defaultdict(<class 'list'>, {'A': [(7, 'A', 'B'), (5, 'A', 'D')], 'B': [(7, 'B', 'A'), (8, 'B', 'C'), (9, 'B', 'D'), (7, 'B', 'E')], 'D': [(5, 'D', 'A'), (9, 'D', 'B'), (7, 'D', 'E'), (6, 'D', 'F')], 'C': [(8, 'C', 'B'), (5, 'C', 'E')], 'E': [(7, 'E', 'B'), (5, 'E', 'C'), (7, 'E', 'D'), (8, 'E', 'F'), (9, 'E', 'G')], 'F': [(6, 'F', 'D'), (8, 'F', 'E'), (11, 'F', 'G')], 'G': [(9, 'G', 'E'), (11, 'G', 'F')]})\n"
     ]
    },
    {
     "data": {
      "text/plain": [
       "[(5, 'A', 'D'),\n",
       " (6, 'D', 'F'),\n",
       " (7, 'A', 'B'),\n",
       " (7, 'B', 'E'),\n",
       " (5, 'E', 'C'),\n",
       " (9, 'E', 'G')]"
      ]
     },
     "execution_count": 18,
     "metadata": {},
     "output_type": "execute_result"
    }
   ],
   "source": [
    "myedges = [\n",
    "    (7, 'A', 'B'), (5, 'A', 'D'),\n",
    "    (8, 'B', 'C'), (9, 'B', 'D'), (7, 'B', 'E'),\n",
    "    (5, 'C', 'E'),\n",
    "    (7, 'D', 'E'), (6, 'D', 'F'),\n",
    "    (8, 'E', 'F'), (9, 'E', 'G'),\n",
    "    (11, 'F', 'G')\n",
    "]\n",
    "\n",
    "from collections import defaultdict\n",
    "from heapq import *\n",
    "\n",
    "def prim(start_node, edges):\n",
    "    mst = list()\n",
    "    adjacent_edges = defaultdict(list)\n",
    "    for weight, n1, n2 in edges:\n",
    "        adjacent_edges[n1].append((weight, n1, n2))\n",
    "        adjacent_edges[n2].append((weight, n2, n1))\n",
    "    print(adjacent_edges)\n",
    "\n",
    "    # 시작 정점을 '연결된 노드 집합(connected_nodes)'에 삽입\n",
    "    connected_nodes = set(start_node)\n",
    "    \n",
    "    # 선택된 정점에 연결된 간선들을 간선 리스트(candidate_edge_list)에 삽입\n",
    "    candidate_edge_list = adjacent_edges[start_node]\n",
    "    \n",
    "    #데이터를 heap 형태로 한 번에 변환\n",
    "    heapify(candidate_edge_list)\n",
    "    \n",
    "    while candidate_edge_list:\n",
    "        weight, n1, n2 = heappop(candidate_edge_list)\n",
    "        \n",
    "        # 해당 간선에 연결된 인접 정점이 '연결된 노드 집합'에 들어 있지 않으면,\n",
    "        # 해당 간선 정보를 '최소 신장 트리(mst)'에 삽입\n",
    "        if n2 not in connected_nodes:\n",
    "            connected_nodes.add(n2)\n",
    "            mst.append((weight, n1, n2))\n",
    "            \n",
    "            for edge in adjacent_edges[n2]:\n",
    "                if edge[2] not in connected_nodes:\n",
    "                    heappush(candidate_edge_list, edge)\n",
    "\n",
    "    return mst\n",
    "\n",
    "\n",
    "prim ('A', myedges)\n"
   ]
  },
  {
   "cell_type": "markdown",
   "metadata": {},
   "source": [
    "## 참고: 개선된 프림 알고리즘\n",
    "\n",
    "- 간선이 아닌 노드를 중심으로 우선순위 큐를 적용하는 방식\n",
    "    - 초기화 - **정점:key**  구조를 만들어놓고, 특정 정점의 key값은 0, 이외의 정점들의 key값은 무한대로 놓음. 모든  **정점:key**  값은 우선순위 큐에 넣음\n",
    "    - 가장 key값이 적은 **정점:key** 를 추출한 후(pop 하므로 해당 정점:key 정보는 우선순위 큐에서 삭제됨), (extract min 로직이라고 부름)\n",
    "    - 해당 정점의 인접한 정점들에 대해 key 값과 연결된 가중치 값을 비교하여 key값이 작으면 해당 **정점:key** 값을 갱신\n",
    "        - **정점:key** 값 갱신시, 우선순위 큐는 최소 key값을 가지는 **정점:key** 를 루트노드로 올려놓도록 재구성함 (decrease key 로직이라고 부름)"
   ]
  },
  {
   "cell_type": "code",
   "execution_count": 35,
   "metadata": {},
   "outputs": [],
   "source": [
    "from heapdict import heapdict\n",
    "\n",
    "def prim(graph, start):\n",
    "    mst, keys, pi, total_weight = list(), heapdict(), dict(), 0\n",
    "    for node in graph.keys():\n",
    "        keys[node] = float('inf')\n",
    "        pi[node] = None\n",
    "    keys[start], pi[start] = 0, start\n",
    "    \n",
    "    for a, b in keys.items():\n",
    "        print(a, b)\n",
    "    print(\"---\")\n",
    "    for a, b in pi.items():\n",
    "        print(a, b)\n",
    "        \n",
    "    while keys:\n",
    "        current_node, current_key = keys.popitem()\n",
    "        print(current_node, current_key)\n",
    "        mst.append([pi[current_node], current_node, current_key])\n",
    "        print(mst)\n",
    "        total_weight += current_key\n",
    "        \n",
    "        # mygraph의 key 값들 루프\n",
    "        for adjacent, weight in mygraph[current_node].items():\n",
    "            if adjacent in keys and weight < keys[adjacent]:\n",
    "                keys[adjacent] = weight\n",
    "                pi[adjacent] = current_node\n",
    "                print(\"pi.items()\", pi.items())\n",
    "    return mst, total_weight"
   ]
  },
  {
   "cell_type": "code",
   "execution_count": 36,
   "metadata": {},
   "outputs": [
    {
     "name": "stdout",
     "output_type": "stream",
     "text": [
      "B inf\n",
      "C inf\n",
      "D inf\n",
      "E inf\n",
      "F inf\n",
      "G inf\n",
      "A 0\n",
      "---\n",
      "A A\n",
      "B None\n",
      "C None\n",
      "D None\n",
      "E None\n",
      "F None\n",
      "G None\n",
      "A 0\n",
      "[['A', 'A', 0]]\n",
      "pi.items() dict_items([('A', 'A'), ('B', 'A'), ('C', None), ('D', None), ('E', None), ('F', None), ('G', None)])\n",
      "pi.items() dict_items([('A', 'A'), ('B', 'A'), ('C', None), ('D', 'A'), ('E', None), ('F', None), ('G', None)])\n",
      "D 5\n",
      "[['A', 'A', 0], ['A', 'D', 5]]\n",
      "pi.items() dict_items([('A', 'A'), ('B', 'A'), ('C', None), ('D', 'A'), ('E', 'D'), ('F', None), ('G', None)])\n",
      "pi.items() dict_items([('A', 'A'), ('B', 'A'), ('C', None), ('D', 'A'), ('E', 'D'), ('F', 'D'), ('G', None)])\n",
      "F 6\n",
      "[['A', 'A', 0], ['A', 'D', 5], ['D', 'F', 6]]\n",
      "pi.items() dict_items([('A', 'A'), ('B', 'A'), ('C', None), ('D', 'A'), ('E', 'D'), ('F', 'D'), ('G', 'F')])\n",
      "B 7\n",
      "[['A', 'A', 0], ['A', 'D', 5], ['D', 'F', 6], ['A', 'B', 7]]\n",
      "pi.items() dict_items([('A', 'A'), ('B', 'A'), ('C', 'B'), ('D', 'A'), ('E', 'D'), ('F', 'D'), ('G', 'F')])\n",
      "E 7\n",
      "[['A', 'A', 0], ['A', 'D', 5], ['D', 'F', 6], ['A', 'B', 7], ['D', 'E', 7]]\n",
      "pi.items() dict_items([('A', 'A'), ('B', 'A'), ('C', 'E'), ('D', 'A'), ('E', 'D'), ('F', 'D'), ('G', 'F')])\n",
      "pi.items() dict_items([('A', 'A'), ('B', 'A'), ('C', 'E'), ('D', 'A'), ('E', 'D'), ('F', 'D'), ('G', 'E')])\n",
      "C 5\n",
      "[['A', 'A', 0], ['A', 'D', 5], ['D', 'F', 6], ['A', 'B', 7], ['D', 'E', 7], ['E', 'C', 5]]\n",
      "G 9\n",
      "[['A', 'A', 0], ['A', 'D', 5], ['D', 'F', 6], ['A', 'B', 7], ['D', 'E', 7], ['E', 'C', 5], ['E', 'G', 9]]\n",
      "MST: [['A', 'A', 0], ['A', 'D', 5], ['D', 'F', 6], ['A', 'B', 7], ['D', 'E', 7], ['E', 'C', 5], ['E', 'G', 9]]\n",
      "Total Weight: 39\n"
     ]
    }
   ],
   "source": [
    "mygraph = {\n",
    "    'A': {'B': 7, 'D': 5},\n",
    "    'B': {'A': 7, 'D': 9, 'C': 8, 'E': 7},\n",
    "    'C': {'B': 8, 'E': 5},\n",
    "    'D': {'A': 5, 'B': 9, 'E': 7, 'F': 6},\n",
    "    'E': {'B': 7, 'C': 5, 'D': 7, 'F': 8, 'G': 9},\n",
    "    'F': {'D': 6, 'E': 8, 'G': 11},\n",
    "    'G': {'E': 9, 'F': 11}    \n",
    "}\n",
    "mst, total_weight = prim(mygraph, 'A')\n",
    "print ('MST:', mst)\n",
    "print ('Total Weight:', total_weight)"
   ]
  },
  {
   "cell_type": "code",
   "execution_count": null,
   "metadata": {},
   "outputs": [],
   "source": []
  }
 ],
 "metadata": {
  "kernelspec": {
   "display_name": "Python 3",
   "language": "python",
   "name": "python3"
  },
  "language_info": {
   "codemirror_mode": {
    "name": "ipython",
    "version": 3
   },
   "file_extension": ".py",
   "mimetype": "text/x-python",
   "name": "python",
   "nbconvert_exporter": "python",
   "pygments_lexer": "ipython3",
   "version": "3.7.4"
  }
 },
 "nbformat": 4,
 "nbformat_minor": 2
}
