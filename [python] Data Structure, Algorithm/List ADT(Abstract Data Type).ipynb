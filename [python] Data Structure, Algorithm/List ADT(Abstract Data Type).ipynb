{
 "cells": [
  {
   "cell_type": "code",
   "execution_count": 1,
   "metadata": {},
   "outputs": [],
   "source": [
    "class List:\n",
    "\n",
    "    def __init__(self):\n",
    "        self.list = []\n",
    "        self.pos = 0\n",
    "        self.size = 0\n",
    "        \n",
    "    def append(self, element):\n",
    "        self.list.append(elemnet)\n",
    "        self.size += 1\n",
    "        \n",
    "    def length(self):\n",
    "        return self.size\n",
    "    \n",
    "    def find(self, element):\n",
    "        for i in range(self.size):\n",
    "            if self.list[i] == element:\n",
    "                return i\n",
    "            return False\n",
    "    \n",
    "    def insert(self, element, after):\n",
    "        insert_pos = self.find(after)\n",
    "        if insert_pos:\n",
    "            self.list.insert(insert_pos+1, element)\n",
    "            self.size += 1\n",
    "            return True\n",
    "        return False\n",
    "    \n",
    "    def remove(self, element):\n",
    "        found_at = self.find(element)\n",
    "        if found_at:\n",
    "            del self.list[found_at]\n",
    "            self.size -= 1\n",
    "            return True\n",
    "        return False\n",
    "    \n",
    "    def clear(self):\n",
    "        self.list.clear()\n",
    "        self.size = 0\n",
    "        self.pos = 0\n",
    "        \n",
    "    def tostring(self):\n",
    "        return self.list\n",
    "    \n",
    "    \n",
    "    "
   ]
  },
  {
   "cell_type": "code",
   "execution_count": 3,
   "metadata": {},
   "outputs": [
    {
     "ename": "AttributeError",
     "evalue": "'list' object has no attribute 'size'",
     "output_type": "error",
     "traceback": [
      "\u001b[1;31m---------------------------------------------------------------------------\u001b[0m",
      "\u001b[1;31mAttributeError\u001b[0m                            Traceback (most recent call last)",
      "\u001b[1;32m<ipython-input-3-ec2a541d00c5>\u001b[0m in \u001b[0;36m<module>\u001b[1;34m\u001b[0m\n\u001b[0;32m      1\u001b[0m \u001b[0ma\u001b[0m \u001b[1;33m=\u001b[0m \u001b[1;33m[\u001b[0m\u001b[1;36m1\u001b[0m\u001b[1;33m,\u001b[0m\u001b[1;36m4\u001b[0m\u001b[1;33m,\u001b[0m\u001b[1;36m5\u001b[0m\u001b[1;33m]\u001b[0m\u001b[1;33m\u001b[0m\u001b[1;33m\u001b[0m\u001b[0m\n\u001b[1;32m----> 2\u001b[1;33m \u001b[0ma\u001b[0m\u001b[1;33m.\u001b[0m\u001b[0msize\u001b[0m\u001b[1;33m(\u001b[0m\u001b[1;33m)\u001b[0m\u001b[1;33m\u001b[0m\u001b[1;33m\u001b[0m\u001b[0m\n\u001b[0m",
      "\u001b[1;31mAttributeError\u001b[0m: 'list' object has no attribute 'size'"
     ]
    }
   ],
   "source": [
    "a = [1,4,5]\n",
    "a.size()"
   ]
  },
  {
   "cell_type": "code",
   "execution_count": null,
   "metadata": {},
   "outputs": [],
   "source": []
  }
 ],
 "metadata": {
  "kernelspec": {
   "display_name": "Python 3",
   "language": "python",
   "name": "python3"
  },
  "language_info": {
   "codemirror_mode": {
    "name": "ipython",
    "version": 3
   },
   "file_extension": ".py",
   "mimetype": "text/x-python",
   "name": "python",
   "nbconvert_exporter": "python",
   "pygments_lexer": "ipython3",
   "version": "3.7.4"
  }
 },
 "nbformat": 4,
 "nbformat_minor": 2
}
