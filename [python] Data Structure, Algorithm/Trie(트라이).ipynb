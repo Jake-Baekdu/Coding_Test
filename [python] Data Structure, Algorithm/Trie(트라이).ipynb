{
 "cells": [
  {
   "cell_type": "code",
   "execution_count": 6,
   "metadata": {},
   "outputs": [],
   "source": [
    "class Node(object):\n",
    "    \"\"\"\n",
    "    A node that consists of a trie.\n",
    "    \"\"\"\n",
    "    \n",
    "    def __init__(self, key, data=None):\n",
    "        self.key = key\n",
    "        self.data = data\n",
    "        self.children = {}"
   ]
  },
  {
   "cell_type": "code",
   "execution_count": 26,
   "metadata": {},
   "outputs": [],
   "source": [
    "class Trie(object):\n",
    "    def __init__(self):\n",
    "        self.head = Node(None)\n",
    "    \n",
    "    \"\"\"\n",
    "    트라이에 문자열을 삽입합니다.\n",
    "    \"\"\"\n",
    "    def insert(self, string):\n",
    "        curr_node = self.head\n",
    "        \n",
    "        for char in string:\n",
    "            if char not in curr_node.children:\n",
    "                curr_node.children[char] = Node(char)\n",
    "                \n",
    "            curr_node = curr_node.children[char]\n",
    "            \n",
    "            # string 의 마지막 글자 차례이면,\n",
    "            # 노드의 data 필드에 저장하려는 문자열 전체를 저장한다.\n",
    "        curr_node.data = string\n",
    "    \n",
    "    \n",
    "    \"\"\"\n",
    "    주어진 단어 string이 트라이에 존재하는지 여부를 반환합니다.\n",
    "    \"\"\"\n",
    "    def search(self, string):\n",
    "        curr_node = self.head\n",
    "        \n",
    "        for char in string:\n",
    "            if char in curr_node.children:\n",
    "                curr_node = curr_node.children[char]\n",
    "            else:\n",
    "                return False\n",
    "            \n",
    "        # string의 마지막 글자에 다달았을 때,\n",
    "        # curr_node 에 data 가 있다면 string이 트라이에 존재하는 것!\n",
    "        if (curr_node.data != None):\n",
    "            return True\n",
    "    \n",
    "    \"\"\"\n",
    "    주어진 prefix 로 시작하는 단어들을\n",
    "    트라이에서 찾아 리스트 형태로 반환합니다.\n",
    "    \"\"\"\n",
    "    def starts_with(self, prefix):\n",
    "        curr_node = self.head\n",
    "        result = []\n",
    "        subtrie = None\n",
    "        \n",
    "        # 트라이에서 prefix 를 찾고,\n",
    "        # prefix의 마지막 글자 노드를 subtrie로 설정\n",
    "        for char in prefix:\n",
    "            if char in curr_node.children:\n",
    "                curr_node = curr_node.children[char]\n",
    "                subtrie = curr_node\n",
    "            else:\n",
    "                return None\n",
    "            \n",
    "        # bfs 로 prefix subtrie를 순회하며 \n",
    "        # data가 있는 노드들(=완전한 단어)를 찾는다.\n",
    "        queue = list(subtrie.children.values())\n",
    "        \n",
    "        while queue:\n",
    "            curr = queue.pop()\n",
    "            if curr.data != None:\n",
    "                result.append(curr.data)\n",
    "            \n",
    "            queue += list(curr.children.values())\n",
    "                \n",
    "        return result\n"
   ]
  },
  {
   "cell_type": "code",
   "execution_count": null,
   "metadata": {},
   "outputs": [],
   "source": []
  },
  {
   "cell_type": "code",
   "execution_count": 34,
   "metadata": {},
   "outputs": [
    {
     "data": {
      "text/plain": [
       "'0\\\\d{1,2}[ -]?\\\\d{3,4}[ -]?\\\\d{3,4}'"
      ]
     },
     "execution_count": 34,
     "metadata": {},
     "output_type": "execute_result"
    }
   ],
   "source": [
    "regex = r'0\\d{1,2}[ -]?\\d{3,4}[ -]?\\d{3,4}'  \n",
    "regex"
   ]
  },
  {
   "cell_type": "code",
   "execution_count": 32,
   "metadata": {},
   "outputs": [
    {
     "name": "stdout",
     "output_type": "stream",
     "text": [
      "re.compile('^12') 12\n",
      "re.compile('^12') 123\n"
     ]
    },
    {
     "data": {
      "text/plain": [
       "False"
      ]
     },
     "execution_count": 32,
     "metadata": {},
     "output_type": "execute_result"
    }
   ],
   "source": [
    "solution([\"12\",\"123\",\"1235\",\"567\",\"88\"])"
   ]
  }
 ],
 "metadata": {
  "kernelspec": {
   "display_name": "Python 3",
   "language": "python",
   "name": "python3"
  },
  "language_info": {
   "codemirror_mode": {
    "name": "ipython",
    "version": 3
   },
   "file_extension": ".py",
   "mimetype": "text/x-python",
   "name": "python",
   "nbconvert_exporter": "python",
   "pygments_lexer": "ipython3",
   "version": "3.7.4"
  }
 },
 "nbformat": 4,
 "nbformat_minor": 2
}
