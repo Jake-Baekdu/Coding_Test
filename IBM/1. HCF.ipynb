{
 "cells": [
  {
   "cell_type": "markdown",
   "metadata": {},
   "source": [
    "Write a program to find HCF of two numbers by without using recursion.\n",
    "\n",
    "Input format:\n",
    "\n",
    "The first line contains any 2 positive numbers separated by space.\n",
    "\n",
    "Output format:\n",
    "\n",
    "Print the HCF of given two numbers.\n",
    "\n",
    "Sample Input:\n",
    "\n",
    "70 15\n",
    "\n",
    "Sample Output:\n",
    "\n",
    "5\n"
   ]
  },
  {
   "cell_type": "code",
   "execution_count": 3,
   "metadata": {},
   "outputs": [],
   "source": [
    "def solution(a, b):\n",
    "    if(a < b):\n",
    "        tmp = a\n",
    "        a = b\n",
    "        b = tmp\n",
    "    while(b!=0):\n",
    "        n = a%b\n",
    "        a = b\n",
    "        b = n\n",
    "    return a"
   ]
  },
  {
   "cell_type": "code",
   "execution_count": null,
   "metadata": {},
   "outputs": [],
   "source": []
  },
  {
   "cell_type": "code",
   "execution_count": null,
   "metadata": {},
   "outputs": [],
   "source": []
  }
 ],
 "metadata": {
  "kernelspec": {
   "display_name": "Python 3",
   "language": "python",
   "name": "python3"
  },
  "language_info": {
   "codemirror_mode": {
    "name": "ipython",
    "version": 3
   },
   "file_extension": ".py",
   "mimetype": "text/x-python",
   "name": "python",
   "nbconvert_exporter": "python",
   "pygments_lexer": "ipython3",
   "version": "3.7.4"
  }
 },
 "nbformat": 4,
 "nbformat_minor": 2
}
