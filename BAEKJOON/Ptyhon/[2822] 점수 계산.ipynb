{
 "cells": [
  {
   "cell_type": "code",
   "execution_count": 6,
   "metadata": {
    "ExecuteTime": {
     "end_time": "2022-01-20T14:52:54.516220Z",
     "start_time": "2022-01-20T14:52:54.505249Z"
    }
   },
   "outputs": [
    {
     "name": "stdout",
     "output_type": "stream",
     "text": [
      "1 2 3\n"
     ]
    }
   ],
   "source": [
    "\n",
    "arr = [0 for _ in range(8)]\n",
    "\n",
    "for i in range(8):\n",
    "    arr[i] = [int(input()), i+1]\n",
    "    \n",
    "arr.sort()\n",
    "SUM = 0\n",
    "ans_nums = set()\n",
    "for i in range(3,8):\n",
    "    SUM += arr[i][0]\n",
    "    ans_nums.add(arr[i][1])\n",
    "\n",
    "print(SUM)\n",
    "print(*ans_nums)\n",
    "    \n",
    "\n",
    "    \n"
   ]
  }
 ],
 "metadata": {
  "kernelspec": {
   "display_name": "Python 3",
   "language": "python",
   "name": "python3"
  },
  "language_info": {
   "codemirror_mode": {
    "name": "ipython",
    "version": 3
   },
   "file_extension": ".py",
   "mimetype": "text/x-python",
   "name": "python",
   "nbconvert_exporter": "python",
   "pygments_lexer": "ipython3",
   "version": "3.7.4"
  },
  "toc": {
   "base_numbering": 1,
   "nav_menu": {},
   "number_sections": true,
   "sideBar": true,
   "skip_h1_title": false,
   "title_cell": "Table of Contents",
   "title_sidebar": "Contents",
   "toc_cell": false,
   "toc_position": {},
   "toc_section_display": true,
   "toc_window_display": false
  }
 },
 "nbformat": 4,
 "nbformat_minor": 2
}
