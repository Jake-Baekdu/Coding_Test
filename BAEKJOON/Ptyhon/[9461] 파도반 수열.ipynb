{
 "cells": [
  {
   "cell_type": "code",
   "execution_count": null,
   "metadata": {},
   "outputs": [],
   "source": [
    "t = int(input())\n",
    "\n",
    "dp = [0,1,1,1,2,2,3,4,5,7,9,12] + [0]*90\n",
    "\n",
    "def make_dp(num):\n",
    "    for i in range(12, num+1):\n",
    "        if dp[i] != 0:\n",
    "            continue\n",
    "        else:\n",
    "            dp[i] = dp[i-5] + dp[i-1]\n",
    "            \n",
    "for _ in range(t):\n",
    "    n = int(input())\n",
    "    \n",
    "    if n <= 11 :\n",
    "        print(dp[n])\n",
    "    else:\n",
    "        if dp[n] != 0:\n",
    "            print(dp[n])\n",
    "        else:\n",
    "            make_dp(n)\n",
    "            print(dp[n])"
   ]
  }
 ],
 "metadata": {
  "kernelspec": {
   "display_name": "Python 3",
   "language": "python",
   "name": "python3"
  },
  "language_info": {
   "codemirror_mode": {
    "name": "ipython",
    "version": 3
   },
   "file_extension": ".py",
   "mimetype": "text/x-python",
   "name": "python",
   "nbconvert_exporter": "python",
   "pygments_lexer": "ipython3",
   "version": "3.7.4"
  },
  "toc": {
   "base_numbering": 1,
   "nav_menu": {},
   "number_sections": true,
   "sideBar": true,
   "skip_h1_title": false,
   "title_cell": "Table of Contents",
   "title_sidebar": "Contents",
   "toc_cell": false,
   "toc_position": {},
   "toc_section_display": true,
   "toc_window_display": false
  }
 },
 "nbformat": 4,
 "nbformat_minor": 2
}
