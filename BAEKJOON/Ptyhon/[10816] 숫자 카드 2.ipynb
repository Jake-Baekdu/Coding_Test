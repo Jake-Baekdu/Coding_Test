{
 "cells": [
  {
   "cell_type": "code",
   "execution_count": 1,
   "metadata": {},
   "outputs": [
    {
     "name": "stdout",
     "output_type": "stream",
     "text": [
      "\n"
     ]
    }
   ],
   "source": [
    "from sys import stdin\n",
    "from collections import Counter\n",
    "_ = stdin.readline()\n",
    "N = stdin.readline().split()\n",
    "_ = stdin.readline()\n",
    "M = stdin.readline().split()\n",
    "\n",
    "C = Counter(N)\n",
    "print(' '.join(f'{C[m]}' if m in C else '0' for m in M))"
   ]
  },
  {
   "cell_type": "code",
   "execution_count": 2,
   "metadata": {},
   "outputs": [
    {
     "name": "stdout",
     "output_type": "stream",
     "text": [
      "\n"
     ]
    }
   ],
   "source": [
    "from sys import stdin\n",
    "_ = stdin.readline()\n",
    "N = sorted(map(int,stdin.readline().split()))\n",
    "_ = stdin.readline()\n",
    "M = map(int,stdin.readline().split())\n",
    "\n",
    "def binary(n, N, start, end):\n",
    "    if start > end:\n",
    "        return 0\n",
    "    m = (start+end)//2\n",
    "    if n == N[m]:\n",
    "        return N[start:end+1].count(n)\n",
    "    elif n < N[m]:\n",
    "        return binary(n, N, start, m-1)\n",
    "    else:\n",
    "        return binary(n, N, m+1, end)\n",
    "\n",
    "n_dic = {}\n",
    "for n in N:\n",
    "    start = 0\n",
    "    end = len(N) - 1\n",
    "    if n not in n_dic:\n",
    "        n_dic[n] = binary(n, N, start, end)\n",
    "\n",
    "print(' '.join(str(n_dic[x]) if x in n_dic else '0' for x in M ))"
   ]
  },
  {
   "cell_type": "code",
   "execution_count": null,
   "metadata": {},
   "outputs": [],
   "source": [
    "from sys import stdin\n",
    "_ = stdin.readline()\n",
    "N = sorted(map(int,stdin.readline().split()))\n",
    "_ = stdin.readline()\n",
    "M = map(int,stdin.readline().split())\n",
    "\n",
    "def binary(l, N, start, end):\n",
    "    if start > end:\n",
    "        return 0\n",
    "    m = (start+end)//2\n",
    "    if l == N[m]:\n",
    "        i, j = 1, 1\n",
    "        while m-i >= start:\n",
    "            if N[m-i] != N[m]:\n",
    "                break\n",
    "            else: i += 1\n",
    "        while m+j <= end:\n",
    "            if N[m+j] != N[m]:\n",
    "                break\n",
    "            else: j+= 1\n",
    "        return i + j - 1\n",
    "    elif l < N[m]:\n",
    "        return binary(l, N, start, m-1)\n",
    "    else:\n",
    "        return binary(l, N, m+1, end)\n",
    "n_dic = {}\n",
    "for n in N:\n",
    "    start = 0\n",
    "    end = len(N) - 1\n",
    "    if n not in n_dic:\n",
    "        n_dic[n] = binary(n, N, start, end)\n",
    "\n",
    "print(' '.join(str(n_dic[x]) if x in n_dic else '0' for x in M ))"
   ]
  }
 ],
 "metadata": {
  "kernelspec": {
   "display_name": "Python 3",
   "language": "python",
   "name": "python3"
  },
  "language_info": {
   "codemirror_mode": {
    "name": "ipython",
    "version": 3
   },
   "file_extension": ".py",
   "mimetype": "text/x-python",
   "name": "python",
   "nbconvert_exporter": "python",
   "pygments_lexer": "ipython3",
   "version": "3.7.4"
  }
 },
 "nbformat": 4,
 "nbformat_minor": 2
}
