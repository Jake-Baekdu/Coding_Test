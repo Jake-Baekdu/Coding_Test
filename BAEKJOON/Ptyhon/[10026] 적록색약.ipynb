{
 "cells": [
  {
   "cell_type": "code",
   "execution_count": 6,
   "metadata": {
    "ExecuteTime": {
     "end_time": "2022-02-12T14:56:38.717507Z",
     "start_time": "2022-02-12T14:56:35.646897Z"
    }
   },
   "outputs": [
    {
     "name": "stdout",
     "output_type": "stream",
     "text": [
      "3\n",
      "RRR\n",
      "GGG\n",
      "BBB\n",
      "3 2\n"
     ]
    }
   ],
   "source": [
    "from collections import deque\n",
    "\n",
    "n = int(input())\n",
    "board = [[] for _ in range(n)]\n",
    "\n",
    "for i in range(n):\n",
    "    board[i] = list(input())\n",
    "\n",
    "\n",
    "move_xy = [(1,0), (0,1), (-1,0), (0,-1)]\n",
    "visit = [[0 for _ in range(n)] for _ in range(n)]\n",
    "\n",
    "def checkRB(x, y):\n",
    "    dq = deque([(x,y)])\n",
    "    another_color = None\n",
    "    \n",
    "    while(dq):\n",
    "        sx, sy = dq.popleft()\n",
    "        now_color = board[sx][sy]\n",
    "        \n",
    "        if now_color == 'R':\n",
    "            another_color = 'G'\n",
    "        elif now_color == 'G':\n",
    "            another_color = 'R'\n",
    "            \n",
    "        if visit[sx][sy] == 1:\n",
    "            continue\n",
    "        visit[sx][sy] = 1\n",
    "        \n",
    "        for mx, my in move_xy:\n",
    "            nx = sx + mx\n",
    "            ny = sy + my\n",
    "            if 0 <= nx < n and 0 <= ny < n:\n",
    "                if visit[nx][ny] == 0:\n",
    "                    if board[nx][ny] == now_color or board[nx][ny] == another_color:\n",
    "                        dq.append((nx,ny))\n",
    "                    \n",
    "def checkRGB(x, y):\n",
    "    dq = deque([(x,y)])\n",
    "    \n",
    "    while(dq):\n",
    "        sx, sy = dq.popleft()\n",
    "        now_color = board[sx][sy]\n",
    "            \n",
    "        if visit[sx][sy] == 1:\n",
    "            continue\n",
    "        visit[sx][sy] = 1\n",
    "        \n",
    "        for mx, my in move_xy:\n",
    "            nx = sx + mx\n",
    "            ny = sy + my\n",
    "            if 0 <= nx < n and 0 <= ny < n:\n",
    "                if visit[nx][ny] == 0:\n",
    "                    if board[nx][ny] == now_color:\n",
    "                        dq.append((nx,ny))\n",
    "\n",
    "RGBans = 0\n",
    "for i in range(n):\n",
    "    for j in range(n):\n",
    "        if visit[i][j] == 0:\n",
    "            checkRGB(i,j)\n",
    "            RGBans += 1\n",
    "            \n",
    "visit = [[0 for _ in range(n)] for _ in range(n)]\n",
    "\n",
    "RBans = 0\n",
    "for i in range(n):\n",
    "    for j in range(n):\n",
    "        if visit[i][j] == 0:\n",
    "            checkRB(i,j)\n",
    "            RBans += 1          \n",
    "                    \n",
    "print(RGBans, RBans)\n",
    "                    \n",
    "        "
   ]
  },
  {
   "cell_type": "code",
   "execution_count": null,
   "metadata": {},
   "outputs": [],
   "source": []
  }
 ],
 "metadata": {
  "kernelspec": {
   "display_name": "Python 3",
   "language": "python",
   "name": "python3"
  },
  "language_info": {
   "codemirror_mode": {
    "name": "ipython",
    "version": 3
   },
   "file_extension": ".py",
   "mimetype": "text/x-python",
   "name": "python",
   "nbconvert_exporter": "python",
   "pygments_lexer": "ipython3",
   "version": "3.7.4"
  },
  "toc": {
   "base_numbering": 1,
   "nav_menu": {},
   "number_sections": true,
   "sideBar": true,
   "skip_h1_title": false,
   "title_cell": "Table of Contents",
   "title_sidebar": "Contents",
   "toc_cell": false,
   "toc_position": {},
   "toc_section_display": true,
   "toc_window_display": false
  }
 },
 "nbformat": 4,
 "nbformat_minor": 2
}
