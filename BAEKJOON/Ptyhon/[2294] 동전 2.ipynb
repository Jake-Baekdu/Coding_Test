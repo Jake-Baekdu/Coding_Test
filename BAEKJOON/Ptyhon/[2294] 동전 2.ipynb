{
 "cells": [
  {
   "cell_type": "code",
   "execution_count": 3,
   "metadata": {},
   "outputs": [
    {
     "name": "stdout",
     "output_type": "stream",
     "text": [
      "3 15\n",
      "1\n",
      "5\n",
      "12\n"
     ]
    }
   ],
   "source": [
    "n, k = map(int, input().split())\n",
    "\n",
    "coins = [0] * (n)\n",
    "dp = [0] * (k+1)\n",
    "for i in range(n):\n",
    "    coins[i] = int(input())\n",
    "\n",
    "dp = [10001]*(k+1)\n",
    "dp[0] = 0"
   ]
  },
  {
   "cell_type": "code",
   "execution_count": 71,
   "metadata": {},
   "outputs": [],
   "source": [
    "for i in range(n):\n",
    "    for j in range(coins[i], k+1):\n",
    "        dp[j] = min(dp[j], dp[j-coins[i]] + 1)\n",
    "        \n",
    "dp[-1] = dp[-1] if dp[-1] != 10001 else -1\n",
    "print(dp[-1])"
   ]
  },
  {
   "cell_type": "code",
   "execution_count": 50,
   "metadata": {},
   "outputs": [
    {
     "data": {
      "text/plain": [
       "{0: [15],\n",
       " 1: [0],\n",
       " 2: [0],\n",
       " 3: [0],\n",
       " 4: [0],\n",
       " 5: [0],\n",
       " 6: [0],\n",
       " 7: [0],\n",
       " 8: [0],\n",
       " 9: [0],\n",
       " 10: [0],\n",
       " 11: [0],\n",
       " 12: [0],\n",
       " 13: [0],\n",
       " 14: [0],\n",
       " 15: [0]}"
      ]
     },
     "execution_count": 50,
     "metadata": {},
     "output_type": "execute_result"
    }
   ],
   "source": [
    "# 참고 \n",
    "\n",
    "for c in range(len(coins)):\n",
    "    for i in range(1, k+1):\n",
    "        if i >= coins[c]:\n",
    "            dp[i].append(dp[i][-1] + dp[i-coins[c]][-1])  "
   ]
  },
  {
   "cell_type": "code",
   "execution_count": 74,
   "metadata": {},
   "outputs": [
    {
     "data": {
      "text/plain": [
       "3"
      ]
     },
     "execution_count": 74,
     "metadata": {},
     "output_type": "execute_result"
    }
   ],
   "source": []
  },
  {
   "cell_type": "code",
   "execution_count": null,
   "metadata": {},
   "outputs": [],
   "source": []
  }
 ],
 "metadata": {
  "kernelspec": {
   "display_name": "Python 3",
   "language": "python",
   "name": "python3"
  },
  "language_info": {
   "codemirror_mode": {
    "name": "ipython",
    "version": 3
   },
   "file_extension": ".py",
   "mimetype": "text/x-python",
   "name": "python",
   "nbconvert_exporter": "python",
   "pygments_lexer": "ipython3",
   "version": "3.7.4"
  }
 },
 "nbformat": 4,
 "nbformat_minor": 2
}
