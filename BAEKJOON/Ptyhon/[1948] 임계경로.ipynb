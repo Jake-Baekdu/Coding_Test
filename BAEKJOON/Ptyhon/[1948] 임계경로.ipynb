{
 "cells": [
  {
   "cell_type": "code",
   "execution_count": 1,
   "metadata": {},
   "outputs": [
    {
     "data": {
      "text/plain": [
       "{'a', 'd', 'f', 's'}"
      ]
     },
     "execution_count": 1,
     "metadata": {},
     "output_type": "execute_result"
    }
   ],
   "source": [
    "5\n",
    "7\n",
    "1 2 1\n",
    "1 3 3\n",
    "2 3 2\n",
    "2 4 1\n",
    "2 5 3\n",
    "3 5 1\n",
    "4 5 1\n",
    "1 5"
   ]
  },
  {
   "cell_type": "code",
   "execution_count": null,
   "metadata": {},
   "outputs": [],
   "source": [
    "path = ''\n",
    "def dfs():\n",
    "    dq = deque()\n",
    "    for s in q:\n",
    "        dq.append((s[0], s[1], path))\n",
    "    \n",
    "    longestPathCnt = 0\n",
    "    while dq:\n",
    "        node, cost = dq.pop()\n",
    "        \n",
    "        if not arr[node]:\n",
    "            if cost > longestPathCnt:\n",
    "                longestPathCnt = cost\n",
    "                path\n",
    "        for e, w in arr[node]:\n",
    "            dq.append((e,w+cost))\n",
    "    return longestPathCnt"
   ]
  }
 ],
 "metadata": {
  "kernelspec": {
   "display_name": "Python 3",
   "language": "python",
   "name": "python3"
  },
  "language_info": {
   "codemirror_mode": {
    "name": "ipython",
    "version": 3
   },
   "file_extension": ".py",
   "mimetype": "text/x-python",
   "name": "python",
   "nbconvert_exporter": "python",
   "pygments_lexer": "ipython3",
   "version": "3.7.4"
  }
 },
 "nbformat": 4,
 "nbformat_minor": 2
}
