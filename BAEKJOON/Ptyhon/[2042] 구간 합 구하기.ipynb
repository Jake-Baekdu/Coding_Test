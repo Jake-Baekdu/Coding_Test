{
 "cells": [
  {
   "cell_type": "code",
   "execution_count": null,
   "metadata": {},
   "outputs": [],
   "source": [
    "import sys\n",
    "import math\n",
    "input = sys.stdin.readline\n",
    "\n",
    "def init(a, tree, node, start, end):\n",
    "    if start == end:\n",
    "        tree[node] = a[start]\n",
    "    else:\n",
    "        init(a, tree, node*2, start, (start+end)//2)\n",
    "        init(a, tree, node*2+1, (start+end)//2+1, end)\n",
    "        tree[node] = tree[node*2] + tree[node*2+1]\n",
    "\n",
    "def update(a, tree, node, start, end, index, val):\n",
    "    if index < start or index > end:\n",
    "        return\n",
    "    if start == end:\n",
    "        a[index] = val\n",
    "        tree[node] = val\n",
    "        return\n",
    "    \n",
    "    update(a, tree, node*2, start, (start+end)//2, index, val)\n",
    "    update(a, tree, node*2+1, (start+end)//2+1, end, index, val)\n",
    "    tree[node] = tree[node*2] + tree[node*2+1]\n",
    "\n",
    "def query(tree, node, start, end, left, right):\n",
    "    if left > end or right < start:\n",
    "        return 0\n",
    "    if left <= start and end <= right:\n",
    "        return tree[node]\n",
    "    lsum = query(tree, node*2, start, (start+end)//2, left, right)\n",
    "    rsum = query(tree, node*2+1, (start+end)//2+1, end, left, right)\n",
    "    return lsum + rsum\n",
    "    \n",
    "n, m, k = map(int, input().split())\n",
    "a = [int(input()) for _ in range(n)]\n",
    "h = math.ceil(math.log2(n))\n",
    "tree_size = 1 << (h+1)\n",
    "tree = [0] * tree_size\n",
    "m += k\n",
    "init(a, tree, 1, 0, n-1)\n",
    "for _ in range(m):\n",
    "    what, t1, t2 = map(int, input().split())\n",
    "    if what == 1:\n",
    "        index, val = t1, t2\n",
    "        update(a, tree, 1, 0, n-1, index-1, val)\n",
    "    else:\n",
    "        left, right = t1, t2\n",
    "        print(query(tree, 1, 0, n-1, left-1, right-1))\n"
   ]
  },
  {
   "cell_type": "code",
   "execution_count": null,
   "metadata": {},
   "outputs": [],
   "source": []
  }
 ],
 "metadata": {
  "kernelspec": {
   "display_name": "Python 3",
   "language": "python",
   "name": "python3"
  },
  "language_info": {
   "codemirror_mode": {
    "name": "ipython",
    "version": 3
   },
   "file_extension": ".py",
   "mimetype": "text/x-python",
   "name": "python",
   "nbconvert_exporter": "python",
   "pygments_lexer": "ipython3",
   "version": "3.7.4"
  },
  "toc": {
   "base_numbering": 1,
   "nav_menu": {},
   "number_sections": true,
   "sideBar": true,
   "skip_h1_title": false,
   "title_cell": "Table of Contents",
   "title_sidebar": "Contents",
   "toc_cell": false,
   "toc_position": {},
   "toc_section_display": true,
   "toc_window_display": false
  }
 },
 "nbformat": 4,
 "nbformat_minor": 2
}
