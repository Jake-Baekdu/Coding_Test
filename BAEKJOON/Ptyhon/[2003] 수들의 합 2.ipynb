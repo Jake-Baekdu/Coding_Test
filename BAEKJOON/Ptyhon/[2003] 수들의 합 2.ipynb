{
 "cells": [
  {
   "cell_type": "code",
   "execution_count": 49,
   "metadata": {},
   "outputs": [
    {
     "name": "stdout",
     "output_type": "stream",
     "text": [
      "10 5\n",
      "1 2 3 4 2 5 3 1 1 2\n"
     ]
    }
   ],
   "source": [
    "N, M = map(int, input().split())\n",
    "\n",
    "num_arr = list(map(int, input().split()))\n"
   ]
  },
  {
   "cell_type": "code",
   "execution_count": 52,
   "metadata": {},
   "outputs": [
    {
     "name": "stdout",
     "output_type": "stream",
     "text": [
      "3\n"
     ]
    }
   ],
   "source": [
    "start, end = 0, 0\n",
    "sum = 0\n",
    "cnt = 0\n",
    "\n",
    "while(start < len(num_arr)):\n",
    "    if(sum == M):\n",
    "        cnt += 1\n",
    "        sum -= num_arr[start]\n",
    "        start += 1\n",
    "    elif sum > M or end == N:\n",
    "        sum -= num_arr[start]\n",
    "        start += 1\n",
    "    else:\n",
    "        sum += num_arr[end]\n",
    "        end += 1\n",
    "\n",
    "print(cnt)"
   ]
  },
  {
   "cell_type": "code",
   "execution_count": null,
   "metadata": {},
   "outputs": [],
   "source": []
  }
 ],
 "metadata": {
  "kernelspec": {
   "display_name": "Python 3",
   "language": "python",
   "name": "python3"
  },
  "language_info": {
   "codemirror_mode": {
    "name": "ipython",
    "version": 3
   },
   "file_extension": ".py",
   "mimetype": "text/x-python",
   "name": "python",
   "nbconvert_exporter": "python",
   "pygments_lexer": "ipython3",
   "version": "3.7.4"
  }
 },
 "nbformat": 4,
 "nbformat_minor": 2
}
