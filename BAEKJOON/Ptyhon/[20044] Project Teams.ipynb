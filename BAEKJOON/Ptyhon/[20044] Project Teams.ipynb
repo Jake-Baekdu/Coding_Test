{
 "cells": [
  {
   "cell_type": "code",
   "execution_count": null,
   "metadata": {},
   "outputs": [],
   "source": [
    "from collections import deque\n",
    "\n",
    "teamNum = int(input()) # n 입력\n",
    "skillPoint = deque(sorted(list(map(int, input().split())))) # 가장 작은 수와 가장 큰 수를 앞 뒤에서 뽑아 올 수 있게끔 오름차순 정렬\n",
    "groupsPoint = [0 for _ in range(teamNum)] # 각 팀의 코딩 역량 담을 리스트\n",
    "\n",
    "for i in range(teamNum):\n",
    "    tmp = skillPoint.pop() + skillPoint.popleft()\n",
    "    groupsPoint[i] = tmp\n",
    "    \n",
    "print(min(groupsPoint))\n",
    "    \n",
    "         "
   ]
  }
 ],
 "metadata": {
  "kernelspec": {
   "display_name": "Python 3",
   "language": "python",
   "name": "python3"
  },
  "language_info": {
   "codemirror_mode": {
    "name": "ipython",
    "version": 3
   },
   "file_extension": ".py",
   "mimetype": "text/x-python",
   "name": "python",
   "nbconvert_exporter": "python",
   "pygments_lexer": "ipython3",
   "version": "3.7.4"
  },
  "toc": {
   "base_numbering": 1,
   "nav_menu": {},
   "number_sections": true,
   "sideBar": true,
   "skip_h1_title": false,
   "title_cell": "Table of Contents",
   "title_sidebar": "Contents",
   "toc_cell": false,
   "toc_position": {},
   "toc_section_display": true,
   "toc_window_display": false
  }
 },
 "nbformat": 4,
 "nbformat_minor": 2
}
