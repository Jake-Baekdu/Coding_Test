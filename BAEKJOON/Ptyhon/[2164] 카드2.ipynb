{
 "cells": [
  {
   "cell_type": "code",
   "execution_count": null,
   "metadata": {},
   "outputs": [],
   "source": [
    "from sys import stdin\n",
    "from collections import deque\n",
    "\n",
    "n = int(input())\n",
    "if n == 1:\n",
    "    print(1)\n",
    "    exit()\n",
    "dq = deque([i for i in range(1, n+1)])\n",
    "\n",
    "while(True):\n",
    "    dq.popleft()\n",
    "    if len(dq) == 1:\n",
    "        break\n",
    "    tmp = dq.popleft()\n",
    "    dq.append(tmp)\n",
    "print(dq[0])"
   ]
  }
 ],
 "metadata": {
  "kernelspec": {
   "display_name": "Python 3",
   "language": "python",
   "name": "python3"
  },
  "language_info": {
   "codemirror_mode": {
    "name": "ipython",
    "version": 3
   },
   "file_extension": ".py",
   "mimetype": "text/x-python",
   "name": "python",
   "nbconvert_exporter": "python",
   "pygments_lexer": "ipython3",
   "version": "3.7.4"
  },
  "toc": {
   "base_numbering": 1,
   "nav_menu": {},
   "number_sections": true,
   "sideBar": true,
   "skip_h1_title": false,
   "title_cell": "Table of Contents",
   "title_sidebar": "Contents",
   "toc_cell": false,
   "toc_position": {},
   "toc_section_display": true,
   "toc_window_display": false
  }
 },
 "nbformat": 4,
 "nbformat_minor": 2
}
