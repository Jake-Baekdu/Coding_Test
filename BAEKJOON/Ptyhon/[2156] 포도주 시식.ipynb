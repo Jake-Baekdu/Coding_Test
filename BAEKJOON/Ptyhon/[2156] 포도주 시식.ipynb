{
 "cells": [
  {
   "cell_type": "code",
   "execution_count": null,
   "metadata": {},
   "outputs": [],
   "source": [
    "n = int(input())\n",
    "dp = [0]*n\n",
    "arr = [0]*n\n",
    "\n",
    "for i in range(n):\n",
    "    arr[i] = int(input())\n",
    "\n",
    "if n == 1:\n",
    "    print(arr[0])\n",
    "elif n == 2:\n",
    "    print(arr[0]+arr[1])\n",
    "else:\n",
    "    dp[0] = arr[0]\n",
    "    dp[1] = arr[0] + arr[1]\n",
    "    dp[2] = max(arr[2] + arr[0], arr[2] + arr[1], dp[1])\n",
    "    \n",
    "    for i in range(3, n):\n",
    "        dp[i] = max(arr[i] + dp[i-2], arr[i] + arr[i-1] + dp[i-3], dp[i-1])\n",
    "        \n",
    "    print(dp[n-1])\n",
    "\n"
   ]
  }
 ],
 "metadata": {
  "kernelspec": {
   "display_name": "Python 3",
   "language": "python",
   "name": "python3"
  },
  "language_info": {
   "codemirror_mode": {
    "name": "ipython",
    "version": 3
   },
   "file_extension": ".py",
   "mimetype": "text/x-python",
   "name": "python",
   "nbconvert_exporter": "python",
   "pygments_lexer": "ipython3",
   "version": "3.7.4"
  },
  "toc": {
   "base_numbering": 1,
   "nav_menu": {},
   "number_sections": true,
   "sideBar": true,
   "skip_h1_title": false,
   "title_cell": "Table of Contents",
   "title_sidebar": "Contents",
   "toc_cell": false,
   "toc_position": {},
   "toc_section_display": true,
   "toc_window_display": false
  }
 },
 "nbformat": 4,
 "nbformat_minor": 2
}
