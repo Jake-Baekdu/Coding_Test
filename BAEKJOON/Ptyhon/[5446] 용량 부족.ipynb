{
 "cells": [
  {
   "cell_type": "code",
   "execution_count": 2,
   "metadata": {},
   "outputs": [
    {
     "name": "stdout",
     "output_type": "stream",
     "text": [
      "151sdf\n"
     ]
    },
    {
     "ename": "ValueError",
     "evalue": "invalid literal for int() with base 10: '151sdf'",
     "output_type": "error",
     "traceback": [
      "\u001b[1;31m---------------------------------------------------------------------------\u001b[0m",
      "\u001b[1;31mValueError\u001b[0m                                Traceback (most recent call last)",
      "\u001b[1;32m<ipython-input-2-d2cd5bb5d5d6>\u001b[0m in \u001b[0;36m<module>\u001b[1;34m\u001b[0m\n\u001b[0;32m     44\u001b[0m         \u001b[0mprint\u001b[0m\u001b[1;33m(\u001b[0m\u001b[0mqueue\u001b[0m\u001b[1;33m)\u001b[0m\u001b[1;33m\u001b[0m\u001b[1;33m\u001b[0m\u001b[0m\n\u001b[0;32m     45\u001b[0m \u001b[1;33m\u001b[0m\u001b[0m\n\u001b[1;32m---> 46\u001b[1;33m \u001b[0mn\u001b[0m \u001b[1;33m=\u001b[0m \u001b[0mint\u001b[0m\u001b[1;33m(\u001b[0m\u001b[0minput\u001b[0m\u001b[1;33m(\u001b[0m\u001b[1;33m)\u001b[0m\u001b[1;33m)\u001b[0m\u001b[1;33m\u001b[0m\u001b[1;33m\u001b[0m\u001b[0m\n\u001b[0m\u001b[0;32m     47\u001b[0m \u001b[1;32mfor\u001b[0m \u001b[0m_\u001b[0m \u001b[1;32min\u001b[0m \u001b[0mrange\u001b[0m\u001b[1;33m(\u001b[0m\u001b[0mn\u001b[0m\u001b[1;33m)\u001b[0m\u001b[1;33m:\u001b[0m\u001b[1;33m\u001b[0m\u001b[1;33m\u001b[0m\u001b[0m\n\u001b[0;32m     48\u001b[0m     \u001b[0mn1\u001b[0m \u001b[1;33m=\u001b[0m \u001b[0mint\u001b[0m\u001b[1;33m(\u001b[0m\u001b[0minput\u001b[0m\u001b[1;33m(\u001b[0m\u001b[1;33m)\u001b[0m\u001b[1;33m)\u001b[0m\u001b[1;33m\u001b[0m\u001b[1;33m\u001b[0m\u001b[0m\n",
      "\u001b[1;31mValueError\u001b[0m: invalid literal for int() with base 10: '151sdf'"
     ]
    }
   ],
   "source": [
    "class Node():\n",
    "    def __init__(self, key, data = None):\n",
    "        self.key = key\n",
    "        self.data = [data, False]\n",
    "        self.children = {}\n",
    "        \n",
    "    def __str__():\n",
    "        return 'key={0}, data={1}, children={2}'.format(self.key, self.data. self.children)\n",
    "\n",
    "\n",
    "\n",
    "class Trie():\n",
    "    def __init__(self):\n",
    "        self.head = Node(None)\n",
    "        \n",
    "    def insert(self, string):\n",
    "        curr_node = self.head\n",
    "        \n",
    "        for char in str(string):\n",
    "            if char not in curr_node.children:\n",
    "                curr_node.children[char] = Node(char)\n",
    "            curr_node = curr_node.children[char]\n",
    "        curr_node.data = string\n",
    "        print(curr_node)\n",
    "    def starts_with(self, prefix):\n",
    "        print('asdfasdfsdf')\n",
    "        curr_node = self.head\n",
    "        result = []\n",
    "        subtrie = None\n",
    "        \n",
    "        #트라이에서 prefix를 찾고\n",
    "        #prefix의 마지막 글자 노드를 subtrie로 설정\n",
    "        for char in prefix:\n",
    "            if char in curr_node.children:\n",
    "                curr_node = curr_node.children[char]\n",
    "                subtrie = curr_node\n",
    "            else:\n",
    "                return None\n",
    "                \n",
    "        # bfs로 prefix subtrie를 순회하며\n",
    "        # data가 있는 노드들(=완전한 단어)를 찾음.\n",
    "        queue = list(subtrie.children.values())\n",
    "        \n",
    "        print(queue)\n",
    "\n",
    "n = int(input())\n",
    "for _ in range(n):\n",
    "    n1 = int(input())\n",
    "    removeFile = [input() for _ in range(n1)]\n",
    "    n2 = int(input())\n",
    "    doNotRemove = [input() for _ in range(n2)]\n",
    "    T = Trie()\n",
    "    for f in removeFile:\n",
    "        T.insert(n)\n",
    "    for rf in doNotRemove:\n",
    "        print(rf)\n",
    "        T.starts_with(rf)\n",
    "    "
   ]
  },
  {
   "cell_type": "code",
   "execution_count": null,
   "metadata": {},
   "outputs": [],
   "source": []
  }
 ],
 "metadata": {
  "kernelspec": {
   "display_name": "Python 3",
   "language": "python",
   "name": "python3"
  },
  "language_info": {
   "codemirror_mode": {
    "name": "ipython",
    "version": 3
   },
   "file_extension": ".py",
   "mimetype": "text/x-python",
   "name": "python",
   "nbconvert_exporter": "python",
   "pygments_lexer": "ipython3",
   "version": "3.7.4"
  }
 },
 "nbformat": 4,
 "nbformat_minor": 2
}
