{
 "cells": [
  {
   "cell_type": "code",
   "execution_count": null,
   "metadata": {},
   "outputs": [],
   "source": [
    "from collections import deque\n",
    "\n",
    "T = int(input())\n",
    "\n",
    "for _ in range(T):\n",
    "    n, m = map(int, input().split())\n",
    "    priority = deque(list(map(int, input().split())))\n",
    "    importance = deque([(x, y) for x, y in zip(priority, range(n))])\n",
    "    cnt = 0\n",
    "    while(True):\n",
    "        if m == importance[0][1]:\n",
    "            if importance[0][0] < max(priority):\n",
    "                tmp = importance.popleft()\n",
    "                tmp_p = priority.popleft()\n",
    "                importance.append(tmp)\n",
    "                priority.append(tmp_p)\n",
    "            else:\n",
    "                cnt += 1\n",
    "                print(cnt)\n",
    "                break\n",
    "        elif importance[0][0] == max(priority):\n",
    "            cnt += 1\n",
    "            priority.popleft()\n",
    "            importance.popleft()\n",
    "        else:\n",
    "            tmp = importance.popleft()\n",
    "            tmp_p = priority.popleft()\n",
    "            importance.append(tmp)\n",
    "            priority.append(tmp_p)\n",
    "        \n",
    "        \n",
    "\n",
    "    "
   ]
  }
 ],
 "metadata": {
  "kernelspec": {
   "display_name": "Python 3",
   "language": "python",
   "name": "python3"
  },
  "language_info": {
   "codemirror_mode": {
    "name": "ipython",
    "version": 3
   },
   "file_extension": ".py",
   "mimetype": "text/x-python",
   "name": "python",
   "nbconvert_exporter": "python",
   "pygments_lexer": "ipython3",
   "version": "3.7.4"
  },
  "toc": {
   "base_numbering": 1,
   "nav_menu": {},
   "number_sections": true,
   "sideBar": true,
   "skip_h1_title": false,
   "title_cell": "Table of Contents",
   "title_sidebar": "Contents",
   "toc_cell": false,
   "toc_position": {},
   "toc_section_display": true,
   "toc_window_display": false
  }
 },
 "nbformat": 4,
 "nbformat_minor": 2
}
