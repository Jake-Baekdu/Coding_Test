{
 "cells": [
  {
   "cell_type": "code",
   "execution_count": null,
   "metadata": {},
   "outputs": [],
   "source": [
    "def find(x):\n",
    "    if root[x] == x:\n",
    "        return x\n",
    "    return find(root[x])\n",
    "    \n",
    "def union(x, y):\n",
    "    \n",
    "    x = find(x)\n",
    "    y = find(y)\n",
    "    \n",
    "    if x == y:\n",
    "        return\n",
    "    if rank[x] > rank[y]:\n",
    "        root[y] = x\n",
    "    elif rank[x] < rank[y]:\n",
    "        root[x] = y\n",
    "    else:\n",
    "        root[y] = x\n",
    "        rank[x] += 1\n",
    "\n",
    "def makeSet():\n",
    "    for i in range(len(root)):\n",
    "        root[i] = i\n",
    "        rank[i] = 1\n",
    "\n",
    "\n",
    "if __name__ == \"__main__\":\n",
    "    n, m = map(int, input().split())\n",
    "    graph = dict()\n",
    "    root = [0]*n\n",
    "    rank = [0]*n\n",
    "    makeSet()\n",
    "    for i in range(1, m+1):\n",
    "        a, b = map(int, input().split())\n",
    "        if find(a) == find(b):\n",
    "            print(i)\n",
    "            exit()\n",
    "        union(a,b)\n",
    "    print(0)"
   ]
  }
 ],
 "metadata": {
  "kernelspec": {
   "display_name": "Python 3",
   "language": "python",
   "name": "python3"
  },
  "language_info": {
   "codemirror_mode": {
    "name": "ipython",
    "version": 3
   },
   "file_extension": ".py",
   "mimetype": "text/x-python",
   "name": "python",
   "nbconvert_exporter": "python",
   "pygments_lexer": "ipython3",
   "version": "3.7.4"
  }
 },
 "nbformat": 4,
 "nbformat_minor": 2
}
