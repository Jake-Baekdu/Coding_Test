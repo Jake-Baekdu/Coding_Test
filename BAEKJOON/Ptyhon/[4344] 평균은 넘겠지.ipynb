{
 "cells": [
  {
   "cell_type": "code",
   "execution_count": null,
   "metadata": {},
   "outputs": [],
   "source": [
    "n = int(input())\n",
    "\n",
    "for _ in range(n):\n",
    "    arr = list(map(int, input().split()))\n",
    "    s = arr[0]\n",
    "    arr = arr[1:]\n",
    "    avg = sum(arr)/s\n",
    "    cnt = 0\n",
    "    for i in arr:\n",
    "        if i > avg:\n",
    "            cnt += 1\n",
    "            \n",
    "    result = cnt/s*100\n",
    "    print('{:.3f}%'.format(result))"
   ]
  }
 ],
 "metadata": {
  "kernelspec": {
   "display_name": "Python 3",
   "language": "python",
   "name": "python3"
  },
  "language_info": {
   "codemirror_mode": {
    "name": "ipython",
    "version": 3
   },
   "file_extension": ".py",
   "mimetype": "text/x-python",
   "name": "python",
   "nbconvert_exporter": "python",
   "pygments_lexer": "ipython3",
   "version": "3.7.4"
  }
 },
 "nbformat": 4,
 "nbformat_minor": 2
}
