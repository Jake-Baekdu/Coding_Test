{
 "cells": [
  {
   "cell_type": "code",
   "execution_count": null,
   "metadata": {},
   "outputs": [],
   "source": [
    "def solve(orderIdx, open1, open2):\n",
    "    if orderIdx == M:\n",
    "        return 0\n",
    "    \n",
    "    if dp[orderIdx][open1][open2] != -1:\n",
    "        return dp[orderIdx][open1][open2]\n",
    "    \n",
    "    open1_cnt = solve(orderIdx+1, order[orderIdx], open2) + abs(order[orderIdx] - open1)\n",
    "    open2_cnt = solve(orderIdx+1, open1, order[orderIdx]) + abs(order[orderIdx] - open2)\n",
    "\n",
    "    dp[orderIdx][open1][open2] = min(open1_cnt, open2_cnt)\n",
    "\n",
    "    return dp[orderIdx][open1][open2]\n",
    "    \n",
    "if __name__ == \"__main__\":\n",
    "    N = int(input())\n",
    "    open1, open2 = map(int, input().split())\n",
    "    order = [] #열어야 할 문 list 미리 선언\n",
    "    M = int(input()) #열어야 하는 문 개수\n",
    "    for _ in range(M):\n",
    "        order.append(int(input()))\n",
    "\n",
    "    #문에 직접 접근하는 인덱스는 +1 되어있어서 크기를 1씩 늘림\n",
    "    # M은 열어야 하는 문의 개수라 그대로\n",
    "    dp = [[[-1]*(N+1) for _ in range(N+1)] for _ in range(M)]\n",
    "\n",
    "    print(solve(0, open1, open2))"
   ]
  },
  {
   "cell_type": "code",
   "execution_count": null,
   "metadata": {},
   "outputs": [],
   "source": []
  }
 ],
 "metadata": {
  "kernelspec": {
   "display_name": "Python 3",
   "language": "python",
   "name": "python3"
  },
  "language_info": {
   "codemirror_mode": {
    "name": "ipython",
    "version": 3
   },
   "file_extension": ".py",
   "mimetype": "text/x-python",
   "name": "python",
   "nbconvert_exporter": "python",
   "pygments_lexer": "ipython3",
   "version": "3.7.4"
  }
 },
 "nbformat": 4,
 "nbformat_minor": 2
}
