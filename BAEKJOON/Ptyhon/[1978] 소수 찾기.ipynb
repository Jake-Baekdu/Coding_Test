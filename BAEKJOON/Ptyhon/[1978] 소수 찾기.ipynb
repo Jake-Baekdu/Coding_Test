{
 "cells": [
  {
   "cell_type": "code",
   "execution_count": null,
   "metadata": {},
   "outputs": [],
   "source": [
    "n = int(input())\n",
    "arr = list(map(int, input().split()))\n",
    "ans = 0\n",
    "\n",
    "def primenumber(x):\n",
    "    if x == 1:\n",
    "        return False\n",
    "    for i in range(2, x):\t# 2부터 x-1까지의 모든 숫자\n",
    "    \tif x % i == 0:\t\t# 나눠떨어지는게 하나라도 있으면 False\n",
    "        \treturn False\n",
    "    return True\t\t\t\t# 전부 나눠떨어지지 않으면 True\n",
    "\n",
    "\n",
    "for a in arr:\n",
    "    if primenumber(a):\n",
    "        ans += 1\n",
    "\n",
    "print(ans)"
   ]
  }
 ],
 "metadata": {
  "kernelspec": {
   "display_name": "Python 3",
   "language": "python",
   "name": "python3"
  },
  "language_info": {
   "codemirror_mode": {
    "name": "ipython",
    "version": 3
   },
   "file_extension": ".py",
   "mimetype": "text/x-python",
   "name": "python",
   "nbconvert_exporter": "python",
   "pygments_lexer": "ipython3",
   "version": "3.7.4"
  },
  "toc": {
   "base_numbering": 1,
   "nav_menu": {},
   "number_sections": true,
   "sideBar": true,
   "skip_h1_title": false,
   "title_cell": "Table of Contents",
   "title_sidebar": "Contents",
   "toc_cell": false,
   "toc_position": {},
   "toc_section_display": true,
   "toc_window_display": false
  }
 },
 "nbformat": 4,
 "nbformat_minor": 2
}
