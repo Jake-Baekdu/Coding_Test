{
 "cells": [
  {
   "cell_type": "code",
   "execution_count": 15,
   "metadata": {},
   "outputs": [
    {
     "name": "stdout",
     "output_type": "stream",
     "text": [
      "0 3 5 4 6 9 2 7 8\n",
      "7 8 2 1 0 5 6 0 9\n",
      "0 6 0 2 7 8 1 3 5\n",
      "3 2 1 0 4 6 8 9 7\n",
      "8 0 4 9 1 3 5 0 6\n",
      "5 9 6 8 2 0 4 1 3\n",
      "9 1 7 6 5 2 0 8 0\n",
      "6 0 3 7 0 1 9 5 2\n",
      "2 5 8 3 9 4 7 6 0\n"
     ]
    }
   ],
   "source": [
    "board = [list(map(int, input().split())) for _ in range(9)]\n"
   ]
  },
  {
   "cell_type": "code",
   "execution_count": 16,
   "metadata": {},
   "outputs": [
    {
     "data": {
      "text/plain": [
       "[[0, 3, 5, 4, 6, 9, 2, 7, 8],\n",
       " [7, 8, 2, 1, 0, 5, 6, 0, 9],\n",
       " [0, 6, 0, 2, 7, 8, 1, 3, 5],\n",
       " [3, 2, 1, 0, 4, 6, 8, 9, 7],\n",
       " [8, 0, 4, 9, 1, 3, 5, 0, 6],\n",
       " [5, 9, 6, 8, 2, 0, 4, 1, 3],\n",
       " [9, 1, 7, 6, 5, 2, 0, 8, 0],\n",
       " [6, 0, 3, 7, 0, 1, 9, 5, 2],\n",
       " [2, 5, 8, 3, 9, 4, 7, 6, 0]]"
      ]
     },
     "execution_count": 16,
     "metadata": {},
     "output_type": "execute_result"
    }
   ],
   "source": [
    "board"
   ]
  },
  {
   "cell_type": "code",
   "execution_count": null,
   "metadata": {},
   "outputs": [],
   "source": [
    "def solution(arr):\n",
    "    if 0 not in arr:\n",
    "        return print(arr)\n",
    "    \n",
    "    zero_list = list()\n",
    "    \n",
    "    for r in range(9):\n",
    "        for c in range(9):\n",
    "            if arr[r][c] == 0:\n",
    "                zero_list.append((r,c))\n",
    "                \n",
    "    for r,c in zero_list:\n",
    "        \n",
    "                \n",
    "\n",
    "def find_num(arr,r,c):\n",
    "    \n",
    "    arr[r][c]\n",
    "    \n",
    "    for i in range(9):\n",
    "        if arr[i][c]"
   ]
  }
 ],
 "metadata": {
  "kernelspec": {
   "display_name": "Python 3",
   "language": "python",
   "name": "python3"
  },
  "language_info": {
   "codemirror_mode": {
    "name": "ipython",
    "version": 3
   },
   "file_extension": ".py",
   "mimetype": "text/x-python",
   "name": "python",
   "nbconvert_exporter": "python",
   "pygments_lexer": "ipython3",
   "version": "3.7.4"
  }
 },
 "nbformat": 4,
 "nbformat_minor": 2
}
