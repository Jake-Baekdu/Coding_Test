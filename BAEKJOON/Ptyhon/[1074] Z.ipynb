{
 "cells": [
  {
   "cell_type": "code",
   "execution_count": 14,
   "metadata": {},
   "outputs": [
    {
     "name": "stdout",
     "output_type": "stream",
     "text": [
      "3 7 7\n",
      "63\n"
     ]
    }
   ],
   "source": [
    "def divide(board, row, col, cnt):\n",
    "    if board == 2:\n",
    "        if row == r and col == c:\n",
    "            print(cnt)\n",
    "            return\n",
    "        cnt+= 1\n",
    "        \n",
    "        if row == r and col+1 == c:\n",
    "            print(cnt)\n",
    "            return\n",
    "        cnt += 1\n",
    "        \n",
    "        if row + 1 == r and col == c :\n",
    "            print(cnt)\n",
    "            return\n",
    "        cnt += 1\n",
    "        if row+1 == r and col+1 == c:\n",
    "            print(cnt)\n",
    "            return\n",
    "        cnt += 1\n",
    "    else:\n",
    "        half_size = board // 2\n",
    "        if row <= r < row+half_size and col <= c < col + half_size:\n",
    "            divide(half_size, row, col, cnt)\n",
    "        elif row <= r < row+half_size and col + half_size <= c < col +half_size*2:\n",
    "            divide(half_size, row, col + half_size, cnt + half_size**2)\n",
    "        elif row + half_size <= r < row + half_size*2 and col <= c < col + half_size:\n",
    "            divide(half_size, row+half_size, col, cnt +(half_size**2)*2)\n",
    "        elif row + half_size <= r < row + half_size * 2 and col + half_size <= c < col + half_size*2:\n",
    "            divide(half_size, row+half_size, col+half_size, cnt + (half_size**2)*3)\n",
    "        \n",
    "        \n",
    "if __name__ == \"__main__\":\n",
    "\n",
    "    N, r, c = map(int, input().split())\n",
    "\n",
    "    cnt = 0\n",
    "    divide(2 ** N, 0, 0, cnt)"
   ]
  }
 ],
 "metadata": {
  "kernelspec": {
   "display_name": "Python 3",
   "language": "python",
   "name": "python3"
  },
  "language_info": {
   "codemirror_mode": {
    "name": "ipython",
    "version": 3
   },
   "file_extension": ".py",
   "mimetype": "text/x-python",
   "name": "python",
   "nbconvert_exporter": "python",
   "pygments_lexer": "ipython3",
   "version": "3.7.4"
  }
 },
 "nbformat": 4,
 "nbformat_minor": 2
}
