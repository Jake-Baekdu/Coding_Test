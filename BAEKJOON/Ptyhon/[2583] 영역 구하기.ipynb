{
 "cells": [
  {
   "cell_type": "code",
   "execution_count": null,
   "metadata": {},
   "outputs": [],
   "source": [
    "from collections import deque\n",
    "\n",
    "x, y, k = map(int, input().split())\n",
    "\n",
    "board = [[0 for _ in range(y)] for _ in range(x)]\n",
    "\n",
    "for i in range(k):\n",
    "    y1, x1, y2, x2 = map(int, input().split())\n",
    "    \n",
    "    for i in range(x1, x2):\n",
    "        for j in range(y1, y2):\n",
    "            board[i][j] = 1\n",
    "\n",
    "boxes = []\n",
    "def dfs(dx, dy):\n",
    "    dq = deque([(dx, dy)])\n",
    "    box_size = 0\n",
    "    move_xy = [(1,0), (0,1), (-1,0), (0,-1)]\n",
    "    while(dq):\n",
    "        sx, sy = dq.popleft()\n",
    "        \n",
    "        if board[sx][sy] == 1:\n",
    "            continue\n",
    "        board[sx][sy] = 1\n",
    "        box_size += 1\n",
    "        \n",
    "        for mx, my in move_xy:\n",
    "            tx = sx + mx\n",
    "            ty = sy + my\n",
    "            if 0 <= tx < x and 0 <= ty < y:\n",
    "                if board[tx][ty] == 0:\n",
    "                    dq.append((tx,ty))\n",
    "                    \n",
    "    boxes.append(box_size)\n",
    "\n",
    "ans = 0\n",
    "for i in range(x):\n",
    "    for j in range(y):\n",
    "        if board[i][j] == 0:\n",
    "            dfs(i,j)\n",
    "            ans += 1\n",
    "    \n",
    "boxes.sort()\n",
    "print(ans)\n",
    "print(*boxes)\n",
    "    "
   ]
  }
 ],
 "metadata": {
  "kernelspec": {
   "display_name": "Python 3",
   "language": "python",
   "name": "python3"
  },
  "language_info": {
   "codemirror_mode": {
    "name": "ipython",
    "version": 3
   },
   "file_extension": ".py",
   "mimetype": "text/x-python",
   "name": "python",
   "nbconvert_exporter": "python",
   "pygments_lexer": "ipython3",
   "version": "3.7.4"
  },
  "toc": {
   "base_numbering": 1,
   "nav_menu": {},
   "number_sections": true,
   "sideBar": true,
   "skip_h1_title": false,
   "title_cell": "Table of Contents",
   "title_sidebar": "Contents",
   "toc_cell": false,
   "toc_position": {},
   "toc_section_display": true,
   "toc_window_display": false
  }
 },
 "nbformat": 4,
 "nbformat_minor": 2
}
