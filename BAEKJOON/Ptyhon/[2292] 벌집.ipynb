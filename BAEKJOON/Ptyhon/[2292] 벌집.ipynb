{
 "cells": [
  {
   "cell_type": "code",
   "execution_count": 5,
   "metadata": {
    "ExecuteTime": {
     "end_time": "2021-09-30T04:57:23.464018Z",
     "start_time": "2021-09-30T04:57:22.874216Z"
    }
   },
   "outputs": [
    {
     "name": "stdout",
     "output_type": "stream",
     "text": [
      "13\n",
      "3\n"
     ]
    }
   ],
   "source": [
    "n = int(input())\n",
    "diff = [5,7,6]\n",
    "if n <= 12:\n",
    "    arr = [0]*3\n",
    "else:\n",
    "    arr = [0, 0]\n",
    "W = 0\n",
    "tmp = 1\n",
    "while(True):\n",
    "    tmp = tmp + W*6\n",
    "    W += 1\n",
    "    if tmp >= n:\n",
    "        break\n",
    "\n",
    "if n == 1:\n",
    "    print(1)\n",
    "else:\n",
    "    print(W)"
   ]
  },
  {
   "cell_type": "code",
   "execution_count": null,
   "metadata": {},
   "outputs": [],
   "source": []
  }
 ],
 "metadata": {
  "kernelspec": {
   "display_name": "Python 3",
   "language": "python",
   "name": "python3"
  },
  "language_info": {
   "codemirror_mode": {
    "name": "ipython",
    "version": 3
   },
   "file_extension": ".py",
   "mimetype": "text/x-python",
   "name": "python",
   "nbconvert_exporter": "python",
   "pygments_lexer": "ipython3",
   "version": "3.7.4"
  },
  "toc": {
   "base_numbering": 1,
   "nav_menu": {},
   "number_sections": true,
   "sideBar": true,
   "skip_h1_title": false,
   "title_cell": "Table of Contents",
   "title_sidebar": "Contents",
   "toc_cell": false,
   "toc_position": {},
   "toc_section_display": true,
   "toc_window_display": false
  }
 },
 "nbformat": 4,
 "nbformat_minor": 2
}
