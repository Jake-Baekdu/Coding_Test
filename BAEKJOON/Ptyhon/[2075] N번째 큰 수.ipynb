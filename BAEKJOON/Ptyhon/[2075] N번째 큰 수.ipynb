{
 "cells": [
  {
   "cell_type": "code",
   "execution_count": 10,
   "metadata": {},
   "outputs": [
    {
     "name": "stdout",
     "output_type": "stream",
     "text": [
      "4\n",
      "1 2 3 4\n",
      "[1]\n",
      "[1, 2]\n",
      "[1, 2, 3]\n",
      "[1, 2, 3, 4]\n",
      "2 2 2 1\n",
      "[2, 2, 3, 4]\n",
      "[2, 2, 3, 4]\n",
      "[2, 2, 3, 4]\n",
      "[2, 2, 3, 4]\n",
      "5 6 1 2\n",
      "[2, 4, 3, 5]\n",
      "[3, 4, 6, 5]\n",
      "[3, 4, 6, 5]\n",
      "[3, 4, 6, 5]\n",
      "2 3 1 2\n",
      "[3, 4, 6, 5]\n",
      "[3, 4, 6, 5]\n",
      "[3, 4, 6, 5]\n",
      "[3, 4, 6, 5]\n"
     ]
    }
   ],
   "source": [
    "import sys\n",
    "import heapq\n",
    "\n",
    "\n",
    "#n = int(sys.stdin.readlin())\n",
    "n = int(input())\n",
    "\n",
    "heap = []\n",
    "\n",
    "for _ in range(n):\n",
    "    table = list(map(int, input().split()))\n",
    "    \n",
    "    for item in table:\n",
    "        heapq.heappush(heap, item)\n",
    "        if len(heap) > n:\n",
    "            heapq.heappop(heap)\n",
    "        print(heap)"
   ]
  }
 ],
 "metadata": {
  "kernelspec": {
   "display_name": "Python 3",
   "language": "python",
   "name": "python3"
  },
  "language_info": {
   "codemirror_mode": {
    "name": "ipython",
    "version": 3
   },
   "file_extension": ".py",
   "mimetype": "text/x-python",
   "name": "python",
   "nbconvert_exporter": "python",
   "pygments_lexer": "ipython3",
   "version": "3.7.4"
  }
 },
 "nbformat": 4,
 "nbformat_minor": 2
}
