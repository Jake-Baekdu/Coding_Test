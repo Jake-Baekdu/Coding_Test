{
 "cells": [
  {
   "cell_type": "code",
   "execution_count": 38,
   "metadata": {},
   "outputs": [
    {
     "name": "stdout",
     "output_type": "stream",
     "text": [
      "7\n",
      "5 0\n",
      "1 1 1\n",
      "3 1 2\n",
      "6 1 1\n",
      "1 2 2 4\n",
      "8 2 2 4\n",
      "4 3 3 5 6\n",
      "[0, 5, 1, 3, 6, 1, 8, 4]\n"
     ]
    }
   ],
   "source": [
    "n = int(input())\n",
    "\n",
    "times = [0] * (n+1)\n",
    "graph = {}\n",
    "\n",
    "for i in range(1, n+1):\n",
    "    arr = list(map(int, input().split()))\n",
    "    times[i] = arr[0]\n",
    "    if arr[1] == 0:\n",
    "        continue\n",
    "    for j in arr[2:]:\n",
    "        if i in graph:\n",
    "            graph[i].append(j)\n",
    "        else:\n",
    "            graph[i] = [j]\n",
    "print(times)\n",
    "            \n"
   ]
  },
  {
   "cell_type": "code",
   "execution_count": 35,
   "metadata": {},
   "outputs": [
    {
     "data": {
      "text/plain": [
       "{2: [1], 3: [2], 4: [1], 5: [2, 4], 6: [2, 4], 7: [3, 5, 6]}"
      ]
     },
     "execution_count": 35,
     "metadata": {},
     "output_type": "execute_result"
    }
   ],
   "source": [
    "for i in range(1, n+1):\n",
    "    if i in graph:\n",
    "        print(i)\n",
    "        time = 0\n",
    "        for j in graph[i]:\n",
    "            time = max(time, times[j])\n",
    "        times[i] += time\n",
    "        \n",
    "print(max(times))"
   ]
  },
  {
   "cell_type": "code",
   "execution_count": 39,
   "metadata": {},
   "outputs": [
    {
     "data": {
      "text/plain": [
       "{2: [1], 3: [2], 4: [1], 5: [2, 4], 6: [2, 4], 7: [3, 5, 6]}"
      ]
     },
     "execution_count": 39,
     "metadata": {},
     "output_type": "execute_result"
    }
   ],
   "source": [
    "graph"
   ]
  },
  {
   "cell_type": "code",
   "execution_count": 23,
   "metadata": {},
   "outputs": [
    {
     "data": {
      "text/plain": [
       "True"
      ]
     },
     "execution_count": 23,
     "metadata": {},
     "output_type": "execute_result"
    }
   ],
   "source": [
    "time = times[1]\n",
    "temp = list()\n",
    "for i in range(1, N):\n",
    "    if all(dp[i]):\n",
    "        time += times[i]\n",
    "        for c in range(i+1, N+1):\n",
    "            dp[c][i] = True\n",
    "    else:\n",
    "        temp.append([i,time])  \n",
    "        "
   ]
  },
  {
   "cell_type": "code",
   "execution_count": 30,
   "metadata": {},
   "outputs": [
    {
     "data": {
      "text/plain": [
       "False"
      ]
     },
     "execution_count": 30,
     "metadata": {},
     "output_type": "execute_result"
    }
   ],
   "source": [
    "all(dp[2])"
   ]
  },
  {
   "cell_type": "code",
   "execution_count": 32,
   "metadata": {},
   "outputs": [
    {
     "data": {
      "text/plain": [
       "False"
      ]
     },
     "execution_count": 32,
     "metadata": {},
     "output_type": "execute_result"
    }
   ],
   "source": [
    "a = [True, True]\n",
    "all(a) != True"
   ]
  },
  {
   "cell_type": "code",
   "execution_count": null,
   "metadata": {},
   "outputs": [],
   "source": []
  }
 ],
 "metadata": {
  "kernelspec": {
   "display_name": "Python 3",
   "language": "python",
   "name": "python3"
  },
  "language_info": {
   "codemirror_mode": {
    "name": "ipython",
    "version": 3
   },
   "file_extension": ".py",
   "mimetype": "text/x-python",
   "name": "python",
   "nbconvert_exporter": "python",
   "pygments_lexer": "ipython3",
   "version": "3.7.4"
  }
 },
 "nbformat": 4,
 "nbformat_minor": 2
}
