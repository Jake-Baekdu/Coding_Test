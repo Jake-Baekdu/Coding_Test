{
 "cells": [
  {
   "cell_type": "code",
   "execution_count": 5,
   "metadata": {},
   "outputs": [
    {
     "name": "stdout",
     "output_type": "stream",
     "text": [
      "2\n",
      "4\n",
      "1\n",
      "15\n",
      "1 21 3 4 5 35 5 4 3 5 98 21 14 17 32\n"
     ]
    }
   ],
   "source": [
    "T = int(input())\n",
    "\n",
    "for _ in range(T):\n",
    "    k = input()\n",
    "    chapters = list(map(int, input().split()))\n",
    "    \n",
    "for i in range(T):\n",
    "    cost  = [[]]"
   ]
  },
  {
   "cell_type": "code",
   "execution_count": 68,
   "metadata": {},
   "outputs": [
    {
     "name": "stdout",
     "output_type": "stream",
     "text": [
      "[1, 3, 3, 4, 4, 5, 5, 5, 14, 17, 21, 21, 32, 35, 98]\n",
      "0\n",
      "[99, 3, 3, 4, 4, 5, 5, 5, 14, 17, 21, 21, 32, 35, 98]\n",
      "0\n",
      "[99, 38, 3, 4, 4, 5, 5, 5, 14, 17, 21, 21, 32, 35, 98]\n",
      "0\n",
      "[99, 38, 35, 4, 4, 5, 5, 5, 14, 17, 21, 21, 32, 35, 98]\n",
      "0\n",
      "[99, 38, 35, 25, 4, 5, 5, 5, 14, 17, 21, 21, 32, 35, 98]\n",
      "0\n",
      "[99, 38, 35, 25, 25, 5, 5, 5, 14, 17, 21, 21, 32, 35, 98]\n",
      "0\n",
      "[99, 38, 35, 25, 25, 22, 5, 5, 14, 17, 21, 21, 32, 35, 98]\n",
      "0\n",
      "[99, 38, 35, 25, 25, 22, 19, 5, 14, 17, 21, 21, 32, 35, 98]\n",
      "0\n",
      "[99, 38, 35, 25, 25, 22, 19, 5, 14, 17, 21, 21, 32, 35, 98]\n",
      "[5, 19, 22, 25, 25, 35, 38, 99]\n",
      "263\n",
      "[104, 19, 22, 25, 25, 35, 38, 99]\n",
      "263\n",
      "[104, 57, 22, 25, 25, 35, 38, 99]\n",
      "263\n",
      "[104, 57, 57, 25, 25, 35, 38, 99]\n",
      "263\n",
      "[104, 57, 57, 50, 25, 35, 38, 99]\n",
      "263\n",
      "[50, 57, 57, 104]\n",
      "531\n",
      "[154, 57, 57, 104]\n",
      "531\n",
      "[154, 114, 57, 104]\n",
      "531\n",
      "[114, 154]\n",
      "799\n",
      "[268, 154]\n",
      "799\n",
      "1067\n"
     ]
    }
   ],
   "source": [
    "\n",
    "def a():\n",
    "    global chapters\n",
    "    global answer\n",
    "    for i in range(len(chapters)):\n",
    "        print(chapters)\n",
    "        print(answer)\n",
    "        if len(chapters)%2 == 1 and len(chapters)//2 == i:\n",
    "            print(chapters)\n",
    "            chapters = chapters[:i+1]\n",
    "            answer += sum(chapters) - chapters[-1]\n",
    "            return chapters.sort()\n",
    "            \n",
    "        if len(chapters)%2 == 0 and i == len(chapters)//2:\n",
    "            chapters = chapters[:i]\n",
    "            answer += sum(chapters)\n",
    "            return chapters.sort()\n",
    "        \n",
    "        chapters[i] += chapters[-i-1]\n",
    ",\n",
    "if __name__ == '__main__':\n",
    "    chapters = [1, 3, 3, 4, 4, 5, 5, 5, 14, 17, 21, 21, 32, 35, 98]\n",
    "    answer = 0\n",
    "    while(len(chapters) > 1):\n",
    "        a()\n",
    "    print(answer)"
   ]
  },
  {
   "cell_type": "code",
   "execution_count": 81,
   "metadata": {},
   "outputs": [
    {
     "name": "stdout",
     "output_type": "stream",
     "text": [
      "1\n",
      "4\n",
      "7\n",
      "11\n",
      "15\n",
      "20\n",
      "25\n",
      "30\n",
      "44\n",
      "61\n",
      "82\n",
      "103\n",
      "135\n",
      "170\n"
     ]
    },
    {
     "data": {
      "text/plain": [
       "975"
      ]
     },
     "execution_count": 81,
     "metadata": {},
     "output_type": "execute_result"
    }
   ],
   "source": [
    "chapters = [1, 3, 3, 4, 4, 5, 5, 5, 14, 17, 21, 21, 32, 35, 98]\n",
    "s = chapters[0]\n",
    "temp = []\n",
    "for i in range(1, len(chapters)):\n",
    "    print(s)\n",
    "    s += chapters[i]\n",
    "    temp.append(s)\n",
    "sum(temp)"
   ]
  },
  {
   "cell_type": "code",
   "execution_count": 59,
   "metadata": {},
   "outputs": [
    {
     "data": {
      "text/plain": [
       "[16]"
      ]
     },
     "execution_count": 59,
     "metadata": {},
     "output_type": "execute_result"
    }
   ],
   "source": [
    "chapters"
   ]
  },
  {
   "cell_type": "code",
   "execution_count": null,
   "metadata": {},
   "outputs": [],
   "source": []
  }
 ],
 "metadata": {
  "kernelspec": {
   "display_name": "Python 3",
   "language": "python",
   "name": "python3"
  },
  "language_info": {
   "codemirror_mode": {
    "name": "ipython",
    "version": 3
   },
   "file_extension": ".py",
   "mimetype": "text/x-python",
   "name": "python",
   "nbconvert_exporter": "python",
   "pygments_lexer": "ipython3",
   "version": "3.7.4"
  }
 },
 "nbformat": 4,
 "nbformat_minor": 2
}
