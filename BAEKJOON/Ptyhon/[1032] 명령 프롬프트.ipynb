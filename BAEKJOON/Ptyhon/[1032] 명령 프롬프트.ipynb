{
 "cells": [
  {
   "cell_type": "code",
   "execution_count": null,
   "metadata": {},
   "outputs": [],
   "source": [
    "import sys\n",
    "from collections import deque\n",
    "# input = \"sys.stdin.readline\"\n",
    "\n",
    "n = int(input())\n",
    "\n",
    "arr = [0 for _ in range(n)]\n",
    "for i in range(n):\n",
    "    arr[i] = list(input())\n",
    "    \n",
    "ans = ''\n",
    "\n",
    "\n",
    "for v in range(len(arr[0])):\n",
    "    tmp = arr[0][v]\n",
    "    flag = True\n",
    "    for i in range(n):\n",
    "        if arr[i][v] != tmp:\n",
    "            flag = False\n",
    "    if flag:\n",
    "        ans += tmp\n",
    "    else:\n",
    "        ans += \"?\"\n",
    "            \n",
    "print(ans)"
   ]
  }
 ],
 "metadata": {
  "kernelspec": {
   "display_name": "Python 3",
   "language": "python",
   "name": "python3"
  },
  "language_info": {
   "codemirror_mode": {
    "name": "ipython",
    "version": 3
   },
   "file_extension": ".py",
   "mimetype": "text/x-python",
   "name": "python",
   "nbconvert_exporter": "python",
   "pygments_lexer": "ipython3",
   "version": "3.7.4"
  },
  "toc": {
   "base_numbering": 1,
   "nav_menu": {},
   "number_sections": true,
   "sideBar": true,
   "skip_h1_title": false,
   "title_cell": "Table of Contents",
   "title_sidebar": "Contents",
   "toc_cell": false,
   "toc_position": {},
   "toc_section_display": true,
   "toc_window_display": false
  }
 },
 "nbformat": 4,
 "nbformat_minor": 2
}
