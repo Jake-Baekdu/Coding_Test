{
 "cells": [
  {
   "cell_type": "code",
   "execution_count": 38,
   "metadata": {},
   "outputs": [
    {
     "name": "stdout",
     "output_type": "stream",
     "text": [
      "3 5 10\n",
      "5 3 7\n"
     ]
    }
   ],
   "source": [
    "# 곡의 개수, 시작 볼륨, 최대 볼륨\n",
    "N, S, M = map(int, input().split())\n",
    "V = list(map(int, input().split()))\n",
    "V.insert(0,0)\n",
    "dp = [0 for _ in range(M+1)]\n"
   ]
  },
  {
   "cell_type": "code",
   "execution_count": 33,
   "metadata": {},
   "outputs": [
    {
     "name": "stdout",
     "output_type": "stream",
     "text": [
      "3 0 5\n",
      "5 3 7\n",
      "3\n",
      "dp[1][0] 5\n",
      "1\n",
      "dp[2][0] 3\n",
      "dp[2][1] 0\n",
      "-1\n"
     ]
    }
   ],
   "source": [
    "dp[S] = 1\n",
    "for i in range(1, N+1):\n",
    "    temp = []\n",
    "    for k in range(len(dp)):\n",
    "        dp[k] = \n",
    "    \n",
    "    for t in temp:\n",
    "        dp[t] = "
   ]
  },
  {
   "cell_type": "code",
   "execution_count": 24,
   "metadata": {},
   "outputs": [
    {
     "data": {
      "text/plain": [
       "[[0, 0], [5, -5], [-2, 2], [5, -9]]"
      ]
     },
     "execution_count": 24,
     "metadata": {},
     "output_type": "execute_result"
    }
   ],
   "source": [
    "arr = [1,2,3]\n"
   ]
  },
  {
   "cell_type": "code",
   "execution_count": 20,
   "metadata": {},
   "outputs": [
    {
     "data": {
      "text/plain": [
       "[0, 5, 3, 7]"
      ]
     },
     "execution_count": 20,
     "metadata": {},
     "output_type": "execute_result"
    }
   ],
   "source": [
    "V"
   ]
  },
  {
   "cell_type": "code",
   "execution_count": null,
   "metadata": {},
   "outputs": [],
   "source": []
  }
 ],
 "metadata": {
  "kernelspec": {
   "display_name": "Python 3",
   "language": "python",
   "name": "python3"
  },
  "language_info": {
   "codemirror_mode": {
    "name": "ipython",
    "version": 3
   },
   "file_extension": ".py",
   "mimetype": "text/x-python",
   "name": "python",
   "nbconvert_exporter": "python",
   "pygments_lexer": "ipython3",
   "version": "3.7.4"
  }
 },
 "nbformat": 4,
 "nbformat_minor": 2
}
