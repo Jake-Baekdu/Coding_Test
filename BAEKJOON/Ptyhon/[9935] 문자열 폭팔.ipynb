{
 "cells": [
  {
   "cell_type": "code",
   "execution_count": 36,
   "metadata": {},
   "outputs": [
    {
     "name": "stdout",
     "output_type": "stream",
     "text": [
      "FRULA\n"
     ]
    }
   ],
   "source": [
    "# 9935, 문자열 폭발\n",
    "import sys\n",
    "\n",
    "s1 = sys.stdin.readline().rstrip()\n",
    "s2 = sys.stdin.readline().rstrip()\n",
    "s1 = list(s1)\n",
    "s2 = list(s2)\n",
    "stack = []\n",
    "for ch in s1:\n",
    "    stack.append(ch)\n",
    "    if ch == s2[-1]:\n",
    "        for i in range(1, len(s2)+1):\n",
    "            if len(stack)<len(s2):\n",
    "                break\n",
    "            if stack[-i] != s2[-i]:\n",
    "                break\n",
    "\n",
    "        else:\n",
    "            for i in range(len(s2)):\n",
    "                if stack:\n",
    "                    stack.pop()\n",
    "\n",
    "if stack:\n",
    "    print(\"\".join(stack))\n",
    "else:\n",
    "    print(\"FRULA\")"
   ]
  },
  {
   "cell_type": "code",
   "execution_count": 34,
   "metadata": {},
   "outputs": [
    {
     "name": "stdout",
     "output_type": "stream",
     "text": [
      "12ab112ab2ab\n",
      "12ab\n",
      "FRULA\n"
     ]
    }
   ],
   "source": [
    "from collections import deque\n",
    "from itertools import islice\n",
    "\n",
    "MAX = 1000000\n",
    "string = input()\n",
    "boom = input()\n",
    "\n",
    "\n",
    "def crop(T, A):\n",
    "    N = \"FRULA\"\n",
    "    while A in T:\n",
    "        A_idx = T.find(A)\n",
    "        T = ''.join(deque(islice(T, A_idx)) + deque(islice(T, A_idx + len(A), len(T))))\n",
    "        \n",
    "    if len(T) == 0:\n",
    "        return N\n",
    "    else:\n",
    "        return T\n",
    "\n",
    "print(crop(string, boom))\n",
    "#메모리 초과"
   ]
  },
  {
   "cell_type": "code",
   "execution_count": null,
   "metadata": {},
   "outputs": [],
   "source": [
    "from collections import deque\n",
    "string = input()\n",
    "boom = input()\n",
    "\n",
    "\n",
    "def crop(T, A):\n",
    "    dq = deque(T)\n",
    "    \n",
    "    N = \"FRULA\"\n",
    "    while A in T:\n",
    "        A_idx = T.find(A)\n",
    "        dq = dq[:A_idx] + dq[A_idx + len(A):] \n",
    "            \n",
    "    if len(T) == 0:\n",
    "        return N\n",
    "    else:\n",
    "        return T\n",
    "\n",
    "print(crop(string, boom))\n",
    "# 시간 초과"
   ]
  }
 ],
 "metadata": {
  "kernelspec": {
   "display_name": "Python 3",
   "language": "python",
   "name": "python3"
  },
  "language_info": {
   "codemirror_mode": {
    "name": "ipython",
    "version": 3
   },
   "file_extension": ".py",
   "mimetype": "text/x-python",
   "name": "python",
   "nbconvert_exporter": "python",
   "pygments_lexer": "ipython3",
   "version": "3.7.4"
  }
 },
 "nbformat": 4,
 "nbformat_minor": 2
}
