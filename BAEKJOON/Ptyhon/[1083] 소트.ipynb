{
 "cells": [
  {
   "cell_type": "code",
   "execution_count": 5,
   "metadata": {
    "ExecuteTime": {
     "end_time": "2022-01-04T10:19:58.600453Z",
     "start_time": "2022-01-04T10:19:55.040082Z"
    }
   },
   "outputs": [
    {
     "name": "stdout",
     "output_type": "stream",
     "text": [
      "5\n",
      "1 2 3 4 5\n",
      "8\n",
      "5 4 2 1 3\n"
     ]
    }
   ],
   "source": [
    "n = int(input())\n",
    "num_list = list(map(int, input().split()))\n",
    "s = int(input())\n",
    "\n",
    "for i in range(n): # 첫번째 칸 부터 확인\n",
    "    max_val = num_list[i]\n",
    "    max_idx = i\n",
    "    for j in range(i+1, i+s+1): # s번 안에서 가장 큰 수 찾기 \n",
    "        if j >= n: # s가 크다면 n을 넘어갈 수 있으니 체크 \n",
    "            break\n",
    "        if max_val < num_list[j]: # 현재 max_val보다 큰 수가 나오면 갱신\n",
    "            max_val = num_list[j]\n",
    "            max_idx = j\n",
    "    s -= max_idx - i\n",
    "    while(max_idx > i): # 가장 큰 수를 제외하고 나머지를 밀어줌\n",
    "        num_list[max_idx] = num_list[max_idx -1]\n",
    "        max_idx -= 1\n",
    "    num_list[i] = max_val #가장 큰 수는 바꿀 자리로\n",
    "\n",
    "print(' '.join([str(i) for i in num_list]))"
   ]
  },
  {
   "cell_type": "code",
   "execution_count": null,
   "metadata": {},
   "outputs": [],
   "source": []
  }
 ],
 "metadata": {
  "kernelspec": {
   "display_name": "Python 3",
   "language": "python",
   "name": "python3"
  },
  "language_info": {
   "codemirror_mode": {
    "name": "ipython",
    "version": 3
   },
   "file_extension": ".py",
   "mimetype": "text/x-python",
   "name": "python",
   "nbconvert_exporter": "python",
   "pygments_lexer": "ipython3",
   "version": "3.7.4"
  },
  "toc": {
   "base_numbering": 1,
   "nav_menu": {},
   "number_sections": true,
   "sideBar": true,
   "skip_h1_title": false,
   "title_cell": "Table of Contents",
   "title_sidebar": "Contents",
   "toc_cell": false,
   "toc_position": {},
   "toc_section_display": true,
   "toc_window_display": false
  }
 },
 "nbformat": 4,
 "nbformat_minor": 2
}
