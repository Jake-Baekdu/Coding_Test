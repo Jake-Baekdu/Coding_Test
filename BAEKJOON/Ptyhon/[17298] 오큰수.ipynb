{
 "cells": [
  {
   "cell_type": "code",
   "execution_count": null,
   "metadata": {},
   "outputs": [],
   "source": [
    "from collections import deque\n",
    "from sys import stdin\n",
    "\n",
    "n = int(stdin.readline())\n",
    "arr = list(map(int, stdin.readline().split()))\n",
    "ans = [-1]*n\n",
    "stack = [0]\n",
    "\n",
    "\n",
    "for i in range(1, n):\n",
    "    while stack and arr[stack[-1]] < arr[i]:\n",
    "        ans[stack.pop()] = arr[i]\n",
    "    stack.append(i)\n",
    "\n",
    "print(*ans)\n",
    "        "
   ]
  }
 ],
 "metadata": {
  "kernelspec": {
   "display_name": "Python 3",
   "language": "python",
   "name": "python3"
  },
  "language_info": {
   "codemirror_mode": {
    "name": "ipython",
    "version": 3
   },
   "file_extension": ".py",
   "mimetype": "text/x-python",
   "name": "python",
   "nbconvert_exporter": "python",
   "pygments_lexer": "ipython3",
   "version": "3.7.4"
  },
  "toc": {
   "base_numbering": 1,
   "nav_menu": {},
   "number_sections": true,
   "sideBar": true,
   "skip_h1_title": false,
   "title_cell": "Table of Contents",
   "title_sidebar": "Contents",
   "toc_cell": false,
   "toc_position": {},
   "toc_section_display": true,
   "toc_window_display": false
  }
 },
 "nbformat": 4,
 "nbformat_minor": 2
}
