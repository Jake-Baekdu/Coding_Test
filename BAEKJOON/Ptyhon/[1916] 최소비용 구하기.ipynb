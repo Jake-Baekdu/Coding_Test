{
 "cells": [
  {
   "cell_type": "code",
   "execution_count": null,
   "metadata": {},
   "outputs": [],
   "source": [
    "from collections import deque\n",
    "\n",
    "n = int(input())\n",
    "m = int(input())\n",
    "\n",
    "routes = [[] for _ in range(n+1)]\n",
    "for _ in range(m):\n",
    "    s, e, w = map(int, input().split())\n",
    "    routes[s].append((w, e))\n",
    "start_city, destination_city = map(int, input().split())\n",
    "dist = [float('inf') for _ in range(n+1)]\n",
    "\n",
    "\n",
    "dq = deque([(0, start_city)])\n",
    "dist[start_city] = 0\n",
    "\n",
    "while(dq):\n",
    "    w, s = dq.popleft()\n",
    "    \n",
    "    if dist[s] < w:\n",
    "        continue\n",
    "    \n",
    "    for w, i in routes[s]:\n",
    "        if dist[i] > dist[s] + w:\n",
    "            dist[i] = dist[s] + w\n",
    "            dq.append((dist[i], i))\n",
    "\n",
    "print(dist[destination_city])\n"
   ]
  }
 ],
 "metadata": {
  "kernelspec": {
   "display_name": "Python 3",
   "language": "python",
   "name": "python3"
  },
  "language_info": {
   "codemirror_mode": {
    "name": "ipython",
    "version": 3
   },
   "file_extension": ".py",
   "mimetype": "text/x-python",
   "name": "python",
   "nbconvert_exporter": "python",
   "pygments_lexer": "ipython3",
   "version": "3.7.4"
  },
  "toc": {
   "base_numbering": 1,
   "nav_menu": {},
   "number_sections": true,
   "sideBar": true,
   "skip_h1_title": false,
   "title_cell": "Table of Contents",
   "title_sidebar": "Contents",
   "toc_cell": false,
   "toc_position": {},
   "toc_section_display": true,
   "toc_window_display": false
  }
 },
 "nbformat": 4,
 "nbformat_minor": 2
}
