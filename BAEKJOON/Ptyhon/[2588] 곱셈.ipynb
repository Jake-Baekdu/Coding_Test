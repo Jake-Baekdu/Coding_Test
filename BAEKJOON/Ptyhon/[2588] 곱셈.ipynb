{
 "cells": [
  {
   "cell_type": "code",
   "execution_count": null,
   "metadata": {},
   "outputs": [],
   "source": [
    "A = int(input())  # 첫번째 입력받은 문자 : 숫자로 변환\n",
    "B = input()       # 두번째 입력받은 문자 : 문자열 그대로 둠\n",
    "\n",
    "# 문자열의 인덱스를 이용해서 두번째 입력 받은 문자를 하나씩 숫자로 반환하고 A와 곱한다.\n",
    "AxB2 = A * int(B[2])\n",
    "AxB1 = A * int(B[1])\n",
    "AxB0 = A * int(B[0])\n",
    "AxB = A * int(B)\n",
    "\n",
    "print(AxB2, AxB1, AxB0, AxB, sep='\\n')\n",
    "# sep='\\n'로 줄바꿈"
   ]
  }
 ],
 "metadata": {
  "kernelspec": {
   "display_name": "Python 3",
   "language": "python",
   "name": "python3"
  },
  "language_info": {
   "codemirror_mode": {
    "name": "ipython",
    "version": 3
   },
   "file_extension": ".py",
   "mimetype": "text/x-python",
   "name": "python",
   "nbconvert_exporter": "python",
   "pygments_lexer": "ipython3",
   "version": "3.7.4"
  },
  "toc": {
   "base_numbering": 1,
   "nav_menu": {},
   "number_sections": true,
   "sideBar": true,
   "skip_h1_title": false,
   "title_cell": "Table of Contents",
   "title_sidebar": "Contents",
   "toc_cell": false,
   "toc_position": {},
   "toc_section_display": true,
   "toc_window_display": false
  }
 },
 "nbformat": 4,
 "nbformat_minor": 2
}
