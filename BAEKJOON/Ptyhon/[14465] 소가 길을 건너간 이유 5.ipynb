{
 "cells": [
  {
   "cell_type": "code",
   "execution_count": null,
   "metadata": {},
   "outputs": [],
   "source": [
    "N, K, B = map(int, input().split())\n",
    "lights = [True for _ in range(N+1)]\n",
    "broken = [int(input()) for _ in range(B)]\n",
    "broken.sort()\n",
    "cntArr = [0 for _ in range(N+1)]\n",
    "for i in broken:\n",
    "    lights[i] = False\n",
    "check_K(lights)"
   ]
  }
 ],
 "metadata": {
  "kernelspec": {
   "display_name": "Python 3",
   "language": "python",
   "name": "python3"
  },
  "language_info": {
   "codemirror_mode": {
    "name": "ipython",
    "version": 3
   },
   "file_extension": ".py",
   "mimetype": "text/x-python",
   "name": "python",
   "nbconvert_exporter": "python",
   "pygments_lexer": "ipython3",
   "version": "3.7.4"
  }
 },
 "nbformat": 4,
 "nbformat_minor": 2
}
