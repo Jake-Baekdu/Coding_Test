{
 "cells": [
  {
   "cell_type": "code",
   "execution_count": null,
   "metadata": {},
   "outputs": [],
   "source": [
    "import sys\n",
    "from collections import deque\n",
    "\n",
    "n, m = map(int, input().split())\n",
    "value = list(map(int, input().split()))\n",
    "\n",
    "q = deque([i+1 for i in range(n)])\n",
    "count = 0\n",
    "\n",
    "for x in value:\n",
    "    while True:\n",
    "        if q.index(x) == 0:\n",
    "            q.popleft()\n",
    "            break\n",
    "        if q.index(x) - 0 <= len(q) - q.index(x):\n",
    "            q.append(q.popleft())\n",
    "            count += 1\n",
    "        else:\n",
    "            q.appendleft(q.pop())\n",
    "            count += 1\n",
    "            \n",
    "print(count)"
   ]
  }
 ],
 "metadata": {
  "kernelspec": {
   "display_name": "Python 3",
   "language": "python",
   "name": "python3"
  },
  "language_info": {
   "codemirror_mode": {
    "name": "ipython",
    "version": 3
   },
   "file_extension": ".py",
   "mimetype": "text/x-python",
   "name": "python",
   "nbconvert_exporter": "python",
   "pygments_lexer": "ipython3",
   "version": "3.7.4"
  },
  "toc": {
   "base_numbering": 1,
   "nav_menu": {},
   "number_sections": true,
   "sideBar": true,
   "skip_h1_title": false,
   "title_cell": "Table of Contents",
   "title_sidebar": "Contents",
   "toc_cell": false,
   "toc_position": {},
   "toc_section_display": true,
   "toc_window_display": false
  }
 },
 "nbformat": 4,
 "nbformat_minor": 2
}
