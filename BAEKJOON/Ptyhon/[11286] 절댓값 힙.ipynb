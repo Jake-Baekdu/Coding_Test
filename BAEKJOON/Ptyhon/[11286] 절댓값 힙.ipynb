import heapq
import sys

n = int(sys.stdin.readline())
hq = []
for _ in range(n):
    val = int(sys.stdin.readline())
    
    if val == 0:
        if hq:
            print(heapq.heappop(hq)[1])
        else:
            print(0)
    else:
        heapq.heappush(hq, (abs(val), val))