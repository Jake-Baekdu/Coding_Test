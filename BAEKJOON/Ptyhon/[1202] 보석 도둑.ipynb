{
 "cells": [
  {
   "cell_type": "code",
   "execution_count": 1,
   "metadata": {
    "ExecuteTime": {
     "end_time": "2022-01-27T18:30:22.614848Z",
     "start_time": "2022-01-27T18:30:22.595800Z"
    }
   },
   "outputs": [
    {
     "data": {
      "text/plain": [
       "[1, 3]"
      ]
     },
     "execution_count": 1,
     "metadata": {},
     "output_type": "execute_result"
    }
   ],
   "source": [
    "import sys\n",
    "import heapq\n",
    "\n",
    "n, k = map(int, sys.stdin.readline().split())\n",
    "\n",
    "jew_hq = []\n",
    "for _ in range(n):\n",
    "    tmp = list(map(int, sys.stdin.readline().split()))\n",
    "    heapq.heappush(jew_hq, tmp)\n",
    "    \n",
    "bags = [0 for _ in range(k)]\n",
    "for i in range(k):\n",
    "    bags[i] = int(input())\n",
    "bags.sort(reverse = True)\n",
    "\n",
    "ans = 0\n",
    "jewTmp = []\n",
    "while(bags):\n",
    "    bag = bags.pop()\n",
    "    while jew_hq and bag >= jew_hq[0][0]:\n",
    "        heapq.heappush(jewTmp, -heapq.heappop(jew_hq)[1])\n",
    "    if jewTmp:\n",
    "        ans -= heapq.heappop(jewTmp)\n",
    "    elif not jew_hq:\n",
    "        break\n",
    "    \n",
    "print(ans)"
   ]
  },
  {
   "cell_type": "code",
   "execution_count": null,
   "metadata": {},
   "outputs": [],
   "source": []
  }
 ],
 "metadata": {
  "kernelspec": {
   "display_name": "Python 3",
   "language": "python",
   "name": "python3"
  },
  "language_info": {
   "codemirror_mode": {
    "name": "ipython",
    "version": 3
   },
   "file_extension": ".py",
   "mimetype": "text/x-python",
   "name": "python",
   "nbconvert_exporter": "python",
   "pygments_lexer": "ipython3",
   "version": "3.7.4"
  },
  "toc": {
   "base_numbering": 1,
   "nav_menu": {},
   "number_sections": true,
   "sideBar": true,
   "skip_h1_title": false,
   "title_cell": "Table of Contents",
   "title_sidebar": "Contents",
   "toc_cell": false,
   "toc_position": {},
   "toc_section_display": true,
   "toc_window_display": false
  }
 },
 "nbformat": 4,
 "nbformat_minor": 2
}
