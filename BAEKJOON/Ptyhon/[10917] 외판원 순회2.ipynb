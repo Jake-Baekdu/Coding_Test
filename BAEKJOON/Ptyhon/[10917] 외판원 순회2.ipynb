{
 "cells": [
  {
   "cell_type": "code",
   "execution_count": null,
   "metadata": {},
   "outputs": [],
   "source": [
    "import sys\n",
    "\n",
    "\n",
    "def dfs(start, next, value, visited):\n",
    "    global min_value\n",
    "\n",
    "    if len(visited) == N:\n",
    "        if travel[next][start] != 0:\n",
    "            min_value = min(min_value, value + travel[next][start])\n",
    "        return\n",
    "\n",
    "    for i in range(N):\n",
    "        if travel[next][i] != 0 and i != start and i not in visited:\n",
    "            visited.append(i)\n",
    "            dfs(start, i, value + travel[next][i], visited)\n",
    "            visited.pop()\n",
    "\n",
    "\n",
    "if __name__ == \"__main__\":\n",
    "\n",
    "    N = int(input())\n",
    "    travel = [list(map(int, input().split())) for _ in range(N)]\n",
    "\n",
    "    min_value = sys.maxsize\n",
    "\n",
    "    # 각 번호에서 시작\n",
    "    for i in range(N):\n",
    "        dfs(i, i, 0, [i])\n",
    "\n",
    "    print(min_value)"
   ]
  },
  {
   "cell_type": "code",
   "execution_count": null,
   "metadata": {},
   "outputs": [],
   "source": []
  }
 ],
 "metadata": {
  "kernelspec": {
   "display_name": "Python 3",
   "language": "python",
   "name": "python3"
  },
  "language_info": {
   "codemirror_mode": {
    "name": "ipython",
    "version": 3
   },
   "file_extension": ".py",
   "mimetype": "text/x-python",
   "name": "python",
   "nbconvert_exporter": "python",
   "pygments_lexer": "ipython3",
   "version": "3.7.4"
  }
 },
 "nbformat": 4,
 "nbformat_minor": 2
}
