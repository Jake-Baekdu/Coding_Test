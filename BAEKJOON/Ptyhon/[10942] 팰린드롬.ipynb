{
 "cells": [
  {
   "cell_type": "code",
   "execution_count": 2,
   "metadata": {},
   "outputs": [
    {
     "ename": "ValueError",
     "evalue": "invalid literal for int() with base 10: ''",
     "output_type": "error",
     "traceback": [
      "\u001b[1;31m---------------------------------------------------------------------------\u001b[0m",
      "\u001b[1;31mValueError\u001b[0m                                Traceback (most recent call last)",
      "\u001b[1;32m<ipython-input-2-467802185bda>\u001b[0m in \u001b[0;36m<module>\u001b[1;34m\u001b[0m\n\u001b[0;32m      3\u001b[0m \u001b[1;33m\u001b[0m\u001b[0m\n\u001b[0;32m      4\u001b[0m \u001b[1;33m\u001b[0m\u001b[0m\n\u001b[1;32m----> 5\u001b[1;33m \u001b[0mN\u001b[0m \u001b[1;33m=\u001b[0m \u001b[0mint\u001b[0m\u001b[1;33m(\u001b[0m\u001b[0mstdin\u001b[0m\u001b[1;33m.\u001b[0m\u001b[0mreadline\u001b[0m\u001b[1;33m(\u001b[0m\u001b[1;33m)\u001b[0m\u001b[1;33m)\u001b[0m\u001b[1;33m\u001b[0m\u001b[1;33m\u001b[0m\u001b[0m\n\u001b[0m\u001b[0;32m      6\u001b[0m \u001b[0mnum\u001b[0m \u001b[1;33m=\u001b[0m \u001b[0mlist\u001b[0m\u001b[1;33m(\u001b[0m\u001b[0mmap\u001b[0m\u001b[1;33m(\u001b[0m\u001b[0mint\u001b[0m\u001b[1;33m,\u001b[0m \u001b[0mstdin\u001b[0m\u001b[1;33m.\u001b[0m\u001b[0mreadline\u001b[0m\u001b[1;33m(\u001b[0m\u001b[1;33m)\u001b[0m\u001b[1;33m.\u001b[0m\u001b[0msplit\u001b[0m\u001b[1;33m(\u001b[0m\u001b[1;33m)\u001b[0m\u001b[1;33m)\u001b[0m\u001b[1;33m)\u001b[0m\u001b[1;33m\u001b[0m\u001b[1;33m\u001b[0m\u001b[0m\n\u001b[0;32m      7\u001b[0m \u001b[1;31m# num = list(map(int, input().split()))\u001b[0m\u001b[1;33m\u001b[0m\u001b[1;33m\u001b[0m\u001b[1;33m\u001b[0m\u001b[0m\n",
      "\u001b[1;31mValueError\u001b[0m: invalid literal for int() with base 10: ''"
     ]
    }
   ],
   "source": [
    "from collections import deque\n",
    "from sys import stdin\n",
    "\n",
    "\n",
    "# N = int(stdin.readline())\n",
    "# num = list(map(int, stdin.readline().split()))\n",
    "# M = int(stdin.readline())\n",
    "\n",
    "num = list(map(int, input().split()))\n",
    "N = int(input())\n",
    "M = int(input())\n",
    "\n",
    "for _ in range(M):\n",
    "    result = True\n",
    "    S, E = map(int, input().split())\n",
    "    temp = deque(num[S-1:E])\n",
    "    if len(temp) == 1:\n",
    "        print(1)\n",
    "        continue\n",
    "        \n",
    "    while(len(temp) > 1):\n",
    "        if temp.pop() != temp.popleft():\n",
    "            result = False\n",
    "            break\n",
    "\n",
    "    if result:\n",
    "        print(1)\n",
    "    else :\n",
    "        print(0)\n",
    "    "
   ]
  },
  {
   "cell_type": "code",
   "execution_count": 37,
   "metadata": {},
   "outputs": [
    {
     "name": "stdout",
     "output_type": "stream",
     "text": [
      "7\n",
      "1 2 1 3 1 2 1\n",
      "4\n"
     ]
    }
   ],
   "source": [
    "N = int(input())\n",
    "arr = list(map(int, input().split()))\n",
    "M = int(input())\n",
    "\n",
    "dp =[[0 for _ in range(N+1)] for _ in range(N+1)]\n",
    "\n",
    "arr.insert(0,0)"
   ]
  },
  {
   "cell_type": "code",
   "execution_count": 38,
   "metadata": {},
   "outputs": [
    {
     "name": "stdout",
     "output_type": "stream",
     "text": [
      "1 5\n",
      "0\n",
      "1 3\n",
      "1\n",
      "2 2\n",
      "1\n",
      "1 2\n",
      "0\n"
     ]
    }
   ],
   "source": [
    "\n",
    "for i in range(1, N+1):\n",
    "    dp[i][i] = 1\n",
    "    \n",
    "for size in range(1, N+1):\n",
    "    for start in range(1, N-size+1):\n",
    "        end = start + size\n",
    "        \n",
    "        \"\"\"\n",
    "        주어진 수가 1 1 인 경우  elif로 들어갔을 때 \n",
    "        start>end가 되는 것을 방지하기 위해서\n",
    "        \"\"\"\n",
    "        if size == 1:\n",
    "            if arr[start] == arr[end]: \n",
    "                dp[start][end] = 1\n",
    "        elif dp[start+1][end - 1] == 1 and arr[start] == arr[end]:\n",
    "            dp[start][end] = 1\n",
    "                \n",
    "for _ in range(M):\n",
    "    S, E = map(int, input().split())\n",
    "    print(dp[S][E])\n",
    "        "
   ]
  },
  {
   "cell_type": "code",
   "execution_count": null,
   "metadata": {},
   "outputs": [],
   "source": []
  }
 ],
 "metadata": {
  "kernelspec": {
   "display_name": "Python 3",
   "language": "python",
   "name": "python3"
  },
  "language_info": {
   "codemirror_mode": {
    "name": "ipython",
    "version": 3
   },
   "file_extension": ".py",
   "mimetype": "text/x-python",
   "name": "python",
   "nbconvert_exporter": "python",
   "pygments_lexer": "ipython3",
   "version": "3.7.4"
  }
 },
 "nbformat": 4,
 "nbformat_minor": 2
}
