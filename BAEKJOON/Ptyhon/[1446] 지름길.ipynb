{
 "cells": [
  {
   "cell_type": "code",
   "execution_count": null,
   "metadata": {},
   "outputs": [],
   "source": [
    "import heapq\n",
    "\n",
    "N, D = map(int, input().split())\n",
    "short = dict()\n",
    "\n",
    "for i in range(N):\n",
    "    s, e, w = map(int, input().split())\n",
    "    if e > D:\n",
    "        continue\n",
    "    try:\n",
    "        short[s].append((w, e))\n",
    "    except KeyError:\n",
    "        short[s] = [(w, e)]\n",
    "\n",
    "dist = [float(\"INF\") for _ in range(D+1)]\n",
    "\n",
    "hq = []\n",
    "\n",
    "heapq.heappush(hq, (0,0)) #(weight, cur_location)\n",
    "dist[0] = 0\n",
    "\n",
    "while(hq):\n",
    "    w, cur_location = heapq.heappop(hq)\n",
    "    check_end_point = 0\n",
    "    check_weight = 0\n",
    "    \n",
    "    if cur_location == D:\n",
    "        print(w)\n",
    "        break\n",
    "    try:\n",
    "        for tw, te in short[cur_location]:\n",
    "            new_w = tw + w\n",
    "            if dist[te] > new_w:\n",
    "                check_end_point = te\n",
    "                check_weight = new_w\n",
    "                for i in range(cur_location, check_end_point+1):\n",
    "                    dist[i] = check_weight\n",
    "                heapq.heappush(hq, (new_w, te))\n",
    "    except KeyError:\n",
    "        pass\n",
    "    check_end_point = cur_location + 1\n",
    "    check_weight = w + 1\n",
    "    heapq.heappush(hq, (w+1, cur_location+1))\n",
    "    \n",
    "        \n",
    "        \n",
    "        \n",
    "        \n",
    "        \n",
    "        \n",
    "        "
   ]
  }
 ],
 "metadata": {
  "kernelspec": {
   "display_name": "Python 3",
   "language": "python",
   "name": "python3"
  },
  "language_info": {
   "codemirror_mode": {
    "name": "ipython",
    "version": 3
   },
   "file_extension": ".py",
   "mimetype": "text/x-python",
   "name": "python",
   "nbconvert_exporter": "python",
   "pygments_lexer": "ipython3",
   "version": "3.7.4"
  }
 },
 "nbformat": 4,
 "nbformat_minor": 2
}
