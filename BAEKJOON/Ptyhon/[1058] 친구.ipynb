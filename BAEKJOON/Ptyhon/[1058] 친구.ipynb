{
 "cells": [
  {
   "cell_type": "code",
   "execution_count": null,
   "metadata": {},
   "outputs": [],
   "source": [
    "from collections import deque\n",
    "\n",
    "N = int(input())\n",
    "arr = [list(map(str, input().rstrip())) for _ in range(N)]\n",
    "def dfs(x):\n",
    "    dq = deque([(x, 0)])\n",
    "    visited[x] = True\n",
    "    cnt_f = 0\n",
    "    \n",
    "    while dq:\n",
    "        f, cnt = dq.pop()\n",
    "        if cnt >= 2:\n",
    "            continue\n",
    "        for i in range(N):\n",
    "            if arr[f][i] == 'Y' and visited[i] == False:\n",
    "                visited[i] = True\n",
    "                dq.append((i, cnt+1))\n",
    "                cnt_f += 1\n",
    "    return cnt_f\n",
    "        \n",
    "    \n",
    "ans = 0\n",
    "for i in range(N):\n",
    "    visited = [False]*N\n",
    "    ans = max(ans, dfs(i))\n",
    "print(ans)\n"
   ]
  }
 ],
 "metadata": {
  "kernelspec": {
   "display_name": "Python 3",
   "language": "python",
   "name": "python3"
  },
  "language_info": {
   "codemirror_mode": {
    "name": "ipython",
    "version": 3
   },
   "file_extension": ".py",
   "mimetype": "text/x-python",
   "name": "python",
   "nbconvert_exporter": "python",
   "pygments_lexer": "ipython3",
   "version": "3.7.4"
  }
 },
 "nbformat": 4,
 "nbformat_minor": 2
}
