{
 "cells": [
  {
   "cell_type": "code",
   "execution_count": 2,
   "metadata": {},
   "outputs": [
    {
     "name": "stdout",
     "output_type": "stream",
     "text": [
      "3\n",
      "1 2 3\n",
      "1 3 2\n",
      "[1]\n",
      "[1, 2]\n",
      "[1, 2, 3]\n",
      "[[], [1], [1, 2]] 0\n"
     ]
    }
   ],
   "source": [
    "import copy\n",
    "\n",
    "def bs(n, left, right, arr):\n",
    "    \n",
    "    pl = left\n",
    "    pr = right\n",
    "    \n",
    "    while(True):\n",
    "        pc = (pl + pr)//2\n",
    "        \n",
    "        if arr[pc] == n:\n",
    "            return pc\n",
    "            \n",
    "        if n < arr[pc]:\n",
    "            pr = pc - 1\n",
    "        else:\n",
    "            pl = pc + 1\n",
    "            \n",
    "        if pl > pr:\n",
    "            break\n",
    "    return pl\n",
    "\n",
    "N = int(input())\n",
    "A = list(map(int, input().split()))\n",
    "B = list(map(int, input().split()))\n",
    "arrA = []\n",
    "arrB = []\n",
    "save_LCS = []\n",
    "maxVal = 0\n",
    "for i in range(N):\n",
    "    na = A[i]\n",
    "    \n",
    "    if len(arrA) == 0 or arrA[len(arrA)-1] < na:\n",
    "        arrA.append(na)\n",
    "    else:\n",
    "        idx = bs(na, 0, len(arrA) -1, arrA)\n",
    "        arrA[idx] = na\n",
    "    temp = copy.copy(arrA)\n",
    "    print(arrA)\n",
    "    save_LCS.append(temp)\n",
    "    \n",
    "for i in range(N):\n",
    "    nb = B[i]\n",
    "\n",
    "    if len(arrB) == 0 or arrB[len(arrB)-1] < nb:\n",
    "        arrB.append(nb)\n",
    "    else:\n",
    "        idx = bs(nb, 0, len(arrB) -1, arrB)\n",
    "        arrB[idx] = nb\n",
    "    if arrB in save_LCS[len(arrB)]:\n",
    "        maxVal = max(maxVal, len(arrB))\n",
    "print(save_LCS, maxVal)\n"
   ]
  },
  {
   "cell_type": "code",
   "execution_count": null,
   "metadata": {},
   "outputs": [],
   "source": []
  }
 ],
 "metadata": {
  "kernelspec": {
   "display_name": "Python 3",
   "language": "python",
   "name": "python3"
  },
  "language_info": {
   "codemirror_mode": {
    "name": "ipython",
    "version": 3
   },
   "file_extension": ".py",
   "mimetype": "text/x-python",
   "name": "python",
   "nbconvert_exporter": "python",
   "pygments_lexer": "ipython3",
   "version": "3.7.4"
  }
 },
 "nbformat": 4,
 "nbformat_minor": 2
}
