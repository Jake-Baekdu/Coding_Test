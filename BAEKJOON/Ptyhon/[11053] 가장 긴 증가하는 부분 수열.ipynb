{
 "cells": [
  {
   "cell_type": "code",
   "execution_count": null,
   "metadata": {},
   "outputs": [],
   "source": [
    "from sys import stdin\n",
    "import bisect\n",
    "\n",
    "n = int(stdin.readline())\n",
    "a = list(map(int, stdin.readline().split(\" \")))\n",
    "dp = [a[0]]\n",
    "\n",
    "for i in range(n):\n",
    "    if a[i] > dp[-1]:\n",
    "        dp.append(a[i])\n",
    "    else:\n",
    "        #a가 정렬되어있다는 가정하에 a[i]값이 들어갈 위치 \n",
    "        idx = bisect.bisect_left(dp, a[i])\n",
    "        dp[idx] = a[i]\n",
    "print(len(dp))\n",
    "\n",
    "\n",
    "\n"
   ]
  }
 ],
 "metadata": {
  "kernelspec": {
   "display_name": "Python 3",
   "language": "python",
   "name": "python3"
  },
  "language_info": {
   "codemirror_mode": {
    "name": "ipython",
    "version": 3
   },
   "file_extension": ".py",
   "mimetype": "text/x-python",
   "name": "python",
   "nbconvert_exporter": "python",
   "pygments_lexer": "ipython3",
   "version": "3.7.4"
  },
  "toc": {
   "base_numbering": 1,
   "nav_menu": {},
   "number_sections": true,
   "sideBar": true,
   "skip_h1_title": false,
   "title_cell": "Table of Contents",
   "title_sidebar": "Contents",
   "toc_cell": false,
   "toc_position": {},
   "toc_section_display": true,
   "toc_window_display": false
  }
 },
 "nbformat": 4,
 "nbformat_minor": 2
}
