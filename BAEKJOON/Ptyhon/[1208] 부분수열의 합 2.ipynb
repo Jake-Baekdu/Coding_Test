{
 "cells": [
  {
   "cell_type": "code",
   "execution_count": 2,
   "metadata": {},
   "outputs": [
    {
     "name": "stdout",
     "output_type": "stream",
     "text": [
      "5 0\n",
      "-7 -3 -2 5 8\n"
     ]
    }
   ],
   "source": [
    "n, s = map(int, input().split())\n",
    "\n",
    "arr = list(map(int, input().split()))"
   ]
  },
  {
   "cell_type": "code",
   "execution_count": 14,
   "metadata": {},
   "outputs": [
    {
     "name": "stdout",
     "output_type": "stream",
     "text": [
      "5 0\n",
      "-7 -3 -2 5 8\n",
      "1\n",
      "1\n",
      "1\n",
      "1\n",
      "1\n",
      "1\n",
      "1\n",
      "1\n"
     ]
    }
   ],
   "source": [
    "from itertools import combinations\n",
    "\n",
    "n, s = map(int, input().split())\n",
    "\n",
    "arr = list(map(int, input().split()))\n",
    "\n",
    "cnt = 0\n",
    "\n",
    "left = numbers[:n//2]\n",
    "right = numbers[n//2:]\n",
    "left_sum = []\n",
    "\n",
    "for i in range(1, n//2+1):\n",
    "    cs = list(combinations(left, i))\n",
    "    for c in cs:\n",
    "        sc = sum(c)\n",
    "        if sc == goal:\n",
    "            cnt += 1\n",
    "        left_sum.append(sc)\n",
    "        \n",
    "right_sum = []\n",
    "for i in range(1, n//2+2):\n",
    "    cs = list(combinations(right, i))\n",
    "    for c in cs:\n",
    "        sc = sum(c)\n",
    "        if sc == goal:\n",
    "            cnt += 1\n",
    "        right_sum.append(sc)\n",
    "        \n",
    "left_sum.sort()\n",
    "right_sum.sort(reverse=True)\n",
    "\n",
    "i = 0\n",
    "j = 0\n",
    "lc = len(left_sum)\n",
    "rc = len(right_sum)\n",
    "\n",
    "while i < lc and j < rc:\n",
    "    p = left_sum[i] + right_sum[j]\n",
    "    if p > s:\n",
    "        j += 1\n",
    "    elif p < goal:\n",
    "        i += 1\n",
    "    elif p < goal:\n",
    "        i += 1\n",
    "    else:\n",
    "        ls, rs = 1, 1\n",
    "        left_idx = i + 1\n",
    "        right_idx = j + 1\n",
    "        while left_idx < lc and left_sum[left_idx] == left_sum[i]:\n",
    "            ls += 1\n",
    "            left_idx += 1\n",
    "        while right_idx < rc and right_sum[right_idx] == right_sum[j]:\n",
    "            rs += 1\n",
    "            right_idx += 1\n",
    "        i = left_idx\n",
    "        j = right_idx\n",
    "        cnt += ls*rs\n",
    "print(cnt)"
   ]
  },
  {
   "cell_type": "code",
   "execution_count": 11,
   "metadata": {},
   "outputs": [
    {
     "ename": "NameError",
     "evalue": "name 'minus_arr' is not defined",
     "output_type": "error",
     "traceback": [
      "\u001b[1;31m---------------------------------------------------------------------------\u001b[0m",
      "\u001b[1;31mNameError\u001b[0m                                 Traceback (most recent call last)",
      "\u001b[1;32m<ipython-input-11-a48d1b603c85>\u001b[0m in \u001b[0;36m<module>\u001b[1;34m\u001b[0m\n\u001b[0;32m      3\u001b[0m         \u001b[0mtemp\u001b[0m \u001b[1;33m=\u001b[0m \u001b[0msum\u001b[0m\u001b[1;33m(\u001b[0m\u001b[0marr\u001b[0m\u001b[1;33m[\u001b[0m\u001b[0mi\u001b[0m\u001b[1;33m:\u001b[0m\u001b[0mj\u001b[0m\u001b[1;33m+\u001b[0m\u001b[1;36m1\u001b[0m\u001b[1;33m]\u001b[0m\u001b[1;33m)\u001b[0m\u001b[1;33m\u001b[0m\u001b[1;33m\u001b[0m\u001b[0m\n\u001b[0;32m      4\u001b[0m         \u001b[1;32mif\u001b[0m \u001b[0mtemp\u001b[0m \u001b[1;33m<=\u001b[0m \u001b[1;36m0\u001b[0m \u001b[1;33m:\u001b[0m\u001b[1;33m\u001b[0m\u001b[1;33m\u001b[0m\u001b[0m\n\u001b[1;32m----> 5\u001b[1;33m             \u001b[0mminus_arr\u001b[0m\u001b[1;33m.\u001b[0m\u001b[0mappend\u001b[0m\u001b[1;33m(\u001b[0m\u001b[0mtemp\u001b[0m\u001b[1;33m)\u001b[0m\u001b[1;33m\u001b[0m\u001b[1;33m\u001b[0m\u001b[0m\n\u001b[0m\u001b[0;32m      6\u001b[0m         \u001b[1;32melse\u001b[0m\u001b[1;33m:\u001b[0m\u001b[1;33m\u001b[0m\u001b[1;33m\u001b[0m\u001b[0m\n\u001b[0;32m      7\u001b[0m             \u001b[0mplus_arr\u001b[0m\u001b[1;33m.\u001b[0m\u001b[0mappend\u001b[0m\u001b[1;33m(\u001b[0m\u001b[0mtemp\u001b[0m\u001b[1;33m)\u001b[0m\u001b[1;33m\u001b[0m\u001b[1;33m\u001b[0m\u001b[0m\n",
      "\u001b[1;31mNameError\u001b[0m: name 'minus_arr' is not defined"
     ]
    }
   ],
   "source": [
    "n, s = map(int, input().split())\n",
    "num = list(map(int, input().split()))\n",
    "left, right = num[:n//2], num[n//2:]    # 시간 효율을 위해 나누어줌\n",
    "L, R = {}, {}                           # 나눈 리스트의 합과 개수를 저장할 공간\n",
    "\n",
    "def check(n, li, dic, sum_):\n",
    "    if n == len(li):\n",
    "        if sum_ not in dic:             # 기존에 계산된 결과가 없다면\n",
    "            dic[sum_] = 1\n",
    "        else:                           # 같은 결과가 존재한다면\n",
    "            dic[sum_] += 1\n",
    "        return\n",
    "    check(n+1, li, dic, sum_ + li[n])   # 해당 값을 선택\n",
    "    check(n+1, li, dic, sum_)           # 선택 안함\n",
    "    \n",
    "check(0, left, L, 0)\n",
    "check(0, right, R, 0)\n",
    "\n",
    "res = 0\n",
    "if s == 0:                              # 하나도 선택하지 않은 경우 제거\n",
    "    res -= 1\n",
    "for l in L:\n",
    "    if s-l in R:\n",
    "        res += L[l]*R[s-l]\n",
    "print(res)"
   ]
  },
  {
   "cell_type": "code",
   "execution_count": 13,
   "metadata": {},
   "outputs": [],
   "source": [
    "ar = [1]\n",
    "ar.sort(reverse = True)"
   ]
  },
  {
   "cell_type": "code",
   "execution_count": 27,
   "metadata": {},
   "outputs": [
    {
     "name": "stdout",
     "output_type": "stream",
     "text": [
      "1\n"
     ]
    }
   ],
   "source": [
    "print(answer[s])"
   ]
  },
  {
   "cell_type": "code",
   "execution_count": null,
   "metadata": {},
   "outputs": [],
   "source": []
  }
 ],
 "metadata": {
  "kernelspec": {
   "display_name": "Python 3",
   "language": "python",
   "name": "python3"
  },
  "language_info": {
   "codemirror_mode": {
    "name": "ipython",
    "version": 3
   },
   "file_extension": ".py",
   "mimetype": "text/x-python",
   "name": "python",
   "nbconvert_exporter": "python",
   "pygments_lexer": "ipython3",
   "version": "3.7.4"
  }
 },
 "nbformat": 4,
 "nbformat_minor": 2
}
