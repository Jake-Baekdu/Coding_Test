{
 "cells": [
  {
   "cell_type": "code",
   "execution_count": 15,
   "metadata": {},
   "outputs": [
    {
     "name": "stdout",
     "output_type": "stream",
     "text": [
      "0\n"
     ]
    }
   ],
   "source": [
    "class inch(int):\n",
    "    def __new__(cls, arg=0):\n",
    "        return int.__new__(cls, arg*10)\n",
    "    \n",
    "a = inch()\n",
    "print(a)"
   ]
  },
  {
   "cell_type": "code",
   "execution_count": 39,
   "metadata": {},
   "outputs": [
    {
     "name": "stdout",
     "output_type": "stream",
     "text": [
      "1\n",
      "2\n",
      "3\n"
     ]
    }
   ],
   "source": [
    "class Edge:\n",
    "    def __init__(self, aa, cost):\n",
    "        self.aa = aa\n",
    "        self.cost = cost\n",
    "    def __gt__(self, other):\n",
    "        return self.cost > other.cost\n",
    "\n",
    "a = [Edge(111, 2),Edge(111, 1),Edge(111, 3)]\n",
    "a.sort()\n",
    "for i in range(len(a)):\n",
    "    print(a[i].cost)"
   ]
  },
  {
   "cell_type": "code",
   "execution_count": 38,
   "metadata": {},
   "outputs": [
    {
     "name": "stdout",
     "output_type": "stream",
     "text": [
      "3\n",
      "2\n",
      "1\n"
     ]
    }
   ],
   "source": [
    "class Edge:\n",
    "    def __init__(self, aa, cost):\n",
    "        self.aa = aa\n",
    "        self.cost = cost\n",
    "    def __lt__(self, other):\n",
    "        return self.cost > other.cost\n",
    "\n",
    "a = [Edge(111, 2),Edge(111, 1),Edge(111, 3)]\n",
    "a.sort()\n",
    "for i in range(len(a)):\n",
    "    print(a[i].cost)"
   ]
  },
  {
   "cell_type": "code",
   "execution_count": 65,
   "metadata": {},
   "outputs": [],
   "source": [
    "class Rating():\n",
    "    def __init__(self, rating=0):\n",
    "        self.rating = rating\n",
    "\n",
    "    def __set__(self, instance, value):\n",
    "        if value < 0 or value > 5:\n",
    "            raise ValueError('rating must be 0~5')\n",
    "        else:\n",
    "            setattr(instance, 'rating', value)\n",
    "\n",
    "    def __get__(self, instance, owner):\n",
    "        return getattr(instance, 'rating')\n",
    "\n",
    "class MovieReview():\n",
    "    def __init__(self, fun, story, acting):\n",
    "        self.fun = Rating()\n",
    "        self.story = Rating()\n",
    "        self.acting = Rating()"
   ]
  },
  {
   "cell_type": "code",
   "execution_count": 68,
   "metadata": {},
   "outputs": [
    {
     "name": "stdout",
     "output_type": "stream",
     "text": [
      "<__main__.Rating object at 0x000001796BB0D808>\n",
      "<__main__.Rating object at 0x000001796BB0D0C8>\n",
      "<__main__.Rating object at 0x000001796BB0D388>\n",
      "<__main__.Rating object at 0x000001796BB29D08>\n",
      "<__main__.Rating object at 0x000001796BB294C8>\n",
      "<__main__.Rating object at 0x000001796BB29648>\n"
     ]
    }
   ],
   "source": [
    "eM = MovieReview(1,2,3)\n",
    "aM = MovieReview(3,4,5)\n",
    "\n",
    "print(aM.story)\n",
    "print(aM.fun)\n",
    "print(aM.acting)\n",
    "\n",
    "print(eM.story)\n",
    "print(eM.fun)\n",
    "print(eM.acting)"
   ]
  },
  {
   "cell_type": "code",
   "execution_count": 60,
   "metadata": {},
   "outputs": [],
   "source": [
    "e = MovieReview()\n",
    "e.story = 5\n",
    "e.fun = 4"
   ]
  },
  {
   "cell_type": "code",
   "execution_count": 61,
   "metadata": {},
   "outputs": [
    {
     "name": "stdout",
     "output_type": "stream",
     "text": [
      "4\n",
      "4\n",
      "4\n"
     ]
    }
   ],
   "source": [
    "print(e.story)\n",
    "print(e.fun)\n",
    "print(e.acting)"
   ]
  },
  {
   "cell_type": "code",
   "execution_count": null,
   "metadata": {},
   "outputs": [],
   "source": []
  }
 ],
 "metadata": {
  "kernelspec": {
   "display_name": "Python 3",
   "language": "python",
   "name": "python3"
  },
  "language_info": {
   "codemirror_mode": {
    "name": "ipython",
    "version": 3
   },
   "file_extension": ".py",
   "mimetype": "text/x-python",
   "name": "python",
   "nbconvert_exporter": "python",
   "pygments_lexer": "ipython3",
   "version": "3.7.4"
  }
 },
 "nbformat": 4,
 "nbformat_minor": 2
}
