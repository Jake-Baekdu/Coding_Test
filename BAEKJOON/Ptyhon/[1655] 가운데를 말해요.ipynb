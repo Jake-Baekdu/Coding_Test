{
 "cells": [
  {
   "cell_type": "code",
   "execution_count": null,
   "metadata": {},
   "outputs": [],
   "source": [
    "import sys\n",
    "import heapq\n",
    "\n",
    "numbers = int(input())\n",
    "max_heap = []\n",
    "min_heap = []\n",
    "\n",
    "for _ in range(numbers):\n",
    "    num = int(input())\n",
    "    if len(max_heap) == len(min_heap):\n",
    "        heapq.heappush(max_heap, (-num, num))\n",
    "    else:\n",
    "        heapq.heappush(min_heap, (num, num))\n",
    "    \n",
    "    if min_heap and max_heap[0][1] > min_heap[0][1]:\n",
    "        temp_max = heapq.heappop(max_heap)[1]\n",
    "        temp_min = heapq.heappop(min_heap)[1]\n",
    "        heapq.heappush(max_heap, (-temp_min, temp_min))\n",
    "        heapq.heappush(min_heap, (temp_max, temp_max))\n",
    "    print(max_heap[0][1])"
   ]
  }
 ],
 "metadata": {
  "kernelspec": {
   "display_name": "Python 3",
   "language": "python",
   "name": "python3"
  },
  "language_info": {
   "codemirror_mode": {
    "name": "ipython",
    "version": 3
   },
   "file_extension": ".py",
   "mimetype": "text/x-python",
   "name": "python",
   "nbconvert_exporter": "python",
   "pygments_lexer": "ipython3",
   "version": "3.7.4"
  },
  "toc": {
   "base_numbering": 1,
   "nav_menu": {},
   "number_sections": true,
   "sideBar": true,
   "skip_h1_title": false,
   "title_cell": "Table of Contents",
   "title_sidebar": "Contents",
   "toc_cell": false,
   "toc_position": {},
   "toc_section_display": true,
   "toc_window_display": false
  }
 },
 "nbformat": 4,
 "nbformat_minor": 2
}
