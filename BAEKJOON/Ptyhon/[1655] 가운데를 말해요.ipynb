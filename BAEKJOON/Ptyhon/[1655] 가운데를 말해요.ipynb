{
 "cells": [
  {
   "cell_type": "markdown",
   "metadata": {
    "ExecuteTime": {
     "end_time": "2021-10-16T16:13:09.402920Z",
     "start_time": "2021-10-16T16:13:09.384968Z"
    }
   },
   "source": [
    "# 시간초과\n"
   ]
  },
  {
   "cell_type": "code",
   "execution_count": null,
   "metadata": {},
   "outputs": [],
   "source": [
    "import heapq\n",
    "import sys\n",
    "\n",
    "n = int(sys.stdin.readline())\n",
    "hq = []\n",
    "\n",
    "for i in range(n):\n",
    "    x = int(sys.stdin.readline())\n",
    "    cnt = 0\n",
    "    ans = [0]*(n//2+1)\n",
    "    heapq.heappush(hq, x)\n",
    "\n",
    "    if i == 0:\n",
    "        cnt = 1\n",
    "    elif (i+1)%2 == 0:\n",
    "        cnt = (i+1)//2\n",
    "    else:\n",
    "        cnt = (i+1)//2 + 1\n",
    "    for i in range(cnt):\n",
    "        ans[i] = heapq.heappop(hq)\n",
    "    print(ans[cnt-1])\n",
    "    for i in range(cnt):\n",
    "        heapq.heappush(hq, ans[i])\n",
    "        \n",
    "        "
   ]
  },
  {
   "cell_type": "markdown",
   "metadata": {},
   "source": [
    "# 최소, 최대힙 사용"
   ]
  },
  {
   "cell_type": "code",
   "execution_count": null,
   "metadata": {},
   "outputs": [],
   "source": [
    "import heapq\n",
    "import sys\n",
    "\n",
    "n = int(sys.stdin.readline())\n",
    "max_heap, min_heap = [], []\n",
    "mid = int(sys.stdin.readline())\n",
    "print(mid)\n",
    "for i in range(1, n):\n",
    "    x = int(sys.stdin.readline())\n",
    "    if x > mid:\n",
    "        heapq.heappush(min_heap, x)\n",
    "        if len(max_heap) + 1 < len(min_heap):\n",
    "            heapq.heappush(max_heap, (-mid, mid))\n",
    "            mid = heapq.heappop(min_heap)\n",
    "    else:\n",
    "        heapq.heappush(max_heap, (-x, x))\n",
    "        if len(max_heap) > len(min_heap):\n",
    "            heapq.heappush(min_heap, mid)\n",
    "            mid = heapq.heappop(max_heap)[1]\n",
    "    print(mid)"
   ]
  }
 ],
 "metadata": {
  "kernelspec": {
   "display_name": "Python 3",
   "language": "python",
   "name": "python3"
  },
  "language_info": {
   "codemirror_mode": {
    "name": "ipython",
    "version": 3
   },
   "file_extension": ".py",
   "mimetype": "text/x-python",
   "name": "python",
   "nbconvert_exporter": "python",
   "pygments_lexer": "ipython3",
   "version": "3.7.4"
  },
  "toc": {
   "base_numbering": 1,
   "nav_menu": {},
   "number_sections": true,
   "sideBar": true,
   "skip_h1_title": false,
   "title_cell": "Table of Contents",
   "title_sidebar": "Contents",
   "toc_cell": false,
   "toc_position": {},
   "toc_section_display": true,
   "toc_window_display": false
  }
 },
 "nbformat": 4,
 "nbformat_minor": 2
}
