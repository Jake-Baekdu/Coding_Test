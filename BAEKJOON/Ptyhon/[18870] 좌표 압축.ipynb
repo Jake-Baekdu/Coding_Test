{
 "cells": [
  {
   "cell_type": "code",
   "execution_count": null,
   "metadata": {},
   "outputs": [],
   "source": [
    "n = int(input())\n",
    "arr = list(map(int, input().split(\" \")))\n",
    "\n",
    "sorted_arr = sorted(arr)\n",
    "mapping = {}\n",
    "tmp = 0\n",
    "for i in range(n):\n",
    "    if sorted_arr[i] not in mapping:\n",
    "        mapping[sorted_arr[i]] = tmp\n",
    "        tmp += 1\n",
    "    else:\n",
    "        continue\n",
    "for i in arr:\n",
    "    print(mapping[i], end = ' ')"
   ]
  }
 ],
 "metadata": {
  "kernelspec": {
   "display_name": "Python 3",
   "language": "python",
   "name": "python3"
  },
  "language_info": {
   "codemirror_mode": {
    "name": "ipython",
    "version": 3
   },
   "file_extension": ".py",
   "mimetype": "text/x-python",
   "name": "python",
   "nbconvert_exporter": "python",
   "pygments_lexer": "ipython3",
   "version": "3.7.4"
  },
  "toc": {
   "base_numbering": 1,
   "nav_menu": {},
   "number_sections": true,
   "sideBar": true,
   "skip_h1_title": false,
   "title_cell": "Table of Contents",
   "title_sidebar": "Contents",
   "toc_cell": false,
   "toc_position": {},
   "toc_section_display": true,
   "toc_window_display": false
  }
 },
 "nbformat": 4,
 "nbformat_minor": 2
}
