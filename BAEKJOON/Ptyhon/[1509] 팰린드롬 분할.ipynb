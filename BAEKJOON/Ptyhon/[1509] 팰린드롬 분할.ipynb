{
 "cells": [
  {
   "cell_type": "code",
   "execution_count": 6,
   "metadata": {},
   "outputs": [
    {
     "name": "stdout",
     "output_type": "stream",
     "text": [
      "BBCDDECAECBDABADDCEBACCCBDCAABDBADD\n"
     ]
    }
   ],
   "source": [
    "string = '0' + input()\n"
   ]
  },
  {
   "cell_type": "code",
   "execution_count": 7,
   "metadata": {},
   "outputs": [],
   "source": [
    "import sys\n",
    "len_s = len(string)-1\n",
    "palindrome = [[0 for _ in range(len_s+1)] for _ in range(len_s+1)]\n",
    "answer = len_s\n",
    "\n",
    "dp = [len_s]*(len_s+1)\n",
    "dp[0] = 0"
   ]
  },
  {
   "cell_type": "code",
   "execution_count": 11,
   "metadata": {},
   "outputs": [],
   "source": [
    "\n",
    "for i in range(1, len_s+1):\n",
    "    palindrome[i][i] = 1\n",
    "    \n",
    "for size in range(1, len_s+1):\n",
    "    for start in range(1, len_s-size+1):\n",
    "        end = start + size\n",
    "        if size == 1:\n",
    "            if string[start] == string[end]:\n",
    "                palindrome[start][end] = 1\n",
    "                \n",
    "        elif palindrome[start+1][end-1] == 1 and string[start] == string[end]:\n",
    "            palindrome[start][end] = 1\n",
    "\n",
    "for i in range(1, len_s+1):\n",
    "    for j in range(1, i+1):\n",
    "        if palindrome[j][i] == 1:\n",
    "            dp[i] = min(dp[i], dp[j-1]+1)\n"
   ]
  },
  {
   "cell_type": "code",
   "execution_count": 12,
   "metadata": {},
   "outputs": [
    {
     "data": {
      "text/plain": [
       "22"
      ]
     },
     "execution_count": 12,
     "metadata": {},
     "output_type": "execute_result"
    }
   ],
   "source": [
    "dp[len_s]"
   ]
  },
  {
   "cell_type": "code",
   "execution_count": null,
   "metadata": {},
   "outputs": [],
   "source": []
  }
 ],
 "metadata": {
  "kernelspec": {
   "display_name": "Python 3",
   "language": "python",
   "name": "python3"
  },
  "language_info": {
   "codemirror_mode": {
    "name": "ipython",
    "version": 3
   },
   "file_extension": ".py",
   "mimetype": "text/x-python",
   "name": "python",
   "nbconvert_exporter": "python",
   "pygments_lexer": "ipython3",
   "version": "3.7.4"
  }
 },
 "nbformat": 4,
 "nbformat_minor": 2
}
