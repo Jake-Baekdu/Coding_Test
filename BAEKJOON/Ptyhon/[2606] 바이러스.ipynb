{
 "cells": [
  {
   "cell_type": "code",
   "execution_count": null,
   "metadata": {},
   "outputs": [],
   "source": [
    "from collections import deque\n",
    "\n",
    "n = int(input())\n",
    "p = int(input())\n",
    "graph = [[] for _ in range(n+1)]\n",
    "\n",
    "for _ in range(p):\n",
    "    s,e = map(int, input().split())\n",
    "    graph[s].append(e)\n",
    "    graph[e].append(s)\n",
    "\n",
    "def dfs():\n",
    "    cnt = 0\n",
    "    dq = deque([1])\n",
    "    visited = [False]*(n+1)\n",
    "    \n",
    "    while(dq):\n",
    "        s = dq.pop()\n",
    "        if visited[s] == True:\n",
    "            continue\n",
    "        visited[s] = True\n",
    "        cnt += 1\n",
    "        \n",
    "        for i in graph[s]:\n",
    "            if visited[i] == False:\n",
    "                dq.append(i)\n",
    "    return cnt-1\n",
    "\n",
    "print(dfs())"
   ]
  }
 ],
 "metadata": {
  "kernelspec": {
   "display_name": "Python 3",
   "language": "python",
   "name": "python3"
  },
  "language_info": {
   "codemirror_mode": {
    "name": "ipython",
    "version": 3
   },
   "file_extension": ".py",
   "mimetype": "text/x-python",
   "name": "python",
   "nbconvert_exporter": "python",
   "pygments_lexer": "ipython3",
   "version": "3.7.4"
  },
  "toc": {
   "base_numbering": 1,
   "nav_menu": {},
   "number_sections": true,
   "sideBar": true,
   "skip_h1_title": false,
   "title_cell": "Table of Contents",
   "title_sidebar": "Contents",
   "toc_cell": false,
   "toc_position": {},
   "toc_section_display": true,
   "toc_window_display": false
  }
 },
 "nbformat": 4,
 "nbformat_minor": 2
}
