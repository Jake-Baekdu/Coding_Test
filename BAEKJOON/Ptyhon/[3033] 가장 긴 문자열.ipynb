{
 "cells": [
  {
   "cell_type": "code",
   "execution_count": null,
   "metadata": {},
   "outputs": [],
   "source": [
    "from collections import deque\n",
    "def check_append(a,b):\n",
    "    if 0<=a<m and 0<=b<n and x[a][b]==0:\n",
    "        start.append([a,b])\n",
    "\n",
    "def bfs(x,start):\n",
    "    global cnt\n",
    "    cnt = 0\n",
    "    while start:\n",
    "        temp = start.copy()\n",
    "        start.clear()\n",
    "        for i in temp:\n",
    "            a,b = i[0],i[1]\n",
    "            x[a][b]=1            \n",
    "            check_append(a+1,b)\n",
    "            check_append(a-1,b)\n",
    "            check_append(a,b+1)\n",
    "            check_append(a,b-1)\n",
    "        cnt+=1\n",
    "    \n",
    "n, m = map(int,input().split())\n",
    "x = []\n",
    "for _ in range(m):\n",
    "    x.append(list(map(int,input().split())))                    ## 2차원배열 리스트 만들기\n",
    "\n",
    "start = deque([])\n",
    "for i in range(m):\n",
    "    for j in range(n):\n",
    "        if x[i][j]==1:\n",
    "            start.append([i,j])\n",
    "            \n",
    "bfs(x,start)\n",
    "if [(i,j) for i in range(m) for j in range(n) if x[i][j]==0]:\n",
    "    print(-1)\n",
    "else:\n",
    "    print(cnt-1)"
   ]
  }
 ],
 "metadata": {
  "kernelspec": {
   "display_name": "Python 3",
   "language": "python",
   "name": "python3"
  },
  "language_info": {
   "codemirror_mode": {
    "name": "ipython",
    "version": 3
   },
   "file_extension": ".py",
   "mimetype": "text/x-python",
   "name": "python",
   "nbconvert_exporter": "python",
   "pygments_lexer": "ipython3",
   "version": "3.7.4"
  },
  "toc": {
   "base_numbering": 1,
   "nav_menu": {},
   "number_sections": true,
   "sideBar": true,
   "skip_h1_title": false,
   "title_cell": "Table of Contents",
   "title_sidebar": "Contents",
   "toc_cell": false,
   "toc_position": {},
   "toc_section_display": true,
   "toc_window_display": false
  }
 },
 "nbformat": 4,
 "nbformat_minor": 2
}
