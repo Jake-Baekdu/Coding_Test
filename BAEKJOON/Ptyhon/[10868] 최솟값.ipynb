{
 "cells": [
  {
   "cell_type": "code",
   "execution_count": 18,
   "metadata": {},
   "outputs": [
    {
     "name": "stdout",
     "output_type": "stream",
     "text": [
      "10 4\n",
      "75\n",
      "30\n",
      "100\n",
      "38\n",
      "50\n",
      "51\n",
      "52\n",
      "20\n",
      "81\n",
      "5\n",
      "1 10\n",
      "3 5\n",
      "6 9\n",
      "8 10\n"
     ]
    }
   ],
   "source": [
    "N, M = map(int, input().split())\n",
    "\n",
    "arr_int = [0 for _ in range(N)]\n",
    "for i in range(N):\n",
    "    arr_int[i] = int(input())\n",
    "arr_int.insert(0,0)\n",
    "\n",
    "arr_pair = [[0, 0] for _ in range(M)]\n",
    "for i in range(M):\n",
    "    arr_pair[i][0], arr_pair[i][1] = map(int, input().split())"
   ]
  },
  {
   "cell_type": "code",
   "execution_count": 20,
   "metadata": {},
   "outputs": [],
   "source": [
    "def mininum(left, right, node_left, node_right, node_num):\n",
    "    if left > node_right or right < node_left: return 100000000\n",
    "    if left <= node_left and right >= node_right: return arr[node_num]\n",
    "    \n",
    "    "
   ]
  },
  {
   "cell_type": "code",
   "execution_count": 23,
   "metadata": {},
   "outputs": [
    {
     "name": "stdout",
     "output_type": "stream",
     "text": [
      "5\n",
      "38\n",
      "20\n",
      "5\n"
     ]
    }
   ],
   "source": [
    "for a, b in arr_pair:\n",
    "    print(dp[a][b])"
   ]
  },
  {
   "cell_type": "code",
   "execution_count": null,
   "metadata": {},
   "outputs": [],
   "source": []
  }
 ],
 "metadata": {
  "kernelspec": {
   "display_name": "Python 3",
   "language": "python",
   "name": "python3"
  },
  "language_info": {
   "codemirror_mode": {
    "name": "ipython",
    "version": 3
   },
   "file_extension": ".py",
   "mimetype": "text/x-python",
   "name": "python",
   "nbconvert_exporter": "python",
   "pygments_lexer": "ipython3",
   "version": "3.7.4"
  }
 },
 "nbformat": 4,
 "nbformat_minor": 2
}
