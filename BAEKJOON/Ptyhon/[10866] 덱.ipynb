{
 "cells": [
  {
   "cell_type": "code",
   "execution_count": null,
   "metadata": {},
   "outputs": [],
   "source": [
    "from collections import deque\n",
    "from sys import stdin\n",
    "\n",
    "N = int(stdin.readline())\n",
    "dq = deque()\n",
    "\n",
    "for _ in range(N):\n",
    "    tmp = list(stdin.readline().split())\n",
    "    \n",
    "    if tmp[0] == 'push_front':\n",
    "        dq.appendleft(int(tmp[1]))\n",
    "        \n",
    "    elif tmp[0] == 'push_back':\n",
    "        dq.append(int(tmp[1]))\n",
    "        \n",
    "    elif tmp[0] == 'pop_front':\n",
    "        if dq:\n",
    "            val = dq.popleft()\n",
    "            print(val)\n",
    "        else:\n",
    "            print(-1)\n",
    "            \n",
    "    elif tmp[0] =='pop_back':\n",
    "        if dq:\n",
    "            val = dq.pop()\n",
    "            print(val)\n",
    "        else:\n",
    "            print(-1)\n",
    "    elif tmp[0] =='size':\n",
    "        print(len(dq))\n",
    "        \n",
    "    elif tmp[0] =='empty':\n",
    "        if dq:\n",
    "            print(0)\n",
    "        else:\n",
    "            print(1)\n",
    "    elif tmp[0] =='front':\n",
    "        if dq:\n",
    "            print(dq[0])\n",
    "        else:\n",
    "            print(-1)\n",
    "    elif tmp[0] =='back':\n",
    "        if dq:\n",
    "            print(dq[-1])\n",
    "        else:\n",
    "            print(-1)\n",
    "        "
   ]
  }
 ],
 "metadata": {
  "kernelspec": {
   "display_name": "Python 3",
   "language": "python",
   "name": "python3"
  },
  "language_info": {
   "codemirror_mode": {
    "name": "ipython",
    "version": 3
   },
   "file_extension": ".py",
   "mimetype": "text/x-python",
   "name": "python",
   "nbconvert_exporter": "python",
   "pygments_lexer": "ipython3",
   "version": "3.7.4"
  },
  "toc": {
   "base_numbering": 1,
   "nav_menu": {},
   "number_sections": true,
   "sideBar": true,
   "skip_h1_title": false,
   "title_cell": "Table of Contents",
   "title_sidebar": "Contents",
   "toc_cell": false,
   "toc_position": {},
   "toc_section_display": true,
   "toc_window_display": false
  }
 },
 "nbformat": 4,
 "nbformat_minor": 2
}
