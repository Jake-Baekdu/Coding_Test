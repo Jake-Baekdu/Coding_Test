{
 "cells": [
  {
   "cell_type": "code",
   "execution_count": 5,
   "metadata": {},
   "outputs": [
    {
     "name": "stdout",
     "output_type": "stream",
     "text": [
      "7 2\n"
     ]
    }
   ],
   "source": [
    "T, W = map(int, input().split())\n",
    "\n",
    "\n",
    "#[위치 1인지 2인지][시간][움직인 횟수] = 먹은 개수  //  \n",
    "dp = [[[0 for _ in range(W+1)] for _ in range(3)] for _ in range(T+1)]\n",
    "\n"
   ]
  },
  {
   "cell_type": "code",
   "execution_count": 4,
   "metadata": {},
   "outputs": [
    {
     "data": {
      "text/plain": [
       "[[[0, 0], [0, 0], [0, 0], [0, 0], [0, 0], [0, 0], [0, 0], [0, 0]],\n",
       " [[0, 0], [0, 0], [0, 0], [0, 0], [0, 0], [0, 0], [0, 0], [0, 0]],\n",
       " [[0, 0], [0, 0], [0, 0], [0, 0], [0, 0], [0, 0], [0, 0], [0, 0]]]"
      ]
     },
     "execution_count": 4,
     "metadata": {},
     "output_type": "execute_result"
    }
   ],
   "source": [
    "for t in range(T+1):\n",
    "    for L in range(2):\n",
    "        for m in range(W+1):\n",
    "            dp[m][t][L] "
   ]
  },
  {
   "cell_type": "code",
   "execution_count": null,
   "metadata": {},
   "outputs": [],
   "source": [
    "import sys\n",
    "\n",
    "T, W = map(int, input().split())\n",
    "plums = [0]*T\n",
    "\n",
    "for i in range(T):\n",
    "    plums[i] = int(input())\n",
    "\n",
    "dp = [[0]*(W+1) for _ in range(T+1)]\n",
    "\n",
    "for i in range(1, T+1):\n",
    "    if plums[i] == 1:\n",
    "        dp[i][0]"
   ]
  }
 ],
 "metadata": {
  "kernelspec": {
   "display_name": "Python 3",
   "language": "python",
   "name": "python3"
  },
  "language_info": {
   "codemirror_mode": {
    "name": "ipython",
    "version": 3
   },
   "file_extension": ".py",
   "mimetype": "text/x-python",
   "name": "python",
   "nbconvert_exporter": "python",
   "pygments_lexer": "ipython3",
   "version": "3.7.4"
  }
 },
 "nbformat": 4,
 "nbformat_minor": 2
}
