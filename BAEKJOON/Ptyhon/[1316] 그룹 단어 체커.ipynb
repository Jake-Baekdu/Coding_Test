{
 "cells": [
  {
   "cell_type": "code",
   "execution_count": null,
   "metadata": {},
   "outputs": [],
   "source": [
    "from collections import deque\n",
    "\n",
    "N = int(input())\n",
    "ans = 0\n",
    "for _ in range(N):\n",
    "    word_list = []\n",
    "    word = deque(input())\n",
    "    tmp = \"\"\n",
    "    flag = True\n",
    "    for w in word:\n",
    "        if tmp == w:\n",
    "            continue\n",
    "        else:\n",
    "            if w not in word_list:\n",
    "                word_list.append(w)\n",
    "                tmp = w\n",
    "            else:\n",
    "                flag = False\n",
    "    if flag:\n",
    "        ans += 1\n",
    "    \n",
    "print(ans)\n",
    "        \n",
    "\n"
   ]
  }
 ],
 "metadata": {
  "kernelspec": {
   "display_name": "Python 3",
   "language": "python",
   "name": "python3"
  },
  "language_info": {
   "codemirror_mode": {
    "name": "ipython",
    "version": 3
   },
   "file_extension": ".py",
   "mimetype": "text/x-python",
   "name": "python",
   "nbconvert_exporter": "python",
   "pygments_lexer": "ipython3",
   "version": "3.7.4"
  },
  "toc": {
   "base_numbering": 1,
   "nav_menu": {},
   "number_sections": true,
   "sideBar": true,
   "skip_h1_title": false,
   "title_cell": "Table of Contents",
   "title_sidebar": "Contents",
   "toc_cell": false,
   "toc_position": {},
   "toc_section_display": true,
   "toc_window_display": false
  }
 },
 "nbformat": 4,
 "nbformat_minor": 2
}
