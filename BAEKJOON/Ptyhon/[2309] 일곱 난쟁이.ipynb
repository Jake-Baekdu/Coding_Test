{
 "cells": [
  {
   "cell_type": "code",
   "execution_count": null,
   "metadata": {},
   "outputs": [],
   "source": [
    "heights = [int(input()) for i in range(9)]\n",
    "\n",
    "total = sum(heights)\n",
    "\n",
    "for i in range(9):\n",
    "    for j in range(i+1,9):\n",
    "        if 100 == total - (heights[i] + heights[j]): \n",
    "            num1,num2=heights[i], heights[j]\n",
    "\n",
    "            heights.remove(num1)\n",
    "            heights.remove(num2)\n",
    "            heights.sort() # 오름차순 정리\n",
    "\n",
    "            for i in range(len(heights)):\n",
    "               print(heights[i])\n",
    "            break\n",
    "\n",
    "    if len(heights)<9:\n",
    "        break"
   ]
  }
 ],
 "metadata": {
  "kernelspec": {
   "display_name": "Python 3",
   "language": "python",
   "name": "python3"
  },
  "language_info": {
   "codemirror_mode": {
    "name": "ipython",
    "version": 3
   },
   "file_extension": ".py",
   "mimetype": "text/x-python",
   "name": "python",
   "nbconvert_exporter": "python",
   "pygments_lexer": "ipython3",
   "version": "3.7.4"
  },
  "toc": {
   "base_numbering": 1,
   "nav_menu": {},
   "number_sections": true,
   "sideBar": true,
   "skip_h1_title": false,
   "title_cell": "Table of Contents",
   "title_sidebar": "Contents",
   "toc_cell": false,
   "toc_position": {},
   "toc_section_display": true,
   "toc_window_display": false
  }
 },
 "nbformat": 4,
 "nbformat_minor": 2
}
