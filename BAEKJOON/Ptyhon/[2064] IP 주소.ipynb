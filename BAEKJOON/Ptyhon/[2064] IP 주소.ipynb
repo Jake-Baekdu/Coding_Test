{
 "cells": [
  {
   "cell_type": "code",
   "execution_count": 12,
   "metadata": {},
   "outputs": [
    {
     "name": "stdout",
     "output_type": "stream",
     "text": [
      "3\n",
      "194.85.160.177\n",
      "194.85.160.183\n",
      "194.85.160.178\n"
     ]
    },
    {
     "data": {
      "text/plain": [
       "[['194', '85', '160', '177'],\n",
       " ['194', '85', '160', '183'],\n",
       " ['194', '85', '160', '178']]"
      ]
     },
     "execution_count": 12,
     "metadata": {},
     "output_type": "execute_result"
    }
   ],
   "source": [
    "n = int(input())\n",
    "arr = [list(map(str, input().split('.'))) for _ in range(n)]\n",
    "arr"
   ]
  },
  {
   "cell_type": "code",
   "execution_count": 85,
   "metadata": {},
   "outputs": [
    {
     "name": "stdout",
     "output_type": "stream",
     "text": [
      "[['194', '194', '194'], ['85', '85', '85'], ['160', '160', '160'], ['177', '183', '178']]\n",
      "[['194', '194', '194'], ['85', '85', '85'], ['160', '160', '160'], ['10110001', '10110111', '10110010']]\n",
      "ans ['194', '85', '160', '176']\n",
      "mask ['255', '255', '255', '248']\n"
     ]
    }
   ],
   "source": [
    "ans = [0]*4\n",
    "mask_ans = [0]*4\n",
    "compare_arr = list(map(list, zip(*arr)))\n",
    "print(compare_arr)\n",
    "tmp = None\n",
    "for i in range(len(compare_arr)):\n",
    "    flag = True\n",
    "    for j in range(1, 3):\n",
    "        if compare_arr[i][j] != compare_arr[i][j-1]:\n",
    "            flag = False\n",
    "            break\n",
    "    if flag:\n",
    "        ans[i] = compare_arr[i][0]\n",
    "        mask_ans[i] = '255'\n",
    "    else:\n",
    "        tmp = i\n",
    "        break\n",
    "\n",
    "if tmp != None:\n",
    "    for i in range(3):\n",
    "        compare_arr[tmp][i] = format(int(compare_arr[tmp][i]), 'b')\n",
    "    print(compare_arr)\n",
    "    for i in range(1,3):\n",
    "        ans_bin_temp = ''\n",
    "        for j in range(8):\n",
    "            if compare_arr[tmp][i][j] != compare_arr[tmp][i-1][j]:\n",
    "                ans[tmp] = str(int(ans_bin_temp + '0'*(8-j), 2))\n",
    "                bin_ = '1'*(j) + '0'*(8-j)\n",
    "                mask_ans[tmp] = str(int(bin_, 2))\n",
    "                break\n",
    "            ans_bin_temp += compare_arr[tmp][i][j]\n",
    "            \n",
    "            \n",
    "print(\"ans\", ans)\n",
    "print(\"mask\", mask_ans)\n",
    "\n",
    "\n",
    "\n"
   ]
  },
  {
   "cell_type": "code",
   "execution_count": null,
   "metadata": {},
   "outputs": [],
   "source": [
    "n = int(input())\n",
    "arr = [list(map(str, input().split('.'))) for _ in range(n)]\n",
    "\n",
    "ans = [0]*4\n",
    "mask_ans = [0]*4\n",
    "compare_arr = list(map(list, zip(*arr)))\n",
    "tmp = None\n",
    "for i in range(len(compare_arr)):\n",
    "    flag = True\n",
    "    for j in range(1, 3):\n",
    "        if compare_arr[i][j] != compare_arr[i][j-1]:\n",
    "            flag = False\n",
    "            break\n",
    "    if flag:\n",
    "        ans[i] = compare_arr[i][0]\n",
    "        mask_ans[i] = '255'\n",
    "    else:\n",
    "        tmp = i\n",
    "        break\n",
    "print(compare_arr)\n",
    "if tmp != None:\n",
    "    for i in range(n):\n",
    "        compare_arr[tmp][i] = format(int(compare_arr[tmp][i]), 'b')\n",
    "    for i in range(1,n):\n",
    "        ans_bin_temp = ''\n",
    "        for j in range(8):\n",
    "            if compare_arr[tmp][i][j] != compare_arr[tmp][i-1][j]:\n",
    "                ans[tmp] = str(int(ans_bin_temp + '0'*(8-j), 2))\n",
    "                bin_ = '1'*(j) + '0'*(8-j)\n",
    "                mask_ans[tmp] = str(int(bin_, 2))\n",
    "                break\n",
    "            ans_bin_temp += compare_arr[tmp][i][j]\n",
    "            \n",
    "            \n",
    "print('.'.join(ans))\n",
    "print('.'.join(mask_ans))\n",
    "\n",
    "\n",
    "\n"
   ]
  }
 ],
 "metadata": {
  "kernelspec": {
   "display_name": "Python 3",
   "language": "python",
   "name": "python3"
  },
  "language_info": {
   "codemirror_mode": {
    "name": "ipython",
    "version": 3
   },
   "file_extension": ".py",
   "mimetype": "text/x-python",
   "name": "python",
   "nbconvert_exporter": "python",
   "pygments_lexer": "ipython3",
   "version": "3.7.4"
  }
 },
 "nbformat": 4,
 "nbformat_minor": 2
}
