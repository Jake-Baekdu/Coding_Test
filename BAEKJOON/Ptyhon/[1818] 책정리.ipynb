{
 "cells": [
  {
   "cell_type": "code",
   "execution_count": 1,
   "metadata": {},
   "outputs": [
    {
     "name": "stdout",
     "output_type": "stream",
     "text": [
      "5\n",
      "2 1 4 5 3\n",
      "2\n"
     ]
    }
   ],
   "source": [
    "def bs(n, left, right):\n",
    "    \n",
    "    pl = left\n",
    "    pr = right\n",
    "    \n",
    "    while(True):\n",
    "        pc = (pl + pr) // 2\n",
    "        \n",
    "        if n == arr[pc]:\n",
    "            return pc\n",
    "        \n",
    "        if n < arr[pc]:\n",
    "            pr = pc - 1\n",
    "        else:\n",
    "            pl = pc + 1\n",
    "            \n",
    "        if pl > pr:\n",
    "            break\n",
    "            \n",
    "    return pl\n",
    "\n",
    "N = int(input())\n",
    "books = list(map(int, input().split()))\n",
    "arr = []\n",
    "cnt = 0\n",
    "\n",
    "for i in range(N):\n",
    "    n = books[i]\n",
    "    \n",
    "    if len(arr) == 0 or arr[len(arr)-1] < n:\n",
    "        arr.append(n)\n",
    "    else:\n",
    "        idx = bs(n, 0, len(arr) - 1)\n",
    "        arr[idx] = n\n",
    "print(N-len(arr))\n"
   ]
  }
 ],
 "metadata": {
  "kernelspec": {
   "display_name": "Python 3",
   "language": "python",
   "name": "python3"
  },
  "language_info": {
   "codemirror_mode": {
    "name": "ipython",
    "version": 3
   },
   "file_extension": ".py",
   "mimetype": "text/x-python",
   "name": "python",
   "nbconvert_exporter": "python",
   "pygments_lexer": "ipython3",
   "version": "3.7.4"
  }
 },
 "nbformat": 4,
 "nbformat_minor": 2
}
