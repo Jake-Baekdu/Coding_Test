{
 "cells": [
  {
   "cell_type": "code",
   "execution_count": null,
   "metadata": {},
   "outputs": [],
   "source": [
    "from collections import deque\n",
    "\n",
    "n = int(input())\n",
    "stairs = [int(input()) for _ in range(n)]\n",
    "dp = [0]*n\n",
    "dp[0] = stairs[0]\n",
    "if n == 1:\n",
    "    print(stairs[0])\n",
    "elif n == 2:\n",
    "    print(sum(stairs))\n",
    "elif n >= 3:\n",
    "    dp[1] = max(stairs[0] + stairs[1], stairs[1])\n",
    "    dp[2] = max(stairs[0] + stairs[2], stairs[1] + stairs[2])\n",
    "    for i in range(3, n):\n",
    "        dp[i] = max(stairs[i] + dp[i-2], stairs[i] + stairs[i-1] + dp[i-3])\n",
    "        \n",
    "        \n",
    "    print(dp[n-1])\n",
    "        "
   ]
  }
 ],
 "metadata": {
  "kernelspec": {
   "display_name": "Python 3",
   "language": "python",
   "name": "python3"
  },
  "language_info": {
   "codemirror_mode": {
    "name": "ipython",
    "version": 3
   },
   "file_extension": ".py",
   "mimetype": "text/x-python",
   "name": "python",
   "nbconvert_exporter": "python",
   "pygments_lexer": "ipython3",
   "version": "3.7.4"
  },
  "toc": {
   "base_numbering": 1,
   "nav_menu": {},
   "number_sections": true,
   "sideBar": true,
   "skip_h1_title": false,
   "title_cell": "Table of Contents",
   "title_sidebar": "Contents",
   "toc_cell": false,
   "toc_position": {},
   "toc_section_display": true,
   "toc_window_display": false
  }
 },
 "nbformat": 4,
 "nbformat_minor": 2
}
