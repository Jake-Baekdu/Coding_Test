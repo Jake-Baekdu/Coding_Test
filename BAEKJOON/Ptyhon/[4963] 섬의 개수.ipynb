{
 "cells": [
  {
   "cell_type": "code",
   "execution_count": null,
   "metadata": {},
   "outputs": [],
   "source": [
    "from collections import deque\n",
    "from sys import stdin\n",
    "\n",
    "def bfs(x, y):\n",
    "    dq = deque([(x,y)])\n",
    "    \n",
    "    while(dq):\n",
    "        sx, sy = dq.popleft()\n",
    "        if visit[sx][sy] == 1:\n",
    "            continue\n",
    "        visit[sx][sy] = 1\n",
    "        for tx, ty in move_xy:\n",
    "            sx += tx\n",
    "            sy += ty\n",
    "            if 0 <= sx < h and 0 <= sy < w:\n",
    "                if visit[sx][sy] == 0 and board[sx][sy] == 1:\n",
    "                    dq.append((sx, sy))\n",
    "    return 1\n",
    "    \n",
    "while(True):\n",
    "    w, h = map(int, input().split())\n",
    "    if w == 0 and h == 0:\n",
    "        break\n",
    "    board = [list(map(int, input().split())) for _ in range(h)]\n",
    "    visit = [[0 for _ in range(w)] for _ in range(h)]\n",
    "    move_xy = [[1,0], [0,1], [-1,0], [0,-1], [-1,-1], [-1,1], [1,-1], [1,1]]\n",
    "    cnt = 0\n",
    "    \n",
    "    for i in range(h):\n",
    "        for j in range(w):\n",
    "            if visit[i][j] == 1:\n",
    "                continue\n",
    "            if board[i][j] == 1:\n",
    "                cnt += bfs(i, j)\n",
    "    print(cnt)\n",
    "                    \n",
    "            \n",
    "    "
   ]
  }
 ],
 "metadata": {
  "kernelspec": {
   "display_name": "Python 3",
   "language": "python",
   "name": "python3"
  },
  "language_info": {
   "codemirror_mode": {
    "name": "ipython",
    "version": 3
   },
   "file_extension": ".py",
   "mimetype": "text/x-python",
   "name": "python",
   "nbconvert_exporter": "python",
   "pygments_lexer": "ipython3",
   "version": "3.7.4"
  },
  "toc": {
   "base_numbering": 1,
   "nav_menu": {},
   "number_sections": true,
   "sideBar": true,
   "skip_h1_title": false,
   "title_cell": "Table of Contents",
   "title_sidebar": "Contents",
   "toc_cell": false,
   "toc_position": {},
   "toc_section_display": true,
   "toc_window_display": false
  }
 },
 "nbformat": 4,
 "nbformat_minor": 2
}
