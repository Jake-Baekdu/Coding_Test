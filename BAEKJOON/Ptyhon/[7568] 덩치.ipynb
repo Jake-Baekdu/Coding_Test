{
 "cells": [
  {
   "cell_type": "code",
   "execution_count": null,
   "metadata": {},
   "outputs": [],
   "source": [
    "N = int(input())\n",
    "\n",
    "people = []\n",
    "for _ in range(N):\n",
    "    w, h = map(int, input().split())\n",
    "    people.append((w, h))\n",
    "\n",
    "for c in people : #0\n",
    "    rank = 1 #1 \n",
    "    \n",
    "    for n in people:\n",
    "        if (c[0]!=n[0]) & (c[1]!=n[1]): #2  \n",
    "            if (c[0]<n[0]) & (c[1]<n[1]): #3 w, h 모두 큰 경우\n",
    "                rank += 1\n",
    "            \n",
    "    print(rank)"
   ]
  }
 ],
 "metadata": {
  "kernelspec": {
   "display_name": "Python 3",
   "language": "python",
   "name": "python3"
  },
  "language_info": {
   "codemirror_mode": {
    "name": "ipython",
    "version": 3
   },
   "file_extension": ".py",
   "mimetype": "text/x-python",
   "name": "python",
   "nbconvert_exporter": "python",
   "pygments_lexer": "ipython3",
   "version": "3.7.4"
  },
  "toc": {
   "base_numbering": 1,
   "nav_menu": {},
   "number_sections": true,
   "sideBar": true,
   "skip_h1_title": false,
   "title_cell": "Table of Contents",
   "title_sidebar": "Contents",
   "toc_cell": false,
   "toc_position": {},
   "toc_section_display": true,
   "toc_window_display": false
  }
 },
 "nbformat": 4,
 "nbformat_minor": 2
}
