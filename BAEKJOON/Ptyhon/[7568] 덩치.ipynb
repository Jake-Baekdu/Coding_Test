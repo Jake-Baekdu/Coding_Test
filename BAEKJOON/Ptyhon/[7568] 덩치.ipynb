{
 "cells": [
  {
   "cell_type": "code",
   "execution_count": null,
   "metadata": {},
   "outputs": [],
   "source": [
    "N = int(input())\n",
    "\n",
    "people = []\n",
    "result = [0]*N\n",
    "for _ in range(N):\n",
    "    x, y = map(int ,input().split(\" \"))\n",
    "    people.append((x, y))\n",
    "print(people)\n",
    "for i in range(N):\n",
    "    cnt = 1\n",
    "    for j in range(N):\n",
    "        if (people[i][0] < people[j][0]) and (people[i][1] < people[j][1]):\n",
    "            cnt += 1\n",
    "    result[i] += cnt\n",
    "    \n",
    "print(result)\n",
    "\n",
    "\n",
    "    "
   ]
  }
 ],
 "metadata": {
  "kernelspec": {
   "display_name": "Python 3",
   "language": "python",
   "name": "python3"
  },
  "language_info": {
   "codemirror_mode": {
    "name": "ipython",
    "version": 3
   },
   "file_extension": ".py",
   "mimetype": "text/x-python",
   "name": "python",
   "nbconvert_exporter": "python",
   "pygments_lexer": "ipython3",
   "version": "3.7.4"
  },
  "toc": {
   "base_numbering": 1,
   "nav_menu": {},
   "number_sections": true,
   "sideBar": true,
   "skip_h1_title": false,
   "title_cell": "Table of Contents",
   "title_sidebar": "Contents",
   "toc_cell": false,
   "toc_position": {},
   "toc_section_display": true,
   "toc_window_display": false
  }
 },
 "nbformat": 4,
 "nbformat_minor": 2
}
