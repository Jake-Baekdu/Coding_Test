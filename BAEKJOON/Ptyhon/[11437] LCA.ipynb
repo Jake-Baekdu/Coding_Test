{
 "cells": [
  {
   "cell_type": "code",
   "execution_count": 2,
   "metadata": {},
   "outputs": [
    {
     "name": "stdout",
     "output_type": "stream",
     "text": [
      "15\n",
      "1 2\n",
      "1 3\n",
      "2 4\n",
      "3 7\n",
      "6 2\n",
      "3 8\n",
      "4 9\n",
      "2 5\n",
      "5 11\n",
      "7 13\n",
      "10 4\n",
      "11 15\n",
      "12 5\n",
      "14 7\n",
      "6\n"
     ]
    }
   ],
   "source": [
    "import sys\n",
    "sys.setrecursionlimit(100000)\n",
    "\n",
    "n = int(input())\n",
    "parent = [0] * (n + 1)\n",
    "d = [0] * (n + 1)\n",
    "visited = [0] * (n + 1)\n",
    "graph = [[] for _ in range(n+1)]\n",
    "\n",
    "for _ in range(n - 1):\n",
    "    a, b = map(int, input().split())\n",
    "    graph[a].append(b)\n",
    "    graph[b].append(a)\n",
    "\n",
    "\n",
    "# 루트 노드부터의 깊이 구하기\n",
    "def dfs(x, depth):\n",
    "    visited[x] = True\n",
    "    d[x] = depth\n",
    "    \n",
    "    for node in graph[x]:\n",
    "        if visited[node]:\n",
    "            continue\n",
    "        parent[node] = x\n",
    "        dfs(node, depth + 1)"
   ]
  },
  {
   "cell_type": "code",
   "execution_count": 8,
   "metadata": {},
   "outputs": [
    {
     "data": {
      "text/plain": [
       "[0, 1, 1, 1, 1, 1, 0, 1, 0, 0, 0, 1, 0, 0, 0]"
      ]
     },
     "execution_count": 8,
     "metadata": {},
     "output_type": "execute_result"
    }
   ],
   "source": [
    "tree = {1: [2, 3], \n",
    "        2: [4, 6, 5], \n",
    "        3: [7, 8], \n",
    "        4: [9, 10], \n",
    "        5: [11, 12], \n",
    "        7: [13, 14], \n",
    "        11: [15]}\n",
    "M = 6\n",
    "\n",
    "visit = [0 for _ in range(1, 16)]\n",
    "\n"
   ]
  },
  {
   "cell_type": "code",
   "execution_count": 5,
   "metadata": {},
   "outputs": [
    {
     "ename": "SyntaxError",
     "evalue": "invalid syntax (<ipython-input-5-05f96d9b6b74>, line 5)",
     "output_type": "error",
     "traceback": [
      "\u001b[1;36m  File \u001b[1;32m\"<ipython-input-5-05f96d9b6b74>\"\u001b[1;36m, line \u001b[1;32m5\u001b[0m\n\u001b[1;33m    while(temp_A == temp_B)\u001b[0m\n\u001b[1;37m                           ^\u001b[0m\n\u001b[1;31mSyntaxError\u001b[0m\u001b[1;31m:\u001b[0m invalid syntax\n"
     ]
    }
   ],
   "source": [
    "def find_key(dic, val):\n",
    "    return next(key for key, value in dict.items() if value == val)\n",
    "def find_mommy(A, B):\n",
    "    temp_A = find_key(tree, A)\n",
    "    temp_B = find_key(tree, B)\n",
    "    \n",
    "    visit[temp_A] = 1\n",
    "    \n",
    "    if visit[temp_B] == 1:\n",
    "        return print(temp_A)\n",
    "    else:\n",
    "        visit[temp_B] = 1\n",
    "    while(temp_A != temp_B):\n",
    "        temp_"
   ]
  },
  {
   "cell_type": "code",
   "execution_count": null,
   "metadata": {},
   "outputs": [],
   "source": [
    "get_key"
   ]
  }
 ],
 "metadata": {
  "kernelspec": {
   "display_name": "Python 3",
   "language": "python",
   "name": "python3"
  },
  "language_info": {
   "codemirror_mode": {
    "name": "ipython",
    "version": 3
   },
   "file_extension": ".py",
   "mimetype": "text/x-python",
   "name": "python",
   "nbconvert_exporter": "python",
   "pygments_lexer": "ipython3",
   "version": "3.7.4"
  }
 },
 "nbformat": 4,
 "nbformat_minor": 2
}
