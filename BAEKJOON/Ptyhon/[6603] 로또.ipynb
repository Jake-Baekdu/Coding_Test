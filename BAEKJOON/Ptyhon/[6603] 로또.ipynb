{
 "cells": [
  {
   "cell_type": "code",
   "execution_count": 30,
   "metadata": {},
   "outputs": [
    {
     "name": "stdout",
     "output_type": "stream",
     "text": [
      "8 1 2 3 5 8 13 21 34\n",
      "[1, 2, 3, 5, 8, 13, 21, 34]\n",
      "1 2 3 5 8 13 \n",
      "1 2 3 5 8 21 \n",
      "1 2 3 5 8 34 \n",
      "1 2 3 5 13 21 \n",
      "1 2 3 5 13 34 \n",
      "1 2 3 5 21 34 \n",
      "1 2 3 8 13 21 \n",
      "1 2 3 8 13 34 \n",
      "1 2 3 8 21 34 \n",
      "1 2 3 13 21 34 \n",
      "1 2 5 8 13 21 \n",
      "1 2 5 8 13 34 \n",
      "1 2 5 8 21 34 \n",
      "1 2 5 13 21 34 \n",
      "1 2 8 13 21 34 \n",
      "1 3 5 8 13 21 \n",
      "1 3 5 8 13 34 \n",
      "1 3 5 8 21 34 \n",
      "1 3 5 13 21 34 \n",
      "1 3 8 13 21 34 \n",
      "1 5 8 13 21 34 \n",
      "2 3 5 8 13 21 \n",
      "2 3 5 8 13 34 \n",
      "2 3 5 8 21 34 \n",
      "2 3 5 13 21 34 \n",
      "2 3 8 13 21 34 \n",
      "2 5 8 13 21 34 \n",
      "3 5 8 13 21 34 \n",
      "0\n"
     ]
    }
   ],
   "source": [
    "from itertools import combinations\n",
    "while True :\n",
    "    arr = list(map(int, input().split()))\n",
    "    if arr[0] == 0:\n",
    "        break\n",
    "    size = arr[0]\n",
    "    del arr[0]\n",
    "    print(arr)\n",
    "\n",
    "    comb = list(combinations(arr, 6))\n",
    "    for i in comb:\n",
    "        for k in i:\n",
    "            print(k, end=' ')\n",
    "        print()\n",
    "    print()\n"
   ]
  },
  {
   "cell_type": "code",
   "execution_count": 17,
   "metadata": {},
   "outputs": [
    {
     "data": {
      "text/plain": [
       "[(1, 2, 3, 4, 5),\n",
       " (1, 2, 3, 4, 6),\n",
       " (1, 2, 3, 5, 6),\n",
       " (1, 2, 4, 5, 6),\n",
       " (1, 3, 4, 5, 6),\n",
       " (2, 3, 4, 5, 6)]"
      ]
     },
     "execution_count": 17,
     "metadata": {},
     "output_type": "execute_result"
    }
   ],
   "source": [
    "from itertools import combinations\n",
    "ff= list(combinations([1,2,3,4,5,6], 5))\n",
    "ff"
   ]
  },
  {
   "cell_type": "code",
   "execution_count": 7,
   "metadata": {},
   "outputs": [
    {
     "data": {
      "text/plain": [
       "9223372036854775807"
      ]
     },
     "execution_count": 7,
     "metadata": {},
     "output_type": "execute_result"
    }
   ],
   "source": []
  },
  {
   "cell_type": "code",
   "execution_count": null,
   "metadata": {},
   "outputs": [],
   "source": []
  }
 ],
 "metadata": {
  "kernelspec": {
   "display_name": "Python 3",
   "language": "python",
   "name": "python3"
  },
  "language_info": {
   "codemirror_mode": {
    "name": "ipython",
    "version": 3
   },
   "file_extension": ".py",
   "mimetype": "text/x-python",
   "name": "python",
   "nbconvert_exporter": "python",
   "pygments_lexer": "ipython3",
   "version": "3.7.4"
  }
 },
 "nbformat": 4,
 "nbformat_minor": 2
}
