{
 "cells": [
  {
   "cell_type": "code",
   "execution_count": null,
   "metadata": {},
   "outputs": [],
   "source": [
    "x, y = map(int, input().split())\n",
    "board = [[] for _ in range(x)]\n",
    "ans = 999999\n",
    "\n",
    "for i in range(x):\n",
    "    board[i] = list(input())\n",
    "\n",
    "for xx in range(x-7):\n",
    "    for yy in range(y-7):\n",
    "        ans1 = 0\n",
    "        ans2 = 0\n",
    "        for i in range(xx, xx+8):\n",
    "            for j in range(yy, yy+8):\n",
    "                if (i+j)%2 == 0:\n",
    "                    if board[i][j] != 'W':\n",
    "                        ans1 += 1\n",
    "                    if board[i][j] != 'B':\n",
    "                        ans2 += 1\n",
    "                else:\n",
    "                    if board[i][j] != 'B':\n",
    "                        ans1 += 1\n",
    "                    if board[i][j] != 'W':\n",
    "                        ans2 += 1\n",
    "        ans = min(ans1, ans2, ans)\n",
    "\n",
    "print(ans)\n"
   ]
  }
 ],
 "metadata": {
  "kernelspec": {
   "display_name": "Python 3",
   "language": "python",
   "name": "python3"
  },
  "language_info": {
   "codemirror_mode": {
    "name": "ipython",
    "version": 3
   },
   "file_extension": ".py",
   "mimetype": "text/x-python",
   "name": "python",
   "nbconvert_exporter": "python",
   "pygments_lexer": "ipython3",
   "version": "3.7.4"
  },
  "toc": {
   "base_numbering": 1,
   "nav_menu": {},
   "number_sections": true,
   "sideBar": true,
   "skip_h1_title": false,
   "title_cell": "Table of Contents",
   "title_sidebar": "Contents",
   "toc_cell": false,
   "toc_position": {},
   "toc_section_display": true,
   "toc_window_display": false
  }
 },
 "nbformat": 4,
 "nbformat_minor": 2
}
