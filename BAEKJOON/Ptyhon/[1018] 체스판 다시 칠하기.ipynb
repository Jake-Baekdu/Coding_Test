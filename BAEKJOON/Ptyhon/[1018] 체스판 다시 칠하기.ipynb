{
 "cells": [
  {
   "cell_type": "code",
   "execution_count": null,
   "metadata": {},
   "outputs": [],
   "source": [
    "x, y = map(int, input().split())\n",
    "ans1 = 0\n",
    "ans2 = 0\n",
    "for i in range(x):\n",
    "    val = list(input())\n",
    "    for j in range(y):\n",
    "        if j == 0:\n",
    "            tmp = \"W\"\n",
    "        elif j == y-1:\n",
    "            if tmp == val[j] and val[j] == 'B':\n",
    "                ans1 += 1\n",
    "            elif tmp == val[j] and val[j] == 'W':\n",
    "                ans1 += 1\n",
    "            else:\n",
    "                pass\n",
    "        else:\n",
    "            if tmp == val[j] and val[j] == 'B':\n",
    "                tmp = 'W'\n",
    "                ans1 += 1\n",
    "            elif tmp == val[j] and val[j] == 'W':\n",
    "                ans1 += 1\n",
    "                tmp = 'B'\n",
    "            elif val[j] == 'B':\n",
    "                tmp = 'B'\n",
    "            elif val[j] == 'W':\n",
    "                tmp = 'W'\n",
    "        \n",
    "        if j == 0:\n",
    "            tmp = \"B\"\n",
    "        elif j == y-1:\n",
    "            if tmp == val[j] and val[j] == 'B':\n",
    "                ans1 += 1\n",
    "            elif tmp == val[j] and val[j] == 'W':\n",
    "                ans1 += 1\n",
    "            else:\n",
    "                pass\n",
    "        else:\n",
    "            if tmp == val[j] and val[j] == 'B':\n",
    "                print(i, j, tmp, val[i])\n",
    "                tmp = 'W'\n",
    "                ans2 += 1\n",
    "            elif tmp == val[j] and val[j] == 'W':\n",
    "                ans2 += 1\n",
    "                tmp = 'B'\n",
    "            elif j == y-1:\n",
    "                continue\n",
    "            elif val[j] == 'B':\n",
    "                tmp = 'B'\n",
    "            elif val[j] == 'W':\n",
    "                tmp = 'W'\n",
    "print(min(ans1, ans2))"
   ]
  }
 ],
 "metadata": {
  "kernelspec": {
   "display_name": "Python 3",
   "language": "python",
   "name": "python3"
  },
  "language_info": {
   "codemirror_mode": {
    "name": "ipython",
    "version": 3
   },
   "file_extension": ".py",
   "mimetype": "text/x-python",
   "name": "python",
   "nbconvert_exporter": "python",
   "pygments_lexer": "ipython3",
   "version": "3.7.4"
  },
  "toc": {
   "base_numbering": 1,
   "nav_menu": {},
   "number_sections": true,
   "sideBar": true,
   "skip_h1_title": false,
   "title_cell": "Table of Contents",
   "title_sidebar": "Contents",
   "toc_cell": false,
   "toc_position": {},
   "toc_section_display": true,
   "toc_window_display": false
  }
 },
 "nbformat": 4,
 "nbformat_minor": 2
}
