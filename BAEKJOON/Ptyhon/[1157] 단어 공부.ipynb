{
 "cells": [
  {
   "cell_type": "code",
   "execution_count": 7,
   "metadata": {
    "ExecuteTime": {
     "end_time": "2021-09-01T09:38:22.712924Z",
     "start_time": "2021-09-01T09:38:13.327042Z"
    }
   },
   "outputs": [
    {
     "name": "stdout",
     "output_type": "stream",
     "text": [
      "zZa\n",
      "Z\n"
     ]
    }
   ],
   "source": [
    "import string\n",
    "\n",
    "S = input()\n",
    "\n",
    "S = S.upper()\n",
    "abc_dic = {x : 0 for x in string.ascii_uppercase}\n",
    "\n",
    "for s in S:\n",
    "    abc_dic[s] += 1\n",
    "i = 0\n",
    "ans = \"\"\n",
    "temp = 0\n",
    "for key, val in sorted(abc_dic.items(), reverse = True, key = lambda item:item[1]):\n",
    "    if i == 2:\n",
    "        break\n",
    "    elif temp == val:\n",
    "        ans = \"?\"\n",
    "        break\n",
    "    if val > temp:\n",
    "        ans = key\n",
    "    temp = val\n",
    "    i += 1\n",
    "print(ans)\n"
   ]
  },
  {
   "cell_type": "code",
   "execution_count": null,
   "metadata": {},
   "outputs": [],
   "source": [
    "n = input()\n",
    "n = n.upper()\n",
    "alpa='ABCDEFGHIJKLMNOPQRSTUVWXYZ'\n",
    "result = []\n",
    "for i in alpa:\n",
    "    result.append(n.count(i))\n",
    "if result.count(max(result)) > 1:\n",
    "    print(\"?\")\n",
    "else:\n",
    "    print(alpa[result.index(max(result))])"
   ]
  }
 ],
 "metadata": {
  "kernelspec": {
   "display_name": "Python 3",
   "language": "python",
   "name": "python3"
  },
  "language_info": {
   "codemirror_mode": {
    "name": "ipython",
    "version": 3
   },
   "file_extension": ".py",
   "mimetype": "text/x-python",
   "name": "python",
   "nbconvert_exporter": "python",
   "pygments_lexer": "ipython3",
   "version": "3.7.4"
  },
  "toc": {
   "base_numbering": "1",
   "nav_menu": {},
   "number_sections": true,
   "sideBar": true,
   "skip_h1_title": true,
   "title_cell": "Table of Contents",
   "title_sidebar": "Contents",
   "toc_cell": false,
   "toc_position": {
    "height": "calc(100% - 180px)",
    "left": "10px",
    "top": "150px",
    "width": "205.104px"
   },
   "toc_section_display": true,
   "toc_window_display": false
  }
 },
 "nbformat": 4,
 "nbformat_minor": 2
}
