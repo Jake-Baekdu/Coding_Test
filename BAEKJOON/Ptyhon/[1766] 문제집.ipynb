{
 "cells": [
  {
   "cell_type": "code",
   "execution_count": null,
   "metadata": {},
   "outputs": [],
   "source": [
    "import sys\n",
    "import heapq\n",
    "\n",
    "num_problem, num_compare = map(int, input().split())\n",
    "problem_list = [[] for i in range(num_problem + 1)]\n",
    "indegree = [0 for i in range(num_problem + 1)]\n",
    "heap = []\n",
    "result = []\n",
    "\n",
    "\n",
    "#Graph Information\n",
    "for i in range(num_compare):\n",
    "    A, B = map(int, input().split())\n",
    "    problem_list[A].append(B)\n",
    "    indegree[B] += 1\n",
    "\n",
    "\n",
    "#Make First heap\n",
    "for i in range(1, num_problem + 1):\n",
    "    if indegree[i] == 0:\n",
    "        heapq.heappush(heap, i)\n",
    "\n",
    "\n",
    "#Make Topological Sort Loop\n",
    "while heap:\n",
    "    temp = heapq.heappop(heap)\n",
    "    result.append(temp)\n",
    "    for j in problem_list[temp]:\n",
    "        indegree[j] -= 1\n",
    "        if indegree[j] == 0:\n",
    "            heapq.heappush(heap, j)\n",
    "\n",
    "for i in result:\n",
    "    print(i, end=' ')"
   ]
  }
 ],
 "metadata": {
  "kernelspec": {
   "display_name": "Python 3",
   "language": "python",
   "name": "python3"
  },
  "language_info": {
   "codemirror_mode": {
    "name": "ipython",
    "version": 3
   },
   "file_extension": ".py",
   "mimetype": "text/x-python",
   "name": "python",
   "nbconvert_exporter": "python",
   "pygments_lexer": "ipython3",
   "version": "3.7.4"
  },
  "toc": {
   "base_numbering": 1,
   "nav_menu": {},
   "number_sections": true,
   "sideBar": true,
   "skip_h1_title": false,
   "title_cell": "Table of Contents",
   "title_sidebar": "Contents",
   "toc_cell": false,
   "toc_position": {},
   "toc_section_display": true,
   "toc_window_display": false
  }
 },
 "nbformat": 4,
 "nbformat_minor": 2
}
