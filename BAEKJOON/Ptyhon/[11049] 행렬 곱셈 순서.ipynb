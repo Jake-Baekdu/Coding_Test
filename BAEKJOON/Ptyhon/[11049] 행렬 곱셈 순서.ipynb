{
 "cells": [
  {
   "cell_type": "code",
   "execution_count": 35,
   "metadata": {},
   "outputs": [
    {
     "name": "stdout",
     "output_type": "stream",
     "text": [
      "3\n",
      "5 3\n",
      "3 2\n",
      "2 6\n"
     ]
    }
   ],
   "source": [
    "import sys\n",
    "N = int(input())\n",
    "arr = [list(map(int, input().split())) for _ in range(N)]\n",
    "arr.insert(0,0)\n"
   ]
  },
  {
   "cell_type": "code",
   "execution_count": 47,
   "metadata": {},
   "outputs": [
    {
     "name": "stdout",
     "output_type": "stream",
     "text": [
      "[0, [5, 3], [3, 2], [2, 6]]\n",
      "[0, [9999, 0, 9999, 9999], [9999, 9999, 0, 9999], [9999, 9999, 9999, 0]]\n"
     ]
    }
   ],
   "source": [
    "dp = [sys.maxsize]*(N+1)\n",
    "dp = [[9999 for _ in range(N+1)] for _ in range(N+1)]\n",
    "for i in range(1, N+1):\n",
    "    dp[i][i] = 0\n",
    "dp[0] = 0\n",
    "print(arr)\n",
    "print(dp)"
   ]
  },
  {
   "cell_type": "code",
   "execution_count": 49,
   "metadata": {},
   "outputs": [
    {
     "data": {
      "text/plain": [
       "[0, [9999, 0, 9999, 9999], [9999, 9999, 0, 9999], [9999, 9999, 9999, 0]]"
      ]
     },
     "execution_count": 49,
     "metadata": {},
     "output_type": "execute_result"
    }
   ],
   "source": [
    "for size in range(1, N):\n",
    "    for start in range(1, N-size+1):\n",
    "        end = start+size\n",
    "        for i in range(start, end-1):\n",
    "            temp = dp[start][i] + dp[i+1][end] + (arr[start][0]*arr[i][1]*arr[end][1])\n",
    "            dp[start][end] = min(dp[start][end], temp)\n",
    "dp"
   ]
  },
  {
   "cell_type": "code",
   "execution_count": 38,
   "metadata": {},
   "outputs": [
    {
     "data": {
      "text/plain": [
       "[0, [9999, 0, 30, 9999], [9999, 9999, 0, 9999], [9999, 9999, 9999, 0]]"
      ]
     },
     "execution_count": 38,
     "metadata": {},
     "output_type": "execute_result"
    }
   ],
   "source": [
    "dp"
   ]
  },
  {
   "cell_type": "code",
   "execution_count": null,
   "metadata": {},
   "outputs": [],
   "source": []
  }
 ],
 "metadata": {
  "kernelspec": {
   "display_name": "Python 3",
   "language": "python",
   "name": "python3"
  },
  "language_info": {
   "codemirror_mode": {
    "name": "ipython",
    "version": 3
   },
   "file_extension": ".py",
   "mimetype": "text/x-python",
   "name": "python",
   "nbconvert_exporter": "python",
   "pygments_lexer": "ipython3",
   "version": "3.7.4"
  }
 },
 "nbformat": 4,
 "nbformat_minor": 2
}
