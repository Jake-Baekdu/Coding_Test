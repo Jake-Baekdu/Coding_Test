{
 "cells": [
  {
   "cell_type": "code",
   "execution_count": null,
   "metadata": {},
   "outputs": [],
   "source": [
    "import heapq\n",
    "import sys\n",
    "\n",
    "n = int(sys.stdin.readline())\n",
    "arr = []\n",
    "\n",
    "for _ in range(n):\n",
    "    x = int(sys.stdin.readline())\n",
    "    \n",
    "    if x == 0:\n",
    "        if arr:\n",
    "            print(heapq.heappop(arr)[1])\n",
    "        else:\n",
    "            print(0)\n",
    "    else:\n",
    "        heapq.heappush(arr, (-x, x))"
   ]
  }
 ],
 "metadata": {
  "kernelspec": {
   "display_name": "Python 3",
   "language": "python",
   "name": "python3"
  },
  "language_info": {
   "codemirror_mode": {
    "name": "ipython",
    "version": 3
   },
   "file_extension": ".py",
   "mimetype": "text/x-python",
   "name": "python",
   "nbconvert_exporter": "python",
   "pygments_lexer": "ipython3",
   "version": "3.7.4"
  },
  "toc": {
   "base_numbering": 1,
   "nav_menu": {},
   "number_sections": true,
   "sideBar": true,
   "skip_h1_title": false,
   "title_cell": "Table of Contents",
   "title_sidebar": "Contents",
   "toc_cell": false,
   "toc_position": {},
   "toc_section_display": true,
   "toc_window_display": false
  }
 },
 "nbformat": 4,
 "nbformat_minor": 2
}
