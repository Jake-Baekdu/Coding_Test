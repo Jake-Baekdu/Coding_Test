{
 "cells": [
  {
   "cell_type": "code",
   "execution_count": null,
   "metadata": {},
   "outputs": [],
   "source": [
    "import heapq\n",
    "import sys\n",
    "\n",
    "def getMST(startNode):\n",
    "    hq = []\n",
    "    visited = [False] * (N+1)\n",
    "    total = 0\n",
    "    heapq.heappush(hq, (0, startNode))\n",
    "    \n",
    "    while hq:\n",
    "        cost, node = heapq.heappop(hq)\n",
    "        if visited[node] == True:\n",
    "            continue\n",
    "        visited[node] = True\n",
    "        total += cost\n",
    "        for i in costs[node]:\n",
    "            tmpCost, tmpEnd = i\n",
    "            if visited[tmpEnd] == False:\n",
    "                heapq.heappush(hq, (tmpCost, tmpEnd))\n",
    "    return total\n",
    "    \n",
    "N, P = map(int, input().split())\n",
    "visitCosts = [0]*(N+1)\n",
    "\n",
    "for i in range(1, N+1):\n",
    "    visitCosts[i] = int(input())\n",
    "costs = {x:[] for x in range(1, N+1)}\n",
    "for i in range(P):\n",
    "    s, e, c = map(int, input().split())\n",
    "    costs[s].append((c*2 + visitCosts[s] + visitCosts[e], e))\n",
    "    costs[e].append((c*2 + visitCosts[s] + visitCosts[e], s))\n",
    "minVal = visitCosts.index(min(visitCosts[1:]))\n",
    "ans = getMST(minVal)\n",
    "print(ans+visitCosts[minVal])"
   ]
  }
 ],
 "metadata": {
  "kernelspec": {
   "display_name": "Python 3",
   "language": "python",
   "name": "python3"
  },
  "language_info": {
   "codemirror_mode": {
    "name": "ipython",
    "version": 3
   },
   "file_extension": ".py",
   "mimetype": "text/x-python",
   "name": "python",
   "nbconvert_exporter": "python",
   "pygments_lexer": "ipython3",
   "version": "3.7.4"
  }
 },
 "nbformat": 4,
 "nbformat_minor": 2
}
