{
 "cells": [
  {
   "cell_type": "code",
   "execution_count": null,
   "metadata": {},
   "outputs": [],
   "source": [
    "n = int(input())\n",
    "\n",
    "s = 1\n",
    "e = 1\n",
    "sum_ = 0\n",
    "cnt = 0\n",
    "\n",
    "while s <= n:\n",
    "    if sum_ == n:\n",
    "        cnt += 1\n",
    "        sum_ -= s\n",
    "        s += 1\n",
    "    elif sum_ > n or e == n+1:\n",
    "        sum_ -= s\n",
    "        s += 1\n",
    "    else:\n",
    "        sum_ += e\n",
    "        e += 1\n",
    "        \n",
    "print(cnt)"
   ]
  }
 ],
 "metadata": {
  "kernelspec": {
   "display_name": "Python 3",
   "language": "python",
   "name": "python3"
  },
  "language_info": {
   "codemirror_mode": {
    "name": "ipython",
    "version": 3
   },
   "file_extension": ".py",
   "mimetype": "text/x-python",
   "name": "python",
   "nbconvert_exporter": "python",
   "pygments_lexer": "ipython3",
   "version": "3.7.4"
  }
 },
 "nbformat": 4,
 "nbformat_minor": 2
}
