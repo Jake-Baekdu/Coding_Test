{
 "cells": [
  {
   "cell_type": "code",
   "execution_count": null,
   "metadata": {},
   "outputs": [],
   "source": [
    "import sys\n",
    "\n",
    "T = int(input()) #테스트케이스\n",
    "\n",
    "for i in range(0,T):\n",
    "    Cnt = 1\n",
    "    people = []\n",
    "    \n",
    "    N = int(input())\n",
    "    for i in range(N):\n",
    "        Paper, Interview = map(int,sys.stdin.readline().split())\n",
    "        people.append([Paper, Interview])\n",
    "\n",
    "    people.sort() # 서류 기준 오름차순 정렬\n",
    "    Max = people[0][1]\n",
    "    \n",
    "    for i in range(1,N):\n",
    "        if Max > people[i][1]:\n",
    "            Cnt += 1\n",
    "            Max = people[i][1]\n",
    "\n",
    "    print(Cnt)"
   ]
  }
 ],
 "metadata": {
  "kernelspec": {
   "display_name": "Python 3",
   "language": "python",
   "name": "python3"
  },
  "language_info": {
   "codemirror_mode": {
    "name": "ipython",
    "version": 3
   },
   "file_extension": ".py",
   "mimetype": "text/x-python",
   "name": "python",
   "nbconvert_exporter": "python",
   "pygments_lexer": "ipython3",
   "version": "3.7.4"
  },
  "toc": {
   "base_numbering": 1,
   "nav_menu": {},
   "number_sections": true,
   "sideBar": true,
   "skip_h1_title": false,
   "title_cell": "Table of Contents",
   "title_sidebar": "Contents",
   "toc_cell": false,
   "toc_position": {},
   "toc_section_display": true,
   "toc_window_display": false
  }
 },
 "nbformat": 4,
 "nbformat_minor": 2
}
