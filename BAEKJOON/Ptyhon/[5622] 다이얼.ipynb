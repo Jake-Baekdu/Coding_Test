{
 "cells": [
  {
   "cell_type": "code",
   "execution_count": 2,
   "metadata": {
    "ExecuteTime": {
     "end_time": "2021-09-03T09:28:57.916964Z",
     "start_time": "2021-09-03T09:28:56.510091Z"
    }
   },
   "outputs": [
    {
     "name": "stdout",
     "output_type": "stream",
     "text": [
      "WA\n",
      "13\n"
     ]
    }
   ],
   "source": [
    "chrs = list(input())\n",
    "\n",
    "num_arr = {x : [] for x in range(2,10)}\n",
    "num_arr[2] = ['A','B','C']\n",
    "num_arr[3] = ['D','E','F']\n",
    "num_arr[4] = ['G','H','I']\n",
    "num_arr[5] = ['J','K','L']\n",
    "num_arr[6] = ['M','N','O']\n",
    "num_arr[7] = ['P','Q','R','S']\n",
    "num_arr[8] = ['T','U','V']\n",
    "num_arr[9] = ['W','X','Y','Z']\n",
    "result = 0\n",
    "for c in chrs:\n",
    "    for i in range(2, 10):\n",
    "        if c in num_arr[i]:\n",
    "            result += i+1\n",
    "            break\n",
    "print(result)\n",
    "        "
   ]
  },
  {
   "cell_type": "code",
   "execution_count": null,
   "metadata": {},
   "outputs": [],
   "source": []
  }
 ],
 "metadata": {
  "kernelspec": {
   "display_name": "Python 3",
   "language": "python",
   "name": "python3"
  },
  "language_info": {
   "codemirror_mode": {
    "name": "ipython",
    "version": 3
   },
   "file_extension": ".py",
   "mimetype": "text/x-python",
   "name": "python",
   "nbconvert_exporter": "python",
   "pygments_lexer": "ipython3",
   "version": "3.7.4"
  },
  "toc": {
   "base_numbering": 1,
   "nav_menu": {},
   "number_sections": true,
   "sideBar": true,
   "skip_h1_title": false,
   "title_cell": "Table of Contents",
   "title_sidebar": "Contents",
   "toc_cell": false,
   "toc_position": {},
   "toc_section_display": true,
   "toc_window_display": false
  }
 },
 "nbformat": 4,
 "nbformat_minor": 2
}
