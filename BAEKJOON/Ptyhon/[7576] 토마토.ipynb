{
 "cells": [
  {
   "cell_type": "code",
   "execution_count": null,
   "metadata": {},
   "outputs": [],
   "source": [
    "from sys import stdin\n",
    "from collections import deque\n",
    "\n",
    "m, n = map(int, stdin.readline().split())\n",
    "board = [list(map(int, stdin.readline().split(\" \"))) for _ in range(n)]\n",
    "tomatos = deque()\n",
    "\n",
    "for i in range(n):\n",
    "    for j in range(m):\n",
    "        if board[i][j] == 1:\n",
    "            tomatos.append([i, j])\n",
    "\n",
    "def dfs():\n",
    "    move_xy = [(1,0), (0,1), (-1,0), (0,-1)]\n",
    "    \n",
    "    while(tomatos):\n",
    "        x, y = tomatos.popleft()\n",
    "        \n",
    "        for xw, yw in move_xy:\n",
    "            nx = xw + x\n",
    "            ny = yw + y\n",
    "            if 0 <= nx < n and 0 <= ny < m:\n",
    "                if board[nx][ny] == 0:\n",
    "                    tomatos.append([nx, ny])\n",
    "                    board[nx][ny] = board[x][y] + 1\n",
    "        \n",
    "dfs()\n",
    "ans = 0\n",
    "for i in range(n):\n",
    "    for j in range(m):\n",
    "        if board[i][j] == 0:\n",
    "            print(-1)\n",
    "            exit()\n",
    "        ans = max(ans, board[i][j])\n",
    "print(ans-1)\n",
    "            \n",
    "        "
   ]
  }
 ],
 "metadata": {
  "kernelspec": {
   "display_name": "Python 3",
   "language": "python",
   "name": "python3"
  },
  "language_info": {
   "codemirror_mode": {
    "name": "ipython",
    "version": 3
   },
   "file_extension": ".py",
   "mimetype": "text/x-python",
   "name": "python",
   "nbconvert_exporter": "python",
   "pygments_lexer": "ipython3",
   "version": "3.7.4"
  },
  "toc": {
   "base_numbering": 1,
   "nav_menu": {},
   "number_sections": true,
   "sideBar": true,
   "skip_h1_title": false,
   "title_cell": "Table of Contents",
   "title_sidebar": "Contents",
   "toc_cell": false,
   "toc_position": {},
   "toc_section_display": true,
   "toc_window_display": false
  }
 },
 "nbformat": 4,
 "nbformat_minor": 2
}
