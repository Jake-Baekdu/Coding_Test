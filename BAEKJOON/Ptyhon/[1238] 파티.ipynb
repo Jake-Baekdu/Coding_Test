{
 "cells": [
  {
   "cell_type": "code",
   "execution_count": null,
   "metadata": {},
   "outputs": [],
   "source": [
    "import heapq\n",
    "\n",
    "n, m, x = map(int, input().split())\n",
    "arr = [[] for _ in range(n+1)]\n",
    "\n",
    "for i in range(m):\n",
    "    s, e, t = map(int, input().split())\n",
    "    arr[s].append((t, e))\n",
    "\n",
    "def dijkstra(s, e):\n",
    "    dist = [float('INF') for _ in range(n+1)]\n",
    "    check = [0 for _ in range(n+1)]\n",
    "    \n",
    "    dist[s] = 0\n",
    "    hq = []\n",
    "    heapq.heappush(hq, (0, s))\n",
    "    \n",
    "    while(hq):\n",
    "        w, s = heapq.heappop(hq)\n",
    "        \n",
    "        if dist[s] < w:\n",
    "            continue\n",
    "        \n",
    "        if s == e:\n",
    "            return dist[s]\n",
    "            \n",
    "        for tw, te in arr[s]:\n",
    "            if dist[te] > tw + w:\n",
    "                dist[te] = tw + w\n",
    "                heapq.heappush(hq, (dist[te], te))\n",
    "        \n",
    "    \n",
    "    \n",
    "ans = 0\n",
    "for i in range(1, n+1):\n",
    "    ans = max((dijkstra(i, x) + dijkstra(x, i)), ans)\n",
    "print(ans)"
   ]
  }
 ],
 "metadata": {
  "kernelspec": {
   "display_name": "Python 3",
   "language": "python",
   "name": "python3"
  },
  "language_info": {
   "codemirror_mode": {
    "name": "ipython",
    "version": 3
   },
   "file_extension": ".py",
   "mimetype": "text/x-python",
   "name": "python",
   "nbconvert_exporter": "python",
   "pygments_lexer": "ipython3",
   "version": "3.7.4"
  },
  "toc": {
   "base_numbering": 1,
   "nav_menu": {},
   "number_sections": true,
   "sideBar": true,
   "skip_h1_title": false,
   "title_cell": "Table of Contents",
   "title_sidebar": "Contents",
   "toc_cell": false,
   "toc_position": {},
   "toc_section_display": true,
   "toc_window_display": false
  }
 },
 "nbformat": 4,
 "nbformat_minor": 2
}
