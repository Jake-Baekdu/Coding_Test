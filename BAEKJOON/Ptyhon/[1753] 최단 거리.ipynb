{
 "cells": [
  {
   "cell_type": "code",
   "execution_count": null,
   "metadata": {},
   "outputs": [],
   "source": [
    "import heapq\n",
    "\n",
    "v, e = map(int, input().split())\n",
    "start = int(input())\n",
    "arr = [[] for _ in range(v+1)]\n",
    "dist = [float('INF')]*(v+1)\n",
    "dist[start] = 0\n",
    "hq = []\n",
    "\n",
    "for _ in range(e):\n",
    "    u, v, w = map(int, input().split())\n",
    "    arr[u].append((w, v))\n",
    "    \n",
    "    \n",
    "heapq.heappush(hq,(0, start))\n",
    "\n",
    "while(hq):\n",
    "    w, s = heapq.heappop(hq)\n",
    "    \n",
    "    if dist[s] < w:\n",
    "        continue\n",
    "    \n",
    "    for tw, e in arr[s]:\n",
    "        if dist[e] > tw + w:\n",
    "            dist[e] = tw + w\n",
    "            heapq.heappush(hq, (dist[e], e))\n",
    "\n",
    "for i in dist[1:]:\n",
    "    if i == float('inf'):\n",
    "        print('INF')\n",
    "    else:\n",
    "        print(i)\n",
    "    "
   ]
  }
 ],
 "metadata": {
  "kernelspec": {
   "display_name": "Python 3",
   "language": "python",
   "name": "python3"
  },
  "language_info": {
   "codemirror_mode": {
    "name": "ipython",
    "version": 3
   },
   "file_extension": ".py",
   "mimetype": "text/x-python",
   "name": "python",
   "nbconvert_exporter": "python",
   "pygments_lexer": "ipython3",
   "version": "3.7.4"
  },
  "toc": {
   "base_numbering": 1,
   "nav_menu": {},
   "number_sections": true,
   "sideBar": true,
   "skip_h1_title": false,
   "title_cell": "Table of Contents",
   "title_sidebar": "Contents",
   "toc_cell": false,
   "toc_position": {},
   "toc_section_display": true,
   "toc_window_display": false
  }
 },
 "nbformat": 4,
 "nbformat_minor": 2
}
