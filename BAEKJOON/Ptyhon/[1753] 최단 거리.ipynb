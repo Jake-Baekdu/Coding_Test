{
 "cells": [
  {
   "cell_type": "code",
   "execution_count": null,
   "metadata": {},
   "outputs": [],
   "source": [
    "import heapq\n",
    "\n",
    "v, e = map(int, input().split())\n",
    "start = int(input())\n",
    "arr = [[] for _ in range(v+1)]\n",
    "\n",
    "# 가중치 w는 10 이하의 자연수지만 시작노드부터 끝노드까지 간다면 수는 무수히커짐\n",
    "dist = [float('INF')]*(v+1)\n",
    "dist[start] = 0\n",
    "\n",
    "#힙큐로 만들 list 생성\n",
    "hq = []\n",
    "\n",
    "for _ in range(e):\n",
    "    u, v, w = map(int, input().split())\n",
    "    arr[u].append((w, v))\n",
    "    \n",
    "\n",
    "# 힙큐는 최소힙이고 첫 argument(인자)에 기준이 될 w가 들어옴\n",
    "heapq.heappush(hq,(0, start))\n",
    "\n",
    "#힙큐가 빌때까지\n",
    "while(hq):\n",
    "    w, s = heapq.heappop(hq)\n",
    "    \n",
    "    # w가 dist[s] 값보다 크다면 패스, 밑에서 dist[e]를 갱신하는데 w가 dist[s]보다 크다면 비교할 의미가 없음\n",
    "    if dist[s] < w:\n",
    "        continue\n",
    "    \n",
    "    for tw, e in arr[s]:\n",
    "        # 다음 노드의 dist와 현재노드 가중치 + 다음노드로의 가중치 비교\n",
    "        if dist[e] > tw + w:\n",
    "            dist[e] = tw + w\n",
    "            heapq.heappush(hq, (dist[e], e))\n",
    "\n",
    "for i in dist[1:]:\n",
    "    if i == float('inf'):\n",
    "        print('INF')\n",
    "    else:\n",
    "        print(i)\n",
    "    "
   ]
  }
 ],
 "metadata": {
  "kernelspec": {
   "display_name": "Python 3",
   "language": "python",
   "name": "python3"
  },
  "language_info": {
   "codemirror_mode": {
    "name": "ipython",
    "version": 3
   },
   "file_extension": ".py",
   "mimetype": "text/x-python",
   "name": "python",
   "nbconvert_exporter": "python",
   "pygments_lexer": "ipython3",
   "version": "3.7.4"
  },
  "toc": {
   "base_numbering": 1,
   "nav_menu": {},
   "number_sections": true,
   "sideBar": true,
   "skip_h1_title": false,
   "title_cell": "Table of Contents",
   "title_sidebar": "Contents",
   "toc_cell": false,
   "toc_position": {},
   "toc_section_display": true,
   "toc_window_display": false
  }
 },
 "nbformat": 4,
 "nbformat_minor": 2
}
