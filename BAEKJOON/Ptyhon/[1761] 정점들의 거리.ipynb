{
 "cells": [
  {
   "cell_type": "code",
   "execution_count": 44,
   "metadata": {},
   "outputs": [
    {
     "name": "stdout",
     "output_type": "stream",
     "text": [
      "7\n",
      "1 6 13\n",
      "6 3 9\n",
      "3 5 7\n",
      "4 1 3\n",
      "2 4 20\n",
      "4 7 2\n"
     ]
    }
   ],
   "source": [
    "import math\n",
    "\n",
    "#정점\n",
    "N = int(input())\n",
    "LENGTH = int(math.log(N)//math.log(2) + 1)\n",
    "distance = [[0]*(N+1) for _ in range(N+1)]\n",
    "\n",
    "graph = [[] for _ in range(N+1)]\n",
    "# 2**i 위치의 부모가 들어갈 배열\n",
    "parent = [[0] * LENGTH for _ in range(N+1)]\n",
    "d = [0]*(N+1)\n",
    "for _ in range(N-1):\n",
    "    A, B, d = map(int, input().split())\n",
    "    graph[A].append(B)\n",
    "    graph[B].append(A)\n",
    "    distance[A][B] = d\n",
    "    distance[B][A] = d\n",
    "\n",
    "\n",
    "\n",
    "\n",
    "\n",
    "\n"
   ]
  },
  {
   "cell_type": "code",
   "execution_count": 42,
   "metadata": {},
   "outputs": [
    {
     "name": "stdout",
     "output_type": "stream",
     "text": [
      "1\n",
      "2 6\n",
      "(1, 36)\n"
     ]
    }
   ],
   "source": [
    "def dfs(x, depth):\n",
    "    visited[x] = True\n",
    "    d[x] = depth\n",
    "    \n",
    "    for node in graph[x]:\n",
    "        if visited[node]:\n",
    "            continue\n",
    "        parent[node][0] = x\n",
    "        dfs(node, depth + 1)\n",
    "\n",
    "        \n",
    "def set_parent():\n",
    "    dfs(1,0)\n",
    "    for i in range(1, LENGTH):\n",
    "        for j in range(1, N+1):\n",
    "            parent[j][i] = parent[parent[j][i-1]][i-1]\n",
    "            \n",
    "def lca(a, b, dis):\n",
    "    \n",
    "    if d[a] > d[b]:\n",
    "        a, b = b, a\n",
    "        \n",
    "    for i in range(LENGTH -1, -1, -1):\n",
    "        if d[b] - d[a] >= 2**i:\n",
    "            dis += distance[b][parent[b][i]]\n",
    "            b = parent[b][i]\n",
    "    \n",
    "    if a == b:\n",
    "        return distance[a][parent[a][0]] + distance[b][parent[b][0]]\n",
    "    \n",
    "    for i in range(LENGTH - 1, -1, -1):\n",
    "        if parent[a][i] != parent[b][i]:\n",
    "            a = parent[a][i]\n",
    "            b = parent[b][i]\n",
    "            dis += distance[a][b]\n",
    "    \n",
    "    dis += distance[a][parent[a][0]] + distance[b][parent[b][0]]\n",
    "    return dis\n",
    "\n",
    "\n",
    "\n",
    "set_parent()\n",
    "\n",
    "m = int(input())\n",
    "\n",
    "for _ in range(m):\n",
    "    dis = 0\n",
    "    a, b = map(int, input().split())\n",
    "    print(lca(a, b, dis))"
   ]
  },
  {
   "cell_type": "code",
   "execution_count": 34,
   "metadata": {},
   "outputs": [
    {
     "data": {
      "text/plain": [
       "[[0, 0, 0],\n",
       " [0, 0, 0],\n",
       " [4, 1, 0],\n",
       " [6, 1, 0],\n",
       " [1, 0, 0],\n",
       " [3, 6, 0],\n",
       " [1, 0, 0],\n",
       " [4, 1, 0]]"
      ]
     },
     "execution_count": 34,
     "metadata": {},
     "output_type": "execute_result"
    }
   ],
   "source": [
    "parent\n"
   ]
  },
  {
   "cell_type": "code",
   "execution_count": null,
   "metadata": {},
   "outputs": [],
   "source": []
  }
 ],
 "metadata": {
  "kernelspec": {
   "display_name": "Python 3",
   "language": "python",
   "name": "python3"
  },
  "language_info": {
   "codemirror_mode": {
    "name": "ipython",
    "version": 3
   },
   "file_extension": ".py",
   "mimetype": "text/x-python",
   "name": "python",
   "nbconvert_exporter": "python",
   "pygments_lexer": "ipython3",
   "version": "3.7.4"
  }
 },
 "nbformat": 4,
 "nbformat_minor": 2
}
