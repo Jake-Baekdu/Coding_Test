{
 "cells": [
  {
   "cell_type": "code",
   "execution_count": 1,
   "metadata": {},
   "outputs": [
    {
     "name": "stdout",
     "output_type": "stream",
     "text": [
      "6 2\n",
      "-1\n",
      "3\n",
      "1\n",
      "2\n",
      "4\n",
      "-1\n"
     ]
    }
   ],
   "source": [
    "N, M = map(int, input().split())\n",
    "arr = [0]*(N+1)\n",
    "for i in range(1,N+1):\n",
    "    arr[i] = int(input())"
   ]
  },
  {
   "cell_type": "code",
   "execution_count": 16,
   "metadata": {},
   "outputs": [
    {
     "data": {
      "text/plain": [
       "[0, 0, 0, 0]"
      ]
     },
     "execution_count": 16,
     "metadata": {},
     "output_type": "execute_result"
    }
   ],
   "source": [
    "dp = [0 for _ in range(N//2+1)]\n",
    "temp_arr = [[0 for _ in range(N+1)] for _ in range(N+1)]\n",
    "for i in range(1, N+1):\n",
    "    temp_arr[i][i] = arr[i]\n",
    "dp"
   ]
  },
  {
   "cell_type": "code",
   "execution_count": 17,
   "metadata": {},
   "outputs": [
    {
     "data": {
      "text/plain": [
       "[[0, 0, 0, 0, 0, 0, 0],\n",
       " [0, -1, 2, 3, 5, 9, 8],\n",
       " [0, 0, 3, 4, 6, 10, 9],\n",
       " [0, 0, 0, 1, 3, 7, 6],\n",
       " [0, 0, 0, 0, 2, 6, 5],\n",
       " [0, 0, 0, 0, 0, 4, 3],\n",
       " [0, 0, 0, 0, 0, 0, -1]]"
      ]
     },
     "execution_count": 17,
     "metadata": {},
     "output_type": "execute_result"
    }
   ],
   "source": [
    "for m in range(1, N+1):\n",
    "    for start in range(1, N-m+1):\n",
    "        end = m + start\n",
    "        temp_arr[start][end] = sum(arr[start:end+1])\n",
    "        \n",
    "    \n",
    "temp_arr"
   ]
  },
  {
   "cell_type": "code",
   "execution_count": 6,
   "metadata": {},
   "outputs": [
    {
     "data": {
      "text/plain": [
       "3"
      ]
     },
     "execution_count": 6,
     "metadata": {},
     "output_type": "execute_result"
    }
   ],
   "source": [
    "N//2"
   ]
  },
  {
   "cell_type": "code",
   "execution_count": null,
   "metadata": {},
   "outputs": [],
   "source": []
  }
 ],
 "metadata": {
  "kernelspec": {
   "display_name": "Python 3",
   "language": "python",
   "name": "python3"
  },
  "language_info": {
   "codemirror_mode": {
    "name": "ipython",
    "version": 3
   },
   "file_extension": ".py",
   "mimetype": "text/x-python",
   "name": "python",
   "nbconvert_exporter": "python",
   "pygments_lexer": "ipython3",
   "version": "3.7.4"
  }
 },
 "nbformat": 4,
 "nbformat_minor": 2
}
