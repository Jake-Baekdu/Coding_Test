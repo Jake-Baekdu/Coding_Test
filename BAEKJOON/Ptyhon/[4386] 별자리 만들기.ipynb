{
 "cells": [
  {
   "cell_type": "code",
   "execution_count": 2,
   "metadata": {},
   "outputs": [
    {
     "name": "stdout",
     "output_type": "stream",
     "text": [
      "1\n",
      "1.0\n",
      "0.00\n"
     ]
    }
   ],
   "source": [
    "# hq에 시작점만 넣어두고 heap에 넣어줄때 거리를 구함\n",
    "\n",
    "import heapq\n",
    "import math\n",
    "\n",
    "n = int(input())\n",
    "\n",
    "location = [list(map(float, input().split())) for _ in range(n)]\n",
    "\n",
    "visited = [False] * n\n",
    "dist = []\n",
    "hq = []\n",
    "ans = 0\n",
    "\n",
    "heapq.heappush(hq, (0, 0))\n",
    "\n",
    "while hq:\n",
    "\n",
    "    val, node = heapq.heappop(hq)\n",
    "    \n",
    "    if visited[node] == True:\n",
    "        continue\n",
    "    visited[node] = True\n",
    "    \n",
    "    ans += val\n",
    "    \n",
    "    for i in range(n):\n",
    "        if node == i or visited[i] == True:\n",
    "            continue\n",
    "        temp = math.sqrt(abs((location[node][0] - location[i][0])**2 + (location[node][1] - location[i][1])**2))\n",
    "        heapq.heappush(hq, (temp, i))\n",
    "\n",
    "print(\"%.2f\" % ans)"
   ]
  },
  {
   "cell_type": "code",
   "execution_count": null,
   "metadata": {},
   "outputs": [],
   "source": [
    "#미리 거리를 다 구해준다음 heap에 (거리, 출발점, 끝점) 형태로 데이터를 넣어줌\n",
    "import heapq\n",
    "import math\n",
    "\n",
    "n = int(input())\n",
    "\n",
    "location = [list(map(float, input().split())) for _ in range(n)]\n",
    "\n",
    "visited = [False] * n\n",
    "dist = []\n",
    "hq = []\n",
    "ans = 0\n",
    "\n",
    "heapq.heappush(hq, (0, 0))\n",
    "\n",
    "while hq:\n",
    "\n",
    "    val, node = heapq.heappop(hq)\n",
    "    \n",
    "    if visited[node] == True:\n",
    "        continue\n",
    "    visited[node] = True\n",
    "    \n",
    "    ans += val\n",
    "    \n",
    "    for i in range(n):\n",
    "        if node == i or visited[i] == True:\n",
    "            continue\n",
    "        temp = math.sqrt(abs((location[node][0] - location[i][0])**2 + (location[node][1] - location[i][1])**2))\n",
    "        heapq.heappush(hq, (temp, i))\n",
    "\n",
    "print(\"%.2f\" % ans)"
   ]
  }
 ],
 "metadata": {
  "kernelspec": {
   "display_name": "Python 3",
   "language": "python",
   "name": "python3"
  },
  "language_info": {
   "codemirror_mode": {
    "name": "ipython",
    "version": 3
   },
   "file_extension": ".py",
   "mimetype": "text/x-python",
   "name": "python",
   "nbconvert_exporter": "python",
   "pygments_lexer": "ipython3",
   "version": "3.7.4"
  }
 },
 "nbformat": 4,
 "nbformat_minor": 2
}
