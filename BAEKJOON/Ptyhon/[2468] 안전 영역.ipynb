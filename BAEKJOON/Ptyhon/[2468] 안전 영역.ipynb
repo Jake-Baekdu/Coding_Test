{
 "cells": [
  {
   "cell_type": "code",
   "execution_count": null,
   "metadata": {},
   "outputs": [],
   "source": [
    "import sys\n",
    "import copy\n",
    "from collections import deque\n",
    "input = sys.stdin.readline\n",
    "\n",
    "\n",
    "def dfs(x, y, num):\n",
    "    \n",
    "    move_xy = [(1,0),(0,1),(-1,0),(0,-1)]\n",
    "    dq = deque([(x, y)])\n",
    "    \n",
    "    \n",
    "    while dq:\n",
    "        sx, sy = dq.popleft()\n",
    "    \n",
    "        for a, b in move_xy:\n",
    "            nx = sx + a\n",
    "            ny = sy + b\n",
    "            if 0 <= nx < n and 0 <= ny < n:\n",
    "                if checkMap[nx][ny] == 0 and mapInfo[nx][ny] > num:\n",
    "                    checkMap[nx][ny] = 1\n",
    "                    dq.append((nx,ny))\n",
    "    \n",
    "n = int(input())\n",
    "mapInfo = [list(map(int, input().split())) for _ in range(n)]\n",
    "\n",
    "maxVal = 0\n",
    "for i in range(max(map(max, mapInfo))):\n",
    "    checkMap = [[0 for _ in range(n)] for _ in range(n)]\n",
    "    tmp = 0\n",
    "    \n",
    "    for x in range(n):\n",
    "        for y in range(n):\n",
    "            if checkMap[x][y] == 0 and mapInfo[x][y] > i:\n",
    "                checkMap[x][y] = 1\n",
    "                dfs(x, y, i)\n",
    "                tmp += 1\n",
    "\n",
    "    maxVal = max(maxVal, tmp)\n",
    "print(maxVal)"
   ]
  }
 ],
 "metadata": {
  "kernelspec": {
   "display_name": "Python 3",
   "language": "python",
   "name": "python3"
  },
  "language_info": {
   "codemirror_mode": {
    "name": "ipython",
    "version": 3
   },
   "file_extension": ".py",
   "mimetype": "text/x-python",
   "name": "python",
   "nbconvert_exporter": "python",
   "pygments_lexer": "ipython3",
   "version": "3.7.4"
  },
  "toc": {
   "base_numbering": 1,
   "nav_menu": {},
   "number_sections": true,
   "sideBar": true,
   "skip_h1_title": false,
   "title_cell": "Table of Contents",
   "title_sidebar": "Contents",
   "toc_cell": false,
   "toc_position": {},
   "toc_section_display": true,
   "toc_window_display": false
  }
 },
 "nbformat": 4,
 "nbformat_minor": 2
}
