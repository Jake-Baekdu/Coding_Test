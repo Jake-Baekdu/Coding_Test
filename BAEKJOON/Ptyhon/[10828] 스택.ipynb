{
 "cells": [
  {
   "cell_type": "code",
   "execution_count": null,
   "metadata": {},
   "outputs": [],
   "source": [
    "from collections import deque\n",
    "import sys\n",
    "n = int(sys.stdin.readline())\n",
    "arr = deque()\n",
    "for _ in range(n):\n",
    "    tmp = list(sys.stdin.readline().split())\n",
    "    if tmp[0] == 'push':\n",
    "        arr.append(tmp[1])\n",
    "    elif tmp[0] == 'pop':\n",
    "        try:\n",
    "            print(arr.pop())\n",
    "        except IndexError:\n",
    "            print(-1)\n",
    "    elif tmp[0] == 'size':\n",
    "        print(len(arr))\n",
    "    elif tmp[0] == 'empty':\n",
    "        if len(arr) == 0:\n",
    "            print(1)\n",
    "        else:\n",
    "            print(0)\n",
    "    else:\n",
    "        try:\n",
    "            print(arr[-1])\n",
    "        except IndexError:\n",
    "            print(-1)"
   ]
  }
 ],
 "metadata": {
  "kernelspec": {
   "display_name": "Python 3",
   "language": "python",
   "name": "python3"
  },
  "language_info": {
   "codemirror_mode": {
    "name": "ipython",
    "version": 3
   },
   "file_extension": ".py",
   "mimetype": "text/x-python",
   "name": "python",
   "nbconvert_exporter": "python",
   "pygments_lexer": "ipython3",
   "version": "3.7.4"
  },
  "toc": {
   "base_numbering": 1,
   "nav_menu": {},
   "number_sections": true,
   "sideBar": true,
   "skip_h1_title": false,
   "title_cell": "Table of Contents",
   "title_sidebar": "Contents",
   "toc_cell": false,
   "toc_position": {},
   "toc_section_display": true,
   "toc_window_display": false
  }
 },
 "nbformat": 4,
 "nbformat_minor": 2
}
