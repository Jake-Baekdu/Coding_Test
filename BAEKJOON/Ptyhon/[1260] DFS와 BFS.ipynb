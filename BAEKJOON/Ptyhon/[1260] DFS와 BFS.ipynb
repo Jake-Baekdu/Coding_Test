{
 "cells": [
  {
   "cell_type": "code",
   "execution_count": 77,
   "metadata": {},
   "outputs": [],
   "source": [
    "from collections import deque\n",
    "\n",
    "def DFS(start_node):\n",
    "    \n",
    "    # 1. stack에 첫 번째 노드를 넣으면서 시작함\n",
    "    \n",
    "    stack = deque(start_node)\n",
    "    \n",
    "    while True:\n",
    "        # 2. stack이 비어있는지 확인\n",
    "        \n",
    "        if len(stack) == 0:\n",
    "            print('All node searched.')\n",
    "            return None\n",
    "        \n",
    "        # 3. stack에서 맨 위의 노드를 pop\n",
    "        node = stack.pop()\n",
    "        \n",
    "        # 4. 만약 node가 찾고자 하는 target이라면 서치 중단!\n",
    "        if node == TARGET:\n",
    "            print(\"찾았다~\")\n",
    "            return node\n",
    "        \n",
    "        # 5. node의 자식을 expand 해서 children에 저장\n",
    "        children = expand(node)\n",
    "        \n",
    "        # 6. children을 stack에 쌓기\n",
    "        stack.extend(children)\n",
    "        \n",
    "        # 7. 이렇게 target을 찾거나, 전부 탐색해서 stack이 빌 때까지 while문 반복"
   ]
  },
  {
   "cell_type": "code",
   "execution_count": null,
   "metadata": {},
   "outputs": [],
   "source": [
    "def BFS(start_node):\n",
    "    \n",
    "    # 1. 큐에 첫번째 노드를 넣으면서 시작\n",
    "    queue = deque(start_node)\n",
    "    \n",
    "    while True:\n",
    "        # 2. 큐가 비어있는지 확인\n",
    "        if len(queue) == 0:\n",
    "            print('모든 노드 탐색완료')\n",
    "            return None\n",
    "        \n",
    "        # 3. 큐에서 맨 앞의 노드를 팝\n",
    "        node = queue.popleft()\n",
    "        \n",
    "        # 4. 만약 노드가 찾고자 하는 target이라면 서치 중단.\n",
    "        if node == TARGET:\n",
    "            print('The target found')\n",
    "            return node\n",
    "        \n",
    "        # 5. node의 자식을 expand해서 children에 저장\n",
    "        children = expand(node)\n",
    "        \n",
    "        # 6. children을 큐에 넣기\n",
    "        queue.extend(children)\n",
    "        \n",
    "        # 7. 타겟을 찾거나, 전부 탐색해서 큐가 빌 때까지 반복."
   ]
  },
  {
   "cell_type": "code",
   "execution_count": 1,
   "metadata": {},
   "outputs": [
    {
     "ename": "SyntaxError",
     "evalue": "invalid syntax (<ipython-input-1-8be65c6f1863>, line 1)",
     "output_type": "error",
     "traceback": [
      "\u001b[1;36m  File \u001b[1;32m\"<ipython-input-1-8be65c6f1863>\"\u001b[1;36m, line \u001b[1;32m1\u001b[0m\n\u001b[1;33m    import java.io.*;\u001b[0m\n\u001b[1;37m                   ^\u001b[0m\n\u001b[1;31mSyntaxError\u001b[0m\u001b[1;31m:\u001b[0m invalid syntax\n"
     ]
    }
   ],
   "source": [
    "import java.io.*;\n",
    "import java.util.*;\n",
    "public class n01260 {\n",
    "\tstatic int N, M, V;\n",
    "\tstatic Vector<Integer>[] v; // 인접 리스트\n",
    "\tstatic boolean[] visited;\n",
    "\tpublic static void main(String[] args) throws Exception {\n",
    "\t\tBufferedReader br = new BufferedReader(new InputStreamReader(System.in));\n",
    "\t\tBufferedWriter bw = new BufferedWriter(new OutputStreamWriter(System.out));\n",
    "\t\tString[] sarr = br.readLine().split(\" \");\n",
    "\t\tN = Integer.parseInt(sarr[0]);\n",
    "\t\tM = Integer.parseInt(sarr[1]);\n",
    "\t\tV = Integer.parseInt(sarr[2]);\n",
    "\t\tv = new Vector[N + 1];\n",
    "\t\tvisited = new boolean[N + 1];\n",
    "\t\tfor (int i = 0; i <= N; i++)\n",
    "\t\t\tv[i] = new Vector<>();\n",
    "\t\tfor (int i = 0; i < M; i++) {\n",
    "\t\t\tsarr = br.readLine().split(\" \");\n",
    "\t\t\tint a = Integer.parseInt(sarr[0]);\n",
    "\t\t\tint b = Integer.parseInt(sarr[1]);\n",
    "\t\t\tv[a].add(b);\n",
    "\t\t\tv[b].add(a);\n",
    "\t\t}\n",
    "\t\tfor (int i = 1; i <= N; i++)\n",
    "\t\t\tCollections.sort(v[i]);\n",
    "\t\tdfs();\n",
    "\t\tbfs();\n",
    "\t\tbw.flush();\n",
    "\t}\n",
    "\tpublic static void bfs() {\n",
    "\t\tQueue<Integer> q = new LinkedList<>();\n",
    "\t\tvisited = new boolean[N + 1];\n",
    "\t\tq.offer(V);\n",
    "\t\tvisited[V] = true;\n",
    "\t\tSystem.out.print(V + \" \");\n",
    "\t\twhile (!q.isEmpty()) {\n",
    "\t\t\tint n = q.poll();\n",
    "\t\t\tfor (int node : v[n]) {\n",
    "\t\t\t\tif (!visited[node]) {\n",
    "\t\t\t\t\tq.offer(node);\n",
    "\t\t\t\t\tvisited[node] = true;\n",
    "\t\t\t\t\tSystem.out.print(node + \" \");\n",
    "\t\t\t\t}\n",
    "\t\t\t}\n",
    "\t\t}\n",
    "\t\tSystem.out.println();\n",
    "\t}\n",
    "\tpublic static void dfs() {\n",
    "\t\tStack<Integer> stack = new Stack<>();\n",
    "\t\tstack.push(V);\n",
    "\t\tvisited[V] = true;\n",
    "\t\tSystem.out.print(V + \" \");\n",
    "\t\twhile (!stack.isEmpty()) {\n",
    "\t\t\tint n = stack.peek();\n",
    "\t\t\tboolean flag = false;\n",
    "\t\t\tfor (int node : v[n]) {\n",
    "\t\t\t\tif (!visited[node]) {\n",
    "\t\t\t\t\tstack.push(node);\n",
    "\t\t\t\t\tvisited[node] = true;\n",
    "\t\t\t\t\tSystem.out.print(node + \" \");\n",
    "\t\t\t\t\tflag = true;\n",
    "\t\t\t\t\tbreak;\n",
    "\t\t\t\t}\n",
    "\t\t\t}\n",
    "\t\t\tif (!flag)\n",
    "\t\t\t\tstack.pop();\n",
    "\t\t}\n",
    "\t\tSystem.out.println();\n",
    "\t}\n",
    "\tpublic static void dfs(int n) {\n",
    "\t\tvisited[n] = true;\n",
    "\t\tfor (int node : v[n]) {\n",
    "\t\t\tif (!visited[node]) {\n",
    "\t\t\t\tdfs(node);\n",
    "\t\t\t}\n",
    "\t\t}\n",
    "\t}\n",
    "}"
   ]
  },
  {
   "cell_type": "code",
   "execution_count": 3,
   "metadata": {},
   "outputs": [
    {
     "data": {
      "text/plain": [
       "deque([1, 4, 3, 2])"
      ]
     },
     "execution_count": 3,
     "metadata": {},
     "output_type": "execute_result"
    }
   ],
   "source": [
    "from collections import deque\n",
    "\n",
    "a = deque([1])\n",
    "b= [2,3,4]\n",
    "a.extend(sorted(b, reverse = True))\n",
    "a"
   ]
  },
  {
   "cell_type": "code",
   "execution_count": null,
   "metadata": {},
   "outputs": [],
   "source": []
  }
 ],
 "metadata": {
  "kernelspec": {
   "display_name": "Python 3",
   "language": "python",
   "name": "python3"
  },
  "language_info": {
   "codemirror_mode": {
    "name": "ipython",
    "version": 3
   },
   "file_extension": ".py",
   "mimetype": "text/x-python",
   "name": "python",
   "nbconvert_exporter": "python",
   "pygments_lexer": "ipython3",
   "version": "3.7.4"
  }
 },
 "nbformat": 4,
 "nbformat_minor": 2
}
