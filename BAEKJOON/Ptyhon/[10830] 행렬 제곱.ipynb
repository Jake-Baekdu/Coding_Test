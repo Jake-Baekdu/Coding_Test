{
 "cells": [
  {
   "cell_type": "code",
   "execution_count": 83,
   "metadata": {},
   "outputs": [
    {
     "name": "stdout",
     "output_type": "stream",
     "text": [
      "2 5\n",
      "1 2\n",
      "3 4\n",
      "69 558 \n",
      "337 406 \n"
     ]
    }
   ],
   "source": [
    "import copy\n",
    "\n",
    "# 입력받은 B만큼 제곱해주는 함수\n",
    "def solve(cnt):\n",
    "    if cnt == 1:\n",
    "        return A\n",
    "    #분할 정복을 통해. 자세한 설명은 위에 이미지에\n",
    "    res = solve(cnt//2)\n",
    "    if cnt%2 == 0:\n",
    "        return cal(res, res)\n",
    "    else:\n",
    "        res2 = cal(res, A)\n",
    "        return cal(res, res2)\n",
    "    \n",
    "#두 행렬을 곱해주는 함수\n",
    "def cal(A, B):\n",
    "    tmp = [[0 for _ in range(N)] for _ in range(N)]\n",
    "    for i in range(N):\n",
    "        for j in range(N):\n",
    "            for k in range(N):\n",
    "                tmp[i][j] += (A[i][k] * B[k][j])\n",
    "            tmp[i][j] %= MOD\n",
    "    return tmp\n",
    "\n",
    "if __name__ == \"__main__\":\n",
    "    N, B = map(int, input().split()) \n",
    "    # 처음에 입력 받을 때 1000을 나눠주지 않으면 B가 1일 경우 틀림.\n",
    "    A = [list(map(lambda x : int(x) %1000, input().split())) for _ in range(N)] \n",
    "    MOD = 1000\n",
    "    res = solve(B)\n",
    "    \n",
    "    for i in range(N):\n",
    "        for j in range(N):\n",
    "            print(res[i][j], end = \" \")\n",
    "        print()"
   ]
  },
  {
   "cell_type": "code",
   "execution_count": null,
   "metadata": {},
   "outputs": [],
   "source": []
  }
 ],
 "metadata": {
  "kernelspec": {
   "display_name": "Python 3",
   "language": "python",
   "name": "python3"
  },
  "language_info": {
   "codemirror_mode": {
    "name": "ipython",
    "version": 3
   },
   "file_extension": ".py",
   "mimetype": "text/x-python",
   "name": "python",
   "nbconvert_exporter": "python",
   "pygments_lexer": "ipython3",
   "version": "3.7.4"
  }
 },
 "nbformat": 4,
 "nbformat_minor": 2
}
