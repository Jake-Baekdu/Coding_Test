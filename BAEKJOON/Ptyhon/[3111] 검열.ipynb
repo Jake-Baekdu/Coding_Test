{
 "cells": [
  {
   "cell_type": "code",
   "execution_count": 61,
   "metadata": {
    "scrolled": true
   },
   "outputs": [
    {
     "name": "stdout",
     "output_type": "stream",
     "text": [
      "aba\n",
      "ababacccababa\n",
      "bacccab\n"
     ]
    }
   ],
   "source": [
    "A = input()\n",
    "T = input()\n",
    "\n",
    "def crop(A, T):\n",
    "    while A in T:\n",
    "        A_idx = T.find(A)\n",
    "        T = T[:A_idx] + T[A_idx + len(A):] \n",
    "        if A not in T:\n",
    "            return T\n",
    "        if A in T:\n",
    "            A_idx = T.rfind(A)\n",
    "            T = T[:A_idx] + T[A_idx + len(A):] \n",
    "    return T\n",
    "\n",
    "print(crop(A, T))"
   ]
  },
  {
   "cell_type": "code",
   "execution_count": null,
   "metadata": {},
   "outputs": [],
   "source": []
  }
 ],
 "metadata": {
  "kernelspec": {
   "display_name": "Python 3",
   "language": "python",
   "name": "python3"
  },
  "language_info": {
   "codemirror_mode": {
    "name": "ipython",
    "version": 3
   },
   "file_extension": ".py",
   "mimetype": "text/x-python",
   "name": "python",
   "nbconvert_exporter": "python",
   "pygments_lexer": "ipython3",
   "version": "3.7.4"
  }
 },
 "nbformat": 4,
 "nbformat_minor": 2
}
