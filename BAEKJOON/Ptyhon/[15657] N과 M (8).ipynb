{
 "cells": [
  {
   "cell_type": "code",
   "execution_count": null,
   "metadata": {},
   "outputs": [],
   "source": [
    "N, M = map(int ,input().split())\n",
    "\n",
    "arr = list(map(int, input().split()))\n",
    "\n",
    "arr.sort()\n",
    "ans_arr = []\n",
    "idx = 0\n",
    "\n",
    "def solve(idx, ans_arr):\n",
    "    \n",
    "    if (len(ans_arr) == M):\n",
    "        for i in ans_arr:\n",
    "            print(i, end = ' ')\n",
    "        print()\n",
    "        return\n",
    "    \n",
    "    for i in range(idx, N):\n",
    "        #비내림차순을 위한 조건문\n",
    "        if ans_arr:\n",
    "            if arr[i] < ans_arr[-1]:\n",
    "                continue\n",
    "        ans_arr.append(arr[i])\n",
    "        solve(idx, ans_arr)\n",
    "        del ans_arr[-1]\n",
    "        \n",
    "solve(idx, ans_arr)"
   ]
  }
 ],
 "metadata": {
  "kernelspec": {
   "display_name": "Python 3",
   "language": "python",
   "name": "python3"
  },
  "language_info": {
   "codemirror_mode": {
    "name": "ipython",
    "version": 3
   },
   "file_extension": ".py",
   "mimetype": "text/x-python",
   "name": "python",
   "nbconvert_exporter": "python",
   "pygments_lexer": "ipython3",
   "version": "3.7.4"
  }
 },
 "nbformat": 4,
 "nbformat_minor": 2
}
