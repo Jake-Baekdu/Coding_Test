{
 "cells": [
  {
   "cell_type": "code",
   "execution_count": null,
   "metadata": {},
   "outputs": [],
   "source": [
    "def binSearch(li, a):\n",
    "    s, e = 0, len(li)-1\n",
    "    res = -1\n",
    "    while s <= e:\n",
    "        m = (s + e) // 2\n",
    "        if li[m] < a:\n",
    "            res = m\n",
    "            s = m + 1\n",
    "        else:\n",
    "            e = m - 1\n",
    "    return res\n",
    "    \n",
    "T = int(input())\n",
    "for _ in range(T):\n",
    "    A_cnt, B_cnt = map(int, input().split())\n",
    "    A = sorted(list(map(int, input().split())))\n",
    "    B = sorted(list(map(int, input().split())))\n",
    "    cnt = 0\n",
    "    for a in A:\n",
    "        cnt += (binSearch(B, a) + 1)\n",
    "    print(cnt)\n",
    "    "
   ]
  },
  {
   "cell_type": "code",
   "execution_count": null,
   "metadata": {},
   "outputs": [],
   "source": [
    "import bisect\n",
    "\n",
    "for _ in range(int(input())):\n",
    "    N, M = map(int, input().split())\n",
    "    A = sorted(list(map(int, input().split())))\n",
    "    B = sorted(list(map(int, input().split())))\n",
    "    cnt = 0\n",
    "    for a in A:\n",
    "        cnt += (bisect.bisect(B, a-1))\n",
    "    print(cnt)"
   ]
  }
 ],
 "metadata": {
  "kernelspec": {
   "display_name": "Python 3",
   "language": "python",
   "name": "python3"
  },
  "language_info": {
   "codemirror_mode": {
    "name": "ipython",
    "version": 3
   },
   "file_extension": ".py",
   "mimetype": "text/x-python",
   "name": "python",
   "nbconvert_exporter": "python",
   "pygments_lexer": "ipython3",
   "version": "3.7.4"
  }
 },
 "nbformat": 4,
 "nbformat_minor": 2
}
