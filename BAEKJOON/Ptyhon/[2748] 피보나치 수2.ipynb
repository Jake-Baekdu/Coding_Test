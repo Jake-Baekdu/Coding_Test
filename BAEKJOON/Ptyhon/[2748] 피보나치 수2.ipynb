{
 "cells": [
  {
   "cell_type": "code",
   "execution_count": null,
   "metadata": {},
   "outputs": [],
   "source": [
    "n = int(input())\n",
    "\n",
    "def make_p(n):\n",
    "    cnt = 2\n",
    "    while cnt != n+1:\n",
    "        dp[cnt] = dp[cnt-1] + dp[cnt-2]\n",
    "        cnt += 1\n",
    "    return dp[cnt-1]\n",
    "\n",
    "if __name__ == \"__main__\":\n",
    "    dp = [0]*91\n",
    "    dp[1] = 1\n",
    "    print(make_p(n))"
   ]
  }
 ],
 "metadata": {
  "kernelspec": {
   "display_name": "Python 3",
   "language": "python",
   "name": "python3"
  },
  "language_info": {
   "codemirror_mode": {
    "name": "ipython",
    "version": 3
   },
   "file_extension": ".py",
   "mimetype": "text/x-python",
   "name": "python",
   "nbconvert_exporter": "python",
   "pygments_lexer": "ipython3",
   "version": "3.7.4"
  }
 },
 "nbformat": 4,
 "nbformat_minor": 2
}
