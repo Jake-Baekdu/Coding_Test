{
 "cells": [
  {
   "cell_type": "code",
   "execution_count": null,
   "metadata": {},
   "outputs": [],
   "source": [
    "from sys import stdin\n",
    "\n",
    "\n",
    "def visitable(x, y):\n",
    "    return 0 <= x < m and 0 <= y < n\n",
    "\n",
    "\n",
    "def dfs(x, y):\n",
    "    if x == m - 1 and y == n - 1:\n",
    "        return 1\n",
    "\n",
    "    if visited[x][y] == -1:\n",
    "        visited[x][y] = 0\n",
    "\n",
    "        for dx, dy in dirs:\n",
    "            next_x, next_y = x + dx, y + dy\n",
    "\n",
    "            if visitable(next_x, next_y):\n",
    "                if graph[next_x][next_y] < graph[x][y]:\n",
    "                    visited[x][y] += dfs(next_x, next_y)\n",
    "\n",
    "    return visited[x][y]\n",
    "\n",
    "\n",
    "if __name__ == '__main__':\n",
    "    dirs = ((0, 1), (0, -1), (1, 0), (-1, 0))\n",
    "    m, n = map(int, stdin.readline().split())\n",
    "    graph = [list(map(int, stdin.readline().split())) for _ in range(m)]\n",
    "    visited = [[-1] * n for _ in range(m)]\n",
    "\n",
    "    print(dfs(0, 0))"
   ]
  },
  {
   "cell_type": "code",
   "execution_count": 1,
   "metadata": {},
   "outputs": [
    {
     "name": "stdout",
     "output_type": "stream",
     "text": [
      "4 5\n"
     ]
    }
   ],
   "source": [
    "row, col = map(int, input().split())"
   ]
  },
  {
   "cell_type": "code",
   "execution_count": 19,
   "metadata": {},
   "outputs": [],
   "source": [
    "MAP = [[0]*(col) for _ in range(row)]"
   ]
  },
  {
   "cell_type": "code",
   "execution_count": 21,
   "metadata": {},
   "outputs": [
    {
     "name": "stdout",
     "output_type": "stream",
     "text": [
      "50 45 37 32 30\n",
      "35 50 40 20 25\n",
      "30 30 25 17 28\n",
      "27 24 22 15 10\n"
     ]
    },
    {
     "data": {
      "text/plain": [
       "[[50, 45, 37, 32, 30],\n",
       " [35, 50, 40, 20, 25],\n",
       " [30, 30, 25, 17, 28],\n",
       " [27, 24, 22, 15, 10]]"
      ]
     },
     "execution_count": 21,
     "metadata": {},
     "output_type": "execute_result"
    }
   ],
   "source": [
    "\n",
    "for r in range(row):\n",
    "    MAP[r] = list(map(int, input().split()))\n",
    "MAP"
   ]
  },
  {
   "cell_type": "code",
   "execution_count": 58,
   "metadata": {},
   "outputs": [
    {
     "name": "stdout",
     "output_type": "stream",
     "text": [
      "80\n"
     ]
    }
   ],
   "source": [
    "from collections import deque\n",
    "\n",
    "dx = [-1, 0, 1, 0]\n",
    "dy = [0, -1, 0, 1]\n",
    "\n",
    "def bfs(MAP):\n",
    "    \n",
    "    answer = 0\n",
    "    dq = set([(1, 1, str(MAP[1][1]))])\n",
    "    visit = [[0]*(col+1) for _ in range(row+1)]\n",
    "    visit[1][1] = 1\n",
    "    \n",
    "    while dq:\n",
    "        r, c, route = dq.pop()\n",
    "        if r == row-1 and c == col-1:\n",
    "            answer += 1\n",
    "            continue\n",
    "            \n",
    "        for i in range(4):\n",
    "            nr = r + dx[i]\n",
    "            nc = c + dy[i]\n",
    "            \n",
    "            if(0 <= nr < row and 0 <= nc < col and str(MAP[nr][nc]) not in route):\n",
    "                dq.add((nr, nc, route +\" \" + str(MAP[nr][nc])))\n",
    "    print(answer)\n",
    "\n",
    "bfs(MAP)          \n"
   ]
  },
  {
   "cell_type": "code",
   "execution_count": 55,
   "metadata": {},
   "outputs": [
    {
     "ename": "NameError",
     "evalue": "name 'answer' is not defined",
     "output_type": "error",
     "traceback": [
      "\u001b[1;31m---------------------------------------------------------------------------\u001b[0m",
      "\u001b[1;31mNameError\u001b[0m                                 Traceback (most recent call last)",
      "\u001b[1;32m<ipython-input-55-b33788c35f07>\u001b[0m in \u001b[0;36m<module>\u001b[1;34m\u001b[0m\n\u001b[1;32m----> 1\u001b[1;33m \u001b[0manswer\u001b[0m\u001b[1;33m\u001b[0m\u001b[1;33m\u001b[0m\u001b[0m\n\u001b[0m",
      "\u001b[1;31mNameError\u001b[0m: name 'answer' is not defined"
     ]
    }
   ],
   "source": [
    "answer"
   ]
  },
  {
   "cell_type": "code",
   "execution_count": 36,
   "metadata": {},
   "outputs": [
    {
     "data": {
      "text/plain": [
       "[50]"
      ]
     },
     "execution_count": 36,
     "metadata": {},
     "output_type": "execute_result"
    }
   ],
   "source": [
    "a, b, c = dq\n",
    "c"
   ]
  },
  {
   "cell_type": "code",
   "execution_count": null,
   "metadata": {},
   "outputs": [],
   "source": []
  }
 ],
 "metadata": {
  "kernelspec": {
   "display_name": "Python 3",
   "language": "python",
   "name": "python3"
  },
  "language_info": {
   "codemirror_mode": {
    "name": "ipython",
    "version": 3
   },
   "file_extension": ".py",
   "mimetype": "text/x-python",
   "name": "python",
   "nbconvert_exporter": "python",
   "pygments_lexer": "ipython3",
   "version": "3.7.4"
  }
 },
 "nbformat": 4,
 "nbformat_minor": 2
}
