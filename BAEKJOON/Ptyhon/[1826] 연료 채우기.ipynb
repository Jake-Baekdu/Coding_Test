{
 "cells": [
  {
   "cell_type": "code",
   "execution_count": null,
   "metadata": {},
   "outputs": [],
   "source": [
    "#include <bits/stdc++.h>\n",
    "using namespace std;\n",
    "\n",
    "\n",
    "int n, l, p;\n",
    "pair<int, int> v[10001];\n",
    "priority_queue<int> pq;\n",
    "\n",
    "int main() {\n",
    "\tcin.tie(0); ios::sync_with_stdio(false);\n",
    "\tcin >> n;\n",
    "\tfor (int i = 0; i < n; i++) {\n",
    "\t\tcin >> v[i].first >> v[i].second;\n",
    "\t}\n",
    "\tcin >> l >> p;\n",
    "\n",
    "\tsort(v, v + n);\n",
    "\t\n",
    "\tint i = 0, ans = 0;\n",
    "\tbool out = false;\n",
    "\n",
    "\twhile (p < l) {\n",
    "\t\twhile (i < n && p >= v[i].first) {\n",
    "\t\t\tpq.push(v[i].second);\n",
    "\t\t\ti++;\n",
    "\t\t}\n",
    "\n",
    "\t\tif (pq.empty()) {\n",
    "\t\t\tout = true;\n",
    "\t\t\tbreak;\n",
    "\t\t}\n",
    "\n",
    "\t\tp += pq.top();\n",
    "\t\tpq.pop();\n",
    "\t\tans++;\n",
    "\t}\n",
    "\n",
    "\tcout << (out ? -1 : ans);\n",
    "\n",
    "\treturn 0;\n",
    "}\n"
   ]
  }
 ],
 "metadata": {
  "kernelspec": {
   "display_name": "Python 3",
   "language": "python",
   "name": "python3"
  },
  "language_info": {
   "codemirror_mode": {
    "name": "ipython",
    "version": 3
   },
   "file_extension": ".py",
   "mimetype": "text/x-python",
   "name": "python",
   "nbconvert_exporter": "python",
   "pygments_lexer": "ipython3",
   "version": "3.7.4"
  },
  "toc": {
   "base_numbering": 1,
   "nav_menu": {},
   "number_sections": true,
   "sideBar": true,
   "skip_h1_title": false,
   "title_cell": "Table of Contents",
   "title_sidebar": "Contents",
   "toc_cell": false,
   "toc_position": {},
   "toc_section_display": true,
   "toc_window_display": false
  }
 },
 "nbformat": 4,
 "nbformat_minor": 2
}
