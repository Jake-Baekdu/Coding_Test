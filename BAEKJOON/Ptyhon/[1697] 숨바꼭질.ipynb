{
 "cells": [
  {
   "cell_type": "code",
   "execution_count": 34,
   "metadata": {},
   "outputs": [
    {
     "name": "stdout",
     "output_type": "stream",
     "text": [
      "75000 100000\n",
      "25000\n"
     ]
    }
   ],
   "source": [
    "from collections import deque\n",
    "def bfs():\n",
    "    q = deque()\n",
    "    q.append(subin)\n",
    "    while q:\n",
    "        v = q.popleft()\n",
    "        if v == younger:\n",
    "            print(time[v])\n",
    "            return\n",
    "        for next_step in (v-1, v+1, v*2):\n",
    "            if 0 <= next_step < MAX and not time[next_step]:\n",
    "                time[next_step] = time[v] + 1\n",
    "                q.append(next_step)\n",
    "\n",
    "MAX = 100001\n",
    "subin, younger = map(int, input().split())\n",
    "time = [0]*MAX\n",
    "bfs()\n",
    "\n",
    "    "
   ]
  },
  {
   "cell_type": "code",
   "execution_count": null,
   "metadata": {},
   "outputs": [],
   "source": []
  }
 ],
 "metadata": {
  "kernelspec": {
   "display_name": "Python 3",
   "language": "python",
   "name": "python3"
  },
  "language_info": {
   "codemirror_mode": {
    "name": "ipython",
    "version": 3
   },
   "file_extension": ".py",
   "mimetype": "text/x-python",
   "name": "python",
   "nbconvert_exporter": "python",
   "pygments_lexer": "ipython3",
   "version": "3.7.4"
  }
 },
 "nbformat": 4,
 "nbformat_minor": 2
}
