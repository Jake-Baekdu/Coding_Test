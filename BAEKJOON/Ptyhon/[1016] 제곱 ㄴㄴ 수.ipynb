{
 "cells": [
  {
   "cell_type": "code",
   "execution_count": 2,
   "metadata": {},
   "outputs": [
    {
     "name": "stdout",
     "output_type": "stream",
     "text": [
      "10 15\n",
      "5\n"
     ]
    }
   ],
   "source": [
    "import math\n",
    "\n",
    "def prime_check(n):  # n값이 소수인지 확인\n",
    "    for i in range(2, int(math.sqrt(n)) + 1):\n",
    "        if n % (i**2) == 0:\n",
    "            return 0\n",
    "    return 1\n",
    "\n",
    "a, b = map(int, input().split())\n",
    "validation = [1 for _ in range(a, b+1)]\n",
    "\n",
    "\n",
    "ans = 0\n",
    "\n",
    "for i in range(a, b+1):\n",
    "    if i == 1 or i == 2:\n",
    "        ans += 1\n",
    "    elif prime_check(i):\n",
    "        ans += 1\n",
    "print(ans)\n",
    "    \n"
   ]
  },
  {
   "cell_type": "code",
   "execution_count": 22,
   "metadata": {},
   "outputs": [
    {
     "ename": "SyntaxError",
     "evalue": "unexpected EOF while parsing (<ipython-input-22-43f6f66afa01>, line 11)",
     "output_type": "error",
     "traceback": [
      "\u001b[1;36m  File \u001b[1;32m\"<ipython-input-22-43f6f66afa01>\"\u001b[1;36m, line \u001b[1;32m11\u001b[0m\n\u001b[1;33m    \u001b[0m\n\u001b[1;37m    ^\u001b[0m\n\u001b[1;31mSyntaxError\u001b[0m\u001b[1;31m:\u001b[0m unexpected EOF while parsing\n"
     ]
    }
   ],
   "source": [
    "import math\n",
    "\n",
    "min, max = map(int, input().split())\n",
    "validate = [1 for i in range(max-min+1)]\n",
    "cnt = 0\n",
    "i = 2\n",
    "\n",
    "while i**2 <= max:\n",
    "    mul = min // i**2\n",
    "    while mul * (I**2) <= max:\n",
    "    "
   ]
  },
  {
   "cell_type": "code",
   "execution_count": 26,
   "metadata": {},
   "outputs": [
    {
     "data": {
      "text/plain": [
       "2"
      ]
     },
     "execution_count": 26,
     "metadata": {},
     "output_type": "execute_result"
    }
   ],
   "source": [
    "import math\n",
    "min, max = map(int, input().split())\n",
    "validate = [1 for i in range(max-min+1)]\n",
    "cnt=0\n",
    "i=2\n",
    "while i**2 <= max:\n",
    "    mul = min // i**2\n",
    "    while mul * (i**2) <= max:\n",
    "        if mul * (i**2) - min >= 0 and mul * (i**2) - min <= max-min:\n",
    "            validate[mul * (i**2) - min] = 0\n",
    "        mul +=1\n",
    "    i +=1\n",
    "\n",
    "print(sum(validate))"
   ]
  },
  {
   "cell_type": "code",
   "execution_count": null,
   "metadata": {},
   "outputs": [],
   "source": []
  }
 ],
 "metadata": {
  "kernelspec": {
   "display_name": "Python 3",
   "language": "python",
   "name": "python3"
  },
  "language_info": {
   "codemirror_mode": {
    "name": "ipython",
    "version": 3
   },
   "file_extension": ".py",
   "mimetype": "text/x-python",
   "name": "python",
   "nbconvert_exporter": "python",
   "pygments_lexer": "ipython3",
   "version": "3.7.4"
  }
 },
 "nbformat": 4,
 "nbformat_minor": 2
}
