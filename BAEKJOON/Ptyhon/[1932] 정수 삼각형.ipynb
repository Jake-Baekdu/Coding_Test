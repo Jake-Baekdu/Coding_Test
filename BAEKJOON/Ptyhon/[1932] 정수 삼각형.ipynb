{
 "cells": [
  {
   "cell_type": "code",
   "execution_count": null,
   "metadata": {},
   "outputs": [],
   "source": [
    "n = int(input())\n",
    "arr = [list(map(int, input().split())) for _ in range(n)]\n",
    "dp = [[0]*(x+1) for x in range(n)]\n",
    "for i in range(n-1):\n",
    "    for j in range(len(arr[i])):\n",
    "        if i ==0 :\n",
    "            dp[i+1][j] = arr[i][j] + arr[i+1][j]\n",
    "            dp[i+1][j+1] = arr[i][j] + arr[i+1][j+1]\n",
    "            print(dp)\n",
    "        else:\n",
    "            if dp[i+1][j] < dp[i][j] + arr[i+1][j]:\n",
    "                dp[i+1][j] = dp[i][j] + arr[i+1][j]\n",
    "            dp[i+1][j+1] = dp[i][j] + arr[i+1][j+1]\n",
    "\n",
    "if n == 1:\n",
    "    print(arr[0][0])\n",
    "else:\n",
    "    result = max(dp[n-1])\n",
    "    print(result)"
   ]
  }
 ],
 "metadata": {
  "kernelspec": {
   "display_name": "Python 3",
   "language": "python",
   "name": "python3"
  },
  "language_info": {
   "codemirror_mode": {
    "name": "ipython",
    "version": 3
   },
   "file_extension": ".py",
   "mimetype": "text/x-python",
   "name": "python",
   "nbconvert_exporter": "python",
   "pygments_lexer": "ipython3",
   "version": "3.7.4"
  },
  "toc": {
   "base_numbering": 1,
   "nav_menu": {},
   "number_sections": true,
   "sideBar": true,
   "skip_h1_title": false,
   "title_cell": "Table of Contents",
   "title_sidebar": "Contents",
   "toc_cell": false,
   "toc_position": {},
   "toc_section_display": true,
   "toc_window_display": false
  }
 },
 "nbformat": 4,
 "nbformat_minor": 2
}
