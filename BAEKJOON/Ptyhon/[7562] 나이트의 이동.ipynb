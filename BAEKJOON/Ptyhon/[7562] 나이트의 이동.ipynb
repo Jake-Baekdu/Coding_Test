{
 "cells": [
  {
   "cell_type": "code",
   "execution_count": null,
   "metadata": {},
   "outputs": [],
   "source": [
    "from sys import stdin\n",
    "from collections import deque\n",
    "\n",
    "T = int(stdin.readline())\n",
    "\n",
    "def dfs():\n",
    "    move_xy = [(-2,-1), (-2,1), (-1,2), (1,2), (2,1), (2,-1), (-1,-2), (1,-2)]\n",
    "    visited = [[0 for _ in range(I)] for _ in range(I)]\n",
    "    while(dq):\n",
    "        cnt, x, y = dq.popleft()\n",
    "        \n",
    "        if x == ex and y == ey:\n",
    "            return cnt\n",
    "        if visited[x][y] == 1:\n",
    "            continue\n",
    "        visited[x][y] = 1\n",
    "        for xw, yw in move_xy:\n",
    "            nx = xw + x\n",
    "            ny = yw + y\n",
    "            if 0 <= nx < I and 0 <= ny < I:\n",
    "                if visited[nx][ny] == 0:\n",
    "                    dq.append((cnt+1, nx, ny))\n",
    "            \n",
    "    \n",
    "\n",
    "for _ in range(T):\n",
    "    I = int(stdin.readline())\n",
    "    sx, sy = map(int, stdin.readline().split(\" \"))\n",
    "    ex, ey = map(int, stdin.readline().split(\" \"))\n",
    "    dq = deque()\n",
    "    dq.append([0, sx, sy])\n",
    "    print(dfs())\n",
    "    \n"
   ]
  }
 ],
 "metadata": {
  "kernelspec": {
   "display_name": "Python 3",
   "language": "python",
   "name": "python3"
  },
  "language_info": {
   "codemirror_mode": {
    "name": "ipython",
    "version": 3
   },
   "file_extension": ".py",
   "mimetype": "text/x-python",
   "name": "python",
   "nbconvert_exporter": "python",
   "pygments_lexer": "ipython3",
   "version": "3.7.4"
  },
  "toc": {
   "base_numbering": 1,
   "nav_menu": {},
   "number_sections": true,
   "sideBar": true,
   "skip_h1_title": false,
   "title_cell": "Table of Contents",
   "title_sidebar": "Contents",
   "toc_cell": false,
   "toc_position": {},
   "toc_section_display": true,
   "toc_window_display": false
  }
 },
 "nbformat": 4,
 "nbformat_minor": 2
}
