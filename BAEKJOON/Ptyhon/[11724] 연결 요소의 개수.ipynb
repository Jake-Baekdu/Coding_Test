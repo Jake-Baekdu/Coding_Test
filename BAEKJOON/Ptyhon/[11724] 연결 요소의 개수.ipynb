{
 "cells": [
  {
   "cell_type": "code",
   "execution_count": null,
   "metadata": {},
   "outputs": [],
   "source": [
    "from collections import deque\n",
    "from sys import stdin\n",
    "\n",
    "n, m = map(int, input().split())\n",
    "arr = [[] for _ in range(n+1)]\n",
    "visit = [0 for _ in range(n+1)]\n",
    "for _ in range(m):\n",
    "    a, b = map(int, input().split())\n",
    "    arr[a].append(b)\n",
    "    arr[b].append(a)\n",
    "ans = 1\n",
    "dq = deque([1])\n",
    "while(True):\n",
    "    if len(dq) == 0:\n",
    "        for i in range(1, n+1):\n",
    "            if visit[i] == 0:\n",
    "                dq.append(i)\n",
    "                break\n",
    "        if len(dq) == 0:\n",
    "            break\n",
    "        else:\n",
    "            ans += 1\n",
    "    \n",
    "    s = dq.popleft()\n",
    "    if visit[s] == 1:\n",
    "        continue\n",
    "    visit[s] = 1\n",
    "    \n",
    "    for i in arr[s]:\n",
    "        if visit[i] == 0:\n",
    "            dq.append(i)\n",
    "            \n",
    "\n",
    "        \n",
    "print(ans)"
   ]
  }
 ],
 "metadata": {
  "kernelspec": {
   "display_name": "Python 3",
   "language": "python",
   "name": "python3"
  },
  "language_info": {
   "codemirror_mode": {
    "name": "ipython",
    "version": 3
   },
   "file_extension": ".py",
   "mimetype": "text/x-python",
   "name": "python",
   "nbconvert_exporter": "python",
   "pygments_lexer": "ipython3",
   "version": "3.7.4"
  },
  "toc": {
   "base_numbering": 1,
   "nav_menu": {},
   "number_sections": true,
   "sideBar": true,
   "skip_h1_title": false,
   "title_cell": "Table of Contents",
   "title_sidebar": "Contents",
   "toc_cell": false,
   "toc_position": {},
   "toc_section_display": true,
   "toc_window_display": false
  }
 },
 "nbformat": 4,
 "nbformat_minor": 2
}
