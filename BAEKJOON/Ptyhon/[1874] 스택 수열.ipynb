{
 "cells": [
  {
   "cell_type": "code",
   "execution_count": null,
   "metadata": {},
   "outputs": [],
   "source": [
    "from collections import deque\n",
    "\n",
    "n = int(input())\n",
    "_list = deque([0]*n)\n",
    "nums = deque([1])\n",
    "ans = \"+\"\n",
    "\n",
    "for i in range(n):\n",
    "    _list[i] = int(input())\n",
    "\n",
    "tmp = 1\n",
    "flag = True\n",
    "\n",
    "while(_list):\n",
    "    if tmp > n:\n",
    "        flag = False\n",
    "        break\n",
    "    if len(nums) == 0 or nums[-1] != _list[0]:\n",
    "        tmp += 1\n",
    "        nums.append(tmp)\n",
    "        ans += \"+\"\n",
    "    else:\n",
    "        nums.pop()\n",
    "        _list.popleft()\n",
    "        ans += \"-\"\n",
    "        \n",
    "if flag:\n",
    "    for x in ans:\n",
    "        print(x)\n",
    "else:\n",
    "    print(\"NO\")"
   ]
  }
 ],
 "metadata": {
  "kernelspec": {
   "display_name": "Python 3",
   "language": "python",
   "name": "python3"
  },
  "language_info": {
   "codemirror_mode": {
    "name": "ipython",
    "version": 3
   },
   "file_extension": ".py",
   "mimetype": "text/x-python",
   "name": "python",
   "nbconvert_exporter": "python",
   "pygments_lexer": "ipython3",
   "version": "3.7.4"
  },
  "toc": {
   "base_numbering": 1,
   "nav_menu": {},
   "number_sections": true,
   "sideBar": true,
   "skip_h1_title": false,
   "title_cell": "Table of Contents",
   "title_sidebar": "Contents",
   "toc_cell": false,
   "toc_position": {},
   "toc_section_display": true,
   "toc_window_display": false
  }
 },
 "nbformat": 4,
 "nbformat_minor": 2
}
