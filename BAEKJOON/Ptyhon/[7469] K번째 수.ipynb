{
 "cells": [
  {
   "cell_type": "markdown",
   "metadata": {},
   "source": [
    "파이썬의 내장함수를 알면 구현할 필요 없이, 그리고 직접 구현하는 것보다 빠른 코드를 얻을 수 있습니다.\n",
    "\n",
    "heapq.merge(L1, L2)는 L1, L2가 정렬되어 있다고 가정하고 이 둘을 정렬된 채로 합치는 generator를 만듭니다. 여기에 list를 씌우면 완성된 리스트를 얻습니다.\n",
    "\n",
    "bisect 모듈에는 이분탐색 함수가 있습니다.\n",
    "\n"
   ]
  },
  {
   "cell_type": "code",
   "execution_count": 1,
   "metadata": {},
   "outputs": [],
   "source": [
    "import bisect\n",
    "import operator\n",
    "import sys\n",
    "\n",
    "\"\"\"예시는 백준 에제 입력 1을 기준으로 하였습니다.\n",
    "7 3\n",
    "1 5 2 6 3 7 4\n",
    "2 5 3\n",
    "4 4 1\n",
    "1 7 3\n",
    "\"\"\"\n",
    "class MergeSortTreeForKthElem:\n",
    "    def __init__(self, values):\n",
    "        l = [[i] for i, value \n",
    "             # [1]번째 아이템을 기준으로 정렬\n",
    "             # [(0, 1), (2, 2), (4, 3), (6, 4), (1, 5), (3, 6), (5, 7)]             \n",
    "             in sorted(enumerate(values), key=operator.itemgetter(1))]\n",
    "        self._values = values\n",
    "        # size를 비트 연산으로 구함\n",
    "        # self._size = 8 --> 1 << 3 했기 때문\n",
    "        # (6).bit_length() = 3\n",
    "        self._size = 1 << (len(l) - 1).bit_length()\n",
    "        \"\"\"\n",
    "        self._tree =\n",
    "        [[], [0, 1, 2, 3, 4, 5, 6], [0, 2, 4, 6], \n",
    "        [1, 3, 5], [0, 2], [4, 6], [1, 3], \n",
    "        [5], [0], [2], [4], [6], [1], [3], [5], []]\n",
    "        \n",
    "        \n",
    "        [[], [], [], [], [], [], [], [], \n",
    "        [0], [2], [4], [6], [1], [3], [5], []]\n",
    "\n",
    "\n",
    "        \"\"\"\n",
    "        self._tree = ([[] for _ in range(self._size)]\n",
    "                     + l + [[]] * (self._size - len(l)))\n",
    "        for i in range(self._size - 1, 0, -1):\n",
    "            self._tree[i] = self._tree[i * 2] + self._tree[i * 2 + 1]\n",
    "            self._tree[i].sort()\n",
    "            \n",
    "            \n",
    "            \n",
    "    def kth(self, beg: int, end: int, k: int) -> int:\n",
    "        i = 1\n",
    "        while i < self._size:\n",
    "            i += i\n",
    "            node = self._tree[i]"
   ]
  },
  {
   "cell_type": "code",
   "execution_count": 4,
   "metadata": {},
   "outputs": [
    {
     "name": "stdout",
     "output_type": "stream",
     "text": [
      "1 5 2 6 3 7 4\n"
     ]
    },
    {
     "data": {
      "text/plain": [
       "[(0, 1), (2, 2), (4, 3), (6, 4), (1, 5), (3, 6), (5, 7)]"
      ]
     },
     "execution_count": 4,
     "metadata": {},
     "output_type": "execute_result"
    }
   ],
   "source": [
    "values = [int(x) for x in input().split()]\n",
    "a = sorted(enumerate(values), key=operator.itemgetter(1))\n",
    "a"
   ]
  },
  {
   "cell_type": "code",
   "execution_count": 19,
   "metadata": {},
   "outputs": [
    {
     "data": {
      "text/plain": [
       "[[],\n",
       " [0, 1, 2, 3, 4, 5, 6],\n",
       " [0, 2, 4, 6],\n",
       " [1, 3, 5],\n",
       " [0, 2],\n",
       " [4, 6],\n",
       " [1, 3],\n",
       " [5],\n",
       " [0],\n",
       " [2],\n",
       " [4],\n",
       " [6],\n",
       " [1],\n",
       " [3],\n",
       " [5],\n",
       " []]"
      ]
     },
     "execution_count": 19,
     "metadata": {},
     "output_type": "execute_result"
    }
   ],
   "source": [
    "[[], [0, 1, 2, 3, 4, 5, 6], [0, 2, 4, 6], [1, 3, 5], [0, 2], [4, 6], [1, 3], [5], [0], [2], [4], [6], [1], [3], [5], []]\n"
   ]
  },
  {
   "cell_type": "code",
   "execution_count": 18,
   "metadata": {},
   "outputs": [
    {
     "data": {
      "text/plain": [
       "3"
      ]
     },
     "execution_count": 18,
     "metadata": {},
     "output_type": "execute_result"
    }
   ],
   "source": [
    "(6).bit_length()"
   ]
  },
  {
   "cell_type": "code",
   "execution_count": null,
   "metadata": {},
   "outputs": [],
   "source": []
  }
 ],
 "metadata": {
  "kernelspec": {
   "display_name": "Python 3",
   "language": "python",
   "name": "python3"
  },
  "language_info": {
   "codemirror_mode": {
    "name": "ipython",
    "version": 3
   },
   "file_extension": ".py",
   "mimetype": "text/x-python",
   "name": "python",
   "nbconvert_exporter": "python",
   "pygments_lexer": "ipython3",
   "version": "3.7.4"
  }
 },
 "nbformat": 4,
 "nbformat_minor": 2
}
