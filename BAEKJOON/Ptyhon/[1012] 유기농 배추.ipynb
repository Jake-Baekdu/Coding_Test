{
 "cells": [
  {
   "cell_type": "code",
   "execution_count": 1,
   "metadata": {
    "ExecuteTime": {
     "end_time": "2021-10-08T10:46:09.672910Z",
     "start_time": "2021-10-08T10:46:09.655096Z"
    }
   },
   "outputs": [
    {
     "data": {
      "text/plain": [
       "2"
      ]
     },
     "execution_count": 1,
     "metadata": {},
     "output_type": "execute_result"
    }
   ],
   "source": [
    "from collections import deque\n",
    "\n",
    "T = int(input())\n",
    "\n",
    "\n",
    "def bfs(x, y):\n",
    "    dq = deque([(x, y)])\n",
    "    move_xy = [(1,0), (0,1), (-1,0), (0,-1)]\n",
    "    \n",
    "    while(dq):\n",
    "        px, py = dq.popleft()\n",
    "        \n",
    "        if visited[px][py] == True:\n",
    "            continue\n",
    "        visited[px][py] = True\n",
    "        \n",
    "        for tx, ty in move_xy:\n",
    "            nx = px + tx\n",
    "            ny = py + ty\n",
    "            \n",
    "            if 0 <= nx < n and 0 <= ny < m:\n",
    "                if board[nx][ny] == 0:\n",
    "                    continue\n",
    "                if visited[nx][ny] == 0:\n",
    "                    dq.append((nx, ny))\n",
    "                    \n",
    "    return 1\n",
    "    \n",
    "for _ in range(T):\n",
    "    m, n, k = map(int, input().split())\n",
    "    board = [[0]*m for _ in range(n)]\n",
    "    cnt = 0\n",
    "    visited = [[0]*m for _ in range(n)]\n",
    "    \n",
    "    for _ in range(k):\n",
    "        mm, nn = map(int, input().split())\n",
    "        board[nn][mm] = 1\n",
    "        \n",
    "    for i in range(n):\n",
    "        for j in range(m):\n",
    "            if board[i][j] == 0 or visited[i][j] == True:\n",
    "                continue\n",
    "            cnt += bfs(i, j)\n",
    "            \n",
    "    \n",
    "    print(cnt)"
   ]
  },
  {
   "cell_type": "code",
   "execution_count": null,
   "metadata": {},
   "outputs": [],
   "source": []
  }
 ],
 "metadata": {
  "kernelspec": {
   "display_name": "Python 3",
   "language": "python",
   "name": "python3"
  },
  "language_info": {
   "codemirror_mode": {
    "name": "ipython",
    "version": 3
   },
   "file_extension": ".py",
   "mimetype": "text/x-python",
   "name": "python",
   "nbconvert_exporter": "python",
   "pygments_lexer": "ipython3",
   "version": "3.7.4"
  },
  "toc": {
   "base_numbering": 1,
   "nav_menu": {},
   "number_sections": true,
   "sideBar": true,
   "skip_h1_title": false,
   "title_cell": "Table of Contents",
   "title_sidebar": "Contents",
   "toc_cell": false,
   "toc_position": {},
   "toc_section_display": true,
   "toc_window_display": false
  }
 },
 "nbformat": 4,
 "nbformat_minor": 2
}
