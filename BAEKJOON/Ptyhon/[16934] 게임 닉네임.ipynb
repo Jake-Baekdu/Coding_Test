{
 "cells": [
  {
   "cell_type": "code",
   "execution_count": 3,
   "metadata": {
    "scrolled": true
   },
   "outputs": [
    {
     "name": "stdout",
     "output_type": "stream",
     "text": [
      "5\n",
      "baekjoon\n",
      "startlink\n",
      "bakejoon\n",
      "beakjoon\n",
      "baekjoon\n",
      "b\n",
      "s\n",
      "bak\n",
      "be\n",
      "baekjoon2\n"
     ]
    }
   ],
   "source": [
    "class Node():\n",
    "    def __init__(self, key, data = None):\n",
    "        self.key = key\n",
    "        self.data = [data, 1]\n",
    "        self.children = {}\n",
    "        \n",
    "class Trie():\n",
    "    def __init__(self):\n",
    "        self.head = Node(None)\n",
    "        \n",
    "    def insert(self, string):\n",
    "        curr_node = self.head\n",
    "        #닉네임 들어갈 변수 초기화\n",
    "        nickname = ''\n",
    "        #최소의 닉네임을 만들기 위한 변수\n",
    "        flag = 0\n",
    "        for char in string:\n",
    "            #만약에 자식노드에 문자한개(char)가 없고\n",
    "            if char not in curr_node.children:\n",
    "                curr_node.children[char] = Node(char)\n",
    "                #flag 바뀌지 않았다면\n",
    "                if flag == 0:\n",
    "                    #닉네임에 char를 더해주고\n",
    "                    nickname += char\n",
    "                    #이미 만들어진 닉네임을 건들지 않기 위해 flag 변경\n",
    "                    flag = 1\n",
    "            curr_node = curr_node.children[char]\n",
    "            # 닉네임이 만들어지지 않았다면(flag가 변경되지 않았을 경우)\n",
    "            # 자식노드에 문자가 존재하기에 계속 닉네임 + char로 초기화\n",
    "            if flag == 0:\n",
    "                nickname += char\n",
    "                \n",
    "        \n",
    "        #data에 넣기 전에  nickname과 먼저 비교함\n",
    "        if curr_node.data[0] == nickname:\n",
    "            #같은 이름이면 index[1]을 count로 생각하며 +1 해줌\n",
    "            curr_node.data[1] += 1\n",
    "            #같은 이름이기때문에 이름과 숫자를 합쳐서 프린트\n",
    "            print(curr_node.data[0] + str(curr_node.data[1]))\n",
    "        else:\n",
    "            #같은 이름이 아닌경우 닉네임만 프린트\n",
    "            print(nickname)\n",
    "        # data과 닉네임을 비교한 후에 data를 string으로 초기화해줌\n",
    "        curr_node.data[0] = string\n",
    "\n",
    "N = int(input())\n",
    "name_list = [input() for _ in range(N)]\n",
    "T = Trie()\n",
    "for n in name_list:\n",
    "    T.insert(n)"
   ]
  },
  {
   "cell_type": "code",
   "execution_count": null,
   "metadata": {},
   "outputs": [],
   "source": []
  }
 ],
 "metadata": {
  "kernelspec": {
   "display_name": "Python 3",
   "language": "python",
   "name": "python3"
  },
  "language_info": {
   "codemirror_mode": {
    "name": "ipython",
    "version": 3
   },
   "file_extension": ".py",
   "mimetype": "text/x-python",
   "name": "python",
   "nbconvert_exporter": "python",
   "pygments_lexer": "ipython3",
   "version": "3.7.4"
  }
 },
 "nbformat": 4,
 "nbformat_minor": 2
}
