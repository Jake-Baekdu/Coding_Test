{
 "cells": [
  {
   "cell_type": "code",
   "execution_count": null,
   "metadata": {},
   "outputs": [],
   "source": [
    "from collections import deque\n",
    "\n",
    "n = int(input())\n",
    "arr = [list(map(int, input())) for _ in range(n)]\n",
    "visited = [[0]*n for _ in range(n)]\n",
    "house_cnt = []\n",
    "complex_cnt = 0\n",
    "\n",
    "\n",
    "def dfs(x, y):\n",
    "    \n",
    "    dq = deque([[x, y]])\n",
    "    tmp_cnt = 0\n",
    "    move_xy = [(1,0), (0,1), (-1,0), (0,-1)]\n",
    "    \n",
    "    while(dq):\n",
    "        px, py = dq.pop()\n",
    "\n",
    "        if visited[px][py] == True:\n",
    "            continue\n",
    "        \n",
    "        tmp_cnt += 1\n",
    "        visited[px][py] = True\n",
    "    \n",
    "        for r, c in move_xy:\n",
    "            nx = px+r\n",
    "            ny = py+c\n",
    "\n",
    "            if 0 <= nx < n and 0 <= ny < n:\n",
    "                if arr[nx][ny] == 0:\n",
    "                    continue\n",
    "                if visited[nx][ny] == 0:\n",
    "                    dq.append([nx,ny])\n",
    "    return tmp_cnt\n",
    "    \n",
    "\n",
    "    \n",
    "for i in range(n):\n",
    "    for j in range(n):\n",
    "        if visited[i][j] == True or arr[i][j] == 0:\n",
    "            continue\n",
    "        house_cnt.append(dfs(i, j))\n",
    "        complex_cnt += 1\n",
    "        \n",
    "house_cnt.sort()\n",
    "\n",
    "print(complex_cnt)\n",
    "for i in house_cnt:\n",
    "    print(i)"
   ]
  }
 ],
 "metadata": {
  "kernelspec": {
   "display_name": "Python 3",
   "language": "python",
   "name": "python3"
  },
  "language_info": {
   "codemirror_mode": {
    "name": "ipython",
    "version": 3
   },
   "file_extension": ".py",
   "mimetype": "text/x-python",
   "name": "python",
   "nbconvert_exporter": "python",
   "pygments_lexer": "ipython3",
   "version": "3.7.4"
  },
  "toc": {
   "base_numbering": 1,
   "nav_menu": {},
   "number_sections": true,
   "sideBar": true,
   "skip_h1_title": false,
   "title_cell": "Table of Contents",
   "title_sidebar": "Contents",
   "toc_cell": false,
   "toc_position": {},
   "toc_section_display": true,
   "toc_window_display": false
  }
 },
 "nbformat": 4,
 "nbformat_minor": 2
}
