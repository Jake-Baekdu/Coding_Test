{
 "cells": [
  {
   "cell_type": "code",
   "execution_count": 45,
   "metadata": {},
   "outputs": [
    {
     "name": "stdout",
     "output_type": "stream",
     "text": [
      "3 2\n",
      "1 2\n",
      "3 4\n",
      "5 6\n",
      "2 3\n",
      "-1 -2 0\n",
      "0 0 3\n"
     ]
    }
   ],
   "source": [
    "N, M = map(int, input().split()) \n",
    "A = [list(map(int, input().split())) for _ in range(N)] \n",
    "M, K = map(int, input().split()) \n",
    "B = [list(map(int, input().split())) for _ in range(M)]\n",
    "\n",
    "ANS = [[0 for _ in range(K)] for _ in range(N) ]\n",
    "for n in range(N):\n",
    "    for k in range(K):\n",
    "        for m in range(M):\n",
    "            ANS[n][k] += A[n][m] * B[m][k]\n",
    "        print(ANS[n][k], end = \" \")\n",
    "    print()"
   ]
  }
 ],
 "metadata": {
  "kernelspec": {
   "display_name": "Python 3",
   "language": "python",
   "name": "python3"
  },
  "language_info": {
   "codemirror_mode": {
    "name": "ipython",
    "version": 3
   },
   "file_extension": ".py",
   "mimetype": "text/x-python",
   "name": "python",
   "nbconvert_exporter": "python",
   "pygments_lexer": "ipython3",
   "version": "3.7.4"
  }
 },
 "nbformat": 4,
 "nbformat_minor": 2
}
