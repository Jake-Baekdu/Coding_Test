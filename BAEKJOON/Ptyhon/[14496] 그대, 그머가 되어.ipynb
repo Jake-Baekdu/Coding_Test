{
 "cells": [
  {
   "cell_type": "code",
   "execution_count": null,
   "metadata": {},
   "outputs": [],
   "source": [
    "import heapq\n",
    "import sys\n",
    "\n",
    "a, b = map(int, input().split())\n",
    "N, M = map(int, input().split())\n",
    "\n",
    "arr = {}\n",
    "dist = [sys.maxsize]*(N+1)\n",
    "pq = []\n",
    "for _ in range(M):\n",
    "    t1, t2 = map(int, input().split())\n",
    "    try:\n",
    "        arr[t1].append(t2)\n",
    "    except KeyError:\n",
    "        arr[t1] = [t2]\n",
    "        \n",
    "    try:\n",
    "        arr[t2].append(t1)\n",
    "    except KeyError:\n",
    "        arr[t2] = [t1]\n",
    "\n",
    "heapq.heappush(pq, (0, a))\n",
    "dist[a] = 0\n",
    "while pq:\n",
    "    pair = heapq.heappop(pq)\n",
    "    \n",
    "    if dist[pair[1]] < pair[0]:\n",
    "        continue\n",
    "    if pair[1] not in arr.keys():\n",
    "        continue\n",
    "\n",
    "    for i in arr[pair[1]]:\n",
    "        if dist[i] > dist[pair[1]] + 1:\n",
    "            dist[i] = dist[pair[1]] + 1\n",
    "            heapq.heappush(pq, (dist[i], i))\n",
    "        \n",
    "if dist[b] == sys.maxsize:\n",
    "    print(-1)\n",
    "else:\n",
    "    print(dist[b])\n",
    "    "
   ]
  }
 ],
 "metadata": {
  "kernelspec": {
   "display_name": "Python 3",
   "language": "python",
   "name": "python3"
  },
  "language_info": {
   "codemirror_mode": {
    "name": "ipython",
    "version": 3
   },
   "file_extension": ".py",
   "mimetype": "text/x-python",
   "name": "python",
   "nbconvert_exporter": "python",
   "pygments_lexer": "ipython3",
   "version": "3.7.4"
  }
 },
 "nbformat": 4,
 "nbformat_minor": 2
}
