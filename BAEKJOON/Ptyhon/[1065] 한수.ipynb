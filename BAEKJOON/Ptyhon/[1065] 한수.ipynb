{
 "cells": [
  {
   "cell_type": "code",
   "execution_count": null,
   "metadata": {},
   "outputs": [],
   "source": [
    "def check_hansu(num):\n",
    "    if num <= 99:\n",
    "        return 1\n",
    "    else:\n",
    "        numlist = list(map(int, str(num)))\n",
    "        for i in range(len(numlist)-2):\n",
    "            if numlist[i] - numlist[i+1] == numlist[i+1] - numlist[i+2]:\n",
    "                continue\n",
    "            else:\n",
    "                return 0\n",
    "        return 1\n",
    "dp = {x : 0 for x in range(1, 1001)}\n",
    "dp[1] = 1\n",
    "for i in range(2, 1001):\n",
    "    if i < 100:\n",
    "        dp[i] = 1 + dp[i-1]\n",
    "    else:\n",
    "        dp[i] = check_hansu(i) +dp[i-1]\n",
    "        \n",
    "INPUT = int(input())\n",
    "print(dp[INPUT])"
   ]
  }
 ],
 "metadata": {
  "kernelspec": {
   "display_name": "Python 3",
   "language": "python",
   "name": "python3"
  },
  "language_info": {
   "codemirror_mode": {
    "name": "ipython",
    "version": 3
   },
   "file_extension": ".py",
   "mimetype": "text/x-python",
   "name": "python",
   "nbconvert_exporter": "python",
   "pygments_lexer": "ipython3",
   "version": "3.7.4"
  }
 },
 "nbformat": 4,
 "nbformat_minor": 2
}
