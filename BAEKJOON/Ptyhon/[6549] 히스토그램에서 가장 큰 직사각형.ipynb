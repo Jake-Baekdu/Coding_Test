{
 "cells": [
  {
   "cell_type": "code",
   "execution_count": 3,
   "metadata": {},
   "outputs": [
    {
     "name": "stdout",
     "output_type": "stream",
     "text": [
      "7 2 1 4 5 1 3 9\n",
      "[2, 1, 4, 5, 1, 3, 9, 0]\n",
      "idx :  0\n",
      "idx :  1\n",
      "s [0]\n",
      "ih 2\n",
      "너비 w :  1\n",
      "a 갱신 :  2\n",
      "idx :  2\n",
      "idx :  3\n",
      "idx :  4\n",
      "s [1, 2, 3]\n",
      "ih 5\n",
      "너비 w :  1\n",
      "a 갱신 :  5\n",
      "s [1, 2]\n",
      "ih 4\n",
      "너비 w :  2\n",
      "a 갱신 :  8\n",
      "idx :  5\n",
      "idx :  6\n",
      "idx :  7\n",
      "s [1, 4, 5, 6]\n",
      "ih 9\n",
      "너비 w :  1\n",
      "a 갱신 :  9\n",
      "s [1, 4, 5]\n",
      "ih 3\n",
      "너비 w :  2\n",
      "s [1, 4]\n",
      "ih 1\n",
      "너비 w :  5\n",
      "s [1]\n",
      "ih 1\n",
      "너비 w :  7\n",
      "9\n",
      "0\n"
     ]
    }
   ],
   "source": [
    "while True:\n",
    "    N, *l=list(map(int, input().split()))\n",
    "    l.append(0)\n",
    "    if N == 0: break\n",
    "    s=[]\n",
    "    a=0\n",
    "    print(l)\n",
    "    for i,h in enumerate(l):\n",
    "        \n",
    "    \n",
    "        print(\"idx : \", i)\n",
    "        while s and l[s[-1]]>h:\n",
    "            print(\"s\", s)\n",
    "            ih=l[s.pop()]\n",
    "            print(\"ih\", ih)\n",
    "            # s의 높이!\n",
    "            w=i-s[-1]-1 if s else i\n",
    "            print(\"너비 w : \", w)\n",
    "            # i에서부터 s의 top까지의 거리를 가로길이로 한다.\n",
    "            # w = i일때는 마지막일 때\n",
    "            if a<w*ih: a=w*ih; print(\"a 갱신 : \", a)\n",
    "        s.append(i)\n",
    "    print(a)"
   ]
  },
  {
   "cell_type": "code",
   "execution_count": null,
   "metadata": {},
   "outputs": [],
   "source": [
    "from collections import deque\n",
    "\n",
    "while True:\n",
    "    rec =list(map(int, input().split()))\n",
    "    n = rec.pop(0)\n",
    "    \n",
    "    if n == 0 :\n",
    "        break\n",
    "        \n",
    "    stack = deque()\n",
    "    answer = 0\n",
    "    \n",
    "    #왼쪽부터 차례대로 검색\n",
    "    \n",
    "    for i in range(n):\n",
    "        while len(stack) != 0 and rec[stack[-1]] > rec[i]:\n",
    "            tmp = stack.pop()\n",
    "            \n",
    "            if len(stack) == 0:\n",
    "                width = i\n",
    "            else:\n",
    "                width = i - stack[-1] -1\n",
    "            answer = max(answer, width * rec[tmp])\n",
    "            "
   ]
  },
  {
   "cell_type": "code",
   "execution_count": null,
   "metadata": {},
   "outputs": [],
   "source": []
  }
 ],
 "metadata": {
  "kernelspec": {
   "display_name": "Python 3",
   "language": "python",
   "name": "python3"
  },
  "language_info": {
   "codemirror_mode": {
    "name": "ipython",
    "version": 3
   },
   "file_extension": ".py",
   "mimetype": "text/x-python",
   "name": "python",
   "nbconvert_exporter": "python",
   "pygments_lexer": "ipython3",
   "version": "3.7.4"
  }
 },
 "nbformat": 4,
 "nbformat_minor": 2
}
