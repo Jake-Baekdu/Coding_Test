{
 "cells": [
  {
   "cell_type": "code",
   "execution_count": 1,
   "metadata": {},
   "outputs": [],
   "source": [
    "n = int(input())\n",
    "A_arr = list(map(int, input().split()))\n",
    "B_arr = list(map(int, input().split()))\n",
    "result = [0]*n\n",
    "\n",
    "for i in range(n):\n",
    "    for j in range(n):\n",
    "        if A_arr[i] == B_arr[j]:\n",
    "            result[j] = i\n",
    "            \n",
    "for i in range(n):\n",
    "    val = result[i]\n",
    "    \n",
    "    if len(result) == 0 or result[n-1] < val:\n",
    "        \n",
    "    \n",
    "def bs(n, left, right):\n",
    "    \n",
    "    pl = left\n",
    "    pr = right\n",
    "    \n",
    "    while(True):\n",
    "        pc = (pl + pr) //2\n",
    "        \n",
    "        if n == result[pc]:\n",
    "            return pc\n",
    "        if n < result[pc]:\n",
    "            pr = pc - 1\n",
    "        else:\n",
    "            pl = pc + 1\n",
    "            \n",
    "        if pl <= pr:\n",
    "            break\n",
    "    return pl"
   ]
  },
  {
   "cell_type": "code",
   "execution_count": 3,
   "metadata": {},
   "outputs": [],
   "source": [
    "import java.io.*;\n",
    "import java.util.*;\n",
    "public class n02550 {\n",
    "\tstatic int N;\n",
    "\tstatic HashMap<Integer, Integer> map = new HashMap<>();\n",
    "\tstatic List<Integer> list = new ArrayList<>();\n",
    "\tstatic int[] arr, org;\n",
    "\tstatic Pair[] track;\n",
    "\tpublic static void main(String[] args) throws Exception {\n",
    "\t\tBufferedReader br = new BufferedReader(new InputStreamReader(System.in));\n",
    "\t\tBufferedWriter bw = new BufferedWriter(new OutputStreamWriter(System.out));\n",
    "\t\tN = Integer.parseInt(br.readLine());\n",
    "\t\torg = new int[N];\n",
    "\t\tarr = new int[N];\n",
    "\t\ttrack = new Pair[N];\n",
    "\t\tString[] input = br.readLine().split(\" \");\n",
    "\t\tfor (int i = 0; i < N; i++) {\n",
    "\t\t\tmap.put(Integer.parseInt(input[i]), i);\n",
    "\t\t\torg[i] = Integer.parseInt(input[i]);\n",
    "\t\t}\n",
    "\t\tinput = br.readLine().split(\" \");\n",
    "\t\tfor (int i = 0; i < N; i++) {\n",
    "\t\t\tarr[i] = map.get(Integer.parseInt(input[i]));\n",
    "\t\t}\n",
    "\t\tgetLIS();\n",
    "\t\tbw.write(list.size() + \"\\n\");\n",
    "\t\tCollections.sort(list);\n",
    "\t\tfor (int n : list) {\n",
    "\t\t\tbw.write(n + \" \");\n",
    "\t\t}\n",
    "\t\tbw.write(\"\\n\");\n",
    "\t\tbw.flush();\n",
    "\t}\n",
    "\tpublic static void getLIS() {\n",
    "\t\tfor (int i = 0; i < N; i++) {\n",
    "\t\t\tif (list.size() == 0 || list.get(list.size() - 1) < arr[i]) {\n",
    "\t\t\t\tlist.add(arr[i]);\n",
    "\t\t\t\ttrack[i] = new Pair(arr[i], list.size() - 1);\n",
    "\t\t\t}\n",
    "\t\t\telse {\n",
    "\t\t\t\tint idx = binSearch(arr[i]);\n",
    "\t\t\t\tlist.set(idx, arr[i]);\n",
    "\t\t\t\ttrack[i] = new Pair(arr[i], idx);\n",
    "\t\t\t}\n",
    "\t\t}\n",
    "\t\tint idx = list.size() - 1;\n",
    "\t\tfor (int i = N - 1; i >= 0; i--) {\n",
    "\t\t\tif (track[i].idx == idx) {\n",
    "\t\t\t\tlist.set(idx, org[track[i].n]);\n",
    "\t\t\t\tidx--;\n",
    "\t\t\t}\n",
    "\t\t}\n",
    "\t}\n",
    "\tpublic static int binSearch(int n) {\n",
    "\t\tint pl = 0;\n",
    "\t\tint pr = list.size() - 1;\n",
    "\t\tdo {\n",
    "\t\t\tint pc = (pl + pr) / 2;\n",
    "\t\t\tif (list.get(pc) < n)\n",
    "\t\t\t\tpl = pc + 1;\n",
    "\t\t\telse\n",
    "\t\t\t\tpr = pc - 1;\n",
    "\t\t} while (pl <= pr);\n",
    "\t\treturn pl;\n",
    "\t}\n",
    "\tstatic class Pair {\n",
    "\t\tint n, idx;\n",
    "\t\tPair(int n, int idx) {\n",
    "\t\t\tthis.n = n;\n",
    "\t\t\tthis.idx = idx;\n",
    "\t\t}\n",
    "\t}\n",
    "}"
   ]
  },
  {
   "cell_type": "code",
   "execution_count": 4,
   "metadata": {},
   "outputs": [
    {
     "data": {
      "text/plain": [
       "[{1}, set(), set(), set()]"
      ]
     },
     "execution_count": 4,
     "metadata": {},
     "output_type": "execute_result"
    }
   ],
   "source": [
    "a"
   ]
  },
  {
   "cell_type": "code",
   "execution_count": null,
   "metadata": {},
   "outputs": [],
   "source": []
  }
 ],
 "metadata": {
  "kernelspec": {
   "display_name": "Python 3",
   "language": "python",
   "name": "python3"
  },
  "language_info": {
   "codemirror_mode": {
    "name": "ipython",
    "version": 3
   },
   "file_extension": ".py",
   "mimetype": "text/x-python",
   "name": "python",
   "nbconvert_exporter": "python",
   "pygments_lexer": "ipython3",
   "version": "3.7.4"
  }
 },
 "nbformat": 4,
 "nbformat_minor": 2
}
