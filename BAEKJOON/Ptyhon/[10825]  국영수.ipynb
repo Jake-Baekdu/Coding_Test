{
 "cells": [
  {
   "cell_type": "code",
   "execution_count": null,
   "metadata": {},
   "outputs": [],
   "source": [
    "n = int(input())\n",
    "\n",
    "students = [[] for _ in range(n)]\n",
    "\n",
    "for i in range(n):\n",
    "    tmp = list(input().split(\" \"))\n",
    "    students[i] = [tmp[0], int(tmp[1]), int(tmp[2]), int(tmp[3])]\n",
    "\n",
    "\n",
    "students.sort(key = lambda x : (-x[1], x[2], -x[3], x[0]))\n",
    "\n",
    "\n",
    "for i in range(n):\n",
    "    print(students[i][0])"
   ]
  }
 ],
 "metadata": {
  "kernelspec": {
   "display_name": "Python 3",
   "language": "python",
   "name": "python3"
  },
  "language_info": {
   "codemirror_mode": {
    "name": "ipython",
    "version": 3
   },
   "file_extension": ".py",
   "mimetype": "text/x-python",
   "name": "python",
   "nbconvert_exporter": "python",
   "pygments_lexer": "ipython3",
   "version": "3.7.4"
  },
  "toc": {
   "base_numbering": 1,
   "nav_menu": {},
   "number_sections": true,
   "sideBar": true,
   "skip_h1_title": false,
   "title_cell": "Table of Contents",
   "title_sidebar": "Contents",
   "toc_cell": false,
   "toc_position": {},
   "toc_section_display": true,
   "toc_window_display": false
  }
 },
 "nbformat": 4,
 "nbformat_minor": 2
}
