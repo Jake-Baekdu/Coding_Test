{
 "cells": [
  {
   "cell_type": "code",
   "execution_count": 3,
   "metadata": {
    "ExecuteTime": {
     "end_time": "2021-09-17T04:23:51.610628Z",
     "start_time": "2021-09-17T04:23:39.165163Z"
    }
   },
   "outputs": [
    {
     "name": "stdout",
     "output_type": "stream",
     "text": [
      "3\n",
      "-4000\n",
      "0\n",
      "1\n",
      "-1333\n",
      "0\n",
      "0\n",
      "4001\n"
     ]
    }
   ],
   "source": [
    "n = int(input())\n",
    "arr = {}\n",
    "val_arr = [0]*n\n",
    "for i in range(n):\n",
    "    tmp = int(input())\n",
    "    val_arr[i] = tmp\n",
    "    try:\n",
    "        arr[tmp] += 1\n",
    "    except KeyError:\n",
    "        arr[tmp] = 1\n",
    "\n",
    "val_arr.sort()\n",
    "arr_k = sorted(arr.keys())\n",
    "arr_k_mode = sorted(arr.items(), key = lambda x : (-x[1], x[0]))\n",
    "\n",
    "print(round(sum(val_arr)/n)) #산술평균 : N개의 수들의 합을 N으로 나눈 값\n",
    "print(val_arr[n//2]) #중앙값 : N개의 수들을 증가하는 순서로 나열했을 경우 그 중앙에 위치하는 값\n",
    "\n",
    "#최빈값 : N개의 수들 중 가장 많이 나타나는 값\n",
    "if len(arr_k) > 1 and arr_k_mode[0][1] == arr_k_mode[1][1]:\n",
    "    print(arr_k_mode[1][0])\n",
    "else:\n",
    "    print(arr_k_mode[0][0])\n",
    "print(max(arr_k) - min(arr_k)) # 범위 : N개의 수들 중 최댓값과 최솟값의 차이\n",
    "\n"
   ]
  },
  {
   "cell_type": "code",
   "execution_count": null,
   "metadata": {},
   "outputs": [],
   "source": []
  }
 ],
 "metadata": {
  "kernelspec": {
   "display_name": "Python 3",
   "language": "python",
   "name": "python3"
  },
  "language_info": {
   "codemirror_mode": {
    "name": "ipython",
    "version": 3
   },
   "file_extension": ".py",
   "mimetype": "text/x-python",
   "name": "python",
   "nbconvert_exporter": "python",
   "pygments_lexer": "ipython3",
   "version": "3.7.4"
  },
  "toc": {
   "base_numbering": 1,
   "nav_menu": {},
   "number_sections": true,
   "sideBar": true,
   "skip_h1_title": false,
   "title_cell": "Table of Contents",
   "title_sidebar": "Contents",
   "toc_cell": false,
   "toc_position": {},
   "toc_section_display": true,
   "toc_window_display": false
  }
 },
 "nbformat": 4,
 "nbformat_minor": 2
}
