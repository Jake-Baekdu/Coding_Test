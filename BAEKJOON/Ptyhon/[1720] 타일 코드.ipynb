{
 "cells": [
  {
   "cell_type": "code",
   "execution_count": 1,
   "metadata": {},
   "outputs": [
    {
     "name": "stdout",
     "output_type": "stream",
     "text": [
      "4\n"
     ]
    }
   ],
   "source": [
    "N = int(input())"
   ]
  },
  {
   "cell_type": "code",
   "execution_count": 2,
   "metadata": {},
   "outputs": [],
   "source": [
    "dp = [[] for _ in range(3)]"
   ]
  },
  {
   "cell_type": "code",
   "execution_count": 23,
   "metadata": {
    "scrolled": true
   },
   "outputs": [
    {
     "name": "stdout",
     "output_type": "stream",
     "text": [
      "2 2\n",
      "A [[1, 1, 1], [2, 2, 1], [3, 3, 1]]\n",
      "B [[1, 2, 2]]\n",
      "C [[1, 3, 3]]\n",
      "3 0\n",
      "A [[1, 1, 1], [2, 2, 1], [3, 3, 1]]\n",
      "B [[1, 1, 2, 2], [2, 2, 2, 2], [3, 3, 2, 2]]\n",
      "C [[1, 1, 3, 3], [2, 2, 3, 3], [3, 3, 3, 3]]\n",
      "4 1\n",
      "A [[1, 1]]\n",
      "B [[1, 1, 2, 2], [2, 2, 2, 2], [3, 3, 2, 2]]\n",
      "C [[1, 1, 3, 3], [2, 2, 3, 3], [3, 3, 3, 3]]\n"
     ]
    }
   ],
   "source": [
    "dp[0] = [[1]]\n",
    "dp[1] = [[1,1], [2,2], [3,3]]\n",
    "\n",
    "for n in range(2, N+1):\n",
    "    print(n, n%3)\n",
    "    A = [x+[1] for x in dp[((n-1)%3)]]\n",
    "    B = [x+[2,2] for x in dp[(n-2)%3]]\n",
    "    C = [x+[3,3] for x in dp[(n-2)%3]]\n",
    "    print(\"A\", A)\n",
    "    print(\"B\", B)\n",
    "    print(\"C\", C)\n"
   ]
  },
  {
   "cell_type": "code",
   "execution_count": 22,
   "metadata": {},
   "outputs": [
    {
     "name": "stdout",
     "output_type": "stream",
     "text": [
      "2 2 1 0\n",
      "3 0 2 1\n",
      "4 1 0 2\n",
      "5 2 1 0\n",
      "6 0 2 1\n",
      "7 1 0 2\n",
      "8 2 1 0\n",
      "9 0 2 1\n"
     ]
    }
   ],
   "source": [
    "for i in range(2, 10):\n",
    "    print(i, i%3, (i-1)%3, (i-2)%3)"
   ]
  },
  {
   "cell_type": "code",
   "execution_count": 15,
   "metadata": {},
   "outputs": [
    {
     "name": "stdout",
     "output_type": "stream",
     "text": [
      "[[1, 1, 1, 1], [2, 2, 1, 1], [3, 3, 1, 1], [1, 1, 2, 2, 1], [2, 2, 2, 2, 1], [3, 3, 2, 2, 1], [1, 1, 3, 3, 1], [2, 2, 3, 3, 1], [3, 3, 3, 3, 1], [1, 1, 2, 2], [2, 2, 2, 2], [3, 3, 2, 2], [1, 1, 3, 3], [2, 2, 3, 3], [3, 3, 3, 3]]\n",
      "[[1]]\n",
      "[[1, 1], [2, 2], [3, 3]]\n",
      "[[1, 1, 1], [2, 2, 1], [3, 3, 1], [1, 1, 2, 2], [2, 2, 2, 2], [3, 3, 2, 2], [1, 1, 3, 3], [2, 2, 3, 3], [3, 3, 3, 3]]\n"
     ]
    },
    {
     "data": {
      "text/plain": [
       "[[1, 1, 1, 1],\n",
       " [2, 2, 1, 1],\n",
       " [3, 3, 1, 1],\n",
       " [1, 1, 2, 2, 1],\n",
       " [2, 2, 2, 2, 1],\n",
       " [3, 3, 2, 2, 1],\n",
       " [1, 1, 3, 3, 1],\n",
       " [2, 2, 3, 3, 1],\n",
       " [3, 3, 3, 3, 1],\n",
       " [1, 1, 2, 2],\n",
       " [2, 2, 2, 2],\n",
       " [3, 3, 2, 2],\n",
       " [1, 1, 3, 3],\n",
       " [2, 2, 3, 3],\n",
       " [3, 3, 3, 3]]"
      ]
     },
     "execution_count": 15,
     "metadata": {},
     "output_type": "execute_result"
    }
   ],
   "source": [
    "dp[1] = [[1]]\n",
    "dp[2] = [[1,1], [2,2], [3,3]]\n",
    "\n",
    "for i in dp:\n",
    "    print(i)\n",
    "    \n",
    "dp[N%4]\n",
    "\n",
    "\"\"\"\n",
    "[[1, 1, 1, 1],\n",
    " [1, 1, 2, 2],\n",
    " [1, 1, 3, 3],\n",
    " [1, 2, 2, 1],\n",
    " [1, 3, 3, 1],\n",
    " [2, 2, 1, 1],\n",
    " [2, 2, 2, 2],\n",
    " [2, 2, 3, 3],\n",
    " [3, 3, 1, 1],\n",
    " [3, 3, 2, 2],\n",
    " [3, 3, 3, 3]]\n",
    " \"\"\""
   ]
  },
  {
   "cell_type": "code",
   "execution_count": 14,
   "metadata": {},
   "outputs": [
    {
     "name": "stdout",
     "output_type": "stream",
     "text": [
      "15\n",
      "[2, 2, 1, 1]\n",
      "[3, 3, 1, 1]\n",
      "[3, 3, 2, 2]\n"
     ]
    },
    {
     "data": {
      "text/plain": [
       "12"
      ]
     },
     "execution_count": 14,
     "metadata": {},
     "output_type": "execute_result"
    }
   ],
   "source": [
    "def check_same(arr, N):\n",
    "    if N == arr.count(arr[0]):\n",
    "        return True\n",
    "    else:\n",
    "        return False\n",
    "\n",
    "len_T = len(dp[N%4])\n",
    "print(len_T)\n",
    "for i in range(len_T):\n",
    "    temp = list(reversed(dp[N%4][i]))\n",
    "    if check_same(temp, N):\n",
    "        continue\n",
    "    else:\n",
    "        if temp in dp[N%4][i+1:]:\n",
    "            print(dp[N%4][i])\n",
    "            len_T -= 1\n",
    "            \n",
    "            \n",
    "len_T"
   ]
  },
  {
   "cell_type": "code",
   "execution_count": 50,
   "metadata": {},
   "outputs": [
    {
     "data": {
      "text/plain": [
       "True"
      ]
     },
     "execution_count": 50,
     "metadata": {},
     "output_type": "execute_result"
    }
   ],
   "source": [
    "check_same([1,1,1,1], N)"
   ]
  },
  {
   "cell_type": "code",
   "execution_count": 29,
   "metadata": {},
   "outputs": [
    {
     "data": {
      "text/plain": [
       "[[1, 1, 1, 1],\n",
       " [1, 1, 2, 2],\n",
       " [1, 1, 3, 3],\n",
       " [1, 2, 2, 1],\n",
       " [1, 3, 3, 1],\n",
       " [2, 2, 1, 1],\n",
       " [2, 2, 2, 2],\n",
       " [2, 2, 3, 3],\n",
       " [3, 3, 1, 1],\n",
       " [3, 3, 2, 2],\n",
       " [3, 3, 3, 3]]"
      ]
     },
     "execution_count": 29,
     "metadata": {},
     "output_type": "execute_result"
    }
   ],
   "source": [
    "dp = dp[0]*31\n",
    "\n",
    "n = int(input())\n",
    "\n",
    "dp[0] = 1\n",
    "dp[1] = 1\n",
    "\n",
    "for i in range(2. n+1):\n",
    "    dp[i] = dp[i-1] + dp[i-2]*2\n",
    "    \n",
    "ans = 0\n",
    "\n",
    "if n % 2 == 1:\n",
    "    ans = (dp[n] + dp[(n-1)//2]) // 2\n",
    "else:\n",
    "    ans = (dp[n] + dp[n//2] + dp[(n-2)//2] * 2) // 2\n",
    "\n",
    "ans = \n"
   ]
  },
  {
   "cell_type": "code",
   "execution_count": null,
   "metadata": {},
   "outputs": [],
   "source": []
  }
 ],
 "metadata": {
  "kernelspec": {
   "display_name": "Python 3",
   "language": "python",
   "name": "python3"
  },
  "language_info": {
   "codemirror_mode": {
    "name": "ipython",
    "version": 3
   },
   "file_extension": ".py",
   "mimetype": "text/x-python",
   "name": "python",
   "nbconvert_exporter": "python",
   "pygments_lexer": "ipython3",
   "version": "3.7.4"
  }
 },
 "nbformat": 4,
 "nbformat_minor": 2
}
