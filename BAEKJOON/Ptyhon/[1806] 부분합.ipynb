{
 "cells": [
  {
   "cell_type": "code",
   "execution_count": 44,
   "metadata": {},
   "outputs": [
    {
     "name": "stdout",
     "output_type": "stream",
     "text": [
      "2 22\n",
      "2\n"
     ]
    }
   ],
   "source": [
    "def solve():\n",
    "    start, end = 0, 0\n",
    "    total = 0\n",
    "    min_val = S\n",
    "    len_arr = []\n",
    "    total_arr = sum(arr)\n",
    "    if total_arr < S:\n",
    "        return print(0)\n",
    "    while(start < len(arr)):\n",
    "        if total >= S or  end == N:\n",
    "\n",
    "            if total >= S:\n",
    "                min_val = min(min_val, end - start)\n",
    "            total -= arr[start]\n",
    "            start += 1\n",
    "        else:\n",
    "            total += arr[end]\n",
    "            end += 1\n",
    "\n",
    "    print(min_val)\n",
    "    \n",
    "if __name__ == \"__main__\":\n",
    "    N, S = map(int, input().split())\n",
    "    arr = list(map(int, input().split()))\n",
    "    solve\n",
    "    "
   ]
  },
  {
   "cell_type": "code",
   "execution_count": null,
   "metadata": {},
   "outputs": [],
   "source": [
    "import sys\n",
    "N, S = map(int, input().split())\n",
    "arr = list(map(int, input().split()))\n",
    "start, end = 0, 0\n",
    "sum = 0\n",
    "min_val = S+1\n",
    "len_arr = []\n",
    "while(start < len(arr)):\n",
    "    if sum >= S or  end == N:\n",
    "        if sum >= S:\n",
    "            min_val = min(min_val, end-start)\n",
    "        sum -= arr[start]\n",
    "        start += 1\n",
    "    else:\n",
    "        sum += arr[end]\n",
    "        end += 1\n",
    "    \n",
    "if min_val == S+1:\n",
    "    print(0)\n",
    "else:\n",
    "    print(min_val)\n",
    "        "
   ]
  },
  {
   "cell_type": "code",
   "execution_count": null,
   "metadata": {},
   "outputs": [],
   "source": []
  }
 ],
 "metadata": {
  "kernelspec": {
   "display_name": "Python 3",
   "language": "python",
   "name": "python3"
  },
  "language_info": {
   "codemirror_mode": {
    "name": "ipython",
    "version": 3
   },
   "file_extension": ".py",
   "mimetype": "text/x-python",
   "name": "python",
   "nbconvert_exporter": "python",
   "pygments_lexer": "ipython3",
   "version": "3.7.4"
  }
 },
 "nbformat": 4,
 "nbformat_minor": 2
}
