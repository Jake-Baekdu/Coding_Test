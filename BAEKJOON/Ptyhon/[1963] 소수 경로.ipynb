{
 "cells": [
  {
   "cell_type": "code",
   "execution_count": 30,
   "metadata": {},
   "outputs": [
    {
     "ename": "SyntaxError",
     "evalue": "invalid syntax (<ipython-input-30-1886d2bb8ba4>, line 6)",
     "output_type": "error",
     "traceback": [
      "\u001b[1;36m  File \u001b[1;32m\"<ipython-input-30-1886d2bb8ba4>\"\u001b[1;36m, line \u001b[1;32m6\u001b[0m\n\u001b[1;33m    for i in range(2, int(math.sqrt(n)) +1)\u001b[0m\n\u001b[1;37m                                           ^\u001b[0m\n\u001b[1;31mSyntaxError\u001b[0m\u001b[1;31m:\u001b[0m invalid syntax\n"
     ]
    }
   ],
   "source": [
    "\n",
    "def prime_check(n):  # n값이 소수인지 확인\n",
    "    for i in range(2, int(math.sqrt(n)) + 1):\n",
    "        if n % i == 0:\n",
    "            return 0\n",
    "    return 1\n",
    "\n",
    "\n",
    "def bfs(A, B):\n",
    "    answer = 0\n",
    "    # 한자리 값을 다루기 위해서 int -> string 변환\n",
    "\n",
    "    q = deque([[list(str(A)), 0]])\n",
    "    visited = {A}\n",
    "\n",
    "    while True:\n",
    "        val, cnt = q.popleft()\n",
    "        if int(\"\".join(map(str,val))) == B:\n",
    "            return cnt\n",
    "        else:\n",
    "            for i in range(4):  # 각자리 변환\n",
    "                for j in range(10):  # 변환 값\n",
    "                    if val[i] == str(j):\n",
    "                        continue\n",
    "                    else:\n",
    "                        temp = copy.deepcopy(val)\n",
    "                        temp[i] = str(j)  # 값 변환\n",
    "                        temp_value = int(\"\".join(map(str, temp)))\n",
    "                        if temp_value not in visited and temp_value >= 1000 and prime_check(temp_value):  # 조건 확인\n",
    "                            visited.add(temp_value)\n",
    "                            q.append([temp, cnt + 1])\n",
    "\n",
    "\n",
    "if __name__ == \"__main__\":\n",
    "\n",
    "    T = int(input())\n",
    "    for _ in range(T):\n",
    "        A, B = map(int, input().split())\n",
    "        print(bfs(A, B))"
   ]
  }
 ],
 "metadata": {
  "kernelspec": {
   "display_name": "Python 3",
   "language": "python",
   "name": "python3"
  },
  "language_info": {
   "codemirror_mode": {
    "name": "ipython",
    "version": 3
   },
   "file_extension": ".py",
   "mimetype": "text/x-python",
   "name": "python",
   "nbconvert_exporter": "python",
   "pygments_lexer": "ipython3",
   "version": "3.7.4"
  }
 },
 "nbformat": 4,
 "nbformat_minor": 2
}
