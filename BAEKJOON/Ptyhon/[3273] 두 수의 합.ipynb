{
 "cells": [
  {
   "cell_type": "code",
   "execution_count": null,
   "metadata": {},
   "outputs": [],
   "source": [
    "from sys import stdin\n",
    "\n",
    "n = int(stdin.readline())\n",
    "arr = list(map(int, stdin.readline().split(\" \")))\n",
    "#시작 지점이 다르게 투 포인트 알고리즘을 사용할 것임, 따라서 정렬필수\n",
    "arr.sort()\n",
    "x = int(stdin.readline())\n",
    "ans = 0\n",
    "s, e = 0, n-1\n",
    "\n",
    "# 시작점이 끝점을 넘으면 중복된 쌍이 나올 수 있음\n",
    "while(s < e):\n",
    "    # 시작점과 끝점 원소 합이 x일때 ans++ 해줌\n",
    "    if (arr[s] + arr[e] == x):\n",
    "        ans += 1\n",
    "        s += 1\n",
    "    # 합이 크면 숫자를 줄여야 되니 e--\n",
    "    elif arr[s] + arr[e] > x:\n",
    "        e -= 1\n",
    "    #합이 작으면 숫자를 키워야하니 s++\n",
    "    else:\n",
    "        s += 1\n",
    "print(ans)\n",
    "    "
   ]
  }
 ],
 "metadata": {
  "kernelspec": {
   "display_name": "Python 3",
   "language": "python",
   "name": "python3"
  },
  "language_info": {
   "codemirror_mode": {
    "name": "ipython",
    "version": 3
   },
   "file_extension": ".py",
   "mimetype": "text/x-python",
   "name": "python",
   "nbconvert_exporter": "python",
   "pygments_lexer": "ipython3",
   "version": "3.7.4"
  },
  "toc": {
   "base_numbering": 1,
   "nav_menu": {},
   "number_sections": true,
   "sideBar": true,
   "skip_h1_title": false,
   "title_cell": "Table of Contents",
   "title_sidebar": "Contents",
   "toc_cell": false,
   "toc_position": {},
   "toc_section_display": true,
   "toc_window_display": false
  }
 },
 "nbformat": 4,
 "nbformat_minor": 2
}
