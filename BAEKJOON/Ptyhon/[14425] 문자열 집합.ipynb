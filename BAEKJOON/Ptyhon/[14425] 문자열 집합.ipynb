{
 "cells": [
  {
   "cell_type": "markdown",
   "metadata": {},
   "source": [
    "# 트라이로 구현\n"
   ]
  },
  {
   "cell_type": "code",
   "execution_count": null,
   "metadata": {},
   "outputs": [],
   "source": [
    "class Node():\n",
    "    def __init__(self, key, data=None):\n",
    "        self.key = key\n",
    "        self.data = data\n",
    "        self.children = {}\n",
    "    \n",
    "class Trie(object):\n",
    "    def __init__(self):\n",
    "        self.head = Node(None)\n",
    "        \n",
    "    def insert(self, string):\n",
    "        curr_node = self.head\n",
    "        \n",
    "        for char in string:\n",
    "            if char not in curr_node.children:\n",
    "                curr_node.children[char] = Node(char)\n",
    "            curr_node = curr_node.children[char]\n",
    "            \n",
    "            #string의 마지막 글자 차례면\n",
    "            #노드의 data필드에 저장하려는 문자열 전체를 저장\n",
    "        curr_node.data = string\n",
    "        \n",
    "    def search(self, string):\n",
    "        curr_node = self.head\n",
    "        \n",
    "        for char in string:\n",
    "            if char in curr_node.children:\n",
    "                curr_node = curr_node.children[char]\n",
    "            else:\n",
    "                return False\n",
    "        \n",
    "        if curr_node.data != None:\n",
    "            return True\n",
    "\n",
    "\n",
    "\n",
    "\n",
    "\n",
    "N, M = map(int, input().split())\n",
    "\n",
    "arr_n = [input() for _ in range(N)]\n",
    "arr_m = [input() for _ in range(M)]\n",
    "\n",
    "trie_1 = Trie()\n",
    "\n",
    "for i in arr_n:\n",
    "    trie_1.insert(i)\n",
    "\n",
    "cnt = 0\n",
    "for i in arr_m:\n",
    "    if trie_1.search(i):\n",
    "        cnt += 1\n",
    "        \n",
    "print(cnt)\n"
   ]
  }
 ],
 "metadata": {
  "kernelspec": {
   "display_name": "Python 3",
   "language": "python",
   "name": "python3"
  },
  "language_info": {
   "codemirror_mode": {
    "name": "ipython",
    "version": 3
   },
   "file_extension": ".py",
   "mimetype": "text/x-python",
   "name": "python",
   "nbconvert_exporter": "python",
   "pygments_lexer": "ipython3",
   "version": "3.7.4"
  }
 },
 "nbformat": 4,
 "nbformat_minor": 2
}
