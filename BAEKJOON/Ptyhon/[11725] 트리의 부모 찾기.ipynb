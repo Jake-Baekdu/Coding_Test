{
 "cells": [
  {
   "cell_type": "code",
   "execution_count": null,
   "metadata": {},
   "outputs": [],
   "source": [
    "import sys\n",
    "input = sys.stdin.readline\n",
    "sys.setrecursionlimit(10**5)\n",
    "\n",
    "n = int(input())\n",
    "tree = dict()\n",
    "parent = [0 for _ in range(n+1)]\n",
    "\n",
    "def dfs(k):\n",
    "    for i in tree[k]:\n",
    "        if parent[i] == 0:\n",
    "            parent[i] = k\n",
    "            dfs(i)\n",
    "\n",
    "for _ in range(n-1):\n",
    "    a, b = map(int, input().split())\n",
    "    try:\n",
    "        tree[a].append(b)\n",
    "    except KeyError:\n",
    "        tree[a] = [b]\n",
    "    try:\n",
    "        tree[b].append(a)\n",
    "    except KeyError:\n",
    "        tree[b] = [a]\n",
    "        \n",
    "dfs(1)\n",
    "for i in range(2, n+1):\n",
    "    print(parent[i])\n",
    "    "
   ]
  }
 ],
 "metadata": {
  "kernelspec": {
   "display_name": "Python 3",
   "language": "python",
   "name": "python3"
  },
  "language_info": {
   "codemirror_mode": {
    "name": "ipython",
    "version": 3
   },
   "file_extension": ".py",
   "mimetype": "text/x-python",
   "name": "python",
   "nbconvert_exporter": "python",
   "pygments_lexer": "ipython3",
   "version": "3.7.4"
  },
  "toc": {
   "base_numbering": 1,
   "nav_menu": {},
   "number_sections": true,
   "sideBar": true,
   "skip_h1_title": false,
   "title_cell": "Table of Contents",
   "title_sidebar": "Contents",
   "toc_cell": false,
   "toc_position": {},
   "toc_section_display": true,
   "toc_window_display": false
  }
 },
 "nbformat": 4,
 "nbformat_minor": 2
}
