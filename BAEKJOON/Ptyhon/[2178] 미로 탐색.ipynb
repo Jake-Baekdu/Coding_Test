{
 "cells": [
  {
   "cell_type": "code",
   "execution_count": 8,
   "metadata": {},
   "outputs": [
    {
     "name": "stdout",
     "output_type": "stream",
     "text": [
      "4 6\n",
      "110110\n",
      "110110\n",
      "111111\n",
      "111101\n"
     ]
    },
    {
     "data": {
      "text/plain": [
       "[[0, 0, 0, 0, 0, 0],\n",
       " [0, 1, 1, 0, 1, 1, 0],\n",
       " [0, 1, 1, 0, 1, 1, 0],\n",
       " [0, 1, 1, 1, 1, 1, 1],\n",
       " [0, 1, 1, 1, 1, 0, 1]]"
      ]
     },
     "execution_count": 8,
     "metadata": {},
     "output_type": "execute_result"
    }
   ],
   "source": [
    "from collections import deque\n",
    "\n",
    "def bfs(r, c, cnt):\n",
    "    dq = deque()\n",
    "    # 처음 (1,1)에서 시작하는 칸 1개로 count 시작\n",
    "    dq.append((1,1,1))\n",
    "    \n",
    "    # 큐가 빌때까지 반복\n",
    "    while dq:\n",
    "        r, c, cnt = dq.pop()\n",
    "\t\t\n",
    "        #끝에 도착하면 cnt 리턴\n",
    "        if r == n and c == m:\n",
    "            return cnt\n",
    "        move_xy = [[1,0],[0,1],[-1,0],[0,-1]]          \n",
    "        for x, y in move_xy:\n",
    "            if 1<=r+x<=n and 1<=c+y<=m and board[r+x][c+y] == 1:\n",
    "            \t\t#큐에 넣을 때마다 0으로 초기화\n",
    "                    dq.appendleft((r+x, c+y, cnt+1))\n",
    "                    board[r+x][c+y] = 0\n",
    "                    \n",
    "if __name__ == \"__main__\":\n",
    "    n, m = map(int, input().split())\n",
    "    \n",
    "    #(1,1)부터 시작하기 위해 +1\n",
    "    board = [[0] * (m+1) for _ in range(n+1)]\n",
    "    for i in range(1, n+1):\n",
    "        board[i] = list(map(int, input()))\n",
    "        #(1,1)부터 시작하기위해 첫번째 세로줄 0으로 세팅\n",
    "        board[i].insert(0, 0)\n",
    "    print(bfs(1, 1, 0))"
   ]
  }
 ],
 "metadata": {
  "kernelspec": {
   "display_name": "Python 3",
   "language": "python",
   "name": "python3"
  },
  "language_info": {
   "codemirror_mode": {
    "name": "ipython",
    "version": 3
   },
   "file_extension": ".py",
   "mimetype": "text/x-python",
   "name": "python",
   "nbconvert_exporter": "python",
   "pygments_lexer": "ipython3",
   "version": "3.7.4"
  }
 },
 "nbformat": 4,
 "nbformat_minor": 2
}
