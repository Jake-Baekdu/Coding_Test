{
 "cells": [
  {
   "cell_type": "code",
   "execution_count": null,
   "metadata": {},
   "outputs": [],
   "source": [
    "#m이 한배열에 들어가는 원소개수, x축 길이\n",
    "m, n = map(int, input().split())\n",
    "\n",
    "dp = [[0 for col in range(n+1)] for row in range(m+1)]\n",
    "\n",
    "for i in range(1,m+1):\n",
    "    el = [int(x) for x in input().split(\" \")]\n",
    "    for k in range(1,n+1):\n",
    "        dp[i] = el\n",
    "    dp[i].insert(0, 0)\n",
    "    \n",
    "for i in range(1,m+1):    \n",
    "    for k in range(1,n+1):\n",
    "        dp[i][k] += max(max(dp[i][k-1], dp[i-1][k]), dp[i-1][k-1])\n",
    "\n",
    "print(dp[m][n])\n",
    "        "
   ]
  },
  {
   "cell_type": "code",
   "execution_count": 1,
   "metadata": {},
   "outputs": [
    {
     "name": "stdout",
     "output_type": "stream",
     "text": [
      "3 4\n"
     ]
    }
   ],
   "source": [
    "m, n = map(int, input().split())"
   ]
  },
  {
   "cell_type": "code",
   "execution_count": 18,
   "metadata": {},
   "outputs": [
    {
     "name": "stdout",
     "output_type": "stream",
     "text": [
      "1 2 3 4\n",
      "0 0 0 5\n",
      "9 8 7 6\n"
     ]
    }
   ],
   "source": [
    "dp = [[0 for col in range(n+1)] for row in range(m+1)]\n",
    "\n",
    "\n",
    "for i in range(1, m+1):\n",
    "    el = [int(x) for x in input().split()]\n",
    "    for k in range(1, n+1):\n",
    "        dp[i] = el\n",
    "    dp[i].insert(0, 0)"
   ]
  },
  {
   "cell_type": "code",
   "execution_count": 20,
   "metadata": {},
   "outputs": [
    {
     "name": "stdout",
     "output_type": "stream",
     "text": [
      "54\n"
     ]
    }
   ],
   "source": [
    "for r in range(m+1):\n",
    "    for c in range(n+1):\n",
    "        dp[r][c] += max(max(dp[r-1][c], dp[r][c-1]), dp[r-1][c-1])\n",
    "print(dp[m][n])"
   ]
  },
  {
   "cell_type": "code",
   "execution_count": 21,
   "metadata": {},
   "outputs": [
    {
     "data": {
      "text/plain": [
       "[[6, 9, 9, 9, 9],\n",
       " [9, 10, 12, 15, 19],\n",
       " [19, 19, 19, 19, 24],\n",
       " [24, 33, 41, 48, 54]]"
      ]
     },
     "execution_count": 21,
     "metadata": {},
     "output_type": "execute_result"
    }
   ],
   "source": [
    "dp"
   ]
  },
  {
   "cell_type": "code",
   "execution_count": null,
   "metadata": {},
   "outputs": [],
   "source": []
  },
  {
   "cell_type": "code",
   "execution_count": null,
   "metadata": {},
   "outputs": [],
   "source": []
  },
  {
   "cell_type": "code",
   "execution_count": null,
   "metadata": {},
   "outputs": [],
   "source": []
  },
  {
   "cell_type": "code",
   "execution_count": null,
   "metadata": {},
   "outputs": [],
   "source": []
  },
  {
   "cell_type": "code",
   "execution_count": null,
   "metadata": {},
   "outputs": [],
   "source": []
  }
 ],
 "metadata": {
  "kernelspec": {
   "display_name": "Python 3",
   "language": "python",
   "name": "python3"
  },
  "language_info": {
   "codemirror_mode": {
    "name": "ipython",
    "version": 3
   },
   "file_extension": ".py",
   "mimetype": "text/x-python",
   "name": "python",
   "nbconvert_exporter": "python",
   "pygments_lexer": "ipython3",
   "version": "3.7.4"
  }
 },
 "nbformat": 4,
 "nbformat_minor": 2
}
