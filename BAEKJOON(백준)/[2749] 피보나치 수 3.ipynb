{
 "cells": [
  {
   "cell_type": "code",
   "execution_count": 31,
   "metadata": {},
   "outputs": [
    {
     "name": "stdout",
     "output_type": "stream",
     "text": [
      "1000\n",
      "228875\n",
      "[174626, 228875, 54249]\n"
     ]
    }
   ],
   "source": [
    "n = int(input())\n",
    "\n",
    "dp = [0]*3\n",
    "dp[1] = 1\n",
    "\n",
    "for cnt in range(2, n+1):\n",
    "    dp[cnt%3] = (dp[(cnt-1)%3] + dp[(cnt-2)%3])%1000000\n",
    "\n",
    "print(dp[cnt%3])\n",
    "print(dp)\n",
    "\n"
   ]
  },
  {
   "cell_type": "code",
   "execution_count": 47,
   "metadata": {},
   "outputs": [
    {
     "name": "stdout",
     "output_type": "stream",
     "text": [
      "1000\n",
      "1500000\n",
      "228875\n"
     ]
    }
   ],
   "source": [
    "def fibonacci_pisano(n):\n",
    "    mod = 1000000\n",
    "    \n",
    "    p = int(mod/10*15)\n",
    "    print(p)\n",
    "    arr = [0]*(p+1)\n",
    "    arr[1] = 1\n",
    "    for i in range(2, p+1):\n",
    "        arr[i] = (arr[i-1] + arr[i-2]) % mod\n",
    " \n",
    "    return arr[n%p]\n",
    " \n",
    "if __name__ == '__main__':\n",
    "    n = int(input())\n",
    "    print(fibonacci_pisano(n))\n",
    "\n",
    "\n"
   ]
  },
  {
   "cell_type": "code",
   "execution_count": null,
   "metadata": {},
   "outputs": [],
   "source": []
  }
 ],
 "metadata": {
  "kernelspec": {
   "display_name": "Python 3",
   "language": "python",
   "name": "python3"
  },
  "language_info": {
   "codemirror_mode": {
    "name": "ipython",
    "version": 3
   },
   "file_extension": ".py",
   "mimetype": "text/x-python",
   "name": "python",
   "nbconvert_exporter": "python",
   "pygments_lexer": "ipython3",
   "version": "3.7.4"
  }
 },
 "nbformat": 4,
 "nbformat_minor": 2
}
