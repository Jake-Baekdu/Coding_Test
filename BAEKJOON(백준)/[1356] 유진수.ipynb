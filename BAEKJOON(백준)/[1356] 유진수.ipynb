{
 "cells": [
  {
   "cell_type": "code",
   "execution_count": null,
   "metadata": {},
   "outputs": [],
   "source": [
    "def multiply(arr):\n",
    "    return eval('*'.join([str(n) for n in arr]))\n",
    "\n",
    "def solve(n):\n",
    "    if len(n) == 1:\n",
    "        print(\"NO\")\n",
    "        return\n",
    "    \n",
    "    for i in range(1, len(n)):\n",
    "        if multiply(n[:i]) == multiply(n[i:]):\n",
    "            print(\"YES\")\n",
    "            return\n",
    "    return print(\"NO\")\n",
    "  \n",
    "n = list(map(str, input().rstrip()))\n",
    "solve(n)"
   ]
  }
 ],
 "metadata": {
  "kernelspec": {
   "display_name": "Python 3",
   "language": "python",
   "name": "python3"
  },
  "language_info": {
   "codemirror_mode": {
    "name": "ipython",
    "version": 3
   },
   "file_extension": ".py",
   "mimetype": "text/x-python",
   "name": "python",
   "nbconvert_exporter": "python",
   "pygments_lexer": "ipython3",
   "version": "3.7.4"
  }
 },
 "nbformat": 4,
 "nbformat_minor": 2
}
