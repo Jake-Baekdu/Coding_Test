{
 "cells": [
  {
   "cell_type": "code",
   "execution_count": null,
   "metadata": {},
   "outputs": [],
   "source": [
    "string = list(input())\n",
    "\n",
    "def check_p(arr):\n",
    "    arr.insert(0, 0)\n",
    "    for i in range(len(arr)):\n",
    "        if arr[i] != arr[-i]:\n",
    "            return False\n",
    "    return True\n",
    "temp = 0\n",
    "for i in range(len(string)):\n",
    "    if check_p(string[i:]):\n",
    "        temp = i\n",
    "        break\n",
    "print(len(string) + temp)"
   ]
  }
 ],
 "metadata": {
  "kernelspec": {
   "display_name": "Python 3",
   "language": "python",
   "name": "python3"
  },
  "language_info": {
   "codemirror_mode": {
    "name": "ipython",
    "version": 3
   },
   "file_extension": ".py",
   "mimetype": "text/x-python",
   "name": "python",
   "nbconvert_exporter": "python",
   "pygments_lexer": "ipython3",
   "version": "3.7.4"
  }
 },
 "nbformat": 4,
 "nbformat_minor": 2
}
