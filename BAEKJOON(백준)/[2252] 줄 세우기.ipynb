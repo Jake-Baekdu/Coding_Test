{
 "cells": [
  {
   "cell_type": "code",
   "execution_count": 16,
   "metadata": {},
   "outputs": [
    {
     "name": "stdout",
     "output_type": "stream",
     "text": [
      "9 10\n",
      "1 9\n",
      "1 4\n",
      "2 4\n",
      "3 5\n",
      "5 7\n",
      "5 6\n",
      "4 7\n",
      "7 8\n",
      "6 8\n",
      "7 6\n"
     ]
    }
   ],
   "source": [
    "from collections import deque\n",
    "\n",
    "N, M = map(int, input().split())\n",
    "\n",
    "D = {}\n",
    "for i in range(1, N+1):\n",
    "    D[i] = []\n",
    "    \n",
    "indegree = [0]*(N+1)\n",
    "for _ in range(M):\n",
    "    A, B = map(int, input().split())\n",
    "    D[A].append(B)\n",
    "    indegree[B] += 1\n",
    "    \n",
    "dq = deque()\n",
    "for i in range(1, len(indegree)):\n",
    "    if indegree[i] == 0:\n",
    "        dq.append(i) # 받는 선이 없는 노드\n"
   ]
  },
  {
   "cell_type": "code",
   "execution_count": 19,
   "metadata": {},
   "outputs": [
    {
     "name": "stdout",
     "output_type": "stream",
     "text": [
      "[3]\n",
      "[3, 5]\n",
      "[3, 5, 2]\n",
      "[3, 5, 2, 1]\n",
      "[3, 5, 2, 1, 4]\n",
      "[3, 5, 2, 1, 4, 7]\n",
      "[3, 5, 2, 1, 4, 7, 6]\n",
      "[3, 5, 2, 1, 4, 7, 6, 8]\n",
      "[3, 5, 2, 1, 4, 7, 6, 8, 9]\n"
     ]
    }
   ],
   "source": [
    "result = []\n",
    "while len(dq) != 0:\n",
    "    k = dq.pop()\n",
    "    result.append(k)\n",
    "    print(result)\n",
    "\n",
    "    for dk in D[k]:\n",
    "        indegree[dk] -= 1\n",
    "        if indegree[dk] == 0:\n",
    "            dq.append(dk)\n"
   ]
  },
  {
   "cell_type": "code",
   "execution_count": 21,
   "metadata": {},
   "outputs": [
    {
     "name": "stdout",
     "output_type": "stream",
     "text": [
      "3 5 2 1 4 7 6 8 9 "
     ]
    }
   ],
   "source": [
    "for i in result:\n",
    "    print(i, end = \" \")"
   ]
  },
  {
   "cell_type": "code",
   "execution_count": 66,
   "metadata": {},
   "outputs": [
    {
     "data": {
      "text/plain": [
       "{1: [4, 9], 2: [4], 3: [5], 7: [6, 8], 5: [6, 7], 6: [8], 4: [7]}"
      ]
     },
     "execution_count": 66,
     "metadata": {},
     "output_type": "execute_result"
    }
   ],
   "source": [
    "D"
   ]
  },
  {
   "cell_type": "code",
   "execution_count": null,
   "metadata": {},
   "outputs": [],
   "source": []
  }
 ],
 "metadata": {
  "kernelspec": {
   "display_name": "Python 3",
   "language": "python",
   "name": "python3"
  },
  "language_info": {
   "codemirror_mode": {
    "name": "ipython",
    "version": 3
   },
   "file_extension": ".py",
   "mimetype": "text/x-python",
   "name": "python",
   "nbconvert_exporter": "python",
   "pygments_lexer": "ipython3",
   "version": "3.7.4"
  }
 },
 "nbformat": 4,
 "nbformat_minor": 2
}
