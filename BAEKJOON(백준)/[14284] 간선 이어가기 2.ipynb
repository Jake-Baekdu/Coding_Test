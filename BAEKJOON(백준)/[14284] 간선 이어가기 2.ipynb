{
 "cells": [
  {
   "cell_type": "code",
   "execution_count": null,
   "metadata": {},
   "outputs": [],
   "source": [
    "import heapq\n",
    "import sys\n",
    "\n",
    "n, m = map(int, input().split())\n",
    "\n",
    "graph = {}\n",
    "pq = []\n",
    "dist = [sys.maxsize]*(n+1)\n",
    "\n",
    "for _ in range(m):\n",
    "    s, t, w = map(int, input().split())\n",
    "    try:\n",
    "        graph[s].append((w, t))\n",
    "    except KeyError:\n",
    "        graph[s] = [w, t]\n",
    "\n",
    "start, end = map(int, input().split())\n",
    "\n",
    "heapq.heappush(pq, (0, start))\n",
    "dist[start] = 0\n",
    "\n",
    "while pq:\n",
    "    pair = heapq.heappop(pq)\n",
    "    \n",
    "    if pair[1] not in graph.keys():\n",
    "        continue\n",
    "    \n",
    "    if dist[pair[1]] < pair[0]:\n",
    "        continue\n",
    "    \n",
    "    for i in graph[pair[1]]:\n",
    "        if dist[i[1]] > dist[pair[1]] + i[0]:\n",
    "            dist[i[1]] = dist[pair[1]] + i[0]\n",
    "            heapq.heappush(pq, (dist[i[1]], i[1]))\n",
    "print(dist[end])"
   ]
  }
 ],
 "metadata": {
  "kernelspec": {
   "display_name": "Python 3",
   "language": "python",
   "name": "python3"
  },
  "language_info": {
   "codemirror_mode": {
    "name": "ipython",
    "version": 3
   },
   "file_extension": ".py",
   "mimetype": "text/x-python",
   "name": "python",
   "nbconvert_exporter": "python",
   "pygments_lexer": "ipython3",
   "version": "3.7.4"
  }
 },
 "nbformat": 4,
 "nbformat_minor": 2
}
