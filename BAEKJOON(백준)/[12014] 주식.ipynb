{
 "cells": [
  {
   "cell_type": "code",
   "execution_count": null,
   "metadata": {},
   "outputs": [],
   "source": [
    "def bs(n, left, right):\n",
    "    \n",
    "    pl = left\n",
    "    pr = right\n",
    "    \n",
    "    while(True):\n",
    "        pc = (pl + pr)//2\n",
    "        \n",
    "        if arr[pc] == n:\n",
    "            return pc\n",
    "            \n",
    "        if n < arr[pc]:\n",
    "            pr = pc - 1\n",
    "        else:\n",
    "            pl = pc + 1\n",
    "            \n",
    "        if pl > pr:\n",
    "            break\n",
    "    return pl\n",
    "\n",
    "\n",
    "test_case = int(input())\n",
    "for i in range(1, test_case+1):\n",
    "    print(\"Case #{}\".format(i))\n",
    "    N, K = map(int, input().split())\n",
    "    price = list(map(int, input().split()))\n",
    "    arr = []\n",
    "    for i in range(N):\n",
    "        n = price[i]\n",
    "        \n",
    "        if len(arr) == 0 or arr[len(arr)-1] < n:\n",
    "            arr.append(n)\n",
    "        else:\n",
    "            idx = bs(n, 0, len(arr)-1)\n",
    "            arr[idx] = n\n",
    "    if len(arr) >= K:\n",
    "        print(1)\n",
    "    else:\n",
    "        print(0)\n",
    "    "
   ]
  }
 ],
 "metadata": {
  "kernelspec": {
   "display_name": "Python 3",
   "language": "python",
   "name": "python3"
  },
  "language_info": {
   "codemirror_mode": {
    "name": "ipython",
    "version": 3
   },
   "file_extension": ".py",
   "mimetype": "text/x-python",
   "name": "python",
   "nbconvert_exporter": "python",
   "pygments_lexer": "ipython3",
   "version": "3.7.4"
  }
 },
 "nbformat": 4,
 "nbformat_minor": 2
}
