{
 "cells": [
  {
   "cell_type": "code",
   "execution_count": null,
   "metadata": {},
   "outputs": [],
   "source": [
    "from collections import deque\n",
    "\n",
    "def bfs(x, y):\n",
    "    global wolves\n",
    "    global lambs\n",
    "    \n",
    "    dq = deque([(x,y)])\n",
    "    visited[x][y] = True\n",
    "    temp_v, temp_k = 0, 0\n",
    "    \n",
    "    if arr[x][y] == 'v':\n",
    "        temp_v += 1\n",
    "    elif arr[x][y] == 'k':\n",
    "        temp_k += 1\n",
    "    elif arr[x][y] == '#':\n",
    "        return\n",
    "    \n",
    "    while dq:\n",
    "        x1, y1 = dq.popleft()\n",
    "        \n",
    "        for xw, yw in move_xy:\n",
    "            nx = x1 + xw\n",
    "            ny = y1 + yw\n",
    "            if 0 <= nx < R and 0 <= ny < C:\n",
    "                if visited[nx][ny] == False and arr[nx][ny] != '#':\n",
    "                    if arr[nx][ny] == 'v':\n",
    "                        temp_v += 1\n",
    "                    elif arr[nx][ny] == 'k':\n",
    "                        temp_k += 1\n",
    "                    visited[nx][ny] = True\n",
    "                    dq.append((nx, ny))\n",
    "    \n",
    "    if temp_k > temp_v:\n",
    "        lambs += temp_k\n",
    "    else:\n",
    "        wolves += temp_v\n",
    "\n",
    "if __name__ == \"__main__\":\n",
    "    R, C = map(int, input().split())\n",
    "    arr = [list(map(str, input().rstrip())) for _ in range(R)]\n",
    "    visited = [[False]*C for _ in range(R)]\n",
    "    move_xy = [(1,0),(0,1),(-1,0),(0,-1)]\n",
    "    wolves, lambs = 0, 0\n",
    "    \n",
    "    for i in range(R):\n",
    "        for j in range(C):\n",
    "            if visited[i][j] == False:\n",
    "                bfs(i, j)\n",
    "    print(lambs, wolves)\n",
    "                "
   ]
  }
 ],
 "metadata": {
  "kernelspec": {
   "display_name": "Python 3",
   "language": "python",
   "name": "python3"
  },
  "language_info": {
   "codemirror_mode": {
    "name": "ipython",
    "version": 3
   },
   "file_extension": ".py",
   "mimetype": "text/x-python",
   "name": "python",
   "nbconvert_exporter": "python",
   "pygments_lexer": "ipython3",
   "version": "3.7.4"
  }
 },
 "nbformat": 4,
 "nbformat_minor": 2
}
