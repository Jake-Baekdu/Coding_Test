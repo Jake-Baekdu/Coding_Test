{
 "cells": [
  {
   "cell_type": "code",
   "execution_count": 3,
   "metadata": {},
   "outputs": [
    {
     "name": "stdout",
     "output_type": "stream",
     "text": [
      "15\n",
      "1 2\n",
      "1 3\n",
      "2 4\n",
      "3 7\n",
      "6 2\n",
      "3 8\n",
      "4 9\n",
      "2 5\n",
      "5 11\n",
      "7 13\n",
      "10 4\n",
      "11 15\n",
      "12 5\n",
      "14 7\n"
     ]
    }
   ],
   "source": [
    "#정점\n",
    "N = int(input())\n",
    "distance = [[0]*(N+1) for _ in range(N+1)]\n",
    "for _ in range(N-1):\n",
    "    A, B= map(int, input().split())\n",
    "    distance[A][B] = 1\n"
   ]
  },
  {
   "cell_type": "code",
   "execution_count": 4,
   "metadata": {
    "scrolled": true
   },
   "outputs": [
    {
     "data": {
      "text/plain": [
       "[[0, 0, 0, 0, 0, 0, 0, 0, 0, 0, 0, 0, 0, 0, 0, 0],\n",
       " [0, 0, 1, 1, 0, 0, 0, 0, 0, 0, 0, 0, 0, 0, 0, 0],\n",
       " [0, 0, 0, 0, 1, 1, 0, 0, 0, 0, 0, 0, 0, 0, 0, 0],\n",
       " [0, 0, 0, 0, 0, 0, 0, 1, 1, 0, 0, 0, 0, 0, 0, 0],\n",
       " [0, 0, 0, 0, 0, 0, 0, 0, 0, 1, 0, 0, 0, 0, 0, 0],\n",
       " [0, 0, 0, 0, 0, 0, 0, 0, 0, 0, 0, 1, 0, 0, 0, 0],\n",
       " [0, 0, 1, 0, 0, 0, 0, 0, 0, 0, 0, 0, 0, 0, 0, 0],\n",
       " [0, 0, 0, 0, 0, 0, 0, 0, 0, 0, 0, 0, 0, 1, 0, 0],\n",
       " [0, 0, 0, 0, 0, 0, 0, 0, 0, 0, 0, 0, 0, 0, 0, 0],\n",
       " [0, 0, 0, 0, 0, 0, 0, 0, 0, 0, 0, 0, 0, 0, 0, 0],\n",
       " [0, 0, 0, 0, 1, 0, 0, 0, 0, 0, 0, 0, 0, 0, 0, 0],\n",
       " [0, 0, 0, 0, 0, 0, 0, 0, 0, 0, 0, 0, 0, 0, 0, 1],\n",
       " [0, 0, 0, 0, 0, 1, 0, 0, 0, 0, 0, 0, 0, 0, 0, 0],\n",
       " [0, 0, 0, 0, 0, 0, 0, 0, 0, 0, 0, 0, 0, 0, 0, 0],\n",
       " [0, 0, 0, 0, 0, 0, 0, 1, 0, 0, 0, 0, 0, 0, 0, 0],\n",
       " [0, 0, 0, 0, 0, 0, 0, 0, 0, 0, 0, 0, 0, 0, 0, 0]]"
      ]
     },
     "execution_count": 4,
     "metadata": {},
     "output_type": "execute_result"
    }
   ],
   "source": [
    "distance"
   ]
  },
  {
   "cell_type": "code",
   "execution_count": 1,
   "metadata": {},
   "outputs": [
    {
     "name": "stdout",
     "output_type": "stream",
     "text": [
      "15\n",
      "1 2\n",
      "1 3\n",
      "2 4\n",
      "3 7\n",
      "6 2\n",
      "3 8\n",
      "4 9\n",
      "2 5\n",
      "5 11\n",
      "7 13\n",
      "10 4\n",
      "11 15\n",
      "12 5\n",
      "14 7\n"
     ]
    }
   ],
   "source": [
    "import sys\n",
    "sys.setrecursionlimit(100000)\n",
    "LENGTH = 21\n",
    "\n",
    "n = int(input())\n",
    "parent = [[0] * LENGTH for _ in range(n + 1)]\n",
    "visited = [False] * (n + 1)\n",
    "d = [0] * (n + 1)\n",
    "graph = [[] for _ in range(n + 1)]\n",
    "\n",
    "for _ in range(n - 1):\n",
    "    a, b = map(int, input().split())\n",
    "    graph[a].append(b)\n",
    "    graph[b].append(a)"
   ]
  },
  {
   "cell_type": "code",
   "execution_count": 2,
   "metadata": {},
   "outputs": [
    {
     "data": {
      "text/plain": [
       "[[],\n",
       " [2, 3],\n",
       " [1, 4, 6, 5],\n",
       " [1, 7, 8],\n",
       " [2, 9, 10],\n",
       " [2, 11, 12],\n",
       " [2],\n",
       " [3, 13, 14],\n",
       " [3],\n",
       " [4],\n",
       " [4],\n",
       " [5, 15],\n",
       " [5],\n",
       " [7],\n",
       " [7],\n",
       " [11]]"
      ]
     },
     "execution_count": 2,
     "metadata": {},
     "output_type": "execute_result"
    }
   ],
   "source": [
    "def dfs(x, depth):\n",
    "    visited[x] = True\n",
    "    d[x] = depth\n",
    "    \n",
    "    for node in graph[x]:\n",
    "        if visited[node]:\n",
    "            continue\n",
    "        # 우선 바로 위에 있는 부모 정보만 갱신\n",
    "        parent[node][0] = x\n",
    "        dfs(node, depth + 1)\n",
    "\n",
    "# 모든 노드의 전체 부모 관계 갱신\n",
    "def set_parent():\n",
    "    dfs(1, 0)\n",
    "    for i in range(1, LENGTH):\n",
    "        for j in range(1, n + 1):\n",
    "            #각 노드에 대해 2**i번째 부모 정보 갱신\n",
    "            parent[j][i] = parent[parent[j][i-1]][i-1]\n",
    "            \n",
    "def lca(a, b):\n",
    "    # 무조건 b의 깊이가 더 깊도록 설정\n",
    "    if d[a] > d[b]:\n",
    "        a, b = b, a\n",
    "        \n",
    "    # a와 b의 깊이가 동일해주도록 설정\n",
    "    for i in rnage(LENGTH -1, -1, -1)L\n",
    "    if d[b] - d[a] >= 2**1:\n",
    "        b = parent[b][i]\n",
    "    \n",
    "    if a==b :\n",
    "        return a\n",
    "    \n",
    "    # 올라가면서 공통 조상 찾기\n",
    "    for i in range(LENGTH -1, -1, -1):\n",
    "        if parent[a][i] != parent[b][i]:\n",
    "            a = parent[a][i]\n",
    "            b = parent[b][i]\n",
    "            \n",
    "    return parent[a][0]\n",
    "\n",
    "\n",
    "\n",
    "set_parent()\n",
    "\n",
    "m = int(input())\n",
    "\n",
    "for _ in range(m):\n",
    "    a, b = map(int, input().split())\n",
    "    print(lca(a, b))"
   ]
  },
  {
   "cell_type": "code",
   "execution_count": 13,
   "metadata": {},
   "outputs": [
    {
     "data": {
      "text/plain": [
       "16.0"
      ]
     },
     "execution_count": 13,
     "metadata": {},
     "output_type": "execute_result"
    }
   ],
   "source": [
    "import math\n",
    "math.log(100000)//math.log(2)"
   ]
  },
  {
   "cell_type": "code",
   "execution_count": 12,
   "metadata": {},
   "outputs": [
    {
     "data": {
      "text/plain": [
       "65536"
      ]
     },
     "execution_count": 12,
     "metadata": {},
     "output_type": "execute_result"
    }
   ],
   "source": [
    "2**16"
   ]
  },
  {
   "cell_type": "code",
   "execution_count": null,
   "metadata": {},
   "outputs": [],
   "source": []
  }
 ],
 "metadata": {
  "kernelspec": {
   "display_name": "Python 3",
   "language": "python",
   "name": "python3"
  },
  "language_info": {
   "codemirror_mode": {
    "name": "ipython",
    "version": 3
   },
   "file_extension": ".py",
   "mimetype": "text/x-python",
   "name": "python",
   "nbconvert_exporter": "python",
   "pygments_lexer": "ipython3",
   "version": "3.7.4"
  }
 },
 "nbformat": 4,
 "nbformat_minor": 2
}
