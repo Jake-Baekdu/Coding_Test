{
 "cells": [
  {
   "cell_type": "code",
   "execution_count": 40,
   "metadata": {
    "scrolled": true
   },
   "outputs": [
    {
     "name": "stdout",
     "output_type": "stream",
     "text": [
      "7 5\n",
      "1000\n",
      "1000\n",
      "1000\n",
      "1000\n",
      "1000\n",
      "1000\n",
      "1000\n"
     ]
    }
   ],
   "source": [
    "N, M = map(int, input().split())\n",
    "spend_money = [0 for x in range(N+1)]\n",
    "for i in range(1,N+1):\n",
    "    spend_money[i] = int(input())\n",
    "    \n"
   ]
  },
  {
   "cell_type": "code",
   "execution_count": 56,
   "metadata": {},
   "outputs": [
    {
     "name": "stdout",
     "output_type": "stream",
     "text": [
      "pr 7000\n"
     ]
    },
    {
     "data": {
      "text/plain": [
       "2000"
      ]
     },
     "execution_count": 56,
     "metadata": {},
     "output_type": "execute_result"
    }
   ],
   "source": [
    "binSearch(spend_money, max(spend_money), M)\n"
   ]
  },
  {
   "cell_type": "code",
   "execution_count": 55,
   "metadata": {},
   "outputs": [],
   "source": [
    "def binSearch(arr, max_money, M):\n",
    "    pl = max_money\n",
    "    pr = sum(arr)\n",
    "\n",
    "    \n",
    "    while pl <= pr:\n",
    "        cnt = 1 # 현재 탐색에서 인출 횟수 count\n",
    "        pc = (pl + pr) / 2 # 현재 시도하는 K 값\n",
    "        have_money = pc\n",
    "        \n",
    "        \n",
    "        for i in range(N): # 리스트 돌면서 탐색\n",
    "            if have_money < arr[i] :\n",
    "                have_money = pc\n",
    "                cnt += 1\n",
    "            have_money -= arr[i]\n",
    "            \n",
    "        if cnt > M:\n",
    "            pl = int(pc + 1)\n",
    "        else : \n",
    "            pr = int(pc - 1)\n",
    "        \n",
    "    return print(pl)"
   ]
  },
  {
   "cell_type": "code",
   "execution_count": null,
   "metadata": {},
   "outputs": [],
   "source": []
  }
 ],
 "metadata": {
  "kernelspec": {
   "display_name": "Python 3",
   "language": "python",
   "name": "python3"
  },
  "language_info": {
   "codemirror_mode": {
    "name": "ipython",
    "version": 3
   },
   "file_extension": ".py",
   "mimetype": "text/x-python",
   "name": "python",
   "nbconvert_exporter": "python",
   "pygments_lexer": "ipython3",
   "version": "3.7.4"
  }
 },
 "nbformat": 4,
 "nbformat_minor": 2
}
