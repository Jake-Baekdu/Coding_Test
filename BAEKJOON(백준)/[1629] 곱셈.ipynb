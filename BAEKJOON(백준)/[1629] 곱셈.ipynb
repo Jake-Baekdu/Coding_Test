{
 "cells": [
  {
   "cell_type": "code",
   "execution_count": 19,
   "metadata": {},
   "outputs": [
    {
     "name": "stdout",
     "output_type": "stream",
     "text": [
      "10 11 12\n",
      "4\n"
     ]
    }
   ],
   "source": [
    "from sys import stdin\n",
    "A, B, C = map(int, stdin.readline().split())\n",
    "\n",
    "def cal(A,B):\n",
    "\n",
    "    if B == 1 :\n",
    "        return A%C\n",
    "    temp = cal(A, B//2)\n",
    "    if B%2 == 0:\n",
    "        return  (temp * temp)%C\n",
    "    elif B%2 == 1:\n",
    "        return (temp * cal(A, B//2 + 1))%C\n",
    "    \n",
    "print(cal(A,B))"
   ]
  }
 ],
 "metadata": {
  "kernelspec": {
   "display_name": "Python 3",
   "language": "python",
   "name": "python3"
  },
  "language_info": {
   "codemirror_mode": {
    "name": "ipython",
    "version": 3
   },
   "file_extension": ".py",
   "mimetype": "text/x-python",
   "name": "python",
   "nbconvert_exporter": "python",
   "pygments_lexer": "ipython3",
   "version": "3.7.4"
  }
 },
 "nbformat": 4,
 "nbformat_minor": 2
}
