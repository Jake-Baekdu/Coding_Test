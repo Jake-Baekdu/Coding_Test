{
 "cells": [
  {
   "cell_type": "code",
   "execution_count": null,
   "metadata": {},
   "outputs": [],
   "source": [
    "from collections import deque\n",
    "\n",
    "def bfs(x, y):\n",
    "    dq = deque([(x, y)])\n",
    "    visited[x][y] = 0\n",
    "    \n",
    "    while dq:\n",
    "        dx, dy = dq.popleft()\n",
    "        for mn in move_xy:\n",
    "            nx = dx + mn[0]\n",
    "            ny = dy + mn[1]\n",
    "            while True:\n",
    "                if not (0 <= nx < H and 0 <= ny < W): \n",
    "                    break\n",
    "                if visited[nx][ny] < visited[dx][dy]+1 : \n",
    "                    break\n",
    "                if arr[nx][ny] == '*' : \n",
    "                    break\n",
    "                visited[nx][ny] = visited[dx][dy] + 1\n",
    "                dq.append((nx,ny))\n",
    "                nx = nx + mn[0]\n",
    "                ny = ny + mn[1]\n",
    "                    \n",
    "W, H = map(int, input().split())\n",
    "arr = [list(map(str, input().rstrip())) for _ in range(H)]\n",
    "move_xy = [(1,0), (0,1), (-1,0), (0,-1)]\n",
    "visited = [[float('inf')]*W for _ in range(H)]\n",
    "\n",
    "C_point = []\n",
    "for i in range(H):\n",
    "    for j in range(W):\n",
    "        if arr[i][j] == 'C':\n",
    "            C_point.append((i,j))\n",
    "            \n",
    "(sx,sy), (ex,ey) = C_point\n",
    "bfs(sx, sy)\n",
    "print(visited[ex][ey]-1)\n",
    "\n"
   ]
  }
 ],
 "metadata": {
  "kernelspec": {
   "display_name": "Python 3",
   "language": "python",
   "name": "python3"
  },
  "language_info": {
   "codemirror_mode": {
    "name": "ipython",
    "version": 3
   },
   "file_extension": ".py",
   "mimetype": "text/x-python",
   "name": "python",
   "nbconvert_exporter": "python",
   "pygments_lexer": "ipython3",
   "version": "3.7.4"
  }
 },
 "nbformat": 4,
 "nbformat_minor": 2
}
