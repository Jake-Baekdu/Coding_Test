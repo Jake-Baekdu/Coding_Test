{
 "cells": [
  {
   "cell_type": "code",
   "execution_count": null,
   "metadata": {},
   "outputs": [],
   "source": [
    "from collections import deque\n",
    "\n",
    "\n",
    "def bfs(arr, x, y):\n",
    "    dq = deque([(x, y)])\n",
    "    visited[x][y] = 1\n",
    "    while dq:\n",
    "        dx, dy = dq.popleft()\n",
    "        \n",
    "        for nm in move_xy:\n",
    "            nx = dx + nm[0]\n",
    "            ny = dy + nm[1]\n",
    "            if 0 <= nx < M and 0 <= ny < N:\n",
    "                if visited[nx][ny] == 0 and arr[nx][ny] == 1:\n",
    "                    visited[nx][ny] = 1\n",
    "                    dq.append((nx, ny))\n",
    "    \n",
    "M, N = map(int, input().split())\n",
    "\n",
    "board = [list(map(int, input().split())) for _ in range(M)]\n",
    "move_xy = [(1,0), (-1,0), (0,1), (0,-1), (1,1),(-1,-1),(1,-1),(-1,1)]\n",
    "cnt = 0\n",
    "visited = [[0]*N for _ in range(M)]\n",
    "for i in range(M):\n",
    "    for j in range(N):\n",
    "        if visited[i][j] == 0 and board[i][j] == 1:\n",
    "            bfs(board, i, j)\n",
    "            cnt += 1\n",
    "print(cnt)"
   ]
  }
 ],
 "metadata": {
  "kernelspec": {
   "display_name": "Python 3",
   "language": "python",
   "name": "python3"
  },
  "language_info": {
   "codemirror_mode": {
    "name": "ipython",
    "version": 3
   },
   "file_extension": ".py",
   "mimetype": "text/x-python",
   "name": "python",
   "nbconvert_exporter": "python",
   "pygments_lexer": "ipython3",
   "version": "3.7.4"
  }
 },
 "nbformat": 4,
 "nbformat_minor": 2
}
