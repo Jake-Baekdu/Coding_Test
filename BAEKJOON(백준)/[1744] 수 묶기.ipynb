{
 "cells": [
  {
   "cell_type": "code",
   "execution_count": 1,
   "metadata": {},
   "outputs": [
    {
     "name": "stdout",
     "output_type": "stream",
     "text": [
      "4\n"
     ]
    }
   ],
   "source": [
    "N = int(input())"
   ]
  },
  {
   "cell_type": "code",
   "execution_count": 2,
   "metadata": {},
   "outputs": [
    {
     "name": "stdout",
     "output_type": "stream",
     "text": [
      "-1\n",
      "2\n",
      "1\n",
      "3\n"
     ]
    }
   ],
   "source": [
    "arr = [0]*N\n",
    "for i in range(N):\n",
    "    arr[i] = int(input())"
   ]
  },
  {
   "cell_type": "code",
   "execution_count": 36,
   "metadata": {},
   "outputs": [],
   "source": [
    "arr = [0,0,0,0,1,2,3,-3]"
   ]
  },
  {
   "cell_type": "code",
   "execution_count": 37,
   "metadata": {},
   "outputs": [
    {
     "data": {
      "text/plain": [
       "[-3, 0, 0, 0, 0, 1, 2, 3]"
      ]
     },
     "execution_count": 37,
     "metadata": {},
     "output_type": "execute_result"
    }
   ],
   "source": [
    "arr.sort()\n",
    "arr"
   ]
  },
  {
   "cell_type": "code",
   "execution_count": 38,
   "metadata": {},
   "outputs": [
    {
     "name": "stdout",
     "output_type": "stream",
     "text": [
      "3\n",
      "2\n",
      "1\n",
      "0\n",
      "0\n",
      "0\n",
      "0\n",
      "-3\n",
      "4\n"
     ]
    }
   ],
   "source": [
    "m_cnt = 0\n",
    "m_arr = []\n",
    "\n",
    "p_cnt = 0\n",
    "p_arr = []\n",
    "result = 0\n",
    "\n",
    "for num in arr[::-1]:\n",
    "    print(num)\n",
    "    if num < 0:\n",
    "        m_cnt += 1\n",
    "        m_arr.append(num)\n",
    "        if m_cnt%2 == 0 and m_cnt != 0:\n",
    "            result += m_arr[0]*m_arr[1]\n",
    "            m_arr = []\n",
    "    elif num > 0:\n",
    "        p_cnt += 1\n",
    "        p_arr.append(num)\n",
    "        if p_cnt%2 == 0 and p_cnt != 0:\n",
    "            result += p_arr[0]*p_arr[1]\n",
    "            p_arr = []\n",
    "\n",
    "if m_arr or p_arr:\n",
    "    result = result + sum(m_arr) + sum(p_arr)\n",
    "\n",
    "print(result)\n",
    "    \n",
    "    "
   ]
  },
  {
   "cell_type": "code",
   "execution_count": 11,
   "metadata": {},
   "outputs": [
    {
     "data": {
      "text/plain": [
       "12"
      ]
     },
     "execution_count": 11,
     "metadata": {},
     "output_type": "execute_result"
    }
   ],
   "source": [
    "a = []\n",
    "sum(a) + 12"
   ]
  },
  {
   "cell_type": "code",
   "execution_count": null,
   "metadata": {},
   "outputs": [],
   "source": []
  }
 ],
 "metadata": {
  "kernelspec": {
   "display_name": "Python 3",
   "language": "python",
   "name": "python3"
  },
  "language_info": {
   "codemirror_mode": {
    "name": "ipython",
    "version": 3
   },
   "file_extension": ".py",
   "mimetype": "text/x-python",
   "name": "python",
   "nbconvert_exporter": "python",
   "pygments_lexer": "ipython3",
   "version": "3.7.4"
  }
 },
 "nbformat": 4,
 "nbformat_minor": 2
}
