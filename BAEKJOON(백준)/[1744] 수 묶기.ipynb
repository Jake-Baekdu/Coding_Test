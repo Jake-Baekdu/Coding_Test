{
 "cells": [
  {
   "cell_type": "code",
   "execution_count": 25,
   "metadata": {},
   "outputs": [
    {
     "ename": "ValueError",
     "evalue": "invalid literal for int() with base 10: ''",
     "output_type": "error",
     "traceback": [
      "\u001b[1;31m---------------------------------------------------------------------------\u001b[0m",
      "\u001b[1;31mValueError\u001b[0m                                Traceback (most recent call last)",
      "\u001b[1;32m<ipython-input-25-105675ebaf77>\u001b[0m in \u001b[0;36m<module>\u001b[1;34m\u001b[0m\n\u001b[0;32m      1\u001b[0m \u001b[1;32mimport\u001b[0m \u001b[0msys\u001b[0m\u001b[1;33m\u001b[0m\u001b[1;33m\u001b[0m\u001b[0m\n\u001b[0;32m      2\u001b[0m \u001b[1;33m\u001b[0m\u001b[0m\n\u001b[1;32m----> 3\u001b[1;33m \u001b[0mn\u001b[0m \u001b[1;33m=\u001b[0m \u001b[0mint\u001b[0m\u001b[1;33m(\u001b[0m\u001b[0msys\u001b[0m\u001b[1;33m.\u001b[0m\u001b[0mstdin\u001b[0m\u001b[1;33m.\u001b[0m\u001b[0mreadline\u001b[0m\u001b[1;33m(\u001b[0m\u001b[1;33m)\u001b[0m\u001b[1;33m)\u001b[0m\u001b[1;33m\u001b[0m\u001b[1;33m\u001b[0m\u001b[0m\n\u001b[0m\u001b[0;32m      4\u001b[0m \u001b[0mnegative\u001b[0m\u001b[1;33m,\u001b[0m \u001b[0mpositive\u001b[0m \u001b[1;33m=\u001b[0m \u001b[1;33m[\u001b[0m\u001b[1;33m]\u001b[0m\u001b[1;33m,\u001b[0m \u001b[1;33m[\u001b[0m\u001b[1;33m]\u001b[0m\u001b[1;33m\u001b[0m\u001b[1;33m\u001b[0m\u001b[0m\n\u001b[0;32m      5\u001b[0m \u001b[0mzero\u001b[0m \u001b[1;33m=\u001b[0m \u001b[1;36m0\u001b[0m\u001b[1;33m\u001b[0m\u001b[1;33m\u001b[0m\u001b[0m\n",
      "\u001b[1;31mValueError\u001b[0m: invalid literal for int() with base 10: ''"
     ]
    }
   ],
   "source": [
    "N = int(input())\n",
    "positiveList=[]\n",
    "negativeList=[]\n",
    "oneList=[]\n",
    "\n",
    "for _ in range(N):\n",
    "    num = int(input())\n",
    "    if num > 1:\n",
    "        positiveList.append(num)\n",
    "    elif num <= 0:\n",
    "        negativeList.append(num)\n",
    "    else:\n",
    "        oneList.append(num)\n",
    "\n",
    "positiveList.sort(reverse=True)\n",
    "negativeList.sort()\n",
    "\n",
    "result = 0\n",
    "\n",
    "if len(positiveList) % 2 == 0:\n",
    "    for i in range(0,len(positiveList),2):\n",
    "        result += positiveList[i] * positiveList[i+1]\n",
    "else:\n",
    "    for i in range(0,len(positiveList)-1,2):\n",
    "        result += positiveList[i] * positiveList[i+1]\n",
    "    result += positiveList[len(positiveList)-1] # 마지막 숫자는 더해주기\n",
    "\n",
    "\n",
    "if len(negativeList) % 2 == 0:\n",
    "    for i in range(0,len(negativeList),2):\n",
    "        result += negativeList[i] * negativeList[i+1]\n",
    "else:\n",
    "    for i in range(0,len(negativeList)-1,2):\n",
    "        result += negativeList[i] * negativeList[i+1]\n",
    "    result += negativeList[len(negativeList)-1] # 마지막 숫자는 더해주기\n",
    "\n",
    "result += sum(oneList)\n",
    "\n",
    "print(result)"
   ]
  },
  {
   "cell_type": "markdown",
   "metadata": {},
   "source": [
    "### "
   ]
  }
 ],
 "metadata": {
  "kernelspec": {
   "display_name": "Python 3",
   "language": "python",
   "name": "python3"
  },
  "language_info": {
   "codemirror_mode": {
    "name": "ipython",
    "version": 3
   },
   "file_extension": ".py",
   "mimetype": "text/x-python",
   "name": "python",
   "nbconvert_exporter": "python",
   "pygments_lexer": "ipython3",
   "version": "3.7.4"
  }
 },
 "nbformat": 4,
 "nbformat_minor": 2
}
