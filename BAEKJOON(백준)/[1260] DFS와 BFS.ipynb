{
 "cells": [
  {
   "cell_type": "code",
   "execution_count": 2,
   "metadata": {},
   "outputs": [
    {
     "name": "stdout",
     "output_type": "stream",
     "text": [
      "4 5 1\n"
     ]
    }
   ],
   "source": [
    "N, M, V = map(int, input().split())"
   ]
  },
  {
   "cell_type": "code",
   "execution_count": 7,
   "metadata": {},
   "outputs": [
    {
     "name": "stdout",
     "output_type": "stream",
     "text": [
      "1 2\n",
      "{1: [2], 2: [1]}\n",
      "1 3\n",
      "{1: [3], 2: [1], 3: [1]}\n",
      "1 4\n",
      "{1: [4], 2: [1], 3: [1], 4: [1]}\n",
      "2 4\n",
      "{1: [4], 2: [1, 4], 3: [1], 4: [1, 2]}\n",
      "3 4\n",
      "{1: [4], 2: [1, 4], 3: [1, 4], 4: [1, 2, 3]}\n"
     ]
    }
   ],
   "source": [
    "from collections import deque\n",
    "\n",
    "dic = {}\n",
    "for _ in range(M):\n",
    "    a = list(map(int, input().split()))\n",
    "    try:\n",
    "        dic[a[0]].append(a[1])\n",
    "        dic[a[1]].append(a[0])\n",
    "    except KeyError:\n",
    "        dic[a[0]] = [a[1]]\n",
    "        dic[a[1]] = [a[0]]\n",
    "    print(dic)\n",
    "\n",
    "keys = deque((map(int, dic.keys())))\n",
    "values = deque((map(list, dic.values())))\n",
    "result = []"
   ]
  },
  {
   "cell_type": "code",
   "execution_count": 14,
   "metadata": {},
   "outputs": [
    {
     "name": "stdout",
     "output_type": "stream",
     "text": [
      "1\n",
      "[1]\n",
      "need_visit [4]\n",
      "4\n",
      "[1, 4]\n",
      "need_visit [1, 2, 3]\n",
      "3\n",
      "[1, 4, 3]\n",
      "need_visit [1, 2, 1, 4]\n",
      "4\n",
      "1\n",
      "2\n",
      "[1, 4, 3, 2]\n",
      "need_visit [1, 1, 4]\n",
      "4\n",
      "1\n",
      "1\n"
     ]
    },
    {
     "data": {
      "text/plain": [
       "[1, 4, 3, 2]"
      ]
     },
     "execution_count": 14,
     "metadata": {},
     "output_type": "execute_result"
    }
   ],
   "source": [
    "def dfs(graph, start_node):\n",
    "    visited, need_visit = list(), list()\n",
    "    need_visit.append(start_node)\n",
    "    \n",
    "    while need_visit:\n",
    "        node = need_visit.pop()\n",
    "        print(node)\n",
    "        if node not in visited:\n",
    "            visited.append(node)\n",
    "            print(visited)\n",
    "            need_visit.extend(graph[node])\n",
    "            print(\"need_visit\", need_visit)\n",
    "        \n",
    "    return visited\n",
    "\n",
    "dfs(dic, 1)"
   ]
  },
  {
   "cell_type": "code",
   "execution_count": 61,
   "metadata": {},
   "outputs": [
    {
     "ename": "AttributeError",
     "evalue": "'list' object has no attribute 'push'",
     "output_type": "error",
     "traceback": [
      "\u001b[1;31m---------------------------------------------------------------------------\u001b[0m",
      "\u001b[1;31mAttributeError\u001b[0m                            Traceback (most recent call last)",
      "\u001b[1;32m<ipython-input-61-b4d6d06f1474>\u001b[0m in \u001b[0;36m<module>\u001b[1;34m\u001b[0m\n\u001b[0;32m      1\u001b[0m \u001b[0mstack\u001b[0m \u001b[1;33m=\u001b[0m \u001b[1;33m[\u001b[0m\u001b[1;36m0\u001b[0m\u001b[1;33m,\u001b[0m\u001b[1;36m0\u001b[0m\u001b[1;33m,\u001b[0m\u001b[1;36m0\u001b[0m\u001b[1;33m]\u001b[0m\u001b[1;33m\u001b[0m\u001b[1;33m\u001b[0m\u001b[0m\n\u001b[1;32m----> 2\u001b[1;33m \u001b[0mstack\u001b[0m\u001b[1;33m.\u001b[0m\u001b[0mpush\u001b[0m\u001b[1;33m(\u001b[0m\u001b[1;36m1\u001b[0m\u001b[1;33m)\u001b[0m\u001b[1;33m\u001b[0m\u001b[1;33m\u001b[0m\u001b[0m\n\u001b[0m",
      "\u001b[1;31mAttributeError\u001b[0m: 'list' object has no attribute 'push'"
     ]
    }
   ],
   "source": [
    "stack = [0,0,0]\n",
    "stack.push(1)"
   ]
  },
  {
   "cell_type": "code",
   "execution_count": 39,
   "metadata": {},
   "outputs": [
    {
     "data": {
      "text/plain": [
       "deque([1, 2, 3])"
      ]
     },
     "execution_count": 39,
     "metadata": {},
     "output_type": "execute_result"
    }
   ],
   "source": [
    "class BinarySearchTree(object):\n",
    "\t...\n",
    "    def insert(self, data):\n",
    "    \tself.root = self.insert_value(self.root, data)\n",
    "        return self.root is not None\n",
    "        \n",
    "    def _insert_value(self, node, data):\n",
    "    \tif node is None:\n",
    "            node = Node(data)\n",
    "        else:\n",
    "            if data <= node.data:\n",
    "                node.left = self"
   ]
  },
  {
   "cell_type": "code",
   "execution_count": 60,
   "metadata": {},
   "outputs": [
    {
     "ename": "TypeError",
     "evalue": "object of type 'int' has no len()",
     "output_type": "error",
     "traceback": [
      "\u001b[1;31m---------------------------------------------------------------------------\u001b[0m",
      "\u001b[1;31mTypeError\u001b[0m                                 Traceback (most recent call last)",
      "\u001b[1;32m<ipython-input-60-1e095ba47f6d>\u001b[0m in \u001b[0;36m<module>\u001b[1;34m\u001b[0m\n\u001b[1;32m----> 1\u001b[1;33m \u001b[0mlen\u001b[0m\u001b[1;33m(\u001b[0m\u001b[1;36m2\u001b[0m\u001b[1;33m+\u001b[0m\u001b[1;36m1\u001b[0m\u001b[1;33m)\u001b[0m\u001b[1;33m\u001b[0m\u001b[1;33m\u001b[0m\u001b[0m\n\u001b[0m",
      "\u001b[1;31mTypeError\u001b[0m: object of type 'int' has no len()"
     ]
    }
   ],
   "source": []
  },
  {
   "cell_type": "code",
   "execution_count": null,
   "metadata": {},
   "outputs": [],
   "source": [
    "h g f w r\n",
    "\n"
   ]
  }
 ],
 "metadata": {
  "kernelspec": {
   "display_name": "Python 3",
   "language": "python",
   "name": "python3"
  },
  "language_info": {
   "codemirror_mode": {
    "name": "ipython",
    "version": 3
   },
   "file_extension": ".py",
   "mimetype": "text/x-python",
   "name": "python",
   "nbconvert_exporter": "python",
   "pygments_lexer": "ipython3",
   "version": "3.7.4"
  }
 },
 "nbformat": 4,
 "nbformat_minor": 2
}
