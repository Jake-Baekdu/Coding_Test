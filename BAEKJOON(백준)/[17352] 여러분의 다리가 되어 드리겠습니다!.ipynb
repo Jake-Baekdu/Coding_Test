{
 "cells": [
  {
   "cell_type": "code",
   "execution_count": null,
   "metadata": {},
   "outputs": [],
   "source": [
    "def makeSet():\n",
    "    for i in range(1, n+1):\n",
    "        root[i] = i\n",
    "        rank[i] = 1\n",
    "\n",
    "def union(x, y):\n",
    "    \n",
    "    x = find(x)\n",
    "    y = find(y)\n",
    "    \n",
    "    if x==y:\n",
    "        return\n",
    "    if rank[x] < rank[y]:\n",
    "        root[x] = y\n",
    "    elif rank[x] > rank[y]:\n",
    "        root[y] = x\n",
    "    elif rank[x] == rank[y]:\n",
    "        root[y] = x\n",
    "        rank[x] += 1\n",
    "\n",
    "def find(x):\n",
    "    if root[x] == x:\n",
    "        return x\n",
    "    return find(root[x])\n",
    "\n",
    "n = int(input())\n",
    "root = [0]*(n+1)\n",
    "rank = [0]*(n+1)\n",
    "makeSet()\n",
    "for i in range(n-2):\n",
    "    a, b = map(int, input().split())\n",
    "    union(a,b)\n",
    "\n",
    "for i in range(1, n+1):\n",
    "    for j in range(i+1, n+1):\n",
    "        if find(i) != find(j):\n",
    "            print(i, j)\n",
    "            exit()\n",
    "\n",
    "\n",
    "\n"
   ]
  }
 ],
 "metadata": {
  "kernelspec": {
   "display_name": "Python 3",
   "language": "python",
   "name": "python3"
  },
  "language_info": {
   "codemirror_mode": {
    "name": "ipython",
    "version": 3
   },
   "file_extension": ".py",
   "mimetype": "text/x-python",
   "name": "python",
   "nbconvert_exporter": "python",
   "pygments_lexer": "ipython3",
   "version": "3.7.4"
  }
 },
 "nbformat": 4,
 "nbformat_minor": 2
}
