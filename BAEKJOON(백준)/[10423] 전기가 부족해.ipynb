{
 "cells": [
  {
   "cell_type": "code",
   "execution_count": 9,
   "metadata": {},
   "outputs": [],
   "source": [
    "import heapq\n",
    "\n",
    "city_n, cable_n, plant_n = map(int, input().split())\n",
    "\n",
    "plant = list(map(int, input().split()))\n",
    "\n",
    "tree = {x:[] for x in range(1, city_n+1)}\n",
    "for _ in range(cable_n):\n",
    "    t = list(map(int, input().split()))\n",
    "    tree[t[0]].append((t[2], t[1]))\n",
    "    tree[t[1]].append((t[2], t[0]))\n",
    "\n",
    "visited = [False]*(city_n + 1)\n",
    "s = 0\n",
    "hq = []\n",
    "for p in plant:\n",
    "    heapq.heappush(hq, (0, p))\n",
    "    \n",
    "    \n",
    "while hq:\n",
    "    dist, node = heapq.heappop(hq)\n",
    "    if visited[node] == True:\n",
    "        continue\n",
    "    visited[node] = True\n",
    "    s += dist\n",
    "    \n",
    "    for t in tree[node]:\n",
    "        if visited[t[1]] == False:\n",
    "            heapq.heappush(hq, t)\n",
    "print(s)\n",
    "    "
   ]
  },
  {
   "cell_type": "code",
   "execution_count": 11,
   "metadata": {},
   "outputs": [],
   "source": [
    "tree = {1: [(9, 2), (3, 3), (8, 4)], 2: [(9, 1), (10, 4)], 3: [(3, 1), (11, 4), (6, 5)], 4: [(8, 1), (10, 2), (11, 3), (4, 5), (10, 6)], 5: [(6, 3), (4, 4), (5, 6), (4, 7)], 6: [(10, 4), (5, 5), (7, 7), (4, 8)], 7: [(4, 5), (7, 6), (5, 8), (2, 9)], 8: [(4, 6), (5, 7)], 9: [(2, 7)]}\n"
   ]
  },
  {
   "cell_type": "code",
   "execution_count": null,
   "metadata": {},
   "outputs": [],
   "source": []
  }
 ],
 "metadata": {
  "kernelspec": {
   "display_name": "Python 3",
   "language": "python",
   "name": "python3"
  },
  "language_info": {
   "codemirror_mode": {
    "name": "ipython",
    "version": 3
   },
   "file_extension": ".py",
   "mimetype": "text/x-python",
   "name": "python",
   "nbconvert_exporter": "python",
   "pygments_lexer": "ipython3",
   "version": "3.7.4"
  }
 },
 "nbformat": 4,
 "nbformat_minor": 2
}
