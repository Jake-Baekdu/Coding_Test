{
 "cells": [
  {
   "cell_type": "code",
   "execution_count": 3,
   "metadata": {},
   "outputs": [
    {
     "name": "stdout",
     "output_type": "stream",
     "text": [
      "zepelepenapa papapripikapa\n",
      "zelena paprika\n"
     ]
    }
   ],
   "source": [
    "string = input()\n",
    "ans = ''\n",
    "aeiou = ['a','e','i','o','u']\n",
    "tmp = ''\n",
    "s = list(string)\n",
    "i = 0\n",
    "while i < len(s):\n",
    "    if s[i] == ' ':\n",
    "        ans += ' '\n",
    "        i += 1\n",
    "        continue\n",
    "    if s[i] in aeiou:\n",
    "        ans += s[i]\n",
    "        i += 3\n",
    "        continue\n",
    "    ans += s[i]\n",
    "    i += 1\n",
    "print(ans)\n",
    "        \n"
   ]
  },
  {
   "cell_type": "code",
   "execution_count": null,
   "metadata": {},
   "outputs": [],
   "source": []
  }
 ],
 "metadata": {
  "kernelspec": {
   "display_name": "Python 3",
   "language": "python",
   "name": "python3"
  },
  "language_info": {
   "codemirror_mode": {
    "name": "ipython",
    "version": 3
   },
   "file_extension": ".py",
   "mimetype": "text/x-python",
   "name": "python",
   "nbconvert_exporter": "python",
   "pygments_lexer": "ipython3",
   "version": "3.7.4"
  }
 },
 "nbformat": 4,
 "nbformat_minor": 2
}
