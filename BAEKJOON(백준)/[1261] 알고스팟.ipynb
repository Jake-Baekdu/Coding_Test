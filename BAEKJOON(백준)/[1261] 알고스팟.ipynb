{
 "cells": [
  {
   "cell_type": "code",
   "execution_count": 23,
   "metadata": {},
   "outputs": [
    {
     "name": "stdout",
     "output_type": "stream",
     "text": [
      "3 3\n",
      "011\n",
      "111\n",
      "110\n",
      "3\n",
      "[['0', '1', '1'], ['1', '1', '1'], ['1', '1', '0']]\n"
     ]
    }
   ],
   "source": [
    "import heapq\n",
    "import sys\n",
    "\n",
    "\n",
    "def bfs():\n",
    "    dx = [1, -1, 0, 0]\n",
    "    dy = [0, 0, 1, -1]\n",
    "\n",
    "    while(q):\n",
    "\n",
    "        cnt, x, y = heapq.heappop(q)  # (0,0,0)형식\n",
    "        done[x][y] = 1\n",
    "\n",
    "        if x == N-1 and y == M-1:\n",
    "            return cnt\n",
    "\n",
    "        for i in range(4):\n",
    "            nx = x + dx[i]\n",
    "            ny = y + dy[i]\n",
    "\n",
    "            if (0 <= nx < N) and (0 <= ny < M) and done[nx][ny] == 0:\n",
    "                done[nx][ny] = 1\n",
    "\n",
    "                # 길이 있는 경우 우선순위(최소힙)가 가도록 한다.\n",
    "                if maps[nx][ny] == '0':\n",
    "                    heapq.heappush(q, (cnt, nx, ny))\n",
    "                elif maps[nx][ny] == '1':\n",
    "                    heapq.heappush(q, (cnt+1, nx, ny))\n",
    "                \n",
    "\n",
    "\n",
    "M, N = map(int, input().split())\n",
    "maps = [list(str(input())) for _ in range(N)]\n",
    "q = []\n",
    "done = [[0]*M for _ in range(N)]\n",
    "\n",
    "heapq.heappush(q, (0, 0, 0))\n",
    "\n",
    "print(bfs())\n",
    "print(maps)"
   ]
  },
  {
   "cell_type": "code",
   "execution_count": 24,
   "metadata": {},
   "outputs": [
    {
     "ename": "NameError",
     "evalue": "name 'cnt' is not defined",
     "output_type": "error",
     "traceback": [
      "\u001b[1;31m---------------------------------------------------------------------------\u001b[0m",
      "\u001b[1;31mNameError\u001b[0m                                 Traceback (most recent call last)",
      "\u001b[1;32m<ipython-input-24-89ff4c596af5>\u001b[0m in \u001b[0;36m<module>\u001b[1;34m\u001b[0m\n\u001b[1;32m----> 1\u001b[1;33m \u001b[0mcnt\u001b[0m\u001b[1;33m\u001b[0m\u001b[1;33m\u001b[0m\u001b[0m\n\u001b[0m",
      "\u001b[1;31mNameError\u001b[0m: name 'cnt' is not defined"
     ]
    }
   ],
   "source": []
  },
  {
   "cell_type": "code",
   "execution_count": null,
   "metadata": {},
   "outputs": [],
   "source": []
  },
  {
   "cell_type": "code",
   "execution_count": null,
   "metadata": {},
   "outputs": [],
   "source": []
  },
  {
   "cell_type": "code",
   "execution_count": null,
   "metadata": {},
   "outputs": [],
   "source": []
  }
 ],
 "metadata": {
  "kernelspec": {
   "display_name": "Python 3",
   "language": "python",
   "name": "python3"
  },
  "language_info": {
   "codemirror_mode": {
    "name": "ipython",
    "version": 3
   },
   "file_extension": ".py",
   "mimetype": "text/x-python",
   "name": "python",
   "nbconvert_exporter": "python",
   "pygments_lexer": "ipython3",
   "version": "3.7.4"
  }
 },
 "nbformat": 4,
 "nbformat_minor": 2
}
