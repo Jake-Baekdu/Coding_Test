{
 "cells": [
  {
   "cell_type": "code",
   "execution_count": null,
   "metadata": {},
   "outputs": [],
   "source": [
    "from collections import deque\n",
    "\n",
    "def dfs(a, b):\n",
    "    dq = deque([(a, b)])\n",
    "    visited[a][b] = True\n",
    "    s = arr[a][b]\n",
    "    cnt = 1\n",
    "    while dq:\n",
    "        x, y = dq.pop()\n",
    "        for xc, yc in move_xy:\n",
    "            nx = x + xc\n",
    "            ny = y + yc\n",
    "            if 0 <= nx < M and 0 <= ny < N:\n",
    "                if visited[nx][ny] == False and arr[nx][ny] == s:\n",
    "                    visited[nx][ny] = True\n",
    "                    cnt += 1\n",
    "                    dq.append((nx, ny))\n",
    "    return cnt**2\n",
    "    \n",
    "N, M = map(int, input().split())\n",
    "arr = [list(map(str, input().rstrip())) for _ in range(M)]\n",
    "visited = [[False]*N for _ in range(M)]\n",
    "cnt_W, cnt_B = 0, 0\n",
    "move_xy = [(1,0),(0,1),(-1,0),(0,-1)]\n",
    "\n",
    "for i in range(M):\n",
    "    for j in range(N):\n",
    "        if visited[i][j] == False:\n",
    "            if arr[i][j] == 'W':\n",
    "                cnt_W += dfs(i,j)\n",
    "            else:\n",
    "                cnt_B += dfs(i,j)\n",
    "print(cnt_W, cnt_B)"
   ]
  }
 ],
 "metadata": {
  "kernelspec": {
   "display_name": "Python 3",
   "language": "python",
   "name": "python3"
  },
  "language_info": {
   "codemirror_mode": {
    "name": "ipython",
    "version": 3
   },
   "file_extension": ".py",
   "mimetype": "text/x-python",
   "name": "python",
   "nbconvert_exporter": "python",
   "pygments_lexer": "ipython3",
   "version": "3.7.4"
  }
 },
 "nbformat": 4,
 "nbformat_minor": 2
}
