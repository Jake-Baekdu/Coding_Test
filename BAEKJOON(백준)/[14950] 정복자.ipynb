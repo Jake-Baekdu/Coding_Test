{
 "cells": [
  {
   "cell_type": "code",
   "execution_count": null,
   "metadata": {},
   "outputs": [],
   "source": [
    "import heapq\n",
    "\n",
    "N, M, t = map(int, input().split())\n",
    "info = []\n",
    "for i in range(M):\n",
    "    s, e, c = map(int, input().split())\n",
    "    info.append([c,s,e])\n",
    "    info.append([c,e,s])\n",
    "    \n",
    "hq = []\n",
    "visited = [False] * (N+1)\n",
    "\n",
    "heapq.heappush(hq, [0, 1])\n",
    "total_cost = 0\n",
    "\n",
    "while hq:\n",
    "\n",
    "    cost, city = heapq.heappop(hq)\n",
    "    if visited[city] == True:\n",
    "        continue\n",
    "\n",
    "    visited[city] = True\n",
    "    total_cost += cost\n",
    "\n",
    "    if not city == 1:\n",
    "        # 기존 값뿐만 아니라 우선순위 큐에 들어간 값도 t 더해줘야함\n",
    "        for k in range(len(info)):\n",
    "            info[k][0] += t\n",
    "        for i in hq:\n",
    "            i[0] += t\n",
    "    for i in info:\n",
    "        if city == i[1]:\n",
    "            heapq.heappush(hq, [i[0], i[2]])\n",
    "    \n",
    "\n",
    "print(total_cost)"
   ]
  }
 ],
 "metadata": {
  "kernelspec": {
   "display_name": "Python 3",
   "language": "python",
   "name": "python3"
  },
  "language_info": {
   "codemirror_mode": {
    "name": "ipython",
    "version": 3
   },
   "file_extension": ".py",
   "mimetype": "text/x-python",
   "name": "python",
   "nbconvert_exporter": "python",
   "pygments_lexer": "ipython3",
   "version": "3.7.4"
  }
 },
 "nbformat": 4,
 "nbformat_minor": 2
}
