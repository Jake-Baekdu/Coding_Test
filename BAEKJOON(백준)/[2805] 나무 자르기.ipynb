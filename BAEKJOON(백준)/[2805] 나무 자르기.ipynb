{
 "cells": [
  {
   "cell_type": "code",
   "execution_count": 6,
   "metadata": {},
   "outputs": [
    {
     "name": "stdout",
     "output_type": "stream",
     "text": [
      "4 7\n"
     ]
    }
   ],
   "source": [
    "N, M = map(int, input().split())\n"
   ]
  },
  {
   "cell_type": "code",
   "execution_count": 7,
   "metadata": {},
   "outputs": [
    {
     "data": {
      "text/plain": [
       "(4, 7)"
      ]
     },
     "execution_count": 7,
     "metadata": {},
     "output_type": "execute_result"
    }
   ],
   "source": [
    "N, M"
   ]
  },
  {
   "cell_type": "code",
   "execution_count": 57,
   "metadata": {},
   "outputs": [
    {
     "name": "stdout",
     "output_type": "stream",
     "text": [
      "20 15 10 17\n"
     ]
    }
   ],
   "source": [
    "height = list(map(int, input().split()))\n"
   ]
  },
  {
   "cell_type": "code",
   "execution_count": 58,
   "metadata": {},
   "outputs": [
    {
     "data": {
      "text/plain": [
       "[20, 15, 10, 17]"
      ]
     },
     "execution_count": 58,
     "metadata": {},
     "output_type": "execute_result"
    }
   ],
   "source": [
    "height"
   ]
  },
  {
   "cell_type": "code",
   "execution_count": 59,
   "metadata": {},
   "outputs": [
    {
     "data": {
      "text/plain": [
       "15"
      ]
     },
     "execution_count": 59,
     "metadata": {},
     "output_type": "execute_result"
    }
   ],
   "source": [
    "\n",
    "\n",
    "def binSearch(left, right):\n",
    "    \n",
    "    \n",
    "    while(left <= right):\n",
    "        \n",
    "        sum = 0\n",
    "        mid = (left + right)//2\n",
    "        for i in height:\n",
    "            if i > mid :\n",
    "                sum += i - mid\n",
    "            \n",
    "        \n",
    "        if sum < M :\n",
    "            right = mid - 1\n",
    "        else:\n",
    "            left = mid + 1\n",
    "            \n",
    "    return right\n",
    "    \n",
    "\n",
    "binSearch(0, max(height)*2)"
   ]
  },
  {
   "cell_type": "code",
   "execution_count": 2,
   "metadata": {},
   "outputs": [
    {
     "name": "stdout",
     "output_type": "stream",
     "text": [
      "4 7\n",
      "20 15 10 17\n",
      "Counter({20: 1, 15: 1, 10: 1, 17: 1})\n",
      "15\n"
     ]
    }
   ],
   "source": [
    "from collections import Counter\n",
    "\n",
    "def binarySearch(arr,start,end,M):\n",
    "    ans = 0\n",
    "    while (start<=end):\n",
    "        cnt = 0\n",
    "        mid = (start+end)//2\n",
    "        for key,val in arr.items():\n",
    "            if key < mid:\n",
    "                continue\n",
    "            cnt += (key-mid)*val\n",
    "        if cnt < M:\n",
    "            end = mid-1\n",
    "        else:\n",
    "            ans = mid\n",
    "            start = mid+1\n",
    "\n",
    "    return ans\n",
    "\n",
    "N, M = map(int, input().split())\n",
    "tree = Counter(map(int,input().split()))\n",
    "\n",
    "print(binarySearch(tree,0,max(tree.keys())-1,M))"
   ]
  },
  {
   "cell_type": "code",
   "execution_count": 24,
   "metadata": {},
   "outputs": [
    {
     "data": {
      "text/plain": [
       "{1, 2, 3}"
      ]
     },
     "execution_count": 24,
     "metadata": {},
     "output_type": "execute_result"
    }
   ],
   "source": [
    "a"
   ]
  },
  {
   "cell_type": "code",
   "execution_count": null,
   "metadata": {},
   "outputs": [],
   "source": []
  }
 ],
 "metadata": {
  "kernelspec": {
   "display_name": "Python 3",
   "language": "python",
   "name": "python3"
  },
  "language_info": {
   "codemirror_mode": {
    "name": "ipython",
    "version": 3
   },
   "file_extension": ".py",
   "mimetype": "text/x-python",
   "name": "python",
   "nbconvert_exporter": "python",
   "pygments_lexer": "ipython3",
   "version": "3.7.4"
  }
 },
 "nbformat": 4,
 "nbformat_minor": 2
}
