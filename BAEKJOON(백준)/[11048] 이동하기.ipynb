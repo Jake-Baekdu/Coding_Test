{
 "cells": [
  {
   "cell_type": "code",
   "execution_count": null,
   "metadata": {},
   "outputs": [],
   "source": [
    "#m이 한배열에 들어가는 원소개수, x축 길이\n",
    "m, n = map(int, input().split())\n",
    "\n",
    "dp = [[0 for col in range(n+1)] for row in range(m+1)]\n",
    "\n",
    "for i in range(1,m+1):\n",
    "    el = [int(x) for x in input().split(\" \")]\n",
    "    for k in range(1,n+1):\n",
    "        dp[i] = el\n",
    "    dp[i].insert(0, 0)\n",
    "    \n",
    "for i in range(1,m+1):    \n",
    "    for k in range(1,n+1):\n",
    "        dp[i][k] += max(max(dp[i][k-1], dp[i-1][k]), dp[i-1][k-1])\n",
    "\n",
    "print(dp[m][n])\n",
    "        "
   ]
  },
  {
   "cell_type": "code",
   "execution_count": null,
   "metadata": {},
   "outputs": [],
   "source": []
  }
 ],
 "metadata": {
  "kernelspec": {
   "display_name": "Python 3",
   "language": "python",
   "name": "python3"
  },
  "language_info": {
   "codemirror_mode": {
    "name": "ipython",
    "version": 3
   },
   "file_extension": ".py",
   "mimetype": "text/x-python",
   "name": "python",
   "nbconvert_exporter": "python",
   "pygments_lexer": "ipython3",
   "version": "3.7.4"
  }
 },
 "nbformat": 4,
 "nbformat_minor": 2
}
