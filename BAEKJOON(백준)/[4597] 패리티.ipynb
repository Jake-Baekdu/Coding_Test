{
 "cells": [
  {
   "cell_type": "code",
   "execution_count": null,
   "metadata": {},
   "outputs": [],
   "source": [
    "while True:\n",
    "    num = input()\n",
    "    if num == \"#\":\n",
    "        break\n",
    "    num = list(num)\n",
    "    cnt_1 = 0\n",
    "    cnt_0 = 0\n",
    "    for i in range(len(num)):\n",
    "        if num[i] == '1':\n",
    "            cnt_1 += 1\n",
    "        elif num[i] == '0':\n",
    "            cnt_0 += 1\n",
    "    if num[-1] == 'e':\n",
    "        if cnt_1%2 == 0:\n",
    "            num[-1] = '0'\n",
    "        else:\n",
    "            num[-1] = '1'\n",
    "    elif num[-1] == 'o':\n",
    "        if cnt_1%2 == 0:\n",
    "            num[-1] = '1'\n",
    "        else:\n",
    "            num[-1] = '0'\n",
    "    print(''.join(num))"
   ]
  }
 ],
 "metadata": {
  "kernelspec": {
   "display_name": "Python 3",
   "language": "python",
   "name": "python3"
  },
  "language_info": {
   "codemirror_mode": {
    "name": "ipython",
    "version": 3
   },
   "file_extension": ".py",
   "mimetype": "text/x-python",
   "name": "python",
   "nbconvert_exporter": "python",
   "pygments_lexer": "ipython3",
   "version": "3.7.4"
  }
 },
 "nbformat": 4,
 "nbformat_minor": 2
}
