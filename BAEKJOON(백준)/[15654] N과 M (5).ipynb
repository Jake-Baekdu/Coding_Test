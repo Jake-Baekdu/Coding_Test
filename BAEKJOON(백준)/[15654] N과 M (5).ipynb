{
 "cells": [
  {
   "cell_type": "code",
   "execution_count": 1,
   "metadata": {},
   "outputs": [],
   "source": [
    "import itertools\n",
    "\n",
    "N, M = map(int ,input().split())\n",
    "\n",
    "arr = list(map(int, input().split()))\n",
    "\n",
    "arr.sort()\n",
    "ans_arr = []\n",
    "visited = [False] * N\n",
    "\n",
    "\n",
    "def solve(ans_arr):\n",
    "    \n",
    "    if (len(ans_arr) == M):\n",
    "        for i in ans_arr:\n",
    "            print(i, end = ' ')\n",
    "        print()\n",
    "        return\n",
    "    \n",
    "    for i in range(N):\n",
    "        if visited[i] == True:\n",
    "            continue\n",
    "        ans_arr.append(arr[i])\n",
    "        visited[i] = True\n",
    "        solve(ans_arr)\n",
    "        visited[i] = False\n",
    "        del ans_arr[-1]\n",
    "        \n",
    "solve(ans_arr)"
   ]
  }
 ],
 "metadata": {
  "kernelspec": {
   "display_name": "Python 3",
   "language": "python",
   "name": "python3"
  },
  "language_info": {
   "codemirror_mode": {
    "name": "ipython",
    "version": 3
   },
   "file_extension": ".py",
   "mimetype": "text/x-python",
   "name": "python",
   "nbconvert_exporter": "python",
   "pygments_lexer": "ipython3",
   "version": "3.7.4"
  }
 },
 "nbformat": 4,
 "nbformat_minor": 2
}
