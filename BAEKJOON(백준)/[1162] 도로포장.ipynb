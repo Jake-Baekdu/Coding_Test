{
 "cells": [
  {
   "cell_type": "code",
   "execution_count": null,
   "metadata": {},
   "outputs": [],
   "source": [
    "import heapq\n",
    "\n",
    "n, m, k = map(int, input().split())\n",
    "List = [[] for _ in range(n+1)]\n",
    "#k번까지 포장할 수 있으니 k+1만큼 이차원 배열 생성\n",
    "dist = [[float('inf')]*(k+1) for _ in range(n+1)]\n",
    "#양방향으로 노드간 거리 생성\n",
    "for _ in range(m):\n",
    "    s, e, w = map(int, input().split())\n",
    "    List[s].append((w, e))\n",
    "    List[e].append((w, s))\n",
    "\n",
    "def dj(start):\n",
    "    hq = []\n",
    "    # 1에서 1로 가는데 0번 포장했을 경우 = 0\n",
    "    for i in range(k+1):\n",
    "        dist[start][i] = 0\n",
    "    heapq.heappush(hq, (0, 0, start))\n",
    "    while hq:\n",
    "        #가중치, 포장 횟수, 노드\n",
    "        w, k_cnt, n = heapq.heappop(hq)\n",
    "        if dist[n][k_cnt] < w:\n",
    "            continue\n",
    "        \n",
    "        #노드가 이어진 곳들 탐색\n",
    "        for tw, tn in List[n]:\n",
    "            if k_cnt < k:\n",
    "                if dist[tn][k_cnt+1] > w:\n",
    "                    dist[tn][k_cnt+1] = w\n",
    "                    heapq.heappush(hq, (w, k_cnt+1, tn))\n",
    "                \n",
    "            cost = w + tw\n",
    "            if dist[tn][k_cnt] > cost:\n",
    "                dist[tn][k_cnt] = cost\n",
    "                heapq.heappush(hq, (cost, k_cnt, tn))\n",
    "dj(1)\n",
    "print(min(dist[n]))"
   ]
  }
 ],
 "metadata": {
  "kernelspec": {
   "display_name": "Python 3",
   "language": "python",
   "name": "python3"
  },
  "language_info": {
   "codemirror_mode": {
    "name": "ipython",
    "version": 3
   },
   "file_extension": ".py",
   "mimetype": "text/x-python",
   "name": "python",
   "nbconvert_exporter": "python",
   "pygments_lexer": "ipython3",
   "version": "3.7.4"
  }
 },
 "nbformat": 4,
 "nbformat_minor": 2
}
