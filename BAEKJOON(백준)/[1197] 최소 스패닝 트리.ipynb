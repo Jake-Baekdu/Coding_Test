{
 "cells": [
  {
   "cell_type": "code",
   "execution_count": 24,
   "metadata": {},
   "outputs": [
    {
     "name": "stdout",
     "output_type": "stream",
     "text": [
      "4 5\n",
      "1 2 5\n",
      "1 3 -5\n",
      "2 3 -11\n",
      "3 4 1\n",
      "2 4 0\n",
      "0 1\n",
      "-5 3\n",
      "1 4\n",
      "5 2\n",
      "1\n"
     ]
    }
   ],
   "source": [
    "import heapq\n",
    "import sys\n",
    "\n",
    "V, E = map(int, input().split())\n",
    "\n",
    "arr = {x:[] for x in range(1, V+1)}\n",
    "arr_reverse = {x:[] for x in range(1, V+1)}\n",
    "for _ in range(E):\n",
    "    t = list(map(int, input().split()))\n",
    "    arr[t[0]].append((t[2], t[1]))\n",
    "    arr_reverse[t[1]].append((t[2], t[0]))\n",
    "\n",
    "visited = [False]*(V+1)\n",
    "hq = []\n",
    "heapq.heappush(hq, (0, 1))\n",
    "ans = 0\n",
    "\n",
    "while hq:\n",
    "    d, node = heapq.heappop(hq)\n",
    "    if visited[node] == True:\n",
    "        continue\n",
    "    visited[node] = True\n",
    "    ans += d\n",
    "    for val in arr[node]:\n",
    "        if visited[val[1]] == False:\n",
    "            heapq.heappush(hq, val)\n",
    "    for val in arr_reverse[node]:\n",
    "        if visited[val[1]] == False:\n",
    "            heapq.heappush(hq, val)\n",
    "print(ans)"
   ]
  },
  {
   "cell_type": "code",
   "execution_count": 25,
   "metadata": {},
   "outputs": [
    {
     "data": {
      "text/plain": [
       "{1: [(5, 2), (-5, 3)], 2: [(-11, 3), (0, 4)], 3: [(1, 4)], 4: []}"
      ]
     },
     "execution_count": 25,
     "metadata": {},
     "output_type": "execute_result"
    }
   ],
   "source": [
    "arr"
   ]
  }
 ],
 "metadata": {
  "kernelspec": {
   "display_name": "Python 3",
   "language": "python",
   "name": "python3"
  },
  "language_info": {
   "codemirror_mode": {
    "name": "ipython",
    "version": 3
   },
   "file_extension": ".py",
   "mimetype": "text/x-python",
   "name": "python",
   "nbconvert_exporter": "python",
   "pygments_lexer": "ipython3",
   "version": "3.7.4"
  }
 },
 "nbformat": 4,
 "nbformat_minor": 2
}
