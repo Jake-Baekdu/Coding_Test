{
 "cells": [
  {
   "cell_type": "code",
   "execution_count": 24,
   "metadata": {},
   "outputs": [
    {
     "name": "stdout",
     "output_type": "stream",
     "text": [
      "4 5\n",
      "1 2 5\n",
      "1 3 -5\n",
      "2 3 -11\n",
      "3 4 1\n",
      "2 4 0\n",
      "0 1\n",
      "-5 3\n",
      "1 4\n",
      "5 2\n",
      "1\n"
     ]
    }
   ],
   "source": [
    "import heapq\n",
    "import sys\n",
    "\n",
    "#노드와 간선 개수 입력\n",
    "V, E = map(int, input().split())\n",
    "\n",
    "#간선의 연결 정보가 들어갈 dict\n",
    "arr = {x:[] for x in range(1, V+1)}\n",
    "#양방향을 위한 추가 dict\n",
    "arr_reverse = {x:[] for x in range(1, V+1)}\n",
    "\n",
    "#간선 정보 dict에 추가\n",
    "for _ in range(E):\n",
    "    t = list(map(int, input().split()))\n",
    "    arr[t[0]].append((t[2], t[1]))\n",
    "    arr_reverse[t[1]].append((t[2], t[0]))\n",
    "\n",
    "visited = [False]*(V+1)\n",
    "hq = []\n",
    "\n",
    "#우선순위 큐에 (간선 비용, 시작 노드) 추가 \n",
    "heapq.heappush(hq, (0, 1))\n",
    "ans = 0\n",
    "\n",
    "#큐가 빌때까지 반복\n",
    "while hq:\n",
    "\t#간선비용과 노드 pop해서 분배 초기화\n",
    "    d, node = heapq.heappop(hq)\n",
    "    \n",
    "    #방문한 노드면 패스\n",
    "    if visited[node] == True:\n",
    "        continue\n",
    "    #방문 안했다면 방문 처리해주고\n",
    "    visited[node] = True\n",
    "    \n",
    "    #거리 더해주고\n",
    "    ans += d\n",
    "    \n",
    "    #node와 연결된 노드들 중에 방문안한 노드 큐에 추가\n",
    "    #괜히 dict 두개만들어서 for문 두번씀\n",
    "    for val in arr[node]:\n",
    "        if visited[val[1]] == False:\n",
    "            heapq.heappush(hq, val)\n",
    "    for val in arr_reverse[node]:\n",
    "        if visited[val[1]] == False:\n",
    "            heapq.heappush(hq, val)\n",
    "print(ans)"
   ]
  },
  {
   "cell_type": "code",
   "execution_count": 25,
   "metadata": {},
   "outputs": [
    {
     "data": {
      "text/plain": [
       "{1: [(5, 2), (-5, 3)], 2: [(-11, 3), (0, 4)], 3: [(1, 4)], 4: []}"
      ]
     },
     "execution_count": 25,
     "metadata": {},
     "output_type": "execute_result"
    }
   ],
   "source": [
    "arr"
   ]
  }
 ],
 "metadata": {
  "kernelspec": {
   "display_name": "Python 3",
   "language": "python",
   "name": "python3"
  },
  "language_info": {
   "codemirror_mode": {
    "name": "ipython",
    "version": 3
   },
   "file_extension": ".py",
   "mimetype": "text/x-python",
   "name": "python",
   "nbconvert_exporter": "python",
   "pygments_lexer": "ipython3",
   "version": "3.7.4"
  }
 },
 "nbformat": 4,
 "nbformat_minor": 2
}
