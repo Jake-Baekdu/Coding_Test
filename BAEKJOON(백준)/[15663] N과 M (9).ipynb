{
 "cells": [
  {
   "cell_type": "code",
   "execution_count": 47,
   "metadata": {},
   "outputs": [
    {
     "name": "stdout",
     "output_type": "stream",
     "text": [
      "4 2\n",
      "9 7 9 1\n",
      "1 7\n",
      "1 9\n",
      "7 1\n",
      "7 9\n",
      "9 1\n",
      "9 7\n",
      "9 9\n"
     ]
    }
   ],
   "source": [
    "N, M = map(int, input().split())\n",
    "arr = list(map(int, input().split()))\n",
    "\n",
    "arr.sort()\n",
    "visited = [False] * N\n",
    "result = []\n",
    "\n",
    "def solve(result):\n",
    "    if len(result) == M:\n",
    "        print(' '.join(map(str, result)))\n",
    "        return\n",
    "    overlap = 0\n",
    "    for i in range(N):\n",
    "        if not visited[i] and overlap != arr[i]:\n",
    "            visited[i] = True\n",
    "            result.append(arr[i])\n",
    "            overlap = arr[i]\n",
    "            solve(result)\n",
    "            visited[i] = False\n",
    "            result.pop()\n",
    "\n",
    "solve(result)"
   ]
  }
 ],
 "metadata": {
  "kernelspec": {
   "display_name": "Python 3",
   "language": "python",
   "name": "python3"
  },
  "language_info": {
   "codemirror_mode": {
    "name": "ipython",
    "version": 3
   },
   "file_extension": ".py",
   "mimetype": "text/x-python",
   "name": "python",
   "nbconvert_exporter": "python",
   "pygments_lexer": "ipython3",
   "version": "3.7.4"
  }
 },
 "nbformat": 4,
 "nbformat_minor": 2
}
