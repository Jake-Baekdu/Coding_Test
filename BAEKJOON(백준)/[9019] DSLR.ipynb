{
 "cells": [
  {
   "cell_type": "code",
   "execution_count": 68,
   "metadata": {},
   "outputs": [
    {
     "name": "stdout",
     "output_type": "stream",
     "text": [
      "3\n",
      "1234 4231\n",
      "SSRSSDSRSL\n",
      "1000 1\n",
      "L\n",
      "1 16\n",
      "DDDD\n"
     ]
    }
   ],
   "source": [
    "from collections import deque\n",
    "\n",
    "def bfs(start, end):\n",
    "    q = deque([[start, \"\"]])\n",
    "    visited = [0] * 10000\n",
    "    visited[start] = True\n",
    "    \n",
    "    while q:\n",
    "        num, cmd = q.popleft()\n",
    "        if num == end:\n",
    "            return cmd\n",
    "        \n",
    "        # D\n",
    "        if not visited[num * 2 % 10000]:\n",
    "            visited[num * 2 % 10000] = True\n",
    "            q.append([num * 2 % 10000, cmd + \"D\"])\n",
    "        # S\n",
    "        if not visited[(num - 1) % 10000]:\n",
    "            visited[(num - 1) % 10000] = True\n",
    "            q.append([(num - 1) % 10000, cmd + \"S\"])\n",
    "        #L\n",
    "        if not visited[num % 1000 * 10 + num // 1000]:\n",
    "            visited[num % 1000 * 10 + num // 1000] = True\n",
    "            q.append([num % 1000 * 10 + num // 1000, cmd + \"L\"])\n",
    "        # R\n",
    "        if not visited[num % 10 * 1000 + num // 10]:\n",
    "            visited[num % 10 * 1000 + num // 10] = True\n",
    "            q.append([num % 10 * 1000 + num // 10, cmd + \"R\"])\n",
    "\n",
    "if __name__ == \"__main__\":\n",
    "\n",
    "    T = int(input())\n",
    "    for _ in range(T):\n",
    "        A, B = map(int, input().split())\n",
    "        print(bfs(A, B))"
   ]
  },
  {
   "cell_type": "code",
   "execution_count": 57,
   "metadata": {},
   "outputs": [],
   "source": [
    "a = ['1', '2', '3', '4']"
   ]
  },
  {
   "cell_type": "code",
   "execution_count": 58,
   "metadata": {},
   "outputs": [],
   "source": [
    "def moveLeft(val_list):\n",
    "    temp = val_list[0]\n",
    "    for i in range(len(val_list)-1):\n",
    "        val_list[i] = val_list[i+1]\n",
    "        print(val_list)\n",
    "    val_list[-1] = temp\n",
    "    return int(''.join(val_list))\n",
    "def moveRight(val_list):\n",
    "    temp = val_list[-1]\n",
    "    for i in range(1, len(val_list)):\n",
    "        val_list[-i] = val_list[-i-1]\n",
    "        print(val_list)\n",
    "    val_list[0] = temp\n",
    "    return int(''.join(val_list))"
   ]
  },
  {
   "cell_type": "code",
   "execution_count": 59,
   "metadata": {},
   "outputs": [
    {
     "name": "stdout",
     "output_type": "stream",
     "text": [
      "['1', '2', '3', '3']\n",
      "['1', '2', '2', '3']\n",
      "['1', '1', '2', '3']\n"
     ]
    },
    {
     "data": {
      "text/plain": [
       "4123"
      ]
     },
     "execution_count": 59,
     "metadata": {},
     "output_type": "execute_result"
    }
   ],
   "source": [
    "moveRight(a)"
   ]
  },
  {
   "cell_type": "code",
   "execution_count": null,
   "metadata": {},
   "outputs": [],
   "source": []
  }
 ],
 "metadata": {
  "kernelspec": {
   "display_name": "Python 3",
   "language": "python",
   "name": "python3"
  },
  "language_info": {
   "codemirror_mode": {
    "name": "ipython",
    "version": 3
   },
   "file_extension": ".py",
   "mimetype": "text/x-python",
   "name": "python",
   "nbconvert_exporter": "python",
   "pygments_lexer": "ipython3",
   "version": "3.7.4"
  }
 },
 "nbformat": 4,
 "nbformat_minor": 2
}
