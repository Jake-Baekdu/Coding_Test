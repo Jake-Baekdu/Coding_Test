{
 "cells": [
  {
   "cell_type": "code",
   "execution_count": 4,
   "metadata": {},
   "outputs": [
    {
     "data": {
      "text/plain": [
       "1"
      ]
     },
     "execution_count": 4,
     "metadata": {},
     "output_type": "execute_result"
    }
   ],
   "source": [
    "import sys\n",
    "import heapq\n",
    "\n",
    "dx = [-1, 1, 0, 0]\n",
    "dy = [0, 0, -1, 1]\n",
    "\n",
    "def bfs():\n",
    "    q = []\n",
    "    visited = [[[0] * 2 for _ in range(m)] for _ in range(n)]\n",
    "    heapq.heappush(q, (1, 0, 0, 0))\n",
    "    visited[0][0][0] = True\n",
    "    \n",
    "    while q:\n",
    "        print(q)\n",
    "        cnt, x, y, flag = heapq.heappop(q)\n",
    "        if x == n-1 and y == m-1:\n",
    "            return cnt\n",
    "        for i in range(4):\n",
    "            nx, ny = x +dx[i], y +dy[i]\n",
    "            \n",
    "            if 0 <= nx < n and 0 <= ny < m:\n",
    "                if MAP[nx][ny] == 0:\n",
    "                    if visited[nx][ny][flag] == 0:\n",
    "                        visited[nx][ny][flag] = 1\n",
    "                        heapq.heappush(q, (cnt + 1, nx, ny, flag))\n",
    "                elif MAP[nx][ny] == 1:\n",
    "                    if not flag and visited[nx][ny][True] == 0:\n",
    "                        visited[nx][ny][flag] = 1\n",
    "                        heapq.heappush(q, (cnt + 1, nx, ny, True))\n",
    "    return -1\n",
    "\n",
    "if __name__ == \"__main__\":\n",
    "    n, m = map(int, input().split())  # 맵의 크기 입력받기\n",
    "    MAP = [list(map(int, input().strip())) for _ in range(n)]\n",
    "\n",
    "    # bfs 탐색\n",
    "    answer = bfs()\n",
    "    print(answer)\n",
    "\n"
   ]
  }
 ],
 "metadata": {
  "kernelspec": {
   "display_name": "Python 3",
   "language": "python",
   "name": "python3"
  },
  "language_info": {
   "codemirror_mode": {
    "name": "ipython",
    "version": 3
   },
   "file_extension": ".py",
   "mimetype": "text/x-python",
   "name": "python",
   "nbconvert_exporter": "python",
   "pygments_lexer": "ipython3",
   "version": "3.7.4"
  }
 },
 "nbformat": 4,
 "nbformat_minor": 2
}
