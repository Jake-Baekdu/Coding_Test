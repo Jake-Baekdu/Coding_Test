{
 "cells": [
  {
   "cell_type": "code",
   "execution_count": 21,
   "metadata": {},
   "outputs": [
    {
     "name": "stdout",
     "output_type": "stream",
     "text": [
      "[8]\n",
      "[8]\n",
      "[11, 5]\n",
      "[10, 6, 15, 7]\n",
      "[9, 1, 18, 2, 14, 7, 15]\n",
      "[2, 8, 11, 9, 7, 14, 0, 8]\n"
     ]
    },
    {
     "ename": "IndexError",
     "evalue": "list index out of range",
     "output_type": "error",
     "traceback": [
      "\u001b[1;31m---------------------------------------------------------------------------\u001b[0m",
      "\u001b[1;31mIndexError\u001b[0m                                Traceback (most recent call last)",
      "\u001b[1;32m<ipython-input-21-f653fb9efa06>\u001b[0m in \u001b[0;36m<module>\u001b[1;34m\u001b[0m\n\u001b[0;32m      8\u001b[0m     \u001b[0mprint\u001b[0m\u001b[1;33m(\u001b[0m\u001b[0mtemp\u001b[0m\u001b[1;33m)\u001b[0m\u001b[1;33m\u001b[0m\u001b[1;33m\u001b[0m\u001b[0m\n\u001b[0;32m      9\u001b[0m     \u001b[1;32mfor\u001b[0m \u001b[0mt\u001b[0m \u001b[1;32min\u001b[0m \u001b[0mtemp\u001b[0m\u001b[1;33m:\u001b[0m\u001b[1;33m\u001b[0m\u001b[1;33m\u001b[0m\u001b[0m\n\u001b[1;32m---> 10\u001b[1;33m         \u001b[0mp_val\u001b[0m \u001b[1;33m=\u001b[0m \u001b[0mt\u001b[0m \u001b[1;33m+\u001b[0m \u001b[0mnumbers\u001b[0m\u001b[1;33m[\u001b[0m\u001b[0mi\u001b[0m\u001b[1;33m]\u001b[0m\u001b[1;33m\u001b[0m\u001b[1;33m\u001b[0m\u001b[0m\n\u001b[0m\u001b[0;32m     11\u001b[0m         \u001b[0mm_val\u001b[0m \u001b[1;33m=\u001b[0m \u001b[0mt\u001b[0m \u001b[1;33m-\u001b[0m \u001b[0mnumbers\u001b[0m\u001b[1;33m[\u001b[0m\u001b[0mi\u001b[0m\u001b[1;33m]\u001b[0m\u001b[1;33m\u001b[0m\u001b[1;33m\u001b[0m\u001b[0m\n\u001b[0;32m     12\u001b[0m         \u001b[1;32mif\u001b[0m \u001b[1;36m0\u001b[0m\u001b[1;33m<=\u001b[0m \u001b[0mp_val\u001b[0m \u001b[1;33m<=\u001b[0m \u001b[1;36m20\u001b[0m\u001b[1;33m:\u001b[0m\u001b[1;33m\u001b[0m\u001b[1;33m\u001b[0m\u001b[0m\n",
      "\u001b[1;31mIndexError\u001b[0m: list index out of range"
     ]
    }
   ],
   "source": [
    "# 첫번째 도전\n",
    "ans = numbers[-1]\n",
    "numbers = numbers[:-1]\n",
    "\n",
    "\n",
    "sum_arr = [numbers[0]]\n",
    "temp = [numbers[0]]\n",
    "for i in range(1, n-1):\n",
    "    print(temp)\n",
    "    for t in temp:\n",
    "        p_val = t + numbers[i]\n",
    "        m_val = t - numbers[i]\n",
    "        if 0<= p_val <= 20:\n",
    "            sum_arr.append(p_val)\n",
    "        if 0 <= m_val <= 20:\n",
    "            sum_arr.append(m_val)\n",
    "    temp = sum_arr[2**(i-1)-1:2**i-1]\n",
    "print(sum_arr)\n",
    "    "
   ]
  },
  {
   "cell_type": "code",
   "execution_count": 39,
   "metadata": {},
   "outputs": [
    {
     "name": "stdout",
     "output_type": "stream",
     "text": [
      "11\n",
      "8 3 2 4 8 7 2 4 0 8 8\n",
      "3\n",
      "2\n",
      "4\n",
      "8\n",
      "7\n",
      "2\n",
      "4\n",
      "0\n",
      "8\n",
      "10\n"
     ]
    }
   ],
   "source": [
    "# 최종 코드\n",
    "n = int(input())\n",
    "numbers = list(map(int, input().split()))\n",
    "\n",
    "dp = [[0 for _ in range(n-1)] for _ in range(21)]\n",
    "ans = numbers[-1]\n",
    "N = numbers[0]\n",
    "dp[N][0] = 1\n",
    "for i in range(1, n-1):\n",
    "    N = numbers[i]\n",
    "    print(N)\n",
    "    \n",
    "    for j in range(21):\n",
    "        if dp[j][i-1] > 0:\n",
    "            \n",
    "            res = j + N\n",
    "            if 0 <= res <= 20:\n",
    "                dp[res][i] += dp[j][i-1]\n",
    "                \n",
    "            res = j - N\n",
    "            if 0 <= res <= 20:\n",
    "                dp[res][i] += dp[j][i-1]\n",
    "print(dp[ans][n-2])"
   ]
  },
  {
   "cell_type": "code",
   "execution_count": 40,
   "metadata": {},
   "outputs": [
    {
     "data": {
      "text/plain": [
       "[[0, 0, 0, 0, 0, 0, 1, 2, 4, 8],\n",
       " [0, 0, 0, 0, 1, 0, 0, 0, 0, 0],\n",
       " [0, 0, 0, 0, 0, 1, 1, 3, 6, 12],\n",
       " [0, 0, 1, 1, 1, 0, 0, 0, 0, 0],\n",
       " [0, 0, 0, 0, 0, 1, 2, 4, 8, 8],\n",
       " [0, 1, 0, 1, 1, 0, 0, 0, 0, 0],\n",
       " [0, 0, 0, 0, 0, 1, 3, 5, 10, 12],\n",
       " [0, 0, 1, 1, 0, 0, 0, 0, 0, 0],\n",
       " [1, 0, 0, 0, 0, 2, 3, 4, 8, 10],\n",
       " [0, 0, 1, 1, 1, 0, 0, 0, 0, 0],\n",
       " [0, 0, 0, 0, 0, 2, 4, 6, 12, 12],\n",
       " [0, 1, 0, 1, 1, 0, 0, 0, 0, 0],\n",
       " [0, 0, 0, 0, 0, 2, 2, 4, 8, 10],\n",
       " [0, 0, 1, 1, 1, 0, 0, 0, 0, 0],\n",
       " [0, 0, 0, 0, 0, 0, 3, 6, 12, 10],\n",
       " [0, 0, 0, 0, 1, 0, 0, 0, 0, 0],\n",
       " [0, 0, 0, 0, 0, 1, 1, 3, 6, 8],\n",
       " [0, 0, 0, 1, 1, 0, 0, 0, 0, 0],\n",
       " [0, 0, 0, 0, 0, 1, 2, 3, 6, 12],\n",
       " [0, 0, 0, 0, 1, 0, 0, 0, 0, 0],\n",
       " [0, 0, 0, 0, 0, 1, 1, 1, 2, 8]]"
      ]
     },
     "execution_count": 40,
     "metadata": {},
     "output_type": "execute_result"
    }
   ],
   "source": [
    "dp"
   ]
  }
 ],
 "metadata": {
  "kernelspec": {
   "display_name": "Python 3",
   "language": "python",
   "name": "python3"
  },
  "language_info": {
   "codemirror_mode": {
    "name": "ipython",
    "version": 3
   },
   "file_extension": ".py",
   "mimetype": "text/x-python",
   "name": "python",
   "nbconvert_exporter": "python",
   "pygments_lexer": "ipython3",
   "version": "3.7.4"
  }
 },
 "nbformat": 4,
 "nbformat_minor": 2
}
