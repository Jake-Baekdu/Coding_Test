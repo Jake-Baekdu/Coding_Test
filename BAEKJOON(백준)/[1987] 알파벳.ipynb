{
 "cells": [
  {
   "cell_type": "code",
   "execution_count": 7,
   "metadata": {},
   "outputs": [
    {
     "name": "stdout",
     "output_type": "stream",
     "text": [
      "2 4\n"
     ]
    }
   ],
   "source": [
    "R, C = map(int, input().split())"
   ]
  },
  {
   "cell_type": "code",
   "execution_count": 43,
   "metadata": {},
   "outputs": [
    {
     "name": "stdout",
     "output_type": "stream",
     "text": [
      "CAAB\n",
      "ADCB\n"
     ]
    }
   ],
   "source": [
    "board = [list(input()) for _ in range(R)]"
   ]
  },
  {
   "cell_type": "markdown",
   "metadata": {},
   "source": [
    "# BFS\n"
   ]
  },
  {
   "cell_type": "code",
   "execution_count": 41,
   "metadata": {},
   "outputs": [],
   "source": [
    "dx = [-1, 0, 1, 0]\n",
    "dy = [0, -1, 0, 1]\n",
    "\n",
    "\n",
    "def BFS(x, y):\n",
    "    global answer\n",
    "    q = set([(x, y, board[x][y])])\n",
    "    while q:\n",
    "        x, y, ans = q.pop()\n",
    "        print(ans)\n",
    "        for i in range(4):\n",
    "            nx = x + dx[i]\n",
    "            ny = y + dy[i]\n",
    "            \n",
    "            if(0<= nx < R and 0<= ny < C and board[nx][ny] not in ans):\n",
    "                q.add((nx,ny, ans + board[nx][ny]))\n",
    "                answer = max(answer, len(ans) + 1)\n",
    "                \n",
    "                "
   ]
  },
  {
   "cell_type": "code",
   "execution_count": 42,
   "metadata": {},
   "outputs": [
    {
     "name": "stdout",
     "output_type": "stream",
     "text": [
      "C\n",
      "CA\n",
      "CA\n",
      "CAD\n",
      "3\n"
     ]
    }
   ],
   "source": [
    "answer = 1\n",
    "BFS(0, 0)\n",
    "print(answer)"
   ]
  },
  {
   "cell_type": "markdown",
   "metadata": {},
   "source": [
    "# DFS\n"
   ]
  },
  {
   "cell_type": "code",
   "execution_count": 54,
   "metadata": {},
   "outputs": [],
   "source": [
    "dx = [-1, 0, 1, 0]\n",
    "dy = [0, -1, 0, 1]\n",
    "passed = list(board[0][0])\n",
    "\n",
    "def DFS(x, y, ans):\n",
    "    global answer\n",
    "    global passed\n",
    "    answer = max(ans, answer)\n",
    "    \n",
    "    for i in range(4):\n",
    "        nx = x + dx[i]\n",
    "        ny = y + dy[i]\n",
    "        \n",
    "        if 0 <= nx < R and 0 <= ny < C and board[nx][ny] not in passed:\n",
    "            \n",
    "            passed.append(board[nx][ny])\n",
    "            print(nx, ny, passed)\n",
    "            DFS(nx, ny, ans + 1)\n",
    "            passed.remove(board[nx][ny])\n",
    "    "
   ]
  },
  {
   "cell_type": "code",
   "execution_count": 55,
   "metadata": {},
   "outputs": [
    {
     "name": "stdout",
     "output_type": "stream",
     "text": [
      "1 0 ['C', 'A']\n",
      "1 1 ['C', 'A', 'D']\n",
      "0 1 ['C', 'A']\n",
      "1 1 ['C', 'A', 'D']\n",
      "3\n"
     ]
    }
   ],
   "source": [
    "answer = 1\n",
    "\n",
    "DFS(0, 0, answer)\n",
    "\n",
    "print(answer)"
   ]
  },
  {
   "cell_type": "code",
   "execution_count": null,
   "metadata": {},
   "outputs": [],
   "source": []
  }
 ],
 "metadata": {
  "kernelspec": {
   "display_name": "Python 3",
   "language": "python",
   "name": "python3"
  },
  "language_info": {
   "codemirror_mode": {
    "name": "ipython",
    "version": 3
   },
   "file_extension": ".py",
   "mimetype": "text/x-python",
   "name": "python",
   "nbconvert_exporter": "python",
   "pygments_lexer": "ipython3",
   "version": "3.7.4"
  }
 },
 "nbformat": 4,
 "nbformat_minor": 2
}
