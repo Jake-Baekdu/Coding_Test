{
 "cells": [
  {
   "cell_type": "code",
   "execution_count": 43,
   "metadata": {},
   "outputs": [
    {
     "name": "stdout",
     "output_type": "stream",
     "text": [
      "4\n",
      "2333\n",
      "2339\n",
      "2393\n",
      "2399\n",
      "2939\n",
      "3119\n",
      "3137\n",
      "3733\n",
      "3739\n",
      "3793\n",
      "3797\n",
      "4337\n",
      "4339\n",
      "4391\n",
      "4397\n",
      "4793\n",
      "4799\n",
      "5939\n",
      "6131\n",
      "6133\n",
      "6173\n",
      "6197\n",
      "6199\n",
      "6733\n",
      "6737\n",
      "6779\n",
      "7193\n",
      "7331\n",
      "7333\n",
      "7393\n",
      "9719\n"
     ]
    }
   ],
   "source": [
    "import math\n",
    "\n",
    "def prime_check(n):  # n값이 소수인지 확인\n",
    "    n = int(n)\n",
    "    if n == 1 or n == 0:\n",
    "        return 0\n",
    "    for i in range(2, int(math.sqrt(n)) + 1):\n",
    "        if n % i == 0:\n",
    "            return 0\n",
    "    return 1\n",
    "\n",
    "def dfs(num):\n",
    "    if len(str(num)) == n:\n",
    "        print(num)\n",
    "    else:\n",
    "        for i in range(10):\n",
    "            temp = num*10 + i\n",
    "            if prime_check(temp):\n",
    "                dfs(temp)\n",
    "                \n",
    "\n",
    "n = int(input())\n",
    "\n",
    "for i in range(2, 10):\n",
    "    if prime_check(i):\n",
    "        dfs(i)\n",
    "\n",
    "\n",
    "\n",
    "    \n",
    "        \n",
    "\n",
    "    \n",
    "\n"
   ]
  }
 ],
 "metadata": {
  "kernelspec": {
   "display_name": "Python 3",
   "language": "python",
   "name": "python3"
  },
  "language_info": {
   "codemirror_mode": {
    "name": "ipython",
    "version": 3
   },
   "file_extension": ".py",
   "mimetype": "text/x-python",
   "name": "python",
   "nbconvert_exporter": "python",
   "pygments_lexer": "ipython3",
   "version": "3.7.4"
  }
 },
 "nbformat": 4,
 "nbformat_minor": 2
}
