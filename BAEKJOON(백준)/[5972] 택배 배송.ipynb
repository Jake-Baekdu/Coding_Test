{
 "cells": [
  {
   "cell_type": "code",
   "execution_count": null,
   "metadata": {},
   "outputs": [],
   "source": [
    "import heapq\n",
    "import sys\n",
    "\n",
    "N, M = map(int, input().split())\n",
    "graph = [[] for _ in range(N+1)]\n",
    "for _ in range(M):\n",
    "    x, y, w = map(int, input().split())\n",
    "    graph[x].append([w, y])\n",
    "    graph[y].append([w, x])\n",
    "    \n",
    "dist = [sys.maxsize]*(N+1)\n",
    "\n",
    "def dj(start):\n",
    "    dist[start] = 0\n",
    "    hq = []\n",
    "    heapq.heappush(hq, (0, 1))\n",
    "    \n",
    "    while hq:\n",
    "        w, n = heapq.heappop(hq)\n",
    "        \n",
    "        if dist[n] < w :\n",
    "            continue\n",
    "        \n",
    "        for nw, nn in graph[n]:\n",
    "            cost = w + nw\n",
    "            if dist[nn] > cost:\n",
    "                dist[nn] = cost\n",
    "                heapq.heappush(hq, (cost, nn))\n",
    "            \n",
    "dj(1)\n",
    "print(dist[N])"
   ]
  }
 ],
 "metadata": {
  "kernelspec": {
   "display_name": "Python 3",
   "language": "python",
   "name": "python3"
  },
  "language_info": {
   "codemirror_mode": {
    "name": "ipython",
    "version": 3
   },
   "file_extension": ".py",
   "mimetype": "text/x-python",
   "name": "python",
   "nbconvert_exporter": "python",
   "pygments_lexer": "ipython3",
   "version": "3.7.4"
  }
 },
 "nbformat": 4,
 "nbformat_minor": 2
}
