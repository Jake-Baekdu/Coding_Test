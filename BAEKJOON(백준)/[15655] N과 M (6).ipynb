{
 "cells": [
  {
   "cell_type": "code",
   "execution_count": 3,
   "metadata": {},
   "outputs": [
    {
     "name": "stdout",
     "output_type": "stream",
     "text": [
      "4 2\n",
      "9 8 7 1\n",
      "1 7 \n",
      "1 8 \n",
      "1 9 \n",
      "7 8 \n",
      "7 9 \n",
      "8 9 \n"
     ]
    }
   ],
   "source": [
    "N, M = map(int ,input().split())\n",
    "\n",
    "arr = list(map(int, input().split()))\n",
    "\n",
    "arr.sort()\n",
    "half = sum(arr)//N\n",
    "ans_arr = []\n",
    "visited = [False] * N\n",
    "\n",
    "\n",
    "def solve(ans_arr):\n",
    "    \n",
    "    if (len(ans_arr) == M):\n",
    "        for i in ans_arr:\n",
    "            print(i, end = ' ')\n",
    "        print()\n",
    "        return\n",
    "    \n",
    "    for i in range(N):\n",
    "        if (visited[i] == True):\n",
    "            continue\n",
    "        if ans_arr:\n",
    "            if arr[i] < ans_arr[-1]:\n",
    "                continue\n",
    "        ans_arr.append(arr[i])\n",
    "        visited[i] = True\n",
    "        solve(ans_arr)\n",
    "        visited[i] = False\n",
    "        del ans_arr[-1]\n",
    "        \n",
    "solve(ans_arr)"
   ]
  },
  {
   "cell_type": "code",
   "execution_count": 2,
   "metadata": {},
   "outputs": [
    {
     "name": "stdout",
     "output_type": "stream",
     "text": [
      "4 2\n",
      "9 8 7 1\n"
     ]
    },
    {
     "ename": "TypeError",
     "evalue": "solve() missing 1 required positional argument: 'ans_arr'",
     "output_type": "error",
     "traceback": [
      "\u001b[1;31m---------------------------------------------------------------------------\u001b[0m",
      "\u001b[1;31mTypeError\u001b[0m                                 Traceback (most recent call last)",
      "\u001b[1;32m<ipython-input-2-09d99db8b0f7>\u001b[0m in \u001b[0;36m<module>\u001b[1;34m\u001b[0m\n\u001b[0;32m     26\u001b[0m         \u001b[1;32mdel\u001b[0m \u001b[0mans_arr\u001b[0m\u001b[1;33m[\u001b[0m\u001b[1;33m-\u001b[0m\u001b[1;36m1\u001b[0m\u001b[1;33m]\u001b[0m\u001b[1;33m\u001b[0m\u001b[1;33m\u001b[0m\u001b[0m\n\u001b[0;32m     27\u001b[0m \u001b[1;33m\u001b[0m\u001b[0m\n\u001b[1;32m---> 28\u001b[1;33m \u001b[0msolve\u001b[0m\u001b[1;33m(\u001b[0m\u001b[0mans_arr\u001b[0m\u001b[1;33m)\u001b[0m\u001b[1;33m\u001b[0m\u001b[1;33m\u001b[0m\u001b[0m\n\u001b[0m",
      "\u001b[1;31mTypeError\u001b[0m: solve() missing 1 required positional argument: 'ans_arr'"
     ]
    }
   ],
   "source": [
    "N, M = map(int ,input().split())\n",
    "\n",
    "arr = list(map(int, input().split()))\n",
    "\n",
    "arr.sort()\n",
    "ans_arr = []\n",
    "idx = 0\n",
    "\n",
    "def solve(idx, ans_arr):\n",
    "    \n",
    "    if (len(ans_arr) == M):\n",
    "        for i in ans_arr:\n",
    "            print(i, end = ' ')\n",
    "        print()\n",
    "        return\n",
    "    \n",
    "    for i in range(idx, N):\n",
    "        ans_arr.append(arr[i])\n",
    "        solve(i+1, ans_arr)\n",
    "        del ans_arr[-1]\n",
    "        \n",
    "solve(idx, ans_arr)"
   ]
  }
 ],
 "metadata": {
  "kernelspec": {
   "display_name": "Python 3",
   "language": "python",
   "name": "python3"
  },
  "language_info": {
   "codemirror_mode": {
    "name": "ipython",
    "version": 3
   },
   "file_extension": ".py",
   "mimetype": "text/x-python",
   "name": "python",
   "nbconvert_exporter": "python",
   "pygments_lexer": "ipython3",
   "version": "3.7.4"
  }
 },
 "nbformat": 4,
 "nbformat_minor": 2
}
