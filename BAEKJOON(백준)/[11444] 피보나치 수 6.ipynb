{
 "cells": [
  {
   "cell_type": "code",
   "execution_count": null,
   "metadata": {},
   "outputs": [],
   "source": [
    "def fibonacci_pisano(n):\n",
    "    mod = 1000000007\n",
    "    \n",
    "    p = int(mod/10*15)\n",
    "    print(p)\n",
    "    arr = [0]*(p+1)\n",
    "    arr[1] = 1\n",
    "    for i in range(2, p+1):\n",
    "        arr[i] = (arr[i-1]%mod + arr[i-2]%mod) % mod\n",
    " \n",
    "    return arr[n%p]\n",
    " \n",
    "if __name__ == '__main__':\n",
    "    n = int(input())\n",
    "    print(fibonacci_pisano(n))\n",
    "\n",
    "\n"
   ]
  },
  {
   "cell_type": "code",
   "execution_count": 15,
   "metadata": {},
   "outputs": [
    {
     "name": "stdout",
     "output_type": "stream",
     "text": [
      "1000\n",
      "517691607\n"
     ]
    }
   ],
   "source": [
    "def fibo(n):\n",
    "    SIZE = 2\n",
    "    ZERO = [[1, 0], [0, 1]] # 행렬의 항등원\n",
    "    BASE = [[1, 1], [1, 0]] # 곱셈을 시작해 나갈 기본 행렬\n",
    "    \n",
    "    # 행렬곱셈\n",
    "    def matrix_mul(a, b, size=SIZE):\n",
    "        new = [[0 for _ in range(size)] for _ in range(size)]\n",
    "        \n",
    "        for i in range(size):\n",
    "            for j in range(size):\n",
    "                for k in range(size):\n",
    "                    new[i][j] += a[i][k] * b[k][j]\n",
    "                    \n",
    "        return new\n",
    "    \n",
    "    # 기본 행렬을 n번 곱한 행렬 만들기\n",
    "    def get_nth(n):\n",
    "        matrix = ZERO.copy()\n",
    "        k = 0\n",
    "        tmp = BASE.copy()\n",
    "        \n",
    "        while 2** k <= n:\n",
    "            if n & (1 << k) != 0:\n",
    "                matrix = matrix_mul(matrix, tmp)\n",
    "            k+= 1\n",
    "            tmp = matrix_mul(tmp,tmp)"
   ]
  },
  {
   "cell_type": "code",
   "execution_count": 41,
   "metadata": {},
   "outputs": [
    {
     "ename": "ValueError",
     "evalue": "invalid literal for int() with base 10: ''",
     "output_type": "error",
     "traceback": [
      "\u001b[1;31m---------------------------------------------------------------------------\u001b[0m",
      "\u001b[1;31mValueError\u001b[0m                                Traceback (most recent call last)",
      "\u001b[1;32m<ipython-input-41-e750f63a6fb4>\u001b[0m in \u001b[0;36m<module>\u001b[1;34m\u001b[0m\n\u001b[0;32m     24\u001b[0m             \u001b[1;32mreturn\u001b[0m \u001b[0mmultiply\u001b[0m\u001b[1;33m(\u001b[0m\u001b[0mmultiply\u001b[0m\u001b[1;33m(\u001b[0m\u001b[0mtemp\u001b[0m\u001b[1;33m,\u001b[0m \u001b[0mtemp\u001b[0m\u001b[1;33m)\u001b[0m\u001b[1;33m,\u001b[0m \u001b[0mmatrix\u001b[0m\u001b[1;33m)\u001b[0m\u001b[1;33m\u001b[0m\u001b[1;33m\u001b[0m\u001b[0m\n\u001b[0;32m     25\u001b[0m \u001b[1;33m\u001b[0m\u001b[0m\n\u001b[1;32m---> 26\u001b[1;33m \u001b[0mn\u001b[0m \u001b[1;33m=\u001b[0m \u001b[0mint\u001b[0m\u001b[1;33m(\u001b[0m\u001b[0msys\u001b[0m\u001b[1;33m.\u001b[0m\u001b[0mstdin\u001b[0m\u001b[1;33m.\u001b[0m\u001b[0mreadline\u001b[0m\u001b[1;33m(\u001b[0m\u001b[1;33m)\u001b[0m\u001b[1;33m)\u001b[0m\u001b[1;33m\u001b[0m\u001b[1;33m\u001b[0m\u001b[0m\n\u001b[0m\u001b[0;32m     27\u001b[0m \u001b[0mm\u001b[0m \u001b[1;33m=\u001b[0m \u001b[1;33m[\u001b[0m\u001b[1;33m[\u001b[0m\u001b[1;36m1\u001b[0m\u001b[1;33m,\u001b[0m \u001b[1;36m1\u001b[0m\u001b[1;33m]\u001b[0m\u001b[1;33m,\u001b[0m \u001b[1;33m[\u001b[0m\u001b[1;36m1\u001b[0m\u001b[1;33m,\u001b[0m \u001b[1;36m0\u001b[0m\u001b[1;33m]\u001b[0m\u001b[1;33m]\u001b[0m\u001b[1;33m\u001b[0m\u001b[1;33m\u001b[0m\u001b[0m\n\u001b[0;32m     28\u001b[0m \u001b[0mprint\u001b[0m\u001b[1;33m(\u001b[0m\u001b[0mpower\u001b[0m\u001b[1;33m(\u001b[0m\u001b[0mm\u001b[0m\u001b[1;33m,\u001b[0m \u001b[0mn\u001b[0m\u001b[1;33m)\u001b[0m\u001b[1;33m[\u001b[0m\u001b[1;36m0\u001b[0m\u001b[1;33m]\u001b[0m\u001b[1;33m[\u001b[0m\u001b[1;36m1\u001b[0m\u001b[1;33m]\u001b[0m\u001b[1;33m)\u001b[0m\u001b[1;33m\u001b[0m\u001b[1;33m\u001b[0m\u001b[0m\n",
      "\u001b[1;31mValueError\u001b[0m: invalid literal for int() with base 10: ''"
     ]
    }
   ],
   "source": [
    "import sys\n",
    "c = 1000000007\n",
    "def multiply(matrix1, matrix2):\n",
    "    # 행렬의 곱셈 함수\n",
    "    ans = [] \n",
    "    for i in range(len(matrix1)):\n",
    "        ans.append([])\n",
    "        for j in range(len(matrix2[0])):\n",
    "            temp = 0 \n",
    "            for k in range(len(matrix1[0])):\n",
    "                temp += matrix1[i][k] * matrix2[k][j]\n",
    "            ans[i].append(temp % c) \n",
    "    return ans \n",
    "\n",
    "def power(matrix, p):\n",
    "    # 행렬의 거듭제곱 함수\n",
    "    if p == 1: \n",
    "        return matrix\n",
    "    else:\n",
    "        temp = power(matrix, p // 2)\n",
    "        if p % 2 == 0:\n",
    "            return multiply(temp, temp)\n",
    "        else: \n",
    "            return multiply(multiply(temp, temp), matrix)\n",
    "        \n",
    "n = int(sys.stdin.readline())\n",
    "m = [[1, 1], [1, 0]]\n",
    "print(power(m, n)[0][1])\n",
    "\n"
   ]
  },
  {
   "cell_type": "code",
   "execution_count": null,
   "metadata": {},
   "outputs": [],
   "source": []
  }
 ],
 "metadata": {
  "kernelspec": {
   "display_name": "Python 3",
   "language": "python",
   "name": "python3"
  },
  "language_info": {
   "codemirror_mode": {
    "name": "ipython",
    "version": 3
   },
   "file_extension": ".py",
   "mimetype": "text/x-python",
   "name": "python",
   "nbconvert_exporter": "python",
   "pygments_lexer": "ipython3",
   "version": "3.7.4"
  }
 },
 "nbformat": 4,
 "nbformat_minor": 2
}
