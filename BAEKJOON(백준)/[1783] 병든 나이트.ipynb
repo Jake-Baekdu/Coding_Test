{
 "cells": [
  {
   "cell_type": "code",
   "execution_count": 5,
   "metadata": {},
   "outputs": [
    {
     "name": "stdout",
     "output_type": "stream",
     "text": [
      "4 8\n"
     ]
    },
    {
     "data": {
      "text/plain": [
       "[[0, 0, 0, 0, 0, 0, 0, 0],\n",
       " [0, 0, 0, 0, 0, 0, 0, 0],\n",
       " [0, 0, 0, 0, 0, 0, 0, 0],\n",
       " [1, 0, 0, 0, 0, 0, 0, 0]]"
      ]
     },
     "execution_count": 5,
     "metadata": {},
     "output_type": "execute_result"
    }
   ],
   "source": [
    "N, M = map(int, input().split())\n",
    "borad = [[0 for x in range(M)] for x in range(N)]\n",
    "\n",
    "\n"
   ]
  },
  {
   "cell_type": "code",
   "execution_count": 6,
   "metadata": {},
   "outputs": [
    {
     "ename": "SyntaxError",
     "evalue": "invalid syntax (<ipython-input-6-ee12ec2a0045>, line 3)",
     "output_type": "error",
     "traceback": [
      "\u001b[1;36m  File \u001b[1;32m\"<ipython-input-6-ee12ec2a0045>\"\u001b[1;36m, line \u001b[1;32m3\u001b[0m\n\u001b[1;33m    if M<=2 M <=2:\u001b[0m\n\u001b[1;37m            ^\u001b[0m\n\u001b[1;31mSyntaxError\u001b[0m\u001b[1;31m:\u001b[0m invalid syntax\n"
     ]
    }
   ],
   "source": [
    "borad[-1][0] = 1\n",
    "\n",
    "if M<=2 M <=2:\n",
    "    print(1)\n",
    "elif M<=2:\n",
    "    print(2)\n",
    "elif M>2:\n",
    "    \n",
    "        \n",
    "\n",
    "def mov1(night):\n",
    "    \n",
    "    night[]\n",
    "\n",
    "def mov2(night):\n",
    "    \n",
    "1칸 위로, 2칸 오른쪽\n",
    "\n",
    "def mov3(night):\n",
    "1칸 아래로, 2칸 오른쪽\n",
    "\n",
    "def mov4(night):\n",
    "2칸 아래로, 1칸 오른쪽"
   ]
  },
  {
   "cell_type": "code",
   "execution_count": null,
   "metadata": {},
   "outputs": [],
   "source": []
  }
 ],
 "metadata": {
  "kernelspec": {
   "display_name": "Python 3",
   "language": "python",
   "name": "python3"
  },
  "language_info": {
   "codemirror_mode": {
    "name": "ipython",
    "version": 3
   },
   "file_extension": ".py",
   "mimetype": "text/x-python",
   "name": "python",
   "nbconvert_exporter": "python",
   "pygments_lexer": "ipython3",
   "version": "3.7.4"
  }
 },
 "nbformat": 4,
 "nbformat_minor": 2
}
