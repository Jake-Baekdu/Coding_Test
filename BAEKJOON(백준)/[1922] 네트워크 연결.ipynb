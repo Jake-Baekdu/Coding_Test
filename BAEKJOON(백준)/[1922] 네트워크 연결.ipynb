{
 "cells": [
  {
   "cell_type": "code",
   "execution_count": null,
   "metadata": {},
   "outputs": [],
   "source": [
    "import heapq\n",
    "\n",
    "n = int(input())\n",
    "m = int(input())\n",
    "\n",
    "arr = {i: [] for i in range(1,n+1)}\n",
    "visited = [0]*(n+1)\n",
    "\n",
    "for _ in range(m):\n",
    "    a, b, c = map(int, input().split())\n",
    "    arr[a].append([b, c]) \n",
    "    arr[b].append([a, c])\n",
    "\n",
    "# key : 가장 큰 값들로 채움(최소값을 이용할 것이기 때문) | key는 인덱스번호인 정점에서 갈 수 있는 최소 가중치\n",
    "# mst : visit과 비슷한 개념\n",
    "# pq : 힙큐 모듈 사용 - heapq.heappop 사용시 최소값이 나온다. - 시간복잡도 good\n",
    "key = [float('inf')] * (n+1)\n",
    "mst = [False] * (n+1)\n",
    "hq = []\n",
    "\n",
    "# 시작 점을 정해주고 | 여기서는 아무 정점이나 정해준다. 시작점에서 시작점으로 가는 key 는 0\n",
    "key[1] = 0\n",
    "# 1부터 시작하는데 1에서 1가는건 0이니깐, 뒤집은 이유는 힙큐에서 pop할때 우선순위를 앞에 두기 때문에\n",
    "heapq.heappush(hq, (0,1))\n",
    "result = 0\n",
    "\n",
    "while hq:\n",
    "    #우선 순위를 c로 하기 위함\n",
    "    c, b = heapq.heappop(hq)\n",
    "    \n",
    "    if mst[b]: #hq에 이미 방문한 정점도 포함되어있으므로 방문했으면 스킵\n",
    "        continue\n",
    "        \n",
    "    mst[b] = True #방문표시\n",
    "    result += c\n",
    "    for dest, w in arr[b]:\n",
    "        if not mst[dest] and w < key[dest]:\n",
    "            key[dest] = w\n",
    "            #b, c를 뒤집어서 힙큐에 푸쉬\n",
    "            heapq.heappush(hq, (key[dest], dest))\n",
    "            \n",
    "print(result)"
   ]
  }
 ],
 "metadata": {
  "kernelspec": {
   "display_name": "Python 3",
   "language": "python",
   "name": "python3"
  },
  "language_info": {
   "codemirror_mode": {
    "name": "ipython",
    "version": 3
   },
   "file_extension": ".py",
   "mimetype": "text/x-python",
   "name": "python",
   "nbconvert_exporter": "python",
   "pygments_lexer": "ipython3",
   "version": "3.7.4"
  }
 },
 "nbformat": 4,
 "nbformat_minor": 2
}
